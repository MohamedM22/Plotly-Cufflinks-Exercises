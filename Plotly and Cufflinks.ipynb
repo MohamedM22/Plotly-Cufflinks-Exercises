{
 "cells": [
  {
   "cell_type": "markdown",
   "metadata": {},
   "source": [
    "___\n",
    "\n",
    "<a href='http://www.pieriandata.com'> <img src='../Pierian_Data_Logo.png' /></a>\n",
    "___\n",
    "# Plotly and Cufflinks"
   ]
  },
  {
   "cell_type": "markdown",
   "metadata": {},
   "source": [
    "Plotly is a library that allows you to create interactive plots that you can use in dashboards or websites (you can save them as html files or static images).\n",
    "\n",
    "## Installation\n",
    "\n",
    "In order for this all to work, you'll need to install plotly and cufflinks to call plots directly off of a pandas dataframe. These libraries are not currently available through **conda** but are available through **pip**. Install the libraries at your command line/terminal using:\n",
    "\n",
    "    pip install plotly\n",
    "    pip install cufflinks\n",
    "\n",
    "** NOTE: Make sure you only have one installation of Python on your computer when you do this, otherwise the installation may not work. **\n",
    "\n",
    "## Imports and Set-up"
   ]
  },
  {
   "cell_type": "code",
   "execution_count": null,
   "metadata": {},
   "outputs": [],
   "source": [
    "pip install plotly \n"
   ]
  },
  {
   "cell_type": "code",
   "execution_count": null,
   "metadata": {},
   "outputs": [],
   "source": [
    "pip install cufflinks"
   ]
  },
  {
   "cell_type": "code",
   "execution_count": 8,
   "metadata": {
    "collapsed": true
   },
   "outputs": [],
   "source": [
    "import pandas as pd\n",
    "import numpy as np\n",
    "%matplotlib inline"
   ]
  },
  {
   "cell_type": "code",
   "execution_count": 9,
   "metadata": {
    "collapsed": false
   },
   "outputs": [
    {
     "name": "stdout",
     "output_type": "stream",
     "text": [
      "5.13.0\n"
     ]
    }
   ],
   "source": [
    "from plotly import __version__\n",
    "from plotly.offline import download_plotlyjs, init_notebook_mode, plot, iplot\n",
    "\n",
    "print(__version__) # requires version >= 1.9.0"
   ]
  },
  {
   "cell_type": "code",
   "execution_count": 10,
   "metadata": {
    "collapsed": true
   },
   "outputs": [],
   "source": [
    "import cufflinks as cf"
   ]
  },
  {
   "cell_type": "code",
   "execution_count": 11,
   "metadata": {
    "collapsed": false
   },
   "outputs": [
    {
     "data": {
      "text/html": [
       "        <script type=\"text/javascript\">\n",
       "        window.PlotlyConfig = {MathJaxConfig: 'local'};\n",
       "        if (window.MathJax && window.MathJax.Hub && window.MathJax.Hub.Config) {window.MathJax.Hub.Config({SVG: {font: \"STIX-Web\"}});}\n",
       "        if (typeof require !== 'undefined') {\n",
       "        require.undef(\"plotly\");\n",
       "        requirejs.config({\n",
       "            paths: {\n",
       "                'plotly': ['https://cdn.plot.ly/plotly-2.18.0.min']\n",
       "            }\n",
       "        });\n",
       "        require(['plotly'], function(Plotly) {\n",
       "            window._Plotly = Plotly;\n",
       "        });\n",
       "        }\n",
       "        </script>\n",
       "        "
      ]
     },
     "metadata": {},
     "output_type": "display_data"
    }
   ],
   "source": [
    "# For Notebooks\n",
    "init_notebook_mode(connected=True)"
   ]
  },
  {
   "cell_type": "code",
   "execution_count": 12,
   "metadata": {
    "collapsed": false
   },
   "outputs": [
    {
     "data": {
      "text/html": [
       "        <script type=\"text/javascript\">\n",
       "        window.PlotlyConfig = {MathJaxConfig: 'local'};\n",
       "        if (window.MathJax && window.MathJax.Hub && window.MathJax.Hub.Config) {window.MathJax.Hub.Config({SVG: {font: \"STIX-Web\"}});}\n",
       "        if (typeof require !== 'undefined') {\n",
       "        require.undef(\"plotly\");\n",
       "        requirejs.config({\n",
       "            paths: {\n",
       "                'plotly': ['https://cdn.plot.ly/plotly-2.18.0.min']\n",
       "            }\n",
       "        });\n",
       "        require(['plotly'], function(Plotly) {\n",
       "            window._Plotly = Plotly;\n",
       "        });\n",
       "        }\n",
       "        </script>\n",
       "        "
      ]
     },
     "metadata": {},
     "output_type": "display_data"
    }
   ],
   "source": [
    "# For offline use\n",
    "cf.go_offline()"
   ]
  },
  {
   "cell_type": "markdown",
   "metadata": {},
   "source": [
    "### Fake Data"
   ]
  },
  {
   "cell_type": "code",
   "execution_count": 13,
   "metadata": {
    "collapsed": false
   },
   "outputs": [],
   "source": [
    "df = pd.DataFrame(np.random.randn(100,4),columns='A B C D'.split())"
   ]
  },
  {
   "cell_type": "code",
   "execution_count": 14,
   "metadata": {
    "collapsed": false
   },
   "outputs": [
    {
     "data": {
      "text/html": [
       "<div>\n",
       "<style scoped>\n",
       "    .dataframe tbody tr th:only-of-type {\n",
       "        vertical-align: middle;\n",
       "    }\n",
       "\n",
       "    .dataframe tbody tr th {\n",
       "        vertical-align: top;\n",
       "    }\n",
       "\n",
       "    .dataframe thead th {\n",
       "        text-align: right;\n",
       "    }\n",
       "</style>\n",
       "<table border=\"1\" class=\"dataframe\">\n",
       "  <thead>\n",
       "    <tr style=\"text-align: right;\">\n",
       "      <th></th>\n",
       "      <th>A</th>\n",
       "      <th>B</th>\n",
       "      <th>C</th>\n",
       "      <th>D</th>\n",
       "    </tr>\n",
       "  </thead>\n",
       "  <tbody>\n",
       "    <tr>\n",
       "      <th>0</th>\n",
       "      <td>-2.188482</td>\n",
       "      <td>-0.967280</td>\n",
       "      <td>0.234282</td>\n",
       "      <td>0.572703</td>\n",
       "    </tr>\n",
       "    <tr>\n",
       "      <th>1</th>\n",
       "      <td>-0.665854</td>\n",
       "      <td>-0.426266</td>\n",
       "      <td>-0.506227</td>\n",
       "      <td>0.967291</td>\n",
       "    </tr>\n",
       "    <tr>\n",
       "      <th>2</th>\n",
       "      <td>-1.380529</td>\n",
       "      <td>0.641523</td>\n",
       "      <td>0.155433</td>\n",
       "      <td>-0.601119</td>\n",
       "    </tr>\n",
       "    <tr>\n",
       "      <th>3</th>\n",
       "      <td>0.717794</td>\n",
       "      <td>1.475939</td>\n",
       "      <td>1.491685</td>\n",
       "      <td>0.626507</td>\n",
       "    </tr>\n",
       "    <tr>\n",
       "      <th>4</th>\n",
       "      <td>-0.507907</td>\n",
       "      <td>-0.097519</td>\n",
       "      <td>0.638075</td>\n",
       "      <td>-0.684593</td>\n",
       "    </tr>\n",
       "  </tbody>\n",
       "</table>\n",
       "</div>"
      ],
      "text/plain": [
       "          A         B         C         D\n",
       "0 -2.188482 -0.967280  0.234282  0.572703\n",
       "1 -0.665854 -0.426266 -0.506227  0.967291\n",
       "2 -1.380529  0.641523  0.155433 -0.601119\n",
       "3  0.717794  1.475939  1.491685  0.626507\n",
       "4 -0.507907 -0.097519  0.638075 -0.684593"
      ]
     },
     "execution_count": 14,
     "metadata": {},
     "output_type": "execute_result"
    }
   ],
   "source": [
    "df.head()"
   ]
  },
  {
   "cell_type": "code",
   "execution_count": 15,
   "metadata": {
    "collapsed": true
   },
   "outputs": [],
   "source": [
    "df2 = pd.DataFrame({'Category':['A','B','C'],'Values':[32,43,50]})"
   ]
  },
  {
   "cell_type": "code",
   "execution_count": 16,
   "metadata": {
    "collapsed": false
   },
   "outputs": [
    {
     "data": {
      "text/html": [
       "<div>\n",
       "<style scoped>\n",
       "    .dataframe tbody tr th:only-of-type {\n",
       "        vertical-align: middle;\n",
       "    }\n",
       "\n",
       "    .dataframe tbody tr th {\n",
       "        vertical-align: top;\n",
       "    }\n",
       "\n",
       "    .dataframe thead th {\n",
       "        text-align: right;\n",
       "    }\n",
       "</style>\n",
       "<table border=\"1\" class=\"dataframe\">\n",
       "  <thead>\n",
       "    <tr style=\"text-align: right;\">\n",
       "      <th></th>\n",
       "      <th>Category</th>\n",
       "      <th>Values</th>\n",
       "    </tr>\n",
       "  </thead>\n",
       "  <tbody>\n",
       "    <tr>\n",
       "      <th>0</th>\n",
       "      <td>A</td>\n",
       "      <td>32</td>\n",
       "    </tr>\n",
       "    <tr>\n",
       "      <th>1</th>\n",
       "      <td>B</td>\n",
       "      <td>43</td>\n",
       "    </tr>\n",
       "    <tr>\n",
       "      <th>2</th>\n",
       "      <td>C</td>\n",
       "      <td>50</td>\n",
       "    </tr>\n",
       "  </tbody>\n",
       "</table>\n",
       "</div>"
      ],
      "text/plain": [
       "  Category  Values\n",
       "0        A      32\n",
       "1        B      43\n",
       "2        C      50"
      ]
     },
     "execution_count": 16,
     "metadata": {},
     "output_type": "execute_result"
    }
   ],
   "source": [
    "df2.head()"
   ]
  },
  {
   "cell_type": "markdown",
   "metadata": {},
   "source": [
    "## Using Cufflinks and iplot()\n",
    "\n",
    "* scatter\n",
    "* bar\n",
    "* box\n",
    "* spread\n",
    "* ratio\n",
    "* heatmap\n",
    "* surface\n",
    "* histogram\n",
    "* bubble"
   ]
  },
  {
   "cell_type": "markdown",
   "metadata": {},
   "source": [
    "## Scatter"
   ]
  },
  {
   "cell_type": "code",
   "execution_count": 17,
   "metadata": {
    "collapsed": false
   },
   "outputs": [
    {
     "data": {
      "application/vnd.plotly.v1+json": {
       "config": {
        "linkText": "Export to plot.ly",
        "plotlyServerURL": "https://plot.ly",
        "showLink": true
       },
       "data": [
        {
         "line": {
          "color": "rgba(255, 153, 51, 1.0)",
          "dash": "solid",
          "shape": "linear",
          "width": 1.3
         },
         "marker": {
          "size": 10,
          "symbol": "circle"
         },
         "mode": "markers",
         "name": "B",
         "text": "",
         "type": "scatter",
         "x": [
          -2.1884820507782847,
          -0.665854098661476,
          -1.3805289926414221,
          0.7177941534943872,
          -0.5079070431201327,
          -0.9254963685928826,
          0.07017048731831337,
          0.21659018028573443,
          0.6575896902323115,
          -0.7203671430016564,
          -0.4166920710075472,
          2.0056519868881817,
          0.6918406586642192,
          0.49110899481134057,
          0.5466373701568074,
          -0.04127578675147474,
          0.22291597539964056,
          0.5763452889571342,
          0.41911610659334153,
          -0.31504689375569617,
          0.4669768174623604,
          -1.1695274117766445,
          0.7364608342129234,
          -0.00913063712385115,
          0.4672029130412262,
          0.3027817525521753,
          -0.3025856918475431,
          0.4814090585715446,
          1.2196755070669176,
          -1.8270222684398807,
          0.03969622994150524,
          0.49267569055571897,
          -1.0036984109980298,
          -0.5251861744257543,
          0.9567356862535921,
          0.5369929247907468,
          -0.3161285413972293,
          -0.23372531142567546,
          0.41941353903405504,
          0.9964794674939226,
          1.305109453726727,
          0.13922444356079225,
          0.9926080522740052,
          -0.22710951340968658,
          -0.9502175771734338,
          -1.0761110833899576,
          -1.9580748766236473,
          0.20971225777735275,
          1.2391462120039176,
          0.0818135721981462,
          0.6420050639601032,
          0.03006078239224604,
          0.8414977144772191,
          0.7684983026064448,
          -0.027808936326751008,
          -0.16199630268676807,
          -0.009273158470795998,
          0.8995871936145745,
          -0.7930661423405327,
          0.5707151536428917,
          0.4609763337839569,
          -0.023021464976791594,
          1.5288125472120464,
          -0.88742429995902,
          0.3543999676999108,
          0.04814749748529384,
          -0.14407270331860864,
          -2.3584959248198327,
          0.36567542321995156,
          -0.015323485088775136,
          -1.5982332084815438,
          0.9893498435573947,
          0.4456789009768896,
          -0.4835972012995954,
          0.724238904244639,
          0.4682482817716083,
          0.839859989114251,
          0.14543189713505314,
          -0.5605395285621488,
          2.424734950386747,
          -0.7078065009697314,
          0.20773014860940905,
          0.4663918993987398,
          0.3610962931455434,
          0.13425091696086852,
          -2.3312497232908567,
          -0.3117097124746467,
          -0.24559017583110648,
          1.0340199528911336,
          0.660608635496201,
          -2.267483582162584,
          1.63512298448028,
          0.4248298038123525,
          -0.3912365822983923,
          0.2771786484275452,
          0.10688871829352858,
          1.1166460747599436,
          0.41147203906190505,
          -0.9308940719640626,
          -1.732720177574506
         ],
         "y": [
          -0.967280454551769,
          -0.4262657421923561,
          0.6415234161208461,
          1.4759389662434033,
          -0.09751903940280975,
          0.17776569210575774,
          -1.2649818651982054,
          -1.1950371518335574,
          -1.556187143796085,
          -0.788478158888168,
          0.9597956528465741,
          0.052036199061202104,
          -0.22058592370822638,
          0.9816388590414287,
          1.0383803563519347,
          0.8547553132479587,
          -0.5886735459625771,
          -0.37439112569718785,
          -0.2623656153035446,
          -0.5320925874026364,
          -1.4220184369846043,
          0.846670864223348,
          -1.8163473370703958,
          1.3189836329571303,
          1.6637685364756059,
          -0.13395936428216373,
          -0.6293732266752319,
          0.2577807925648532,
          1.0847800174280025,
          -0.7978812148317082,
          -0.8020952268900989,
          -0.6264398798921825,
          -0.36587928505657796,
          1.0522610581970544,
          0.19094524404423097,
          0.7231352783492214,
          -0.2628470864698082,
          0.927313688901756,
          1.503651062051654,
          0.06638646092277749,
          0.26384475047205663,
          0.4890528362926341,
          0.3935599443259979,
          0.024380658205805403,
          -2.0629355520061763,
          0.9602761856506804,
          -0.23567940021145856,
          0.10727002685212225,
          -0.38412961854053373,
          -0.1229972569582122,
          1.5674833863914581,
          0.05797782859663407,
          -0.43345383829272444,
          0.5567694675572081,
          0.4512681681842402,
          -1.4878857727703223,
          1.191498577036202,
          1.5943146889736306,
          0.4194520044974007,
          1.7600425888987563,
          0.6701645912360255,
          -0.3075623135830556,
          0.27153889798225794,
          -0.1842878503559655,
          2.00223124160167,
          0.6777750123085785,
          -1.892415763831858,
          0.8178162088050249,
          0.08596553384700664,
          -0.6939299549913309,
          2.588584225766686,
          -0.11310923050999826,
          0.03988515313517068,
          0.4029126777124784,
          2.406680282475156,
          -0.15646532092047744,
          1.8857104455932763,
          -2.3106019408979512,
          0.21436153692103366,
          0.31521645299591206,
          -1.6168355582536302,
          1.9993223040445842,
          0.019732995776760843,
          0.9279181708398891,
          0.4702358093948719,
          1.9865857140568173,
          0.6992311527671162,
          0.28295041913737606,
          0.6206079271821591,
          -0.7272387976112539,
          0.3650724022216879,
          0.3842491991780508,
          -1.9554140814769014,
          -1.6132508173081423,
          1.4952438761609834,
          0.37003354614048906,
          0.08129741268596019,
          0.8568806010650221,
          0.21521236402235247,
          -0.9304045945205974
         ]
        }
       ],
       "layout": {
        "legend": {
         "bgcolor": "#F5F6F9",
         "font": {
          "color": "#4D5663"
         }
        },
        "paper_bgcolor": "#F5F6F9",
        "plot_bgcolor": "#F5F6F9",
        "template": {
         "data": {
          "bar": [
           {
            "error_x": {
             "color": "#2a3f5f"
            },
            "error_y": {
             "color": "#2a3f5f"
            },
            "marker": {
             "line": {
              "color": "#E5ECF6",
              "width": 0.5
             },
             "pattern": {
              "fillmode": "overlay",
              "size": 10,
              "solidity": 0.2
             }
            },
            "type": "bar"
           }
          ],
          "barpolar": [
           {
            "marker": {
             "line": {
              "color": "#E5ECF6",
              "width": 0.5
             },
             "pattern": {
              "fillmode": "overlay",
              "size": 10,
              "solidity": 0.2
             }
            },
            "type": "barpolar"
           }
          ],
          "carpet": [
           {
            "aaxis": {
             "endlinecolor": "#2a3f5f",
             "gridcolor": "white",
             "linecolor": "white",
             "minorgridcolor": "white",
             "startlinecolor": "#2a3f5f"
            },
            "baxis": {
             "endlinecolor": "#2a3f5f",
             "gridcolor": "white",
             "linecolor": "white",
             "minorgridcolor": "white",
             "startlinecolor": "#2a3f5f"
            },
            "type": "carpet"
           }
          ],
          "choropleth": [
           {
            "colorbar": {
             "outlinewidth": 0,
             "ticks": ""
            },
            "type": "choropleth"
           }
          ],
          "contour": [
           {
            "colorbar": {
             "outlinewidth": 0,
             "ticks": ""
            },
            "colorscale": [
             [
              0,
              "#0d0887"
             ],
             [
              0.1111111111111111,
              "#46039f"
             ],
             [
              0.2222222222222222,
              "#7201a8"
             ],
             [
              0.3333333333333333,
              "#9c179e"
             ],
             [
              0.4444444444444444,
              "#bd3786"
             ],
             [
              0.5555555555555556,
              "#d8576b"
             ],
             [
              0.6666666666666666,
              "#ed7953"
             ],
             [
              0.7777777777777778,
              "#fb9f3a"
             ],
             [
              0.8888888888888888,
              "#fdca26"
             ],
             [
              1,
              "#f0f921"
             ]
            ],
            "type": "contour"
           }
          ],
          "contourcarpet": [
           {
            "colorbar": {
             "outlinewidth": 0,
             "ticks": ""
            },
            "type": "contourcarpet"
           }
          ],
          "heatmap": [
           {
            "colorbar": {
             "outlinewidth": 0,
             "ticks": ""
            },
            "colorscale": [
             [
              0,
              "#0d0887"
             ],
             [
              0.1111111111111111,
              "#46039f"
             ],
             [
              0.2222222222222222,
              "#7201a8"
             ],
             [
              0.3333333333333333,
              "#9c179e"
             ],
             [
              0.4444444444444444,
              "#bd3786"
             ],
             [
              0.5555555555555556,
              "#d8576b"
             ],
             [
              0.6666666666666666,
              "#ed7953"
             ],
             [
              0.7777777777777778,
              "#fb9f3a"
             ],
             [
              0.8888888888888888,
              "#fdca26"
             ],
             [
              1,
              "#f0f921"
             ]
            ],
            "type": "heatmap"
           }
          ],
          "heatmapgl": [
           {
            "colorbar": {
             "outlinewidth": 0,
             "ticks": ""
            },
            "colorscale": [
             [
              0,
              "#0d0887"
             ],
             [
              0.1111111111111111,
              "#46039f"
             ],
             [
              0.2222222222222222,
              "#7201a8"
             ],
             [
              0.3333333333333333,
              "#9c179e"
             ],
             [
              0.4444444444444444,
              "#bd3786"
             ],
             [
              0.5555555555555556,
              "#d8576b"
             ],
             [
              0.6666666666666666,
              "#ed7953"
             ],
             [
              0.7777777777777778,
              "#fb9f3a"
             ],
             [
              0.8888888888888888,
              "#fdca26"
             ],
             [
              1,
              "#f0f921"
             ]
            ],
            "type": "heatmapgl"
           }
          ],
          "histogram": [
           {
            "marker": {
             "pattern": {
              "fillmode": "overlay",
              "size": 10,
              "solidity": 0.2
             }
            },
            "type": "histogram"
           }
          ],
          "histogram2d": [
           {
            "colorbar": {
             "outlinewidth": 0,
             "ticks": ""
            },
            "colorscale": [
             [
              0,
              "#0d0887"
             ],
             [
              0.1111111111111111,
              "#46039f"
             ],
             [
              0.2222222222222222,
              "#7201a8"
             ],
             [
              0.3333333333333333,
              "#9c179e"
             ],
             [
              0.4444444444444444,
              "#bd3786"
             ],
             [
              0.5555555555555556,
              "#d8576b"
             ],
             [
              0.6666666666666666,
              "#ed7953"
             ],
             [
              0.7777777777777778,
              "#fb9f3a"
             ],
             [
              0.8888888888888888,
              "#fdca26"
             ],
             [
              1,
              "#f0f921"
             ]
            ],
            "type": "histogram2d"
           }
          ],
          "histogram2dcontour": [
           {
            "colorbar": {
             "outlinewidth": 0,
             "ticks": ""
            },
            "colorscale": [
             [
              0,
              "#0d0887"
             ],
             [
              0.1111111111111111,
              "#46039f"
             ],
             [
              0.2222222222222222,
              "#7201a8"
             ],
             [
              0.3333333333333333,
              "#9c179e"
             ],
             [
              0.4444444444444444,
              "#bd3786"
             ],
             [
              0.5555555555555556,
              "#d8576b"
             ],
             [
              0.6666666666666666,
              "#ed7953"
             ],
             [
              0.7777777777777778,
              "#fb9f3a"
             ],
             [
              0.8888888888888888,
              "#fdca26"
             ],
             [
              1,
              "#f0f921"
             ]
            ],
            "type": "histogram2dcontour"
           }
          ],
          "mesh3d": [
           {
            "colorbar": {
             "outlinewidth": 0,
             "ticks": ""
            },
            "type": "mesh3d"
           }
          ],
          "parcoords": [
           {
            "line": {
             "colorbar": {
              "outlinewidth": 0,
              "ticks": ""
             }
            },
            "type": "parcoords"
           }
          ],
          "pie": [
           {
            "automargin": true,
            "type": "pie"
           }
          ],
          "scatter": [
           {
            "fillpattern": {
             "fillmode": "overlay",
             "size": 10,
             "solidity": 0.2
            },
            "type": "scatter"
           }
          ],
          "scatter3d": [
           {
            "line": {
             "colorbar": {
              "outlinewidth": 0,
              "ticks": ""
             }
            },
            "marker": {
             "colorbar": {
              "outlinewidth": 0,
              "ticks": ""
             }
            },
            "type": "scatter3d"
           }
          ],
          "scattercarpet": [
           {
            "marker": {
             "colorbar": {
              "outlinewidth": 0,
              "ticks": ""
             }
            },
            "type": "scattercarpet"
           }
          ],
          "scattergeo": [
           {
            "marker": {
             "colorbar": {
              "outlinewidth": 0,
              "ticks": ""
             }
            },
            "type": "scattergeo"
           }
          ],
          "scattergl": [
           {
            "marker": {
             "colorbar": {
              "outlinewidth": 0,
              "ticks": ""
             }
            },
            "type": "scattergl"
           }
          ],
          "scattermapbox": [
           {
            "marker": {
             "colorbar": {
              "outlinewidth": 0,
              "ticks": ""
             }
            },
            "type": "scattermapbox"
           }
          ],
          "scatterpolar": [
           {
            "marker": {
             "colorbar": {
              "outlinewidth": 0,
              "ticks": ""
             }
            },
            "type": "scatterpolar"
           }
          ],
          "scatterpolargl": [
           {
            "marker": {
             "colorbar": {
              "outlinewidth": 0,
              "ticks": ""
             }
            },
            "type": "scatterpolargl"
           }
          ],
          "scatterternary": [
           {
            "marker": {
             "colorbar": {
              "outlinewidth": 0,
              "ticks": ""
             }
            },
            "type": "scatterternary"
           }
          ],
          "surface": [
           {
            "colorbar": {
             "outlinewidth": 0,
             "ticks": ""
            },
            "colorscale": [
             [
              0,
              "#0d0887"
             ],
             [
              0.1111111111111111,
              "#46039f"
             ],
             [
              0.2222222222222222,
              "#7201a8"
             ],
             [
              0.3333333333333333,
              "#9c179e"
             ],
             [
              0.4444444444444444,
              "#bd3786"
             ],
             [
              0.5555555555555556,
              "#d8576b"
             ],
             [
              0.6666666666666666,
              "#ed7953"
             ],
             [
              0.7777777777777778,
              "#fb9f3a"
             ],
             [
              0.8888888888888888,
              "#fdca26"
             ],
             [
              1,
              "#f0f921"
             ]
            ],
            "type": "surface"
           }
          ],
          "table": [
           {
            "cells": {
             "fill": {
              "color": "#EBF0F8"
             },
             "line": {
              "color": "white"
             }
            },
            "header": {
             "fill": {
              "color": "#C8D4E3"
             },
             "line": {
              "color": "white"
             }
            },
            "type": "table"
           }
          ]
         },
         "layout": {
          "annotationdefaults": {
           "arrowcolor": "#2a3f5f",
           "arrowhead": 0,
           "arrowwidth": 1
          },
          "autotypenumbers": "strict",
          "coloraxis": {
           "colorbar": {
            "outlinewidth": 0,
            "ticks": ""
           }
          },
          "colorscale": {
           "diverging": [
            [
             0,
             "#8e0152"
            ],
            [
             0.1,
             "#c51b7d"
            ],
            [
             0.2,
             "#de77ae"
            ],
            [
             0.3,
             "#f1b6da"
            ],
            [
             0.4,
             "#fde0ef"
            ],
            [
             0.5,
             "#f7f7f7"
            ],
            [
             0.6,
             "#e6f5d0"
            ],
            [
             0.7,
             "#b8e186"
            ],
            [
             0.8,
             "#7fbc41"
            ],
            [
             0.9,
             "#4d9221"
            ],
            [
             1,
             "#276419"
            ]
           ],
           "sequential": [
            [
             0,
             "#0d0887"
            ],
            [
             0.1111111111111111,
             "#46039f"
            ],
            [
             0.2222222222222222,
             "#7201a8"
            ],
            [
             0.3333333333333333,
             "#9c179e"
            ],
            [
             0.4444444444444444,
             "#bd3786"
            ],
            [
             0.5555555555555556,
             "#d8576b"
            ],
            [
             0.6666666666666666,
             "#ed7953"
            ],
            [
             0.7777777777777778,
             "#fb9f3a"
            ],
            [
             0.8888888888888888,
             "#fdca26"
            ],
            [
             1,
             "#f0f921"
            ]
           ],
           "sequentialminus": [
            [
             0,
             "#0d0887"
            ],
            [
             0.1111111111111111,
             "#46039f"
            ],
            [
             0.2222222222222222,
             "#7201a8"
            ],
            [
             0.3333333333333333,
             "#9c179e"
            ],
            [
             0.4444444444444444,
             "#bd3786"
            ],
            [
             0.5555555555555556,
             "#d8576b"
            ],
            [
             0.6666666666666666,
             "#ed7953"
            ],
            [
             0.7777777777777778,
             "#fb9f3a"
            ],
            [
             0.8888888888888888,
             "#fdca26"
            ],
            [
             1,
             "#f0f921"
            ]
           ]
          },
          "colorway": [
           "#636efa",
           "#EF553B",
           "#00cc96",
           "#ab63fa",
           "#FFA15A",
           "#19d3f3",
           "#FF6692",
           "#B6E880",
           "#FF97FF",
           "#FECB52"
          ],
          "font": {
           "color": "#2a3f5f"
          },
          "geo": {
           "bgcolor": "white",
           "lakecolor": "white",
           "landcolor": "#E5ECF6",
           "showlakes": true,
           "showland": true,
           "subunitcolor": "white"
          },
          "hoverlabel": {
           "align": "left"
          },
          "hovermode": "closest",
          "mapbox": {
           "style": "light"
          },
          "paper_bgcolor": "white",
          "plot_bgcolor": "#E5ECF6",
          "polar": {
           "angularaxis": {
            "gridcolor": "white",
            "linecolor": "white",
            "ticks": ""
           },
           "bgcolor": "#E5ECF6",
           "radialaxis": {
            "gridcolor": "white",
            "linecolor": "white",
            "ticks": ""
           }
          },
          "scene": {
           "xaxis": {
            "backgroundcolor": "#E5ECF6",
            "gridcolor": "white",
            "gridwidth": 2,
            "linecolor": "white",
            "showbackground": true,
            "ticks": "",
            "zerolinecolor": "white"
           },
           "yaxis": {
            "backgroundcolor": "#E5ECF6",
            "gridcolor": "white",
            "gridwidth": 2,
            "linecolor": "white",
            "showbackground": true,
            "ticks": "",
            "zerolinecolor": "white"
           },
           "zaxis": {
            "backgroundcolor": "#E5ECF6",
            "gridcolor": "white",
            "gridwidth": 2,
            "linecolor": "white",
            "showbackground": true,
            "ticks": "",
            "zerolinecolor": "white"
           }
          },
          "shapedefaults": {
           "line": {
            "color": "#2a3f5f"
           }
          },
          "ternary": {
           "aaxis": {
            "gridcolor": "white",
            "linecolor": "white",
            "ticks": ""
           },
           "baxis": {
            "gridcolor": "white",
            "linecolor": "white",
            "ticks": ""
           },
           "bgcolor": "#E5ECF6",
           "caxis": {
            "gridcolor": "white",
            "linecolor": "white",
            "ticks": ""
           }
          },
          "title": {
           "x": 0.05
          },
          "xaxis": {
           "automargin": true,
           "gridcolor": "white",
           "linecolor": "white",
           "ticks": "",
           "title": {
            "standoff": 15
           },
           "zerolinecolor": "white",
           "zerolinewidth": 2
          },
          "yaxis": {
           "automargin": true,
           "gridcolor": "white",
           "linecolor": "white",
           "ticks": "",
           "title": {
            "standoff": 15
           },
           "zerolinecolor": "white",
           "zerolinewidth": 2
          }
         }
        },
        "title": {
         "font": {
          "color": "#4D5663"
         }
        },
        "xaxis": {
         "gridcolor": "#E1E5ED",
         "showgrid": true,
         "tickfont": {
          "color": "#4D5663"
         },
         "title": {
          "font": {
           "color": "#4D5663"
          },
          "text": ""
         },
         "zerolinecolor": "#E1E5ED"
        },
        "yaxis": {
         "gridcolor": "#E1E5ED",
         "showgrid": true,
         "tickfont": {
          "color": "#4D5663"
         },
         "title": {
          "font": {
           "color": "#4D5663"
          },
          "text": ""
         },
         "zerolinecolor": "#E1E5ED"
        }
       }
      },
      "text/html": [
       "<div>                            <div id=\"1e23eea7-3dd4-4705-a54b-232a0a2eee44\" class=\"plotly-graph-div\" style=\"height:525px; width:100%;\"></div>            <script type=\"text/javascript\">                require([\"plotly\"], function(Plotly) {                    window.PLOTLYENV=window.PLOTLYENV || {};\n",
       "                    window.PLOTLYENV.BASE_URL='https://plot.ly';                                    if (document.getElementById(\"1e23eea7-3dd4-4705-a54b-232a0a2eee44\")) {                    Plotly.newPlot(                        \"1e23eea7-3dd4-4705-a54b-232a0a2eee44\",                        [{\"line\":{\"color\":\"rgba(255, 153, 51, 1.0)\",\"dash\":\"solid\",\"shape\":\"linear\",\"width\":1.3},\"marker\":{\"size\":10,\"symbol\":\"circle\"},\"mode\":\"markers\",\"name\":\"B\",\"text\":\"\",\"x\":[-2.1884820507782847,-0.665854098661476,-1.3805289926414221,0.7177941534943872,-0.5079070431201327,-0.9254963685928826,0.07017048731831337,0.21659018028573443,0.6575896902323115,-0.7203671430016564,-0.4166920710075472,2.0056519868881817,0.6918406586642192,0.49110899481134057,0.5466373701568074,-0.04127578675147474,0.22291597539964056,0.5763452889571342,0.41911610659334153,-0.31504689375569617,0.4669768174623604,-1.1695274117766445,0.7364608342129234,-0.00913063712385115,0.4672029130412262,0.3027817525521753,-0.3025856918475431,0.4814090585715446,1.2196755070669176,-1.8270222684398807,0.03969622994150524,0.49267569055571897,-1.0036984109980298,-0.5251861744257543,0.9567356862535921,0.5369929247907468,-0.3161285413972293,-0.23372531142567546,0.41941353903405504,0.9964794674939226,1.305109453726727,0.13922444356079225,0.9926080522740052,-0.22710951340968658,-0.9502175771734338,-1.0761110833899576,-1.9580748766236473,0.20971225777735275,1.2391462120039176,0.0818135721981462,0.6420050639601032,0.03006078239224604,0.8414977144772191,0.7684983026064448,-0.027808936326751008,-0.16199630268676807,-0.009273158470795998,0.8995871936145745,-0.7930661423405327,0.5707151536428917,0.4609763337839569,-0.023021464976791594,1.5288125472120464,-0.88742429995902,0.3543999676999108,0.04814749748529384,-0.14407270331860864,-2.3584959248198327,0.36567542321995156,-0.015323485088775136,-1.5982332084815438,0.9893498435573947,0.4456789009768896,-0.4835972012995954,0.724238904244639,0.4682482817716083,0.839859989114251,0.14543189713505314,-0.5605395285621488,2.424734950386747,-0.7078065009697314,0.20773014860940905,0.4663918993987398,0.3610962931455434,0.13425091696086852,-2.3312497232908567,-0.3117097124746467,-0.24559017583110648,1.0340199528911336,0.660608635496201,-2.267483582162584,1.63512298448028,0.4248298038123525,-0.3912365822983923,0.2771786484275452,0.10688871829352858,1.1166460747599436,0.41147203906190505,-0.9308940719640626,-1.732720177574506],\"y\":[-0.967280454551769,-0.4262657421923561,0.6415234161208461,1.4759389662434033,-0.09751903940280975,0.17776569210575774,-1.2649818651982054,-1.1950371518335574,-1.556187143796085,-0.788478158888168,0.9597956528465741,0.052036199061202104,-0.22058592370822638,0.9816388590414287,1.0383803563519347,0.8547553132479587,-0.5886735459625771,-0.37439112569718785,-0.2623656153035446,-0.5320925874026364,-1.4220184369846043,0.846670864223348,-1.8163473370703958,1.3189836329571303,1.6637685364756059,-0.13395936428216373,-0.6293732266752319,0.2577807925648532,1.0847800174280025,-0.7978812148317082,-0.8020952268900989,-0.6264398798921825,-0.36587928505657796,1.0522610581970544,0.19094524404423097,0.7231352783492214,-0.2628470864698082,0.927313688901756,1.503651062051654,0.06638646092277749,0.26384475047205663,0.4890528362926341,0.3935599443259979,0.024380658205805403,-2.0629355520061763,0.9602761856506804,-0.23567940021145856,0.10727002685212225,-0.38412961854053373,-0.1229972569582122,1.5674833863914581,0.05797782859663407,-0.43345383829272444,0.5567694675572081,0.4512681681842402,-1.4878857727703223,1.191498577036202,1.5943146889736306,0.4194520044974007,1.7600425888987563,0.6701645912360255,-0.3075623135830556,0.27153889798225794,-0.1842878503559655,2.00223124160167,0.6777750123085785,-1.892415763831858,0.8178162088050249,0.08596553384700664,-0.6939299549913309,2.588584225766686,-0.11310923050999826,0.03988515313517068,0.4029126777124784,2.406680282475156,-0.15646532092047744,1.8857104455932763,-2.3106019408979512,0.21436153692103366,0.31521645299591206,-1.6168355582536302,1.9993223040445842,0.019732995776760843,0.9279181708398891,0.4702358093948719,1.9865857140568173,0.6992311527671162,0.28295041913737606,0.6206079271821591,-0.7272387976112539,0.3650724022216879,0.3842491991780508,-1.9554140814769014,-1.6132508173081423,1.4952438761609834,0.37003354614048906,0.08129741268596019,0.8568806010650221,0.21521236402235247,-0.9304045945205974],\"type\":\"scatter\"}],                        {\"legend\":{\"bgcolor\":\"#F5F6F9\",\"font\":{\"color\":\"#4D5663\"}},\"paper_bgcolor\":\"#F5F6F9\",\"plot_bgcolor\":\"#F5F6F9\",\"template\":{\"data\":{\"barpolar\":[{\"marker\":{\"line\":{\"color\":\"#E5ECF6\",\"width\":0.5},\"pattern\":{\"fillmode\":\"overlay\",\"size\":10,\"solidity\":0.2}},\"type\":\"barpolar\"}],\"bar\":[{\"error_x\":{\"color\":\"#2a3f5f\"},\"error_y\":{\"color\":\"#2a3f5f\"},\"marker\":{\"line\":{\"color\":\"#E5ECF6\",\"width\":0.5},\"pattern\":{\"fillmode\":\"overlay\",\"size\":10,\"solidity\":0.2}},\"type\":\"bar\"}],\"carpet\":[{\"aaxis\":{\"endlinecolor\":\"#2a3f5f\",\"gridcolor\":\"white\",\"linecolor\":\"white\",\"minorgridcolor\":\"white\",\"startlinecolor\":\"#2a3f5f\"},\"baxis\":{\"endlinecolor\":\"#2a3f5f\",\"gridcolor\":\"white\",\"linecolor\":\"white\",\"minorgridcolor\":\"white\",\"startlinecolor\":\"#2a3f5f\"},\"type\":\"carpet\"}],\"choropleth\":[{\"colorbar\":{\"outlinewidth\":0,\"ticks\":\"\"},\"type\":\"choropleth\"}],\"contourcarpet\":[{\"colorbar\":{\"outlinewidth\":0,\"ticks\":\"\"},\"type\":\"contourcarpet\"}],\"contour\":[{\"colorbar\":{\"outlinewidth\":0,\"ticks\":\"\"},\"colorscale\":[[0.0,\"#0d0887\"],[0.1111111111111111,\"#46039f\"],[0.2222222222222222,\"#7201a8\"],[0.3333333333333333,\"#9c179e\"],[0.4444444444444444,\"#bd3786\"],[0.5555555555555556,\"#d8576b\"],[0.6666666666666666,\"#ed7953\"],[0.7777777777777778,\"#fb9f3a\"],[0.8888888888888888,\"#fdca26\"],[1.0,\"#f0f921\"]],\"type\":\"contour\"}],\"heatmapgl\":[{\"colorbar\":{\"outlinewidth\":0,\"ticks\":\"\"},\"colorscale\":[[0.0,\"#0d0887\"],[0.1111111111111111,\"#46039f\"],[0.2222222222222222,\"#7201a8\"],[0.3333333333333333,\"#9c179e\"],[0.4444444444444444,\"#bd3786\"],[0.5555555555555556,\"#d8576b\"],[0.6666666666666666,\"#ed7953\"],[0.7777777777777778,\"#fb9f3a\"],[0.8888888888888888,\"#fdca26\"],[1.0,\"#f0f921\"]],\"type\":\"heatmapgl\"}],\"heatmap\":[{\"colorbar\":{\"outlinewidth\":0,\"ticks\":\"\"},\"colorscale\":[[0.0,\"#0d0887\"],[0.1111111111111111,\"#46039f\"],[0.2222222222222222,\"#7201a8\"],[0.3333333333333333,\"#9c179e\"],[0.4444444444444444,\"#bd3786\"],[0.5555555555555556,\"#d8576b\"],[0.6666666666666666,\"#ed7953\"],[0.7777777777777778,\"#fb9f3a\"],[0.8888888888888888,\"#fdca26\"],[1.0,\"#f0f921\"]],\"type\":\"heatmap\"}],\"histogram2dcontour\":[{\"colorbar\":{\"outlinewidth\":0,\"ticks\":\"\"},\"colorscale\":[[0.0,\"#0d0887\"],[0.1111111111111111,\"#46039f\"],[0.2222222222222222,\"#7201a8\"],[0.3333333333333333,\"#9c179e\"],[0.4444444444444444,\"#bd3786\"],[0.5555555555555556,\"#d8576b\"],[0.6666666666666666,\"#ed7953\"],[0.7777777777777778,\"#fb9f3a\"],[0.8888888888888888,\"#fdca26\"],[1.0,\"#f0f921\"]],\"type\":\"histogram2dcontour\"}],\"histogram2d\":[{\"colorbar\":{\"outlinewidth\":0,\"ticks\":\"\"},\"colorscale\":[[0.0,\"#0d0887\"],[0.1111111111111111,\"#46039f\"],[0.2222222222222222,\"#7201a8\"],[0.3333333333333333,\"#9c179e\"],[0.4444444444444444,\"#bd3786\"],[0.5555555555555556,\"#d8576b\"],[0.6666666666666666,\"#ed7953\"],[0.7777777777777778,\"#fb9f3a\"],[0.8888888888888888,\"#fdca26\"],[1.0,\"#f0f921\"]],\"type\":\"histogram2d\"}],\"histogram\":[{\"marker\":{\"pattern\":{\"fillmode\":\"overlay\",\"size\":10,\"solidity\":0.2}},\"type\":\"histogram\"}],\"mesh3d\":[{\"colorbar\":{\"outlinewidth\":0,\"ticks\":\"\"},\"type\":\"mesh3d\"}],\"parcoords\":[{\"line\":{\"colorbar\":{\"outlinewidth\":0,\"ticks\":\"\"}},\"type\":\"parcoords\"}],\"pie\":[{\"automargin\":true,\"type\":\"pie\"}],\"scatter3d\":[{\"line\":{\"colorbar\":{\"outlinewidth\":0,\"ticks\":\"\"}},\"marker\":{\"colorbar\":{\"outlinewidth\":0,\"ticks\":\"\"}},\"type\":\"scatter3d\"}],\"scattercarpet\":[{\"marker\":{\"colorbar\":{\"outlinewidth\":0,\"ticks\":\"\"}},\"type\":\"scattercarpet\"}],\"scattergeo\":[{\"marker\":{\"colorbar\":{\"outlinewidth\":0,\"ticks\":\"\"}},\"type\":\"scattergeo\"}],\"scattergl\":[{\"marker\":{\"colorbar\":{\"outlinewidth\":0,\"ticks\":\"\"}},\"type\":\"scattergl\"}],\"scattermapbox\":[{\"marker\":{\"colorbar\":{\"outlinewidth\":0,\"ticks\":\"\"}},\"type\":\"scattermapbox\"}],\"scatterpolargl\":[{\"marker\":{\"colorbar\":{\"outlinewidth\":0,\"ticks\":\"\"}},\"type\":\"scatterpolargl\"}],\"scatterpolar\":[{\"marker\":{\"colorbar\":{\"outlinewidth\":0,\"ticks\":\"\"}},\"type\":\"scatterpolar\"}],\"scatter\":[{\"fillpattern\":{\"fillmode\":\"overlay\",\"size\":10,\"solidity\":0.2},\"type\":\"scatter\"}],\"scatterternary\":[{\"marker\":{\"colorbar\":{\"outlinewidth\":0,\"ticks\":\"\"}},\"type\":\"scatterternary\"}],\"surface\":[{\"colorbar\":{\"outlinewidth\":0,\"ticks\":\"\"},\"colorscale\":[[0.0,\"#0d0887\"],[0.1111111111111111,\"#46039f\"],[0.2222222222222222,\"#7201a8\"],[0.3333333333333333,\"#9c179e\"],[0.4444444444444444,\"#bd3786\"],[0.5555555555555556,\"#d8576b\"],[0.6666666666666666,\"#ed7953\"],[0.7777777777777778,\"#fb9f3a\"],[0.8888888888888888,\"#fdca26\"],[1.0,\"#f0f921\"]],\"type\":\"surface\"}],\"table\":[{\"cells\":{\"fill\":{\"color\":\"#EBF0F8\"},\"line\":{\"color\":\"white\"}},\"header\":{\"fill\":{\"color\":\"#C8D4E3\"},\"line\":{\"color\":\"white\"}},\"type\":\"table\"}]},\"layout\":{\"annotationdefaults\":{\"arrowcolor\":\"#2a3f5f\",\"arrowhead\":0,\"arrowwidth\":1},\"autotypenumbers\":\"strict\",\"coloraxis\":{\"colorbar\":{\"outlinewidth\":0,\"ticks\":\"\"}},\"colorscale\":{\"diverging\":[[0,\"#8e0152\"],[0.1,\"#c51b7d\"],[0.2,\"#de77ae\"],[0.3,\"#f1b6da\"],[0.4,\"#fde0ef\"],[0.5,\"#f7f7f7\"],[0.6,\"#e6f5d0\"],[0.7,\"#b8e186\"],[0.8,\"#7fbc41\"],[0.9,\"#4d9221\"],[1,\"#276419\"]],\"sequential\":[[0.0,\"#0d0887\"],[0.1111111111111111,\"#46039f\"],[0.2222222222222222,\"#7201a8\"],[0.3333333333333333,\"#9c179e\"],[0.4444444444444444,\"#bd3786\"],[0.5555555555555556,\"#d8576b\"],[0.6666666666666666,\"#ed7953\"],[0.7777777777777778,\"#fb9f3a\"],[0.8888888888888888,\"#fdca26\"],[1.0,\"#f0f921\"]],\"sequentialminus\":[[0.0,\"#0d0887\"],[0.1111111111111111,\"#46039f\"],[0.2222222222222222,\"#7201a8\"],[0.3333333333333333,\"#9c179e\"],[0.4444444444444444,\"#bd3786\"],[0.5555555555555556,\"#d8576b\"],[0.6666666666666666,\"#ed7953\"],[0.7777777777777778,\"#fb9f3a\"],[0.8888888888888888,\"#fdca26\"],[1.0,\"#f0f921\"]]},\"colorway\":[\"#636efa\",\"#EF553B\",\"#00cc96\",\"#ab63fa\",\"#FFA15A\",\"#19d3f3\",\"#FF6692\",\"#B6E880\",\"#FF97FF\",\"#FECB52\"],\"font\":{\"color\":\"#2a3f5f\"},\"geo\":{\"bgcolor\":\"white\",\"lakecolor\":\"white\",\"landcolor\":\"#E5ECF6\",\"showlakes\":true,\"showland\":true,\"subunitcolor\":\"white\"},\"hoverlabel\":{\"align\":\"left\"},\"hovermode\":\"closest\",\"mapbox\":{\"style\":\"light\"},\"paper_bgcolor\":\"white\",\"plot_bgcolor\":\"#E5ECF6\",\"polar\":{\"angularaxis\":{\"gridcolor\":\"white\",\"linecolor\":\"white\",\"ticks\":\"\"},\"bgcolor\":\"#E5ECF6\",\"radialaxis\":{\"gridcolor\":\"white\",\"linecolor\":\"white\",\"ticks\":\"\"}},\"scene\":{\"xaxis\":{\"backgroundcolor\":\"#E5ECF6\",\"gridcolor\":\"white\",\"gridwidth\":2,\"linecolor\":\"white\",\"showbackground\":true,\"ticks\":\"\",\"zerolinecolor\":\"white\"},\"yaxis\":{\"backgroundcolor\":\"#E5ECF6\",\"gridcolor\":\"white\",\"gridwidth\":2,\"linecolor\":\"white\",\"showbackground\":true,\"ticks\":\"\",\"zerolinecolor\":\"white\"},\"zaxis\":{\"backgroundcolor\":\"#E5ECF6\",\"gridcolor\":\"white\",\"gridwidth\":2,\"linecolor\":\"white\",\"showbackground\":true,\"ticks\":\"\",\"zerolinecolor\":\"white\"}},\"shapedefaults\":{\"line\":{\"color\":\"#2a3f5f\"}},\"ternary\":{\"aaxis\":{\"gridcolor\":\"white\",\"linecolor\":\"white\",\"ticks\":\"\"},\"baxis\":{\"gridcolor\":\"white\",\"linecolor\":\"white\",\"ticks\":\"\"},\"bgcolor\":\"#E5ECF6\",\"caxis\":{\"gridcolor\":\"white\",\"linecolor\":\"white\",\"ticks\":\"\"}},\"title\":{\"x\":0.05},\"xaxis\":{\"automargin\":true,\"gridcolor\":\"white\",\"linecolor\":\"white\",\"ticks\":\"\",\"title\":{\"standoff\":15},\"zerolinecolor\":\"white\",\"zerolinewidth\":2},\"yaxis\":{\"automargin\":true,\"gridcolor\":\"white\",\"linecolor\":\"white\",\"ticks\":\"\",\"title\":{\"standoff\":15},\"zerolinecolor\":\"white\",\"zerolinewidth\":2}}},\"title\":{\"font\":{\"color\":\"#4D5663\"}},\"xaxis\":{\"gridcolor\":\"#E1E5ED\",\"showgrid\":true,\"tickfont\":{\"color\":\"#4D5663\"},\"title\":{\"font\":{\"color\":\"#4D5663\"},\"text\":\"\"},\"zerolinecolor\":\"#E1E5ED\"},\"yaxis\":{\"gridcolor\":\"#E1E5ED\",\"showgrid\":true,\"tickfont\":{\"color\":\"#4D5663\"},\"title\":{\"font\":{\"color\":\"#4D5663\"},\"text\":\"\"},\"zerolinecolor\":\"#E1E5ED\"}},                        {\"showLink\": true, \"linkText\": \"Export to plot.ly\", \"plotlyServerURL\": \"https://plot.ly\", \"responsive\": true}                    ).then(function(){\n",
       "                            \n",
       "var gd = document.getElementById('1e23eea7-3dd4-4705-a54b-232a0a2eee44');\n",
       "var x = new MutationObserver(function (mutations, observer) {{\n",
       "        var display = window.getComputedStyle(gd).display;\n",
       "        if (!display || display === 'none') {{\n",
       "            console.log([gd, 'removed!']);\n",
       "            Plotly.purge(gd);\n",
       "            observer.disconnect();\n",
       "        }}\n",
       "}});\n",
       "\n",
       "// Listen for the removal of the full notebook cells\n",
       "var notebookContainer = gd.closest('#notebook-container');\n",
       "if (notebookContainer) {{\n",
       "    x.observe(notebookContainer, {childList: true});\n",
       "}}\n",
       "\n",
       "// Listen for the clearing of the current output cell\n",
       "var outputEl = gd.closest('.output');\n",
       "if (outputEl) {{\n",
       "    x.observe(outputEl, {childList: true});\n",
       "}}\n",
       "\n",
       "                        })                };                });            </script>        </div>"
      ]
     },
     "metadata": {},
     "output_type": "display_data"
    }
   ],
   "source": [
    "df.iplot(kind='scatter',x='A',y='B',mode='markers',size=10)"
   ]
  },
  {
   "cell_type": "markdown",
   "metadata": {},
   "source": [
    "## Bar Plots"
   ]
  },
  {
   "cell_type": "code",
   "execution_count": 18,
   "metadata": {
    "collapsed": false
   },
   "outputs": [
    {
     "data": {
      "application/vnd.plotly.v1+json": {
       "config": {
        "linkText": "Export to plot.ly",
        "plotlyServerURL": "https://plot.ly",
        "showLink": true
       },
       "data": [
        {
         "marker": {
          "color": "rgba(255, 153, 51, 0.6)",
          "line": {
           "color": "rgba(255, 153, 51, 1.0)",
           "width": 1
          }
         },
         "name": "Values",
         "orientation": "v",
         "text": "",
         "type": "bar",
         "x": [
          "A",
          "B",
          "C"
         ],
         "y": [
          32,
          43,
          50
         ]
        }
       ],
       "layout": {
        "legend": {
         "bgcolor": "#F5F6F9",
         "font": {
          "color": "#4D5663"
         }
        },
        "paper_bgcolor": "#F5F6F9",
        "plot_bgcolor": "#F5F6F9",
        "template": {
         "data": {
          "bar": [
           {
            "error_x": {
             "color": "#2a3f5f"
            },
            "error_y": {
             "color": "#2a3f5f"
            },
            "marker": {
             "line": {
              "color": "#E5ECF6",
              "width": 0.5
             },
             "pattern": {
              "fillmode": "overlay",
              "size": 10,
              "solidity": 0.2
             }
            },
            "type": "bar"
           }
          ],
          "barpolar": [
           {
            "marker": {
             "line": {
              "color": "#E5ECF6",
              "width": 0.5
             },
             "pattern": {
              "fillmode": "overlay",
              "size": 10,
              "solidity": 0.2
             }
            },
            "type": "barpolar"
           }
          ],
          "carpet": [
           {
            "aaxis": {
             "endlinecolor": "#2a3f5f",
             "gridcolor": "white",
             "linecolor": "white",
             "minorgridcolor": "white",
             "startlinecolor": "#2a3f5f"
            },
            "baxis": {
             "endlinecolor": "#2a3f5f",
             "gridcolor": "white",
             "linecolor": "white",
             "minorgridcolor": "white",
             "startlinecolor": "#2a3f5f"
            },
            "type": "carpet"
           }
          ],
          "choropleth": [
           {
            "colorbar": {
             "outlinewidth": 0,
             "ticks": ""
            },
            "type": "choropleth"
           }
          ],
          "contour": [
           {
            "colorbar": {
             "outlinewidth": 0,
             "ticks": ""
            },
            "colorscale": [
             [
              0,
              "#0d0887"
             ],
             [
              0.1111111111111111,
              "#46039f"
             ],
             [
              0.2222222222222222,
              "#7201a8"
             ],
             [
              0.3333333333333333,
              "#9c179e"
             ],
             [
              0.4444444444444444,
              "#bd3786"
             ],
             [
              0.5555555555555556,
              "#d8576b"
             ],
             [
              0.6666666666666666,
              "#ed7953"
             ],
             [
              0.7777777777777778,
              "#fb9f3a"
             ],
             [
              0.8888888888888888,
              "#fdca26"
             ],
             [
              1,
              "#f0f921"
             ]
            ],
            "type": "contour"
           }
          ],
          "contourcarpet": [
           {
            "colorbar": {
             "outlinewidth": 0,
             "ticks": ""
            },
            "type": "contourcarpet"
           }
          ],
          "heatmap": [
           {
            "colorbar": {
             "outlinewidth": 0,
             "ticks": ""
            },
            "colorscale": [
             [
              0,
              "#0d0887"
             ],
             [
              0.1111111111111111,
              "#46039f"
             ],
             [
              0.2222222222222222,
              "#7201a8"
             ],
             [
              0.3333333333333333,
              "#9c179e"
             ],
             [
              0.4444444444444444,
              "#bd3786"
             ],
             [
              0.5555555555555556,
              "#d8576b"
             ],
             [
              0.6666666666666666,
              "#ed7953"
             ],
             [
              0.7777777777777778,
              "#fb9f3a"
             ],
             [
              0.8888888888888888,
              "#fdca26"
             ],
             [
              1,
              "#f0f921"
             ]
            ],
            "type": "heatmap"
           }
          ],
          "heatmapgl": [
           {
            "colorbar": {
             "outlinewidth": 0,
             "ticks": ""
            },
            "colorscale": [
             [
              0,
              "#0d0887"
             ],
             [
              0.1111111111111111,
              "#46039f"
             ],
             [
              0.2222222222222222,
              "#7201a8"
             ],
             [
              0.3333333333333333,
              "#9c179e"
             ],
             [
              0.4444444444444444,
              "#bd3786"
             ],
             [
              0.5555555555555556,
              "#d8576b"
             ],
             [
              0.6666666666666666,
              "#ed7953"
             ],
             [
              0.7777777777777778,
              "#fb9f3a"
             ],
             [
              0.8888888888888888,
              "#fdca26"
             ],
             [
              1,
              "#f0f921"
             ]
            ],
            "type": "heatmapgl"
           }
          ],
          "histogram": [
           {
            "marker": {
             "pattern": {
              "fillmode": "overlay",
              "size": 10,
              "solidity": 0.2
             }
            },
            "type": "histogram"
           }
          ],
          "histogram2d": [
           {
            "colorbar": {
             "outlinewidth": 0,
             "ticks": ""
            },
            "colorscale": [
             [
              0,
              "#0d0887"
             ],
             [
              0.1111111111111111,
              "#46039f"
             ],
             [
              0.2222222222222222,
              "#7201a8"
             ],
             [
              0.3333333333333333,
              "#9c179e"
             ],
             [
              0.4444444444444444,
              "#bd3786"
             ],
             [
              0.5555555555555556,
              "#d8576b"
             ],
             [
              0.6666666666666666,
              "#ed7953"
             ],
             [
              0.7777777777777778,
              "#fb9f3a"
             ],
             [
              0.8888888888888888,
              "#fdca26"
             ],
             [
              1,
              "#f0f921"
             ]
            ],
            "type": "histogram2d"
           }
          ],
          "histogram2dcontour": [
           {
            "colorbar": {
             "outlinewidth": 0,
             "ticks": ""
            },
            "colorscale": [
             [
              0,
              "#0d0887"
             ],
             [
              0.1111111111111111,
              "#46039f"
             ],
             [
              0.2222222222222222,
              "#7201a8"
             ],
             [
              0.3333333333333333,
              "#9c179e"
             ],
             [
              0.4444444444444444,
              "#bd3786"
             ],
             [
              0.5555555555555556,
              "#d8576b"
             ],
             [
              0.6666666666666666,
              "#ed7953"
             ],
             [
              0.7777777777777778,
              "#fb9f3a"
             ],
             [
              0.8888888888888888,
              "#fdca26"
             ],
             [
              1,
              "#f0f921"
             ]
            ],
            "type": "histogram2dcontour"
           }
          ],
          "mesh3d": [
           {
            "colorbar": {
             "outlinewidth": 0,
             "ticks": ""
            },
            "type": "mesh3d"
           }
          ],
          "parcoords": [
           {
            "line": {
             "colorbar": {
              "outlinewidth": 0,
              "ticks": ""
             }
            },
            "type": "parcoords"
           }
          ],
          "pie": [
           {
            "automargin": true,
            "type": "pie"
           }
          ],
          "scatter": [
           {
            "fillpattern": {
             "fillmode": "overlay",
             "size": 10,
             "solidity": 0.2
            },
            "type": "scatter"
           }
          ],
          "scatter3d": [
           {
            "line": {
             "colorbar": {
              "outlinewidth": 0,
              "ticks": ""
             }
            },
            "marker": {
             "colorbar": {
              "outlinewidth": 0,
              "ticks": ""
             }
            },
            "type": "scatter3d"
           }
          ],
          "scattercarpet": [
           {
            "marker": {
             "colorbar": {
              "outlinewidth": 0,
              "ticks": ""
             }
            },
            "type": "scattercarpet"
           }
          ],
          "scattergeo": [
           {
            "marker": {
             "colorbar": {
              "outlinewidth": 0,
              "ticks": ""
             }
            },
            "type": "scattergeo"
           }
          ],
          "scattergl": [
           {
            "marker": {
             "colorbar": {
              "outlinewidth": 0,
              "ticks": ""
             }
            },
            "type": "scattergl"
           }
          ],
          "scattermapbox": [
           {
            "marker": {
             "colorbar": {
              "outlinewidth": 0,
              "ticks": ""
             }
            },
            "type": "scattermapbox"
           }
          ],
          "scatterpolar": [
           {
            "marker": {
             "colorbar": {
              "outlinewidth": 0,
              "ticks": ""
             }
            },
            "type": "scatterpolar"
           }
          ],
          "scatterpolargl": [
           {
            "marker": {
             "colorbar": {
              "outlinewidth": 0,
              "ticks": ""
             }
            },
            "type": "scatterpolargl"
           }
          ],
          "scatterternary": [
           {
            "marker": {
             "colorbar": {
              "outlinewidth": 0,
              "ticks": ""
             }
            },
            "type": "scatterternary"
           }
          ],
          "surface": [
           {
            "colorbar": {
             "outlinewidth": 0,
             "ticks": ""
            },
            "colorscale": [
             [
              0,
              "#0d0887"
             ],
             [
              0.1111111111111111,
              "#46039f"
             ],
             [
              0.2222222222222222,
              "#7201a8"
             ],
             [
              0.3333333333333333,
              "#9c179e"
             ],
             [
              0.4444444444444444,
              "#bd3786"
             ],
             [
              0.5555555555555556,
              "#d8576b"
             ],
             [
              0.6666666666666666,
              "#ed7953"
             ],
             [
              0.7777777777777778,
              "#fb9f3a"
             ],
             [
              0.8888888888888888,
              "#fdca26"
             ],
             [
              1,
              "#f0f921"
             ]
            ],
            "type": "surface"
           }
          ],
          "table": [
           {
            "cells": {
             "fill": {
              "color": "#EBF0F8"
             },
             "line": {
              "color": "white"
             }
            },
            "header": {
             "fill": {
              "color": "#C8D4E3"
             },
             "line": {
              "color": "white"
             }
            },
            "type": "table"
           }
          ]
         },
         "layout": {
          "annotationdefaults": {
           "arrowcolor": "#2a3f5f",
           "arrowhead": 0,
           "arrowwidth": 1
          },
          "autotypenumbers": "strict",
          "coloraxis": {
           "colorbar": {
            "outlinewidth": 0,
            "ticks": ""
           }
          },
          "colorscale": {
           "diverging": [
            [
             0,
             "#8e0152"
            ],
            [
             0.1,
             "#c51b7d"
            ],
            [
             0.2,
             "#de77ae"
            ],
            [
             0.3,
             "#f1b6da"
            ],
            [
             0.4,
             "#fde0ef"
            ],
            [
             0.5,
             "#f7f7f7"
            ],
            [
             0.6,
             "#e6f5d0"
            ],
            [
             0.7,
             "#b8e186"
            ],
            [
             0.8,
             "#7fbc41"
            ],
            [
             0.9,
             "#4d9221"
            ],
            [
             1,
             "#276419"
            ]
           ],
           "sequential": [
            [
             0,
             "#0d0887"
            ],
            [
             0.1111111111111111,
             "#46039f"
            ],
            [
             0.2222222222222222,
             "#7201a8"
            ],
            [
             0.3333333333333333,
             "#9c179e"
            ],
            [
             0.4444444444444444,
             "#bd3786"
            ],
            [
             0.5555555555555556,
             "#d8576b"
            ],
            [
             0.6666666666666666,
             "#ed7953"
            ],
            [
             0.7777777777777778,
             "#fb9f3a"
            ],
            [
             0.8888888888888888,
             "#fdca26"
            ],
            [
             1,
             "#f0f921"
            ]
           ],
           "sequentialminus": [
            [
             0,
             "#0d0887"
            ],
            [
             0.1111111111111111,
             "#46039f"
            ],
            [
             0.2222222222222222,
             "#7201a8"
            ],
            [
             0.3333333333333333,
             "#9c179e"
            ],
            [
             0.4444444444444444,
             "#bd3786"
            ],
            [
             0.5555555555555556,
             "#d8576b"
            ],
            [
             0.6666666666666666,
             "#ed7953"
            ],
            [
             0.7777777777777778,
             "#fb9f3a"
            ],
            [
             0.8888888888888888,
             "#fdca26"
            ],
            [
             1,
             "#f0f921"
            ]
           ]
          },
          "colorway": [
           "#636efa",
           "#EF553B",
           "#00cc96",
           "#ab63fa",
           "#FFA15A",
           "#19d3f3",
           "#FF6692",
           "#B6E880",
           "#FF97FF",
           "#FECB52"
          ],
          "font": {
           "color": "#2a3f5f"
          },
          "geo": {
           "bgcolor": "white",
           "lakecolor": "white",
           "landcolor": "#E5ECF6",
           "showlakes": true,
           "showland": true,
           "subunitcolor": "white"
          },
          "hoverlabel": {
           "align": "left"
          },
          "hovermode": "closest",
          "mapbox": {
           "style": "light"
          },
          "paper_bgcolor": "white",
          "plot_bgcolor": "#E5ECF6",
          "polar": {
           "angularaxis": {
            "gridcolor": "white",
            "linecolor": "white",
            "ticks": ""
           },
           "bgcolor": "#E5ECF6",
           "radialaxis": {
            "gridcolor": "white",
            "linecolor": "white",
            "ticks": ""
           }
          },
          "scene": {
           "xaxis": {
            "backgroundcolor": "#E5ECF6",
            "gridcolor": "white",
            "gridwidth": 2,
            "linecolor": "white",
            "showbackground": true,
            "ticks": "",
            "zerolinecolor": "white"
           },
           "yaxis": {
            "backgroundcolor": "#E5ECF6",
            "gridcolor": "white",
            "gridwidth": 2,
            "linecolor": "white",
            "showbackground": true,
            "ticks": "",
            "zerolinecolor": "white"
           },
           "zaxis": {
            "backgroundcolor": "#E5ECF6",
            "gridcolor": "white",
            "gridwidth": 2,
            "linecolor": "white",
            "showbackground": true,
            "ticks": "",
            "zerolinecolor": "white"
           }
          },
          "shapedefaults": {
           "line": {
            "color": "#2a3f5f"
           }
          },
          "ternary": {
           "aaxis": {
            "gridcolor": "white",
            "linecolor": "white",
            "ticks": ""
           },
           "baxis": {
            "gridcolor": "white",
            "linecolor": "white",
            "ticks": ""
           },
           "bgcolor": "#E5ECF6",
           "caxis": {
            "gridcolor": "white",
            "linecolor": "white",
            "ticks": ""
           }
          },
          "title": {
           "x": 0.05
          },
          "xaxis": {
           "automargin": true,
           "gridcolor": "white",
           "linecolor": "white",
           "ticks": "",
           "title": {
            "standoff": 15
           },
           "zerolinecolor": "white",
           "zerolinewidth": 2
          },
          "yaxis": {
           "automargin": true,
           "gridcolor": "white",
           "linecolor": "white",
           "ticks": "",
           "title": {
            "standoff": 15
           },
           "zerolinecolor": "white",
           "zerolinewidth": 2
          }
         }
        },
        "title": {
         "font": {
          "color": "#4D5663"
         }
        },
        "xaxis": {
         "gridcolor": "#E1E5ED",
         "showgrid": true,
         "tickfont": {
          "color": "#4D5663"
         },
         "title": {
          "font": {
           "color": "#4D5663"
          },
          "text": ""
         },
         "zerolinecolor": "#E1E5ED"
        },
        "yaxis": {
         "gridcolor": "#E1E5ED",
         "showgrid": true,
         "tickfont": {
          "color": "#4D5663"
         },
         "title": {
          "font": {
           "color": "#4D5663"
          },
          "text": ""
         },
         "zerolinecolor": "#E1E5ED"
        }
       }
      },
      "text/html": [
       "<div>                            <div id=\"85b4de71-0f95-4c6d-8940-4719617da29d\" class=\"plotly-graph-div\" style=\"height:525px; width:100%;\"></div>            <script type=\"text/javascript\">                require([\"plotly\"], function(Plotly) {                    window.PLOTLYENV=window.PLOTLYENV || {};\n",
       "                    window.PLOTLYENV.BASE_URL='https://plot.ly';                                    if (document.getElementById(\"85b4de71-0f95-4c6d-8940-4719617da29d\")) {                    Plotly.newPlot(                        \"85b4de71-0f95-4c6d-8940-4719617da29d\",                        [{\"marker\":{\"color\":\"rgba(255, 153, 51, 0.6)\",\"line\":{\"color\":\"rgba(255, 153, 51, 1.0)\",\"width\":1}},\"name\":\"Values\",\"orientation\":\"v\",\"text\":\"\",\"x\":[\"A\",\"B\",\"C\"],\"y\":[32,43,50],\"type\":\"bar\"}],                        {\"legend\":{\"bgcolor\":\"#F5F6F9\",\"font\":{\"color\":\"#4D5663\"}},\"paper_bgcolor\":\"#F5F6F9\",\"plot_bgcolor\":\"#F5F6F9\",\"template\":{\"data\":{\"barpolar\":[{\"marker\":{\"line\":{\"color\":\"#E5ECF6\",\"width\":0.5},\"pattern\":{\"fillmode\":\"overlay\",\"size\":10,\"solidity\":0.2}},\"type\":\"barpolar\"}],\"bar\":[{\"error_x\":{\"color\":\"#2a3f5f\"},\"error_y\":{\"color\":\"#2a3f5f\"},\"marker\":{\"line\":{\"color\":\"#E5ECF6\",\"width\":0.5},\"pattern\":{\"fillmode\":\"overlay\",\"size\":10,\"solidity\":0.2}},\"type\":\"bar\"}],\"carpet\":[{\"aaxis\":{\"endlinecolor\":\"#2a3f5f\",\"gridcolor\":\"white\",\"linecolor\":\"white\",\"minorgridcolor\":\"white\",\"startlinecolor\":\"#2a3f5f\"},\"baxis\":{\"endlinecolor\":\"#2a3f5f\",\"gridcolor\":\"white\",\"linecolor\":\"white\",\"minorgridcolor\":\"white\",\"startlinecolor\":\"#2a3f5f\"},\"type\":\"carpet\"}],\"choropleth\":[{\"colorbar\":{\"outlinewidth\":0,\"ticks\":\"\"},\"type\":\"choropleth\"}],\"contourcarpet\":[{\"colorbar\":{\"outlinewidth\":0,\"ticks\":\"\"},\"type\":\"contourcarpet\"}],\"contour\":[{\"colorbar\":{\"outlinewidth\":0,\"ticks\":\"\"},\"colorscale\":[[0.0,\"#0d0887\"],[0.1111111111111111,\"#46039f\"],[0.2222222222222222,\"#7201a8\"],[0.3333333333333333,\"#9c179e\"],[0.4444444444444444,\"#bd3786\"],[0.5555555555555556,\"#d8576b\"],[0.6666666666666666,\"#ed7953\"],[0.7777777777777778,\"#fb9f3a\"],[0.8888888888888888,\"#fdca26\"],[1.0,\"#f0f921\"]],\"type\":\"contour\"}],\"heatmapgl\":[{\"colorbar\":{\"outlinewidth\":0,\"ticks\":\"\"},\"colorscale\":[[0.0,\"#0d0887\"],[0.1111111111111111,\"#46039f\"],[0.2222222222222222,\"#7201a8\"],[0.3333333333333333,\"#9c179e\"],[0.4444444444444444,\"#bd3786\"],[0.5555555555555556,\"#d8576b\"],[0.6666666666666666,\"#ed7953\"],[0.7777777777777778,\"#fb9f3a\"],[0.8888888888888888,\"#fdca26\"],[1.0,\"#f0f921\"]],\"type\":\"heatmapgl\"}],\"heatmap\":[{\"colorbar\":{\"outlinewidth\":0,\"ticks\":\"\"},\"colorscale\":[[0.0,\"#0d0887\"],[0.1111111111111111,\"#46039f\"],[0.2222222222222222,\"#7201a8\"],[0.3333333333333333,\"#9c179e\"],[0.4444444444444444,\"#bd3786\"],[0.5555555555555556,\"#d8576b\"],[0.6666666666666666,\"#ed7953\"],[0.7777777777777778,\"#fb9f3a\"],[0.8888888888888888,\"#fdca26\"],[1.0,\"#f0f921\"]],\"type\":\"heatmap\"}],\"histogram2dcontour\":[{\"colorbar\":{\"outlinewidth\":0,\"ticks\":\"\"},\"colorscale\":[[0.0,\"#0d0887\"],[0.1111111111111111,\"#46039f\"],[0.2222222222222222,\"#7201a8\"],[0.3333333333333333,\"#9c179e\"],[0.4444444444444444,\"#bd3786\"],[0.5555555555555556,\"#d8576b\"],[0.6666666666666666,\"#ed7953\"],[0.7777777777777778,\"#fb9f3a\"],[0.8888888888888888,\"#fdca26\"],[1.0,\"#f0f921\"]],\"type\":\"histogram2dcontour\"}],\"histogram2d\":[{\"colorbar\":{\"outlinewidth\":0,\"ticks\":\"\"},\"colorscale\":[[0.0,\"#0d0887\"],[0.1111111111111111,\"#46039f\"],[0.2222222222222222,\"#7201a8\"],[0.3333333333333333,\"#9c179e\"],[0.4444444444444444,\"#bd3786\"],[0.5555555555555556,\"#d8576b\"],[0.6666666666666666,\"#ed7953\"],[0.7777777777777778,\"#fb9f3a\"],[0.8888888888888888,\"#fdca26\"],[1.0,\"#f0f921\"]],\"type\":\"histogram2d\"}],\"histogram\":[{\"marker\":{\"pattern\":{\"fillmode\":\"overlay\",\"size\":10,\"solidity\":0.2}},\"type\":\"histogram\"}],\"mesh3d\":[{\"colorbar\":{\"outlinewidth\":0,\"ticks\":\"\"},\"type\":\"mesh3d\"}],\"parcoords\":[{\"line\":{\"colorbar\":{\"outlinewidth\":0,\"ticks\":\"\"}},\"type\":\"parcoords\"}],\"pie\":[{\"automargin\":true,\"type\":\"pie\"}],\"scatter3d\":[{\"line\":{\"colorbar\":{\"outlinewidth\":0,\"ticks\":\"\"}},\"marker\":{\"colorbar\":{\"outlinewidth\":0,\"ticks\":\"\"}},\"type\":\"scatter3d\"}],\"scattercarpet\":[{\"marker\":{\"colorbar\":{\"outlinewidth\":0,\"ticks\":\"\"}},\"type\":\"scattercarpet\"}],\"scattergeo\":[{\"marker\":{\"colorbar\":{\"outlinewidth\":0,\"ticks\":\"\"}},\"type\":\"scattergeo\"}],\"scattergl\":[{\"marker\":{\"colorbar\":{\"outlinewidth\":0,\"ticks\":\"\"}},\"type\":\"scattergl\"}],\"scattermapbox\":[{\"marker\":{\"colorbar\":{\"outlinewidth\":0,\"ticks\":\"\"}},\"type\":\"scattermapbox\"}],\"scatterpolargl\":[{\"marker\":{\"colorbar\":{\"outlinewidth\":0,\"ticks\":\"\"}},\"type\":\"scatterpolargl\"}],\"scatterpolar\":[{\"marker\":{\"colorbar\":{\"outlinewidth\":0,\"ticks\":\"\"}},\"type\":\"scatterpolar\"}],\"scatter\":[{\"fillpattern\":{\"fillmode\":\"overlay\",\"size\":10,\"solidity\":0.2},\"type\":\"scatter\"}],\"scatterternary\":[{\"marker\":{\"colorbar\":{\"outlinewidth\":0,\"ticks\":\"\"}},\"type\":\"scatterternary\"}],\"surface\":[{\"colorbar\":{\"outlinewidth\":0,\"ticks\":\"\"},\"colorscale\":[[0.0,\"#0d0887\"],[0.1111111111111111,\"#46039f\"],[0.2222222222222222,\"#7201a8\"],[0.3333333333333333,\"#9c179e\"],[0.4444444444444444,\"#bd3786\"],[0.5555555555555556,\"#d8576b\"],[0.6666666666666666,\"#ed7953\"],[0.7777777777777778,\"#fb9f3a\"],[0.8888888888888888,\"#fdca26\"],[1.0,\"#f0f921\"]],\"type\":\"surface\"}],\"table\":[{\"cells\":{\"fill\":{\"color\":\"#EBF0F8\"},\"line\":{\"color\":\"white\"}},\"header\":{\"fill\":{\"color\":\"#C8D4E3\"},\"line\":{\"color\":\"white\"}},\"type\":\"table\"}]},\"layout\":{\"annotationdefaults\":{\"arrowcolor\":\"#2a3f5f\",\"arrowhead\":0,\"arrowwidth\":1},\"autotypenumbers\":\"strict\",\"coloraxis\":{\"colorbar\":{\"outlinewidth\":0,\"ticks\":\"\"}},\"colorscale\":{\"diverging\":[[0,\"#8e0152\"],[0.1,\"#c51b7d\"],[0.2,\"#de77ae\"],[0.3,\"#f1b6da\"],[0.4,\"#fde0ef\"],[0.5,\"#f7f7f7\"],[0.6,\"#e6f5d0\"],[0.7,\"#b8e186\"],[0.8,\"#7fbc41\"],[0.9,\"#4d9221\"],[1,\"#276419\"]],\"sequential\":[[0.0,\"#0d0887\"],[0.1111111111111111,\"#46039f\"],[0.2222222222222222,\"#7201a8\"],[0.3333333333333333,\"#9c179e\"],[0.4444444444444444,\"#bd3786\"],[0.5555555555555556,\"#d8576b\"],[0.6666666666666666,\"#ed7953\"],[0.7777777777777778,\"#fb9f3a\"],[0.8888888888888888,\"#fdca26\"],[1.0,\"#f0f921\"]],\"sequentialminus\":[[0.0,\"#0d0887\"],[0.1111111111111111,\"#46039f\"],[0.2222222222222222,\"#7201a8\"],[0.3333333333333333,\"#9c179e\"],[0.4444444444444444,\"#bd3786\"],[0.5555555555555556,\"#d8576b\"],[0.6666666666666666,\"#ed7953\"],[0.7777777777777778,\"#fb9f3a\"],[0.8888888888888888,\"#fdca26\"],[1.0,\"#f0f921\"]]},\"colorway\":[\"#636efa\",\"#EF553B\",\"#00cc96\",\"#ab63fa\",\"#FFA15A\",\"#19d3f3\",\"#FF6692\",\"#B6E880\",\"#FF97FF\",\"#FECB52\"],\"font\":{\"color\":\"#2a3f5f\"},\"geo\":{\"bgcolor\":\"white\",\"lakecolor\":\"white\",\"landcolor\":\"#E5ECF6\",\"showlakes\":true,\"showland\":true,\"subunitcolor\":\"white\"},\"hoverlabel\":{\"align\":\"left\"},\"hovermode\":\"closest\",\"mapbox\":{\"style\":\"light\"},\"paper_bgcolor\":\"white\",\"plot_bgcolor\":\"#E5ECF6\",\"polar\":{\"angularaxis\":{\"gridcolor\":\"white\",\"linecolor\":\"white\",\"ticks\":\"\"},\"bgcolor\":\"#E5ECF6\",\"radialaxis\":{\"gridcolor\":\"white\",\"linecolor\":\"white\",\"ticks\":\"\"}},\"scene\":{\"xaxis\":{\"backgroundcolor\":\"#E5ECF6\",\"gridcolor\":\"white\",\"gridwidth\":2,\"linecolor\":\"white\",\"showbackground\":true,\"ticks\":\"\",\"zerolinecolor\":\"white\"},\"yaxis\":{\"backgroundcolor\":\"#E5ECF6\",\"gridcolor\":\"white\",\"gridwidth\":2,\"linecolor\":\"white\",\"showbackground\":true,\"ticks\":\"\",\"zerolinecolor\":\"white\"},\"zaxis\":{\"backgroundcolor\":\"#E5ECF6\",\"gridcolor\":\"white\",\"gridwidth\":2,\"linecolor\":\"white\",\"showbackground\":true,\"ticks\":\"\",\"zerolinecolor\":\"white\"}},\"shapedefaults\":{\"line\":{\"color\":\"#2a3f5f\"}},\"ternary\":{\"aaxis\":{\"gridcolor\":\"white\",\"linecolor\":\"white\",\"ticks\":\"\"},\"baxis\":{\"gridcolor\":\"white\",\"linecolor\":\"white\",\"ticks\":\"\"},\"bgcolor\":\"#E5ECF6\",\"caxis\":{\"gridcolor\":\"white\",\"linecolor\":\"white\",\"ticks\":\"\"}},\"title\":{\"x\":0.05},\"xaxis\":{\"automargin\":true,\"gridcolor\":\"white\",\"linecolor\":\"white\",\"ticks\":\"\",\"title\":{\"standoff\":15},\"zerolinecolor\":\"white\",\"zerolinewidth\":2},\"yaxis\":{\"automargin\":true,\"gridcolor\":\"white\",\"linecolor\":\"white\",\"ticks\":\"\",\"title\":{\"standoff\":15},\"zerolinecolor\":\"white\",\"zerolinewidth\":2}}},\"title\":{\"font\":{\"color\":\"#4D5663\"}},\"xaxis\":{\"gridcolor\":\"#E1E5ED\",\"showgrid\":true,\"tickfont\":{\"color\":\"#4D5663\"},\"title\":{\"font\":{\"color\":\"#4D5663\"},\"text\":\"\"},\"zerolinecolor\":\"#E1E5ED\"},\"yaxis\":{\"gridcolor\":\"#E1E5ED\",\"showgrid\":true,\"tickfont\":{\"color\":\"#4D5663\"},\"title\":{\"font\":{\"color\":\"#4D5663\"},\"text\":\"\"},\"zerolinecolor\":\"#E1E5ED\"}},                        {\"showLink\": true, \"linkText\": \"Export to plot.ly\", \"plotlyServerURL\": \"https://plot.ly\", \"responsive\": true}                    ).then(function(){\n",
       "                            \n",
       "var gd = document.getElementById('85b4de71-0f95-4c6d-8940-4719617da29d');\n",
       "var x = new MutationObserver(function (mutations, observer) {{\n",
       "        var display = window.getComputedStyle(gd).display;\n",
       "        if (!display || display === 'none') {{\n",
       "            console.log([gd, 'removed!']);\n",
       "            Plotly.purge(gd);\n",
       "            observer.disconnect();\n",
       "        }}\n",
       "}});\n",
       "\n",
       "// Listen for the removal of the full notebook cells\n",
       "var notebookContainer = gd.closest('#notebook-container');\n",
       "if (notebookContainer) {{\n",
       "    x.observe(notebookContainer, {childList: true});\n",
       "}}\n",
       "\n",
       "// Listen for the clearing of the current output cell\n",
       "var outputEl = gd.closest('.output');\n",
       "if (outputEl) {{\n",
       "    x.observe(outputEl, {childList: true});\n",
       "}}\n",
       "\n",
       "                        })                };                });            </script>        </div>"
      ]
     },
     "metadata": {},
     "output_type": "display_data"
    }
   ],
   "source": [
    "df2.iplot(kind='bar',x='Category',y='Values')"
   ]
  },
  {
   "cell_type": "code",
   "execution_count": 19,
   "metadata": {
    "collapsed": false
   },
   "outputs": [
    {
     "data": {
      "application/vnd.plotly.v1+json": {
       "config": {
        "linkText": "Export to plot.ly",
        "plotlyServerURL": "https://plot.ly",
        "showLink": true
       },
       "data": [
        {
         "marker": {
          "color": "rgba(255, 153, 51, 0.6)",
          "line": {
           "color": "rgba(255, 153, 51, 1.0)",
           "width": 1
          }
         },
         "name": "None",
         "orientation": "v",
         "text": "",
         "type": "bar",
         "x": [
          "A",
          "B",
          "C",
          "D"
         ],
         "y": [
          100,
          100,
          100,
          100
         ]
        }
       ],
       "layout": {
        "legend": {
         "bgcolor": "#F5F6F9",
         "font": {
          "color": "#4D5663"
         }
        },
        "paper_bgcolor": "#F5F6F9",
        "plot_bgcolor": "#F5F6F9",
        "template": {
         "data": {
          "bar": [
           {
            "error_x": {
             "color": "#2a3f5f"
            },
            "error_y": {
             "color": "#2a3f5f"
            },
            "marker": {
             "line": {
              "color": "#E5ECF6",
              "width": 0.5
             },
             "pattern": {
              "fillmode": "overlay",
              "size": 10,
              "solidity": 0.2
             }
            },
            "type": "bar"
           }
          ],
          "barpolar": [
           {
            "marker": {
             "line": {
              "color": "#E5ECF6",
              "width": 0.5
             },
             "pattern": {
              "fillmode": "overlay",
              "size": 10,
              "solidity": 0.2
             }
            },
            "type": "barpolar"
           }
          ],
          "carpet": [
           {
            "aaxis": {
             "endlinecolor": "#2a3f5f",
             "gridcolor": "white",
             "linecolor": "white",
             "minorgridcolor": "white",
             "startlinecolor": "#2a3f5f"
            },
            "baxis": {
             "endlinecolor": "#2a3f5f",
             "gridcolor": "white",
             "linecolor": "white",
             "minorgridcolor": "white",
             "startlinecolor": "#2a3f5f"
            },
            "type": "carpet"
           }
          ],
          "choropleth": [
           {
            "colorbar": {
             "outlinewidth": 0,
             "ticks": ""
            },
            "type": "choropleth"
           }
          ],
          "contour": [
           {
            "colorbar": {
             "outlinewidth": 0,
             "ticks": ""
            },
            "colorscale": [
             [
              0,
              "#0d0887"
             ],
             [
              0.1111111111111111,
              "#46039f"
             ],
             [
              0.2222222222222222,
              "#7201a8"
             ],
             [
              0.3333333333333333,
              "#9c179e"
             ],
             [
              0.4444444444444444,
              "#bd3786"
             ],
             [
              0.5555555555555556,
              "#d8576b"
             ],
             [
              0.6666666666666666,
              "#ed7953"
             ],
             [
              0.7777777777777778,
              "#fb9f3a"
             ],
             [
              0.8888888888888888,
              "#fdca26"
             ],
             [
              1,
              "#f0f921"
             ]
            ],
            "type": "contour"
           }
          ],
          "contourcarpet": [
           {
            "colorbar": {
             "outlinewidth": 0,
             "ticks": ""
            },
            "type": "contourcarpet"
           }
          ],
          "heatmap": [
           {
            "colorbar": {
             "outlinewidth": 0,
             "ticks": ""
            },
            "colorscale": [
             [
              0,
              "#0d0887"
             ],
             [
              0.1111111111111111,
              "#46039f"
             ],
             [
              0.2222222222222222,
              "#7201a8"
             ],
             [
              0.3333333333333333,
              "#9c179e"
             ],
             [
              0.4444444444444444,
              "#bd3786"
             ],
             [
              0.5555555555555556,
              "#d8576b"
             ],
             [
              0.6666666666666666,
              "#ed7953"
             ],
             [
              0.7777777777777778,
              "#fb9f3a"
             ],
             [
              0.8888888888888888,
              "#fdca26"
             ],
             [
              1,
              "#f0f921"
             ]
            ],
            "type": "heatmap"
           }
          ],
          "heatmapgl": [
           {
            "colorbar": {
             "outlinewidth": 0,
             "ticks": ""
            },
            "colorscale": [
             [
              0,
              "#0d0887"
             ],
             [
              0.1111111111111111,
              "#46039f"
             ],
             [
              0.2222222222222222,
              "#7201a8"
             ],
             [
              0.3333333333333333,
              "#9c179e"
             ],
             [
              0.4444444444444444,
              "#bd3786"
             ],
             [
              0.5555555555555556,
              "#d8576b"
             ],
             [
              0.6666666666666666,
              "#ed7953"
             ],
             [
              0.7777777777777778,
              "#fb9f3a"
             ],
             [
              0.8888888888888888,
              "#fdca26"
             ],
             [
              1,
              "#f0f921"
             ]
            ],
            "type": "heatmapgl"
           }
          ],
          "histogram": [
           {
            "marker": {
             "pattern": {
              "fillmode": "overlay",
              "size": 10,
              "solidity": 0.2
             }
            },
            "type": "histogram"
           }
          ],
          "histogram2d": [
           {
            "colorbar": {
             "outlinewidth": 0,
             "ticks": ""
            },
            "colorscale": [
             [
              0,
              "#0d0887"
             ],
             [
              0.1111111111111111,
              "#46039f"
             ],
             [
              0.2222222222222222,
              "#7201a8"
             ],
             [
              0.3333333333333333,
              "#9c179e"
             ],
             [
              0.4444444444444444,
              "#bd3786"
             ],
             [
              0.5555555555555556,
              "#d8576b"
             ],
             [
              0.6666666666666666,
              "#ed7953"
             ],
             [
              0.7777777777777778,
              "#fb9f3a"
             ],
             [
              0.8888888888888888,
              "#fdca26"
             ],
             [
              1,
              "#f0f921"
             ]
            ],
            "type": "histogram2d"
           }
          ],
          "histogram2dcontour": [
           {
            "colorbar": {
             "outlinewidth": 0,
             "ticks": ""
            },
            "colorscale": [
             [
              0,
              "#0d0887"
             ],
             [
              0.1111111111111111,
              "#46039f"
             ],
             [
              0.2222222222222222,
              "#7201a8"
             ],
             [
              0.3333333333333333,
              "#9c179e"
             ],
             [
              0.4444444444444444,
              "#bd3786"
             ],
             [
              0.5555555555555556,
              "#d8576b"
             ],
             [
              0.6666666666666666,
              "#ed7953"
             ],
             [
              0.7777777777777778,
              "#fb9f3a"
             ],
             [
              0.8888888888888888,
              "#fdca26"
             ],
             [
              1,
              "#f0f921"
             ]
            ],
            "type": "histogram2dcontour"
           }
          ],
          "mesh3d": [
           {
            "colorbar": {
             "outlinewidth": 0,
             "ticks": ""
            },
            "type": "mesh3d"
           }
          ],
          "parcoords": [
           {
            "line": {
             "colorbar": {
              "outlinewidth": 0,
              "ticks": ""
             }
            },
            "type": "parcoords"
           }
          ],
          "pie": [
           {
            "automargin": true,
            "type": "pie"
           }
          ],
          "scatter": [
           {
            "fillpattern": {
             "fillmode": "overlay",
             "size": 10,
             "solidity": 0.2
            },
            "type": "scatter"
           }
          ],
          "scatter3d": [
           {
            "line": {
             "colorbar": {
              "outlinewidth": 0,
              "ticks": ""
             }
            },
            "marker": {
             "colorbar": {
              "outlinewidth": 0,
              "ticks": ""
             }
            },
            "type": "scatter3d"
           }
          ],
          "scattercarpet": [
           {
            "marker": {
             "colorbar": {
              "outlinewidth": 0,
              "ticks": ""
             }
            },
            "type": "scattercarpet"
           }
          ],
          "scattergeo": [
           {
            "marker": {
             "colorbar": {
              "outlinewidth": 0,
              "ticks": ""
             }
            },
            "type": "scattergeo"
           }
          ],
          "scattergl": [
           {
            "marker": {
             "colorbar": {
              "outlinewidth": 0,
              "ticks": ""
             }
            },
            "type": "scattergl"
           }
          ],
          "scattermapbox": [
           {
            "marker": {
             "colorbar": {
              "outlinewidth": 0,
              "ticks": ""
             }
            },
            "type": "scattermapbox"
           }
          ],
          "scatterpolar": [
           {
            "marker": {
             "colorbar": {
              "outlinewidth": 0,
              "ticks": ""
             }
            },
            "type": "scatterpolar"
           }
          ],
          "scatterpolargl": [
           {
            "marker": {
             "colorbar": {
              "outlinewidth": 0,
              "ticks": ""
             }
            },
            "type": "scatterpolargl"
           }
          ],
          "scatterternary": [
           {
            "marker": {
             "colorbar": {
              "outlinewidth": 0,
              "ticks": ""
             }
            },
            "type": "scatterternary"
           }
          ],
          "surface": [
           {
            "colorbar": {
             "outlinewidth": 0,
             "ticks": ""
            },
            "colorscale": [
             [
              0,
              "#0d0887"
             ],
             [
              0.1111111111111111,
              "#46039f"
             ],
             [
              0.2222222222222222,
              "#7201a8"
             ],
             [
              0.3333333333333333,
              "#9c179e"
             ],
             [
              0.4444444444444444,
              "#bd3786"
             ],
             [
              0.5555555555555556,
              "#d8576b"
             ],
             [
              0.6666666666666666,
              "#ed7953"
             ],
             [
              0.7777777777777778,
              "#fb9f3a"
             ],
             [
              0.8888888888888888,
              "#fdca26"
             ],
             [
              1,
              "#f0f921"
             ]
            ],
            "type": "surface"
           }
          ],
          "table": [
           {
            "cells": {
             "fill": {
              "color": "#EBF0F8"
             },
             "line": {
              "color": "white"
             }
            },
            "header": {
             "fill": {
              "color": "#C8D4E3"
             },
             "line": {
              "color": "white"
             }
            },
            "type": "table"
           }
          ]
         },
         "layout": {
          "annotationdefaults": {
           "arrowcolor": "#2a3f5f",
           "arrowhead": 0,
           "arrowwidth": 1
          },
          "autotypenumbers": "strict",
          "coloraxis": {
           "colorbar": {
            "outlinewidth": 0,
            "ticks": ""
           }
          },
          "colorscale": {
           "diverging": [
            [
             0,
             "#8e0152"
            ],
            [
             0.1,
             "#c51b7d"
            ],
            [
             0.2,
             "#de77ae"
            ],
            [
             0.3,
             "#f1b6da"
            ],
            [
             0.4,
             "#fde0ef"
            ],
            [
             0.5,
             "#f7f7f7"
            ],
            [
             0.6,
             "#e6f5d0"
            ],
            [
             0.7,
             "#b8e186"
            ],
            [
             0.8,
             "#7fbc41"
            ],
            [
             0.9,
             "#4d9221"
            ],
            [
             1,
             "#276419"
            ]
           ],
           "sequential": [
            [
             0,
             "#0d0887"
            ],
            [
             0.1111111111111111,
             "#46039f"
            ],
            [
             0.2222222222222222,
             "#7201a8"
            ],
            [
             0.3333333333333333,
             "#9c179e"
            ],
            [
             0.4444444444444444,
             "#bd3786"
            ],
            [
             0.5555555555555556,
             "#d8576b"
            ],
            [
             0.6666666666666666,
             "#ed7953"
            ],
            [
             0.7777777777777778,
             "#fb9f3a"
            ],
            [
             0.8888888888888888,
             "#fdca26"
            ],
            [
             1,
             "#f0f921"
            ]
           ],
           "sequentialminus": [
            [
             0,
             "#0d0887"
            ],
            [
             0.1111111111111111,
             "#46039f"
            ],
            [
             0.2222222222222222,
             "#7201a8"
            ],
            [
             0.3333333333333333,
             "#9c179e"
            ],
            [
             0.4444444444444444,
             "#bd3786"
            ],
            [
             0.5555555555555556,
             "#d8576b"
            ],
            [
             0.6666666666666666,
             "#ed7953"
            ],
            [
             0.7777777777777778,
             "#fb9f3a"
            ],
            [
             0.8888888888888888,
             "#fdca26"
            ],
            [
             1,
             "#f0f921"
            ]
           ]
          },
          "colorway": [
           "#636efa",
           "#EF553B",
           "#00cc96",
           "#ab63fa",
           "#FFA15A",
           "#19d3f3",
           "#FF6692",
           "#B6E880",
           "#FF97FF",
           "#FECB52"
          ],
          "font": {
           "color": "#2a3f5f"
          },
          "geo": {
           "bgcolor": "white",
           "lakecolor": "white",
           "landcolor": "#E5ECF6",
           "showlakes": true,
           "showland": true,
           "subunitcolor": "white"
          },
          "hoverlabel": {
           "align": "left"
          },
          "hovermode": "closest",
          "mapbox": {
           "style": "light"
          },
          "paper_bgcolor": "white",
          "plot_bgcolor": "#E5ECF6",
          "polar": {
           "angularaxis": {
            "gridcolor": "white",
            "linecolor": "white",
            "ticks": ""
           },
           "bgcolor": "#E5ECF6",
           "radialaxis": {
            "gridcolor": "white",
            "linecolor": "white",
            "ticks": ""
           }
          },
          "scene": {
           "xaxis": {
            "backgroundcolor": "#E5ECF6",
            "gridcolor": "white",
            "gridwidth": 2,
            "linecolor": "white",
            "showbackground": true,
            "ticks": "",
            "zerolinecolor": "white"
           },
           "yaxis": {
            "backgroundcolor": "#E5ECF6",
            "gridcolor": "white",
            "gridwidth": 2,
            "linecolor": "white",
            "showbackground": true,
            "ticks": "",
            "zerolinecolor": "white"
           },
           "zaxis": {
            "backgroundcolor": "#E5ECF6",
            "gridcolor": "white",
            "gridwidth": 2,
            "linecolor": "white",
            "showbackground": true,
            "ticks": "",
            "zerolinecolor": "white"
           }
          },
          "shapedefaults": {
           "line": {
            "color": "#2a3f5f"
           }
          },
          "ternary": {
           "aaxis": {
            "gridcolor": "white",
            "linecolor": "white",
            "ticks": ""
           },
           "baxis": {
            "gridcolor": "white",
            "linecolor": "white",
            "ticks": ""
           },
           "bgcolor": "#E5ECF6",
           "caxis": {
            "gridcolor": "white",
            "linecolor": "white",
            "ticks": ""
           }
          },
          "title": {
           "x": 0.05
          },
          "xaxis": {
           "automargin": true,
           "gridcolor": "white",
           "linecolor": "white",
           "ticks": "",
           "title": {
            "standoff": 15
           },
           "zerolinecolor": "white",
           "zerolinewidth": 2
          },
          "yaxis": {
           "automargin": true,
           "gridcolor": "white",
           "linecolor": "white",
           "ticks": "",
           "title": {
            "standoff": 15
           },
           "zerolinecolor": "white",
           "zerolinewidth": 2
          }
         }
        },
        "title": {
         "font": {
          "color": "#4D5663"
         }
        },
        "xaxis": {
         "gridcolor": "#E1E5ED",
         "showgrid": true,
         "tickfont": {
          "color": "#4D5663"
         },
         "title": {
          "font": {
           "color": "#4D5663"
          },
          "text": ""
         },
         "zerolinecolor": "#E1E5ED"
        },
        "yaxis": {
         "gridcolor": "#E1E5ED",
         "showgrid": true,
         "tickfont": {
          "color": "#4D5663"
         },
         "title": {
          "font": {
           "color": "#4D5663"
          },
          "text": ""
         },
         "zerolinecolor": "#E1E5ED"
        }
       }
      },
      "text/html": [
       "<div>                            <div id=\"4fb30907-2a02-453e-970c-6444cb23152b\" class=\"plotly-graph-div\" style=\"height:525px; width:100%;\"></div>            <script type=\"text/javascript\">                require([\"plotly\"], function(Plotly) {                    window.PLOTLYENV=window.PLOTLYENV || {};\n",
       "                    window.PLOTLYENV.BASE_URL='https://plot.ly';                                    if (document.getElementById(\"4fb30907-2a02-453e-970c-6444cb23152b\")) {                    Plotly.newPlot(                        \"4fb30907-2a02-453e-970c-6444cb23152b\",                        [{\"marker\":{\"color\":\"rgba(255, 153, 51, 0.6)\",\"line\":{\"color\":\"rgba(255, 153, 51, 1.0)\",\"width\":1}},\"name\":\"None\",\"orientation\":\"v\",\"text\":\"\",\"x\":[\"A\",\"B\",\"C\",\"D\"],\"y\":[100,100,100,100],\"type\":\"bar\"}],                        {\"legend\":{\"bgcolor\":\"#F5F6F9\",\"font\":{\"color\":\"#4D5663\"}},\"paper_bgcolor\":\"#F5F6F9\",\"plot_bgcolor\":\"#F5F6F9\",\"template\":{\"data\":{\"barpolar\":[{\"marker\":{\"line\":{\"color\":\"#E5ECF6\",\"width\":0.5},\"pattern\":{\"fillmode\":\"overlay\",\"size\":10,\"solidity\":0.2}},\"type\":\"barpolar\"}],\"bar\":[{\"error_x\":{\"color\":\"#2a3f5f\"},\"error_y\":{\"color\":\"#2a3f5f\"},\"marker\":{\"line\":{\"color\":\"#E5ECF6\",\"width\":0.5},\"pattern\":{\"fillmode\":\"overlay\",\"size\":10,\"solidity\":0.2}},\"type\":\"bar\"}],\"carpet\":[{\"aaxis\":{\"endlinecolor\":\"#2a3f5f\",\"gridcolor\":\"white\",\"linecolor\":\"white\",\"minorgridcolor\":\"white\",\"startlinecolor\":\"#2a3f5f\"},\"baxis\":{\"endlinecolor\":\"#2a3f5f\",\"gridcolor\":\"white\",\"linecolor\":\"white\",\"minorgridcolor\":\"white\",\"startlinecolor\":\"#2a3f5f\"},\"type\":\"carpet\"}],\"choropleth\":[{\"colorbar\":{\"outlinewidth\":0,\"ticks\":\"\"},\"type\":\"choropleth\"}],\"contourcarpet\":[{\"colorbar\":{\"outlinewidth\":0,\"ticks\":\"\"},\"type\":\"contourcarpet\"}],\"contour\":[{\"colorbar\":{\"outlinewidth\":0,\"ticks\":\"\"},\"colorscale\":[[0.0,\"#0d0887\"],[0.1111111111111111,\"#46039f\"],[0.2222222222222222,\"#7201a8\"],[0.3333333333333333,\"#9c179e\"],[0.4444444444444444,\"#bd3786\"],[0.5555555555555556,\"#d8576b\"],[0.6666666666666666,\"#ed7953\"],[0.7777777777777778,\"#fb9f3a\"],[0.8888888888888888,\"#fdca26\"],[1.0,\"#f0f921\"]],\"type\":\"contour\"}],\"heatmapgl\":[{\"colorbar\":{\"outlinewidth\":0,\"ticks\":\"\"},\"colorscale\":[[0.0,\"#0d0887\"],[0.1111111111111111,\"#46039f\"],[0.2222222222222222,\"#7201a8\"],[0.3333333333333333,\"#9c179e\"],[0.4444444444444444,\"#bd3786\"],[0.5555555555555556,\"#d8576b\"],[0.6666666666666666,\"#ed7953\"],[0.7777777777777778,\"#fb9f3a\"],[0.8888888888888888,\"#fdca26\"],[1.0,\"#f0f921\"]],\"type\":\"heatmapgl\"}],\"heatmap\":[{\"colorbar\":{\"outlinewidth\":0,\"ticks\":\"\"},\"colorscale\":[[0.0,\"#0d0887\"],[0.1111111111111111,\"#46039f\"],[0.2222222222222222,\"#7201a8\"],[0.3333333333333333,\"#9c179e\"],[0.4444444444444444,\"#bd3786\"],[0.5555555555555556,\"#d8576b\"],[0.6666666666666666,\"#ed7953\"],[0.7777777777777778,\"#fb9f3a\"],[0.8888888888888888,\"#fdca26\"],[1.0,\"#f0f921\"]],\"type\":\"heatmap\"}],\"histogram2dcontour\":[{\"colorbar\":{\"outlinewidth\":0,\"ticks\":\"\"},\"colorscale\":[[0.0,\"#0d0887\"],[0.1111111111111111,\"#46039f\"],[0.2222222222222222,\"#7201a8\"],[0.3333333333333333,\"#9c179e\"],[0.4444444444444444,\"#bd3786\"],[0.5555555555555556,\"#d8576b\"],[0.6666666666666666,\"#ed7953\"],[0.7777777777777778,\"#fb9f3a\"],[0.8888888888888888,\"#fdca26\"],[1.0,\"#f0f921\"]],\"type\":\"histogram2dcontour\"}],\"histogram2d\":[{\"colorbar\":{\"outlinewidth\":0,\"ticks\":\"\"},\"colorscale\":[[0.0,\"#0d0887\"],[0.1111111111111111,\"#46039f\"],[0.2222222222222222,\"#7201a8\"],[0.3333333333333333,\"#9c179e\"],[0.4444444444444444,\"#bd3786\"],[0.5555555555555556,\"#d8576b\"],[0.6666666666666666,\"#ed7953\"],[0.7777777777777778,\"#fb9f3a\"],[0.8888888888888888,\"#fdca26\"],[1.0,\"#f0f921\"]],\"type\":\"histogram2d\"}],\"histogram\":[{\"marker\":{\"pattern\":{\"fillmode\":\"overlay\",\"size\":10,\"solidity\":0.2}},\"type\":\"histogram\"}],\"mesh3d\":[{\"colorbar\":{\"outlinewidth\":0,\"ticks\":\"\"},\"type\":\"mesh3d\"}],\"parcoords\":[{\"line\":{\"colorbar\":{\"outlinewidth\":0,\"ticks\":\"\"}},\"type\":\"parcoords\"}],\"pie\":[{\"automargin\":true,\"type\":\"pie\"}],\"scatter3d\":[{\"line\":{\"colorbar\":{\"outlinewidth\":0,\"ticks\":\"\"}},\"marker\":{\"colorbar\":{\"outlinewidth\":0,\"ticks\":\"\"}},\"type\":\"scatter3d\"}],\"scattercarpet\":[{\"marker\":{\"colorbar\":{\"outlinewidth\":0,\"ticks\":\"\"}},\"type\":\"scattercarpet\"}],\"scattergeo\":[{\"marker\":{\"colorbar\":{\"outlinewidth\":0,\"ticks\":\"\"}},\"type\":\"scattergeo\"}],\"scattergl\":[{\"marker\":{\"colorbar\":{\"outlinewidth\":0,\"ticks\":\"\"}},\"type\":\"scattergl\"}],\"scattermapbox\":[{\"marker\":{\"colorbar\":{\"outlinewidth\":0,\"ticks\":\"\"}},\"type\":\"scattermapbox\"}],\"scatterpolargl\":[{\"marker\":{\"colorbar\":{\"outlinewidth\":0,\"ticks\":\"\"}},\"type\":\"scatterpolargl\"}],\"scatterpolar\":[{\"marker\":{\"colorbar\":{\"outlinewidth\":0,\"ticks\":\"\"}},\"type\":\"scatterpolar\"}],\"scatter\":[{\"fillpattern\":{\"fillmode\":\"overlay\",\"size\":10,\"solidity\":0.2},\"type\":\"scatter\"}],\"scatterternary\":[{\"marker\":{\"colorbar\":{\"outlinewidth\":0,\"ticks\":\"\"}},\"type\":\"scatterternary\"}],\"surface\":[{\"colorbar\":{\"outlinewidth\":0,\"ticks\":\"\"},\"colorscale\":[[0.0,\"#0d0887\"],[0.1111111111111111,\"#46039f\"],[0.2222222222222222,\"#7201a8\"],[0.3333333333333333,\"#9c179e\"],[0.4444444444444444,\"#bd3786\"],[0.5555555555555556,\"#d8576b\"],[0.6666666666666666,\"#ed7953\"],[0.7777777777777778,\"#fb9f3a\"],[0.8888888888888888,\"#fdca26\"],[1.0,\"#f0f921\"]],\"type\":\"surface\"}],\"table\":[{\"cells\":{\"fill\":{\"color\":\"#EBF0F8\"},\"line\":{\"color\":\"white\"}},\"header\":{\"fill\":{\"color\":\"#C8D4E3\"},\"line\":{\"color\":\"white\"}},\"type\":\"table\"}]},\"layout\":{\"annotationdefaults\":{\"arrowcolor\":\"#2a3f5f\",\"arrowhead\":0,\"arrowwidth\":1},\"autotypenumbers\":\"strict\",\"coloraxis\":{\"colorbar\":{\"outlinewidth\":0,\"ticks\":\"\"}},\"colorscale\":{\"diverging\":[[0,\"#8e0152\"],[0.1,\"#c51b7d\"],[0.2,\"#de77ae\"],[0.3,\"#f1b6da\"],[0.4,\"#fde0ef\"],[0.5,\"#f7f7f7\"],[0.6,\"#e6f5d0\"],[0.7,\"#b8e186\"],[0.8,\"#7fbc41\"],[0.9,\"#4d9221\"],[1,\"#276419\"]],\"sequential\":[[0.0,\"#0d0887\"],[0.1111111111111111,\"#46039f\"],[0.2222222222222222,\"#7201a8\"],[0.3333333333333333,\"#9c179e\"],[0.4444444444444444,\"#bd3786\"],[0.5555555555555556,\"#d8576b\"],[0.6666666666666666,\"#ed7953\"],[0.7777777777777778,\"#fb9f3a\"],[0.8888888888888888,\"#fdca26\"],[1.0,\"#f0f921\"]],\"sequentialminus\":[[0.0,\"#0d0887\"],[0.1111111111111111,\"#46039f\"],[0.2222222222222222,\"#7201a8\"],[0.3333333333333333,\"#9c179e\"],[0.4444444444444444,\"#bd3786\"],[0.5555555555555556,\"#d8576b\"],[0.6666666666666666,\"#ed7953\"],[0.7777777777777778,\"#fb9f3a\"],[0.8888888888888888,\"#fdca26\"],[1.0,\"#f0f921\"]]},\"colorway\":[\"#636efa\",\"#EF553B\",\"#00cc96\",\"#ab63fa\",\"#FFA15A\",\"#19d3f3\",\"#FF6692\",\"#B6E880\",\"#FF97FF\",\"#FECB52\"],\"font\":{\"color\":\"#2a3f5f\"},\"geo\":{\"bgcolor\":\"white\",\"lakecolor\":\"white\",\"landcolor\":\"#E5ECF6\",\"showlakes\":true,\"showland\":true,\"subunitcolor\":\"white\"},\"hoverlabel\":{\"align\":\"left\"},\"hovermode\":\"closest\",\"mapbox\":{\"style\":\"light\"},\"paper_bgcolor\":\"white\",\"plot_bgcolor\":\"#E5ECF6\",\"polar\":{\"angularaxis\":{\"gridcolor\":\"white\",\"linecolor\":\"white\",\"ticks\":\"\"},\"bgcolor\":\"#E5ECF6\",\"radialaxis\":{\"gridcolor\":\"white\",\"linecolor\":\"white\",\"ticks\":\"\"}},\"scene\":{\"xaxis\":{\"backgroundcolor\":\"#E5ECF6\",\"gridcolor\":\"white\",\"gridwidth\":2,\"linecolor\":\"white\",\"showbackground\":true,\"ticks\":\"\",\"zerolinecolor\":\"white\"},\"yaxis\":{\"backgroundcolor\":\"#E5ECF6\",\"gridcolor\":\"white\",\"gridwidth\":2,\"linecolor\":\"white\",\"showbackground\":true,\"ticks\":\"\",\"zerolinecolor\":\"white\"},\"zaxis\":{\"backgroundcolor\":\"#E5ECF6\",\"gridcolor\":\"white\",\"gridwidth\":2,\"linecolor\":\"white\",\"showbackground\":true,\"ticks\":\"\",\"zerolinecolor\":\"white\"}},\"shapedefaults\":{\"line\":{\"color\":\"#2a3f5f\"}},\"ternary\":{\"aaxis\":{\"gridcolor\":\"white\",\"linecolor\":\"white\",\"ticks\":\"\"},\"baxis\":{\"gridcolor\":\"white\",\"linecolor\":\"white\",\"ticks\":\"\"},\"bgcolor\":\"#E5ECF6\",\"caxis\":{\"gridcolor\":\"white\",\"linecolor\":\"white\",\"ticks\":\"\"}},\"title\":{\"x\":0.05},\"xaxis\":{\"automargin\":true,\"gridcolor\":\"white\",\"linecolor\":\"white\",\"ticks\":\"\",\"title\":{\"standoff\":15},\"zerolinecolor\":\"white\",\"zerolinewidth\":2},\"yaxis\":{\"automargin\":true,\"gridcolor\":\"white\",\"linecolor\":\"white\",\"ticks\":\"\",\"title\":{\"standoff\":15},\"zerolinecolor\":\"white\",\"zerolinewidth\":2}}},\"title\":{\"font\":{\"color\":\"#4D5663\"}},\"xaxis\":{\"gridcolor\":\"#E1E5ED\",\"showgrid\":true,\"tickfont\":{\"color\":\"#4D5663\"},\"title\":{\"font\":{\"color\":\"#4D5663\"},\"text\":\"\"},\"zerolinecolor\":\"#E1E5ED\"},\"yaxis\":{\"gridcolor\":\"#E1E5ED\",\"showgrid\":true,\"tickfont\":{\"color\":\"#4D5663\"},\"title\":{\"font\":{\"color\":\"#4D5663\"},\"text\":\"\"},\"zerolinecolor\":\"#E1E5ED\"}},                        {\"showLink\": true, \"linkText\": \"Export to plot.ly\", \"plotlyServerURL\": \"https://plot.ly\", \"responsive\": true}                    ).then(function(){\n",
       "                            \n",
       "var gd = document.getElementById('4fb30907-2a02-453e-970c-6444cb23152b');\n",
       "var x = new MutationObserver(function (mutations, observer) {{\n",
       "        var display = window.getComputedStyle(gd).display;\n",
       "        if (!display || display === 'none') {{\n",
       "            console.log([gd, 'removed!']);\n",
       "            Plotly.purge(gd);\n",
       "            observer.disconnect();\n",
       "        }}\n",
       "}});\n",
       "\n",
       "// Listen for the removal of the full notebook cells\n",
       "var notebookContainer = gd.closest('#notebook-container');\n",
       "if (notebookContainer) {{\n",
       "    x.observe(notebookContainer, {childList: true});\n",
       "}}\n",
       "\n",
       "// Listen for the clearing of the current output cell\n",
       "var outputEl = gd.closest('.output');\n",
       "if (outputEl) {{\n",
       "    x.observe(outputEl, {childList: true});\n",
       "}}\n",
       "\n",
       "                        })                };                });            </script>        </div>"
      ]
     },
     "metadata": {},
     "output_type": "display_data"
    }
   ],
   "source": [
    "df.count().iplot(kind='bar')"
   ]
  },
  {
   "cell_type": "markdown",
   "metadata": {},
   "source": [
    "## Boxplots"
   ]
  },
  {
   "cell_type": "code",
   "execution_count": 20,
   "metadata": {
    "collapsed": false
   },
   "outputs": [
    {
     "data": {
      "application/vnd.plotly.v1+json": {
       "config": {
        "linkText": "Export to plot.ly",
        "plotlyServerURL": "https://plot.ly",
        "showLink": true
       },
       "data": [
        {
         "boxpoints": false,
         "line": {
          "width": 1.3
         },
         "marker": {
          "color": "rgba(255, 153, 51, 1.0)"
         },
         "name": "A",
         "orientation": "v",
         "type": "box",
         "y": [
          -2.1884820507782847,
          -0.665854098661476,
          -1.3805289926414221,
          0.7177941534943872,
          -0.5079070431201327,
          -0.9254963685928826,
          0.07017048731831337,
          0.21659018028573443,
          0.6575896902323115,
          -0.7203671430016564,
          -0.4166920710075472,
          2.0056519868881817,
          0.6918406586642192,
          0.49110899481134057,
          0.5466373701568074,
          -0.04127578675147474,
          0.22291597539964056,
          0.5763452889571342,
          0.41911610659334153,
          -0.31504689375569617,
          0.4669768174623604,
          -1.1695274117766445,
          0.7364608342129234,
          -0.00913063712385115,
          0.4672029130412262,
          0.3027817525521753,
          -0.3025856918475431,
          0.4814090585715446,
          1.2196755070669176,
          -1.8270222684398807,
          0.03969622994150524,
          0.49267569055571897,
          -1.0036984109980298,
          -0.5251861744257543,
          0.9567356862535921,
          0.5369929247907468,
          -0.3161285413972293,
          -0.23372531142567546,
          0.41941353903405504,
          0.9964794674939226,
          1.305109453726727,
          0.13922444356079225,
          0.9926080522740052,
          -0.22710951340968658,
          -0.9502175771734338,
          -1.0761110833899576,
          -1.9580748766236473,
          0.20971225777735275,
          1.2391462120039176,
          0.0818135721981462,
          0.6420050639601032,
          0.03006078239224604,
          0.8414977144772191,
          0.7684983026064448,
          -0.027808936326751008,
          -0.16199630268676807,
          -0.009273158470795998,
          0.8995871936145745,
          -0.7930661423405327,
          0.5707151536428917,
          0.4609763337839569,
          -0.023021464976791594,
          1.5288125472120464,
          -0.88742429995902,
          0.3543999676999108,
          0.04814749748529384,
          -0.14407270331860864,
          -2.3584959248198327,
          0.36567542321995156,
          -0.015323485088775136,
          -1.5982332084815438,
          0.9893498435573947,
          0.4456789009768896,
          -0.4835972012995954,
          0.724238904244639,
          0.4682482817716083,
          0.839859989114251,
          0.14543189713505314,
          -0.5605395285621488,
          2.424734950386747,
          -0.7078065009697314,
          0.20773014860940905,
          0.4663918993987398,
          0.3610962931455434,
          0.13425091696086852,
          -2.3312497232908567,
          -0.3117097124746467,
          -0.24559017583110648,
          1.0340199528911336,
          0.660608635496201,
          -2.267483582162584,
          1.63512298448028,
          0.4248298038123525,
          -0.3912365822983923,
          0.2771786484275452,
          0.10688871829352858,
          1.1166460747599436,
          0.41147203906190505,
          -0.9308940719640626,
          -1.732720177574506
         ]
        },
        {
         "boxpoints": false,
         "line": {
          "width": 1.3
         },
         "marker": {
          "color": "rgba(55, 128, 191, 1.0)"
         },
         "name": "B",
         "orientation": "v",
         "type": "box",
         "y": [
          -0.967280454551769,
          -0.4262657421923561,
          0.6415234161208461,
          1.4759389662434033,
          -0.09751903940280975,
          0.17776569210575774,
          -1.2649818651982054,
          -1.1950371518335574,
          -1.556187143796085,
          -0.788478158888168,
          0.9597956528465741,
          0.052036199061202104,
          -0.22058592370822638,
          0.9816388590414287,
          1.0383803563519347,
          0.8547553132479587,
          -0.5886735459625771,
          -0.37439112569718785,
          -0.2623656153035446,
          -0.5320925874026364,
          -1.4220184369846043,
          0.846670864223348,
          -1.8163473370703958,
          1.3189836329571303,
          1.6637685364756059,
          -0.13395936428216373,
          -0.6293732266752319,
          0.2577807925648532,
          1.0847800174280025,
          -0.7978812148317082,
          -0.8020952268900989,
          -0.6264398798921825,
          -0.36587928505657796,
          1.0522610581970544,
          0.19094524404423097,
          0.7231352783492214,
          -0.2628470864698082,
          0.927313688901756,
          1.503651062051654,
          0.06638646092277749,
          0.26384475047205663,
          0.4890528362926341,
          0.3935599443259979,
          0.024380658205805403,
          -2.0629355520061763,
          0.9602761856506804,
          -0.23567940021145856,
          0.10727002685212225,
          -0.38412961854053373,
          -0.1229972569582122,
          1.5674833863914581,
          0.05797782859663407,
          -0.43345383829272444,
          0.5567694675572081,
          0.4512681681842402,
          -1.4878857727703223,
          1.191498577036202,
          1.5943146889736306,
          0.4194520044974007,
          1.7600425888987563,
          0.6701645912360255,
          -0.3075623135830556,
          0.27153889798225794,
          -0.1842878503559655,
          2.00223124160167,
          0.6777750123085785,
          -1.892415763831858,
          0.8178162088050249,
          0.08596553384700664,
          -0.6939299549913309,
          2.588584225766686,
          -0.11310923050999826,
          0.03988515313517068,
          0.4029126777124784,
          2.406680282475156,
          -0.15646532092047744,
          1.8857104455932763,
          -2.3106019408979512,
          0.21436153692103366,
          0.31521645299591206,
          -1.6168355582536302,
          1.9993223040445842,
          0.019732995776760843,
          0.9279181708398891,
          0.4702358093948719,
          1.9865857140568173,
          0.6992311527671162,
          0.28295041913737606,
          0.6206079271821591,
          -0.7272387976112539,
          0.3650724022216879,
          0.3842491991780508,
          -1.9554140814769014,
          -1.6132508173081423,
          1.4952438761609834,
          0.37003354614048906,
          0.08129741268596019,
          0.8568806010650221,
          0.21521236402235247,
          -0.9304045945205974
         ]
        },
        {
         "boxpoints": false,
         "line": {
          "width": 1.3
         },
         "marker": {
          "color": "rgba(50, 171, 96, 1.0)"
         },
         "name": "C",
         "orientation": "v",
         "type": "box",
         "y": [
          0.23428231187653542,
          -0.5062269628241942,
          0.1554330972551764,
          1.491685191989914,
          0.6380747751840952,
          -0.04712005265653837,
          -0.28527899439058124,
          -0.6448451895242465,
          -0.682852267610924,
          1.8816713200626887,
          -1.7535769961200314,
          0.2843989183509091,
          0.742928779138545,
          0.48970746585397373,
          1.1598440705077344,
          -1.4125583357784603,
          -1.2007696696290329,
          0.11987329476803449,
          1.2571635351290438,
          0.8866286349479189,
          0.08033220604955596,
          -0.6474834267724643,
          1.1208756463334026,
          0.9647924728698976,
          -0.2885880948006768,
          -0.8765389365926599,
          0.07493352468931654,
          1.2597131086051392,
          -1.7819398182406463,
          1.0080211162079058,
          0.3368855099392784,
          2.4490429674818035,
          0.20660191739625874,
          0.7745483729601508,
          -0.039320226622781056,
          1.0053058422004353,
          0.0845442659011733,
          -0.5971867959351375,
          -0.20872978728838665,
          2.6116514414693714,
          1.5389235456214478,
          -0.8870022450061268,
          -0.0212668593031821,
          0.7283542518691947,
          -0.9256975407166056,
          0.0349960568846339,
          1.5593718757303405,
          -1.8546065765042206,
          -1.2011491032810682,
          0.0011092944817803188,
          0.8980306000933594,
          0.3986089621584366,
          -0.08285771893874207,
          -0.0371247682609338,
          -1.750100224980951,
          1.5459896000640223,
          -0.01964459998748743,
          0.11793168659605284,
          -0.34997760150329915,
          0.800332613833526,
          -0.0039756455255922805,
          1.6191383500503471,
          -0.21069960757642167,
          -0.19549645331420631,
          -1.9414375013297795,
          -0.5478493758383675,
          -0.12346870149557682,
          1.0399913940408467,
          -0.03603981212573254,
          -0.3709218968748972,
          0.33918448683449964,
          0.45595652906226075,
          -0.9978901366382805,
          0.6451474898802855,
          -0.652348198652816,
          -1.0585118215443197,
          0.49308871892717465,
          -1.775000161427018,
          -2.782560635724997,
          1.8000453676628363,
          -1.1496384383146256,
          0.9205906911226659,
          -0.7700437738435117,
          -0.19033578606574472,
          -1.6723282097389343,
          -0.18493692467041134,
          0.9780387731219494,
          0.08463645307487533,
          -0.7359729079784721,
          -0.8943728036154838,
          -1.041374476049706,
          -0.6749362307487199,
          -0.3684695548216315,
          -1.0218490443655872,
          -0.06423352124383631,
          0.8810969928025059,
          -0.20636236600369035,
          -1.1016360580904643,
          -1.4864261996589854,
          -1.188796837066149
         ]
        },
        {
         "boxpoints": false,
         "line": {
          "width": 1.3
         },
         "marker": {
          "color": "rgba(128, 0, 128, 1.0)"
         },
         "name": "D",
         "orientation": "v",
         "type": "box",
         "y": [
          0.5727028398438736,
          0.9672912315342161,
          -0.6011193167910865,
          0.6265073348918706,
          -0.6845930339810649,
          0.5157149307469034,
          -0.5623742574307509,
          -0.5400218615284166,
          0.46896200044525854,
          1.522746407902645,
          -0.6632378341080102,
          0.3767761466127862,
          0.19876519972120366,
          0.14089587397219044,
          -1.2867954867023015,
          0.8935828636158181,
          -0.41057596944723207,
          0.5023786667702334,
          -0.12161892468101979,
          0.30284339257766085,
          0.02256901382894332,
          -1.7471711023742016,
          -0.41218551079226445,
          0.7788042775725317,
          -2.118154917948143,
          -0.241390800208255,
          0.7158723380330595,
          -0.13930349305422826,
          0.6811371445802761,
          0.14341276575956208,
          0.06590855054264795,
          -0.12123895443197005,
          0.3764833352321729,
          -0.10281561595272033,
          -0.7850015230615864,
          -0.46787835737609906,
          -0.6964105212575877,
          0.10185290218201198,
          -0.19107002944533907,
          -0.028455894728015723,
          0.9119072456135072,
          0.1781284814352502,
          -0.11951251939718534,
          -0.3344861568947874,
          1.3942345834240544,
          2.4801259228307533,
          -0.15135699529625257,
          0.5602697708296652,
          -0.6742766582469438,
          -0.001735009409199714,
          0.9246316608132168,
          0.7385083277166636,
          -0.8841692452661862,
          0.8677647001187814,
          0.341781424472247,
          0.0969769213800931,
          -2.8035068148233675,
          1.2961030974153602,
          0.4253408115195964,
          -0.0013851837692080663,
          -0.2536792151103678,
          -0.7805452846290323,
          -0.36618626409372784,
          -1.2871035418630075,
          -1.0284944989935407,
          -1.8099490580614084,
          -0.7092559128826477,
          1.2193296862248788,
          1.3322839666757185,
          0.6499959249630906,
          0.6629273032324599,
          1.3898750900397097,
          0.25540233715028937,
          -1.467912142692282,
          1.5034826378445685,
          0.39805233555649827,
          0.41877106171973705,
          -0.2108610476937432,
          -0.6496394290540343,
          -1.502357851648659,
          -1.738371495683503,
          -1.0764389882455565,
          0.7328901743262194,
          2.8264898298445553,
          -0.9157246492180827,
          -0.684955403294419,
          -2.1375964888504804,
          -0.5437230552169133,
          1.6239975993511928,
          0.8981691214801488,
          1.532442284653799,
          -0.1812244887023817,
          -1.1796127186397276,
          -0.05345178275268116,
          -1.188945314879167,
          0.18753248296821876,
          -0.2746382030719508,
          0.24722631136191997,
          -0.973909124838166,
          2.324432354939149
         ]
        }
       ],
       "layout": {
        "legend": {
         "bgcolor": "#F5F6F9",
         "font": {
          "color": "#4D5663"
         }
        },
        "paper_bgcolor": "#F5F6F9",
        "plot_bgcolor": "#F5F6F9",
        "template": {
         "data": {
          "bar": [
           {
            "error_x": {
             "color": "#2a3f5f"
            },
            "error_y": {
             "color": "#2a3f5f"
            },
            "marker": {
             "line": {
              "color": "#E5ECF6",
              "width": 0.5
             },
             "pattern": {
              "fillmode": "overlay",
              "size": 10,
              "solidity": 0.2
             }
            },
            "type": "bar"
           }
          ],
          "barpolar": [
           {
            "marker": {
             "line": {
              "color": "#E5ECF6",
              "width": 0.5
             },
             "pattern": {
              "fillmode": "overlay",
              "size": 10,
              "solidity": 0.2
             }
            },
            "type": "barpolar"
           }
          ],
          "carpet": [
           {
            "aaxis": {
             "endlinecolor": "#2a3f5f",
             "gridcolor": "white",
             "linecolor": "white",
             "minorgridcolor": "white",
             "startlinecolor": "#2a3f5f"
            },
            "baxis": {
             "endlinecolor": "#2a3f5f",
             "gridcolor": "white",
             "linecolor": "white",
             "minorgridcolor": "white",
             "startlinecolor": "#2a3f5f"
            },
            "type": "carpet"
           }
          ],
          "choropleth": [
           {
            "colorbar": {
             "outlinewidth": 0,
             "ticks": ""
            },
            "type": "choropleth"
           }
          ],
          "contour": [
           {
            "colorbar": {
             "outlinewidth": 0,
             "ticks": ""
            },
            "colorscale": [
             [
              0,
              "#0d0887"
             ],
             [
              0.1111111111111111,
              "#46039f"
             ],
             [
              0.2222222222222222,
              "#7201a8"
             ],
             [
              0.3333333333333333,
              "#9c179e"
             ],
             [
              0.4444444444444444,
              "#bd3786"
             ],
             [
              0.5555555555555556,
              "#d8576b"
             ],
             [
              0.6666666666666666,
              "#ed7953"
             ],
             [
              0.7777777777777778,
              "#fb9f3a"
             ],
             [
              0.8888888888888888,
              "#fdca26"
             ],
             [
              1,
              "#f0f921"
             ]
            ],
            "type": "contour"
           }
          ],
          "contourcarpet": [
           {
            "colorbar": {
             "outlinewidth": 0,
             "ticks": ""
            },
            "type": "contourcarpet"
           }
          ],
          "heatmap": [
           {
            "colorbar": {
             "outlinewidth": 0,
             "ticks": ""
            },
            "colorscale": [
             [
              0,
              "#0d0887"
             ],
             [
              0.1111111111111111,
              "#46039f"
             ],
             [
              0.2222222222222222,
              "#7201a8"
             ],
             [
              0.3333333333333333,
              "#9c179e"
             ],
             [
              0.4444444444444444,
              "#bd3786"
             ],
             [
              0.5555555555555556,
              "#d8576b"
             ],
             [
              0.6666666666666666,
              "#ed7953"
             ],
             [
              0.7777777777777778,
              "#fb9f3a"
             ],
             [
              0.8888888888888888,
              "#fdca26"
             ],
             [
              1,
              "#f0f921"
             ]
            ],
            "type": "heatmap"
           }
          ],
          "heatmapgl": [
           {
            "colorbar": {
             "outlinewidth": 0,
             "ticks": ""
            },
            "colorscale": [
             [
              0,
              "#0d0887"
             ],
             [
              0.1111111111111111,
              "#46039f"
             ],
             [
              0.2222222222222222,
              "#7201a8"
             ],
             [
              0.3333333333333333,
              "#9c179e"
             ],
             [
              0.4444444444444444,
              "#bd3786"
             ],
             [
              0.5555555555555556,
              "#d8576b"
             ],
             [
              0.6666666666666666,
              "#ed7953"
             ],
             [
              0.7777777777777778,
              "#fb9f3a"
             ],
             [
              0.8888888888888888,
              "#fdca26"
             ],
             [
              1,
              "#f0f921"
             ]
            ],
            "type": "heatmapgl"
           }
          ],
          "histogram": [
           {
            "marker": {
             "pattern": {
              "fillmode": "overlay",
              "size": 10,
              "solidity": 0.2
             }
            },
            "type": "histogram"
           }
          ],
          "histogram2d": [
           {
            "colorbar": {
             "outlinewidth": 0,
             "ticks": ""
            },
            "colorscale": [
             [
              0,
              "#0d0887"
             ],
             [
              0.1111111111111111,
              "#46039f"
             ],
             [
              0.2222222222222222,
              "#7201a8"
             ],
             [
              0.3333333333333333,
              "#9c179e"
             ],
             [
              0.4444444444444444,
              "#bd3786"
             ],
             [
              0.5555555555555556,
              "#d8576b"
             ],
             [
              0.6666666666666666,
              "#ed7953"
             ],
             [
              0.7777777777777778,
              "#fb9f3a"
             ],
             [
              0.8888888888888888,
              "#fdca26"
             ],
             [
              1,
              "#f0f921"
             ]
            ],
            "type": "histogram2d"
           }
          ],
          "histogram2dcontour": [
           {
            "colorbar": {
             "outlinewidth": 0,
             "ticks": ""
            },
            "colorscale": [
             [
              0,
              "#0d0887"
             ],
             [
              0.1111111111111111,
              "#46039f"
             ],
             [
              0.2222222222222222,
              "#7201a8"
             ],
             [
              0.3333333333333333,
              "#9c179e"
             ],
             [
              0.4444444444444444,
              "#bd3786"
             ],
             [
              0.5555555555555556,
              "#d8576b"
             ],
             [
              0.6666666666666666,
              "#ed7953"
             ],
             [
              0.7777777777777778,
              "#fb9f3a"
             ],
             [
              0.8888888888888888,
              "#fdca26"
             ],
             [
              1,
              "#f0f921"
             ]
            ],
            "type": "histogram2dcontour"
           }
          ],
          "mesh3d": [
           {
            "colorbar": {
             "outlinewidth": 0,
             "ticks": ""
            },
            "type": "mesh3d"
           }
          ],
          "parcoords": [
           {
            "line": {
             "colorbar": {
              "outlinewidth": 0,
              "ticks": ""
             }
            },
            "type": "parcoords"
           }
          ],
          "pie": [
           {
            "automargin": true,
            "type": "pie"
           }
          ],
          "scatter": [
           {
            "fillpattern": {
             "fillmode": "overlay",
             "size": 10,
             "solidity": 0.2
            },
            "type": "scatter"
           }
          ],
          "scatter3d": [
           {
            "line": {
             "colorbar": {
              "outlinewidth": 0,
              "ticks": ""
             }
            },
            "marker": {
             "colorbar": {
              "outlinewidth": 0,
              "ticks": ""
             }
            },
            "type": "scatter3d"
           }
          ],
          "scattercarpet": [
           {
            "marker": {
             "colorbar": {
              "outlinewidth": 0,
              "ticks": ""
             }
            },
            "type": "scattercarpet"
           }
          ],
          "scattergeo": [
           {
            "marker": {
             "colorbar": {
              "outlinewidth": 0,
              "ticks": ""
             }
            },
            "type": "scattergeo"
           }
          ],
          "scattergl": [
           {
            "marker": {
             "colorbar": {
              "outlinewidth": 0,
              "ticks": ""
             }
            },
            "type": "scattergl"
           }
          ],
          "scattermapbox": [
           {
            "marker": {
             "colorbar": {
              "outlinewidth": 0,
              "ticks": ""
             }
            },
            "type": "scattermapbox"
           }
          ],
          "scatterpolar": [
           {
            "marker": {
             "colorbar": {
              "outlinewidth": 0,
              "ticks": ""
             }
            },
            "type": "scatterpolar"
           }
          ],
          "scatterpolargl": [
           {
            "marker": {
             "colorbar": {
              "outlinewidth": 0,
              "ticks": ""
             }
            },
            "type": "scatterpolargl"
           }
          ],
          "scatterternary": [
           {
            "marker": {
             "colorbar": {
              "outlinewidth": 0,
              "ticks": ""
             }
            },
            "type": "scatterternary"
           }
          ],
          "surface": [
           {
            "colorbar": {
             "outlinewidth": 0,
             "ticks": ""
            },
            "colorscale": [
             [
              0,
              "#0d0887"
             ],
             [
              0.1111111111111111,
              "#46039f"
             ],
             [
              0.2222222222222222,
              "#7201a8"
             ],
             [
              0.3333333333333333,
              "#9c179e"
             ],
             [
              0.4444444444444444,
              "#bd3786"
             ],
             [
              0.5555555555555556,
              "#d8576b"
             ],
             [
              0.6666666666666666,
              "#ed7953"
             ],
             [
              0.7777777777777778,
              "#fb9f3a"
             ],
             [
              0.8888888888888888,
              "#fdca26"
             ],
             [
              1,
              "#f0f921"
             ]
            ],
            "type": "surface"
           }
          ],
          "table": [
           {
            "cells": {
             "fill": {
              "color": "#EBF0F8"
             },
             "line": {
              "color": "white"
             }
            },
            "header": {
             "fill": {
              "color": "#C8D4E3"
             },
             "line": {
              "color": "white"
             }
            },
            "type": "table"
           }
          ]
         },
         "layout": {
          "annotationdefaults": {
           "arrowcolor": "#2a3f5f",
           "arrowhead": 0,
           "arrowwidth": 1
          },
          "autotypenumbers": "strict",
          "coloraxis": {
           "colorbar": {
            "outlinewidth": 0,
            "ticks": ""
           }
          },
          "colorscale": {
           "diverging": [
            [
             0,
             "#8e0152"
            ],
            [
             0.1,
             "#c51b7d"
            ],
            [
             0.2,
             "#de77ae"
            ],
            [
             0.3,
             "#f1b6da"
            ],
            [
             0.4,
             "#fde0ef"
            ],
            [
             0.5,
             "#f7f7f7"
            ],
            [
             0.6,
             "#e6f5d0"
            ],
            [
             0.7,
             "#b8e186"
            ],
            [
             0.8,
             "#7fbc41"
            ],
            [
             0.9,
             "#4d9221"
            ],
            [
             1,
             "#276419"
            ]
           ],
           "sequential": [
            [
             0,
             "#0d0887"
            ],
            [
             0.1111111111111111,
             "#46039f"
            ],
            [
             0.2222222222222222,
             "#7201a8"
            ],
            [
             0.3333333333333333,
             "#9c179e"
            ],
            [
             0.4444444444444444,
             "#bd3786"
            ],
            [
             0.5555555555555556,
             "#d8576b"
            ],
            [
             0.6666666666666666,
             "#ed7953"
            ],
            [
             0.7777777777777778,
             "#fb9f3a"
            ],
            [
             0.8888888888888888,
             "#fdca26"
            ],
            [
             1,
             "#f0f921"
            ]
           ],
           "sequentialminus": [
            [
             0,
             "#0d0887"
            ],
            [
             0.1111111111111111,
             "#46039f"
            ],
            [
             0.2222222222222222,
             "#7201a8"
            ],
            [
             0.3333333333333333,
             "#9c179e"
            ],
            [
             0.4444444444444444,
             "#bd3786"
            ],
            [
             0.5555555555555556,
             "#d8576b"
            ],
            [
             0.6666666666666666,
             "#ed7953"
            ],
            [
             0.7777777777777778,
             "#fb9f3a"
            ],
            [
             0.8888888888888888,
             "#fdca26"
            ],
            [
             1,
             "#f0f921"
            ]
           ]
          },
          "colorway": [
           "#636efa",
           "#EF553B",
           "#00cc96",
           "#ab63fa",
           "#FFA15A",
           "#19d3f3",
           "#FF6692",
           "#B6E880",
           "#FF97FF",
           "#FECB52"
          ],
          "font": {
           "color": "#2a3f5f"
          },
          "geo": {
           "bgcolor": "white",
           "lakecolor": "white",
           "landcolor": "#E5ECF6",
           "showlakes": true,
           "showland": true,
           "subunitcolor": "white"
          },
          "hoverlabel": {
           "align": "left"
          },
          "hovermode": "closest",
          "mapbox": {
           "style": "light"
          },
          "paper_bgcolor": "white",
          "plot_bgcolor": "#E5ECF6",
          "polar": {
           "angularaxis": {
            "gridcolor": "white",
            "linecolor": "white",
            "ticks": ""
           },
           "bgcolor": "#E5ECF6",
           "radialaxis": {
            "gridcolor": "white",
            "linecolor": "white",
            "ticks": ""
           }
          },
          "scene": {
           "xaxis": {
            "backgroundcolor": "#E5ECF6",
            "gridcolor": "white",
            "gridwidth": 2,
            "linecolor": "white",
            "showbackground": true,
            "ticks": "",
            "zerolinecolor": "white"
           },
           "yaxis": {
            "backgroundcolor": "#E5ECF6",
            "gridcolor": "white",
            "gridwidth": 2,
            "linecolor": "white",
            "showbackground": true,
            "ticks": "",
            "zerolinecolor": "white"
           },
           "zaxis": {
            "backgroundcolor": "#E5ECF6",
            "gridcolor": "white",
            "gridwidth": 2,
            "linecolor": "white",
            "showbackground": true,
            "ticks": "",
            "zerolinecolor": "white"
           }
          },
          "shapedefaults": {
           "line": {
            "color": "#2a3f5f"
           }
          },
          "ternary": {
           "aaxis": {
            "gridcolor": "white",
            "linecolor": "white",
            "ticks": ""
           },
           "baxis": {
            "gridcolor": "white",
            "linecolor": "white",
            "ticks": ""
           },
           "bgcolor": "#E5ECF6",
           "caxis": {
            "gridcolor": "white",
            "linecolor": "white",
            "ticks": ""
           }
          },
          "title": {
           "x": 0.05
          },
          "xaxis": {
           "automargin": true,
           "gridcolor": "white",
           "linecolor": "white",
           "ticks": "",
           "title": {
            "standoff": 15
           },
           "zerolinecolor": "white",
           "zerolinewidth": 2
          },
          "yaxis": {
           "automargin": true,
           "gridcolor": "white",
           "linecolor": "white",
           "ticks": "",
           "title": {
            "standoff": 15
           },
           "zerolinecolor": "white",
           "zerolinewidth": 2
          }
         }
        },
        "title": {
         "font": {
          "color": "#4D5663"
         }
        },
        "xaxis": {
         "gridcolor": "#E1E5ED",
         "showgrid": true,
         "tickfont": {
          "color": "#4D5663"
         },
         "title": {
          "font": {
           "color": "#4D5663"
          },
          "text": ""
         },
         "zerolinecolor": "#E1E5ED"
        },
        "yaxis": {
         "gridcolor": "#E1E5ED",
         "showgrid": true,
         "tickfont": {
          "color": "#4D5663"
         },
         "title": {
          "font": {
           "color": "#4D5663"
          },
          "text": ""
         },
         "zerolinecolor": "#E1E5ED"
        }
       }
      },
      "text/html": [
       "<div>                            <div id=\"22edcf3e-e3d1-457a-adeb-e66e4d82b154\" class=\"plotly-graph-div\" style=\"height:525px; width:100%;\"></div>            <script type=\"text/javascript\">                require([\"plotly\"], function(Plotly) {                    window.PLOTLYENV=window.PLOTLYENV || {};\n",
       "                    window.PLOTLYENV.BASE_URL='https://plot.ly';                                    if (document.getElementById(\"22edcf3e-e3d1-457a-adeb-e66e4d82b154\")) {                    Plotly.newPlot(                        \"22edcf3e-e3d1-457a-adeb-e66e4d82b154\",                        [{\"boxpoints\":false,\"line\":{\"width\":1.3},\"marker\":{\"color\":\"rgba(255, 153, 51, 1.0)\"},\"name\":\"A\",\"orientation\":\"v\",\"y\":[-2.1884820507782847,-0.665854098661476,-1.3805289926414221,0.7177941534943872,-0.5079070431201327,-0.9254963685928826,0.07017048731831337,0.21659018028573443,0.6575896902323115,-0.7203671430016564,-0.4166920710075472,2.0056519868881817,0.6918406586642192,0.49110899481134057,0.5466373701568074,-0.04127578675147474,0.22291597539964056,0.5763452889571342,0.41911610659334153,-0.31504689375569617,0.4669768174623604,-1.1695274117766445,0.7364608342129234,-0.00913063712385115,0.4672029130412262,0.3027817525521753,-0.3025856918475431,0.4814090585715446,1.2196755070669176,-1.8270222684398807,0.03969622994150524,0.49267569055571897,-1.0036984109980298,-0.5251861744257543,0.9567356862535921,0.5369929247907468,-0.3161285413972293,-0.23372531142567546,0.41941353903405504,0.9964794674939226,1.305109453726727,0.13922444356079225,0.9926080522740052,-0.22710951340968658,-0.9502175771734338,-1.0761110833899576,-1.9580748766236473,0.20971225777735275,1.2391462120039176,0.0818135721981462,0.6420050639601032,0.03006078239224604,0.8414977144772191,0.7684983026064448,-0.027808936326751008,-0.16199630268676807,-0.009273158470795998,0.8995871936145745,-0.7930661423405327,0.5707151536428917,0.4609763337839569,-0.023021464976791594,1.5288125472120464,-0.88742429995902,0.3543999676999108,0.04814749748529384,-0.14407270331860864,-2.3584959248198327,0.36567542321995156,-0.015323485088775136,-1.5982332084815438,0.9893498435573947,0.4456789009768896,-0.4835972012995954,0.724238904244639,0.4682482817716083,0.839859989114251,0.14543189713505314,-0.5605395285621488,2.424734950386747,-0.7078065009697314,0.20773014860940905,0.4663918993987398,0.3610962931455434,0.13425091696086852,-2.3312497232908567,-0.3117097124746467,-0.24559017583110648,1.0340199528911336,0.660608635496201,-2.267483582162584,1.63512298448028,0.4248298038123525,-0.3912365822983923,0.2771786484275452,0.10688871829352858,1.1166460747599436,0.41147203906190505,-0.9308940719640626,-1.732720177574506],\"type\":\"box\"},{\"boxpoints\":false,\"line\":{\"width\":1.3},\"marker\":{\"color\":\"rgba(55, 128, 191, 1.0)\"},\"name\":\"B\",\"orientation\":\"v\",\"y\":[-0.967280454551769,-0.4262657421923561,0.6415234161208461,1.4759389662434033,-0.09751903940280975,0.17776569210575774,-1.2649818651982054,-1.1950371518335574,-1.556187143796085,-0.788478158888168,0.9597956528465741,0.052036199061202104,-0.22058592370822638,0.9816388590414287,1.0383803563519347,0.8547553132479587,-0.5886735459625771,-0.37439112569718785,-0.2623656153035446,-0.5320925874026364,-1.4220184369846043,0.846670864223348,-1.8163473370703958,1.3189836329571303,1.6637685364756059,-0.13395936428216373,-0.6293732266752319,0.2577807925648532,1.0847800174280025,-0.7978812148317082,-0.8020952268900989,-0.6264398798921825,-0.36587928505657796,1.0522610581970544,0.19094524404423097,0.7231352783492214,-0.2628470864698082,0.927313688901756,1.503651062051654,0.06638646092277749,0.26384475047205663,0.4890528362926341,0.3935599443259979,0.024380658205805403,-2.0629355520061763,0.9602761856506804,-0.23567940021145856,0.10727002685212225,-0.38412961854053373,-0.1229972569582122,1.5674833863914581,0.05797782859663407,-0.43345383829272444,0.5567694675572081,0.4512681681842402,-1.4878857727703223,1.191498577036202,1.5943146889736306,0.4194520044974007,1.7600425888987563,0.6701645912360255,-0.3075623135830556,0.27153889798225794,-0.1842878503559655,2.00223124160167,0.6777750123085785,-1.892415763831858,0.8178162088050249,0.08596553384700664,-0.6939299549913309,2.588584225766686,-0.11310923050999826,0.03988515313517068,0.4029126777124784,2.406680282475156,-0.15646532092047744,1.8857104455932763,-2.3106019408979512,0.21436153692103366,0.31521645299591206,-1.6168355582536302,1.9993223040445842,0.019732995776760843,0.9279181708398891,0.4702358093948719,1.9865857140568173,0.6992311527671162,0.28295041913737606,0.6206079271821591,-0.7272387976112539,0.3650724022216879,0.3842491991780508,-1.9554140814769014,-1.6132508173081423,1.4952438761609834,0.37003354614048906,0.08129741268596019,0.8568806010650221,0.21521236402235247,-0.9304045945205974],\"type\":\"box\"},{\"boxpoints\":false,\"line\":{\"width\":1.3},\"marker\":{\"color\":\"rgba(50, 171, 96, 1.0)\"},\"name\":\"C\",\"orientation\":\"v\",\"y\":[0.23428231187653542,-0.5062269628241942,0.1554330972551764,1.491685191989914,0.6380747751840952,-0.04712005265653837,-0.28527899439058124,-0.6448451895242465,-0.682852267610924,1.8816713200626887,-1.7535769961200314,0.2843989183509091,0.742928779138545,0.48970746585397373,1.1598440705077344,-1.4125583357784603,-1.2007696696290329,0.11987329476803449,1.2571635351290438,0.8866286349479189,0.08033220604955596,-0.6474834267724643,1.1208756463334026,0.9647924728698976,-0.2885880948006768,-0.8765389365926599,0.07493352468931654,1.2597131086051392,-1.7819398182406463,1.0080211162079058,0.3368855099392784,2.4490429674818035,0.20660191739625874,0.7745483729601508,-0.039320226622781056,1.0053058422004353,0.0845442659011733,-0.5971867959351375,-0.20872978728838665,2.6116514414693714,1.5389235456214478,-0.8870022450061268,-0.0212668593031821,0.7283542518691947,-0.9256975407166056,0.0349960568846339,1.5593718757303405,-1.8546065765042206,-1.2011491032810682,0.0011092944817803188,0.8980306000933594,0.3986089621584366,-0.08285771893874207,-0.0371247682609338,-1.750100224980951,1.5459896000640223,-0.01964459998748743,0.11793168659605284,-0.34997760150329915,0.800332613833526,-0.0039756455255922805,1.6191383500503471,-0.21069960757642167,-0.19549645331420631,-1.9414375013297795,-0.5478493758383675,-0.12346870149557682,1.0399913940408467,-0.03603981212573254,-0.3709218968748972,0.33918448683449964,0.45595652906226075,-0.9978901366382805,0.6451474898802855,-0.652348198652816,-1.0585118215443197,0.49308871892717465,-1.775000161427018,-2.782560635724997,1.8000453676628363,-1.1496384383146256,0.9205906911226659,-0.7700437738435117,-0.19033578606574472,-1.6723282097389343,-0.18493692467041134,0.9780387731219494,0.08463645307487533,-0.7359729079784721,-0.8943728036154838,-1.041374476049706,-0.6749362307487199,-0.3684695548216315,-1.0218490443655872,-0.06423352124383631,0.8810969928025059,-0.20636236600369035,-1.1016360580904643,-1.4864261996589854,-1.188796837066149],\"type\":\"box\"},{\"boxpoints\":false,\"line\":{\"width\":1.3},\"marker\":{\"color\":\"rgba(128, 0, 128, 1.0)\"},\"name\":\"D\",\"orientation\":\"v\",\"y\":[0.5727028398438736,0.9672912315342161,-0.6011193167910865,0.6265073348918706,-0.6845930339810649,0.5157149307469034,-0.5623742574307509,-0.5400218615284166,0.46896200044525854,1.522746407902645,-0.6632378341080102,0.3767761466127862,0.19876519972120366,0.14089587397219044,-1.2867954867023015,0.8935828636158181,-0.41057596944723207,0.5023786667702334,-0.12161892468101979,0.30284339257766085,0.02256901382894332,-1.7471711023742016,-0.41218551079226445,0.7788042775725317,-2.118154917948143,-0.241390800208255,0.7158723380330595,-0.13930349305422826,0.6811371445802761,0.14341276575956208,0.06590855054264795,-0.12123895443197005,0.3764833352321729,-0.10281561595272033,-0.7850015230615864,-0.46787835737609906,-0.6964105212575877,0.10185290218201198,-0.19107002944533907,-0.028455894728015723,0.9119072456135072,0.1781284814352502,-0.11951251939718534,-0.3344861568947874,1.3942345834240544,2.4801259228307533,-0.15135699529625257,0.5602697708296652,-0.6742766582469438,-0.001735009409199714,0.9246316608132168,0.7385083277166636,-0.8841692452661862,0.8677647001187814,0.341781424472247,0.0969769213800931,-2.8035068148233675,1.2961030974153602,0.4253408115195964,-0.0013851837692080663,-0.2536792151103678,-0.7805452846290323,-0.36618626409372784,-1.2871035418630075,-1.0284944989935407,-1.8099490580614084,-0.7092559128826477,1.2193296862248788,1.3322839666757185,0.6499959249630906,0.6629273032324599,1.3898750900397097,0.25540233715028937,-1.467912142692282,1.5034826378445685,0.39805233555649827,0.41877106171973705,-0.2108610476937432,-0.6496394290540343,-1.502357851648659,-1.738371495683503,-1.0764389882455565,0.7328901743262194,2.8264898298445553,-0.9157246492180827,-0.684955403294419,-2.1375964888504804,-0.5437230552169133,1.6239975993511928,0.8981691214801488,1.532442284653799,-0.1812244887023817,-1.1796127186397276,-0.05345178275268116,-1.188945314879167,0.18753248296821876,-0.2746382030719508,0.24722631136191997,-0.973909124838166,2.324432354939149],\"type\":\"box\"}],                        {\"legend\":{\"bgcolor\":\"#F5F6F9\",\"font\":{\"color\":\"#4D5663\"}},\"paper_bgcolor\":\"#F5F6F9\",\"plot_bgcolor\":\"#F5F6F9\",\"template\":{\"data\":{\"barpolar\":[{\"marker\":{\"line\":{\"color\":\"#E5ECF6\",\"width\":0.5},\"pattern\":{\"fillmode\":\"overlay\",\"size\":10,\"solidity\":0.2}},\"type\":\"barpolar\"}],\"bar\":[{\"error_x\":{\"color\":\"#2a3f5f\"},\"error_y\":{\"color\":\"#2a3f5f\"},\"marker\":{\"line\":{\"color\":\"#E5ECF6\",\"width\":0.5},\"pattern\":{\"fillmode\":\"overlay\",\"size\":10,\"solidity\":0.2}},\"type\":\"bar\"}],\"carpet\":[{\"aaxis\":{\"endlinecolor\":\"#2a3f5f\",\"gridcolor\":\"white\",\"linecolor\":\"white\",\"minorgridcolor\":\"white\",\"startlinecolor\":\"#2a3f5f\"},\"baxis\":{\"endlinecolor\":\"#2a3f5f\",\"gridcolor\":\"white\",\"linecolor\":\"white\",\"minorgridcolor\":\"white\",\"startlinecolor\":\"#2a3f5f\"},\"type\":\"carpet\"}],\"choropleth\":[{\"colorbar\":{\"outlinewidth\":0,\"ticks\":\"\"},\"type\":\"choropleth\"}],\"contourcarpet\":[{\"colorbar\":{\"outlinewidth\":0,\"ticks\":\"\"},\"type\":\"contourcarpet\"}],\"contour\":[{\"colorbar\":{\"outlinewidth\":0,\"ticks\":\"\"},\"colorscale\":[[0.0,\"#0d0887\"],[0.1111111111111111,\"#46039f\"],[0.2222222222222222,\"#7201a8\"],[0.3333333333333333,\"#9c179e\"],[0.4444444444444444,\"#bd3786\"],[0.5555555555555556,\"#d8576b\"],[0.6666666666666666,\"#ed7953\"],[0.7777777777777778,\"#fb9f3a\"],[0.8888888888888888,\"#fdca26\"],[1.0,\"#f0f921\"]],\"type\":\"contour\"}],\"heatmapgl\":[{\"colorbar\":{\"outlinewidth\":0,\"ticks\":\"\"},\"colorscale\":[[0.0,\"#0d0887\"],[0.1111111111111111,\"#46039f\"],[0.2222222222222222,\"#7201a8\"],[0.3333333333333333,\"#9c179e\"],[0.4444444444444444,\"#bd3786\"],[0.5555555555555556,\"#d8576b\"],[0.6666666666666666,\"#ed7953\"],[0.7777777777777778,\"#fb9f3a\"],[0.8888888888888888,\"#fdca26\"],[1.0,\"#f0f921\"]],\"type\":\"heatmapgl\"}],\"heatmap\":[{\"colorbar\":{\"outlinewidth\":0,\"ticks\":\"\"},\"colorscale\":[[0.0,\"#0d0887\"],[0.1111111111111111,\"#46039f\"],[0.2222222222222222,\"#7201a8\"],[0.3333333333333333,\"#9c179e\"],[0.4444444444444444,\"#bd3786\"],[0.5555555555555556,\"#d8576b\"],[0.6666666666666666,\"#ed7953\"],[0.7777777777777778,\"#fb9f3a\"],[0.8888888888888888,\"#fdca26\"],[1.0,\"#f0f921\"]],\"type\":\"heatmap\"}],\"histogram2dcontour\":[{\"colorbar\":{\"outlinewidth\":0,\"ticks\":\"\"},\"colorscale\":[[0.0,\"#0d0887\"],[0.1111111111111111,\"#46039f\"],[0.2222222222222222,\"#7201a8\"],[0.3333333333333333,\"#9c179e\"],[0.4444444444444444,\"#bd3786\"],[0.5555555555555556,\"#d8576b\"],[0.6666666666666666,\"#ed7953\"],[0.7777777777777778,\"#fb9f3a\"],[0.8888888888888888,\"#fdca26\"],[1.0,\"#f0f921\"]],\"type\":\"histogram2dcontour\"}],\"histogram2d\":[{\"colorbar\":{\"outlinewidth\":0,\"ticks\":\"\"},\"colorscale\":[[0.0,\"#0d0887\"],[0.1111111111111111,\"#46039f\"],[0.2222222222222222,\"#7201a8\"],[0.3333333333333333,\"#9c179e\"],[0.4444444444444444,\"#bd3786\"],[0.5555555555555556,\"#d8576b\"],[0.6666666666666666,\"#ed7953\"],[0.7777777777777778,\"#fb9f3a\"],[0.8888888888888888,\"#fdca26\"],[1.0,\"#f0f921\"]],\"type\":\"histogram2d\"}],\"histogram\":[{\"marker\":{\"pattern\":{\"fillmode\":\"overlay\",\"size\":10,\"solidity\":0.2}},\"type\":\"histogram\"}],\"mesh3d\":[{\"colorbar\":{\"outlinewidth\":0,\"ticks\":\"\"},\"type\":\"mesh3d\"}],\"parcoords\":[{\"line\":{\"colorbar\":{\"outlinewidth\":0,\"ticks\":\"\"}},\"type\":\"parcoords\"}],\"pie\":[{\"automargin\":true,\"type\":\"pie\"}],\"scatter3d\":[{\"line\":{\"colorbar\":{\"outlinewidth\":0,\"ticks\":\"\"}},\"marker\":{\"colorbar\":{\"outlinewidth\":0,\"ticks\":\"\"}},\"type\":\"scatter3d\"}],\"scattercarpet\":[{\"marker\":{\"colorbar\":{\"outlinewidth\":0,\"ticks\":\"\"}},\"type\":\"scattercarpet\"}],\"scattergeo\":[{\"marker\":{\"colorbar\":{\"outlinewidth\":0,\"ticks\":\"\"}},\"type\":\"scattergeo\"}],\"scattergl\":[{\"marker\":{\"colorbar\":{\"outlinewidth\":0,\"ticks\":\"\"}},\"type\":\"scattergl\"}],\"scattermapbox\":[{\"marker\":{\"colorbar\":{\"outlinewidth\":0,\"ticks\":\"\"}},\"type\":\"scattermapbox\"}],\"scatterpolargl\":[{\"marker\":{\"colorbar\":{\"outlinewidth\":0,\"ticks\":\"\"}},\"type\":\"scatterpolargl\"}],\"scatterpolar\":[{\"marker\":{\"colorbar\":{\"outlinewidth\":0,\"ticks\":\"\"}},\"type\":\"scatterpolar\"}],\"scatter\":[{\"fillpattern\":{\"fillmode\":\"overlay\",\"size\":10,\"solidity\":0.2},\"type\":\"scatter\"}],\"scatterternary\":[{\"marker\":{\"colorbar\":{\"outlinewidth\":0,\"ticks\":\"\"}},\"type\":\"scatterternary\"}],\"surface\":[{\"colorbar\":{\"outlinewidth\":0,\"ticks\":\"\"},\"colorscale\":[[0.0,\"#0d0887\"],[0.1111111111111111,\"#46039f\"],[0.2222222222222222,\"#7201a8\"],[0.3333333333333333,\"#9c179e\"],[0.4444444444444444,\"#bd3786\"],[0.5555555555555556,\"#d8576b\"],[0.6666666666666666,\"#ed7953\"],[0.7777777777777778,\"#fb9f3a\"],[0.8888888888888888,\"#fdca26\"],[1.0,\"#f0f921\"]],\"type\":\"surface\"}],\"table\":[{\"cells\":{\"fill\":{\"color\":\"#EBF0F8\"},\"line\":{\"color\":\"white\"}},\"header\":{\"fill\":{\"color\":\"#C8D4E3\"},\"line\":{\"color\":\"white\"}},\"type\":\"table\"}]},\"layout\":{\"annotationdefaults\":{\"arrowcolor\":\"#2a3f5f\",\"arrowhead\":0,\"arrowwidth\":1},\"autotypenumbers\":\"strict\",\"coloraxis\":{\"colorbar\":{\"outlinewidth\":0,\"ticks\":\"\"}},\"colorscale\":{\"diverging\":[[0,\"#8e0152\"],[0.1,\"#c51b7d\"],[0.2,\"#de77ae\"],[0.3,\"#f1b6da\"],[0.4,\"#fde0ef\"],[0.5,\"#f7f7f7\"],[0.6,\"#e6f5d0\"],[0.7,\"#b8e186\"],[0.8,\"#7fbc41\"],[0.9,\"#4d9221\"],[1,\"#276419\"]],\"sequential\":[[0.0,\"#0d0887\"],[0.1111111111111111,\"#46039f\"],[0.2222222222222222,\"#7201a8\"],[0.3333333333333333,\"#9c179e\"],[0.4444444444444444,\"#bd3786\"],[0.5555555555555556,\"#d8576b\"],[0.6666666666666666,\"#ed7953\"],[0.7777777777777778,\"#fb9f3a\"],[0.8888888888888888,\"#fdca26\"],[1.0,\"#f0f921\"]],\"sequentialminus\":[[0.0,\"#0d0887\"],[0.1111111111111111,\"#46039f\"],[0.2222222222222222,\"#7201a8\"],[0.3333333333333333,\"#9c179e\"],[0.4444444444444444,\"#bd3786\"],[0.5555555555555556,\"#d8576b\"],[0.6666666666666666,\"#ed7953\"],[0.7777777777777778,\"#fb9f3a\"],[0.8888888888888888,\"#fdca26\"],[1.0,\"#f0f921\"]]},\"colorway\":[\"#636efa\",\"#EF553B\",\"#00cc96\",\"#ab63fa\",\"#FFA15A\",\"#19d3f3\",\"#FF6692\",\"#B6E880\",\"#FF97FF\",\"#FECB52\"],\"font\":{\"color\":\"#2a3f5f\"},\"geo\":{\"bgcolor\":\"white\",\"lakecolor\":\"white\",\"landcolor\":\"#E5ECF6\",\"showlakes\":true,\"showland\":true,\"subunitcolor\":\"white\"},\"hoverlabel\":{\"align\":\"left\"},\"hovermode\":\"closest\",\"mapbox\":{\"style\":\"light\"},\"paper_bgcolor\":\"white\",\"plot_bgcolor\":\"#E5ECF6\",\"polar\":{\"angularaxis\":{\"gridcolor\":\"white\",\"linecolor\":\"white\",\"ticks\":\"\"},\"bgcolor\":\"#E5ECF6\",\"radialaxis\":{\"gridcolor\":\"white\",\"linecolor\":\"white\",\"ticks\":\"\"}},\"scene\":{\"xaxis\":{\"backgroundcolor\":\"#E5ECF6\",\"gridcolor\":\"white\",\"gridwidth\":2,\"linecolor\":\"white\",\"showbackground\":true,\"ticks\":\"\",\"zerolinecolor\":\"white\"},\"yaxis\":{\"backgroundcolor\":\"#E5ECF6\",\"gridcolor\":\"white\",\"gridwidth\":2,\"linecolor\":\"white\",\"showbackground\":true,\"ticks\":\"\",\"zerolinecolor\":\"white\"},\"zaxis\":{\"backgroundcolor\":\"#E5ECF6\",\"gridcolor\":\"white\",\"gridwidth\":2,\"linecolor\":\"white\",\"showbackground\":true,\"ticks\":\"\",\"zerolinecolor\":\"white\"}},\"shapedefaults\":{\"line\":{\"color\":\"#2a3f5f\"}},\"ternary\":{\"aaxis\":{\"gridcolor\":\"white\",\"linecolor\":\"white\",\"ticks\":\"\"},\"baxis\":{\"gridcolor\":\"white\",\"linecolor\":\"white\",\"ticks\":\"\"},\"bgcolor\":\"#E5ECF6\",\"caxis\":{\"gridcolor\":\"white\",\"linecolor\":\"white\",\"ticks\":\"\"}},\"title\":{\"x\":0.05},\"xaxis\":{\"automargin\":true,\"gridcolor\":\"white\",\"linecolor\":\"white\",\"ticks\":\"\",\"title\":{\"standoff\":15},\"zerolinecolor\":\"white\",\"zerolinewidth\":2},\"yaxis\":{\"automargin\":true,\"gridcolor\":\"white\",\"linecolor\":\"white\",\"ticks\":\"\",\"title\":{\"standoff\":15},\"zerolinecolor\":\"white\",\"zerolinewidth\":2}}},\"title\":{\"font\":{\"color\":\"#4D5663\"}},\"xaxis\":{\"gridcolor\":\"#E1E5ED\",\"showgrid\":true,\"tickfont\":{\"color\":\"#4D5663\"},\"title\":{\"font\":{\"color\":\"#4D5663\"},\"text\":\"\"},\"zerolinecolor\":\"#E1E5ED\"},\"yaxis\":{\"gridcolor\":\"#E1E5ED\",\"showgrid\":true,\"tickfont\":{\"color\":\"#4D5663\"},\"title\":{\"font\":{\"color\":\"#4D5663\"},\"text\":\"\"},\"zerolinecolor\":\"#E1E5ED\"}},                        {\"showLink\": true, \"linkText\": \"Export to plot.ly\", \"plotlyServerURL\": \"https://plot.ly\", \"responsive\": true}                    ).then(function(){\n",
       "                            \n",
       "var gd = document.getElementById('22edcf3e-e3d1-457a-adeb-e66e4d82b154');\n",
       "var x = new MutationObserver(function (mutations, observer) {{\n",
       "        var display = window.getComputedStyle(gd).display;\n",
       "        if (!display || display === 'none') {{\n",
       "            console.log([gd, 'removed!']);\n",
       "            Plotly.purge(gd);\n",
       "            observer.disconnect();\n",
       "        }}\n",
       "}});\n",
       "\n",
       "// Listen for the removal of the full notebook cells\n",
       "var notebookContainer = gd.closest('#notebook-container');\n",
       "if (notebookContainer) {{\n",
       "    x.observe(notebookContainer, {childList: true});\n",
       "}}\n",
       "\n",
       "// Listen for the clearing of the current output cell\n",
       "var outputEl = gd.closest('.output');\n",
       "if (outputEl) {{\n",
       "    x.observe(outputEl, {childList: true});\n",
       "}}\n",
       "\n",
       "                        })                };                });            </script>        </div>"
      ]
     },
     "metadata": {},
     "output_type": "display_data"
    }
   ],
   "source": [
    "df.iplot(kind='box')"
   ]
  },
  {
   "cell_type": "markdown",
   "metadata": {},
   "source": [
    "## 3d Surface"
   ]
  },
  {
   "cell_type": "code",
   "execution_count": 21,
   "metadata": {
    "collapsed": false
   },
   "outputs": [
    {
     "data": {
      "application/vnd.plotly.v1+json": {
       "config": {
        "linkText": "Export to plot.ly",
        "plotlyServerURL": "https://plot.ly",
        "showLink": true
       },
       "data": [
        {
         "colorscale": [
          [
           0,
           "rgb(165,0,38)"
          ],
          [
           0.1,
           "rgb(215,48,39)"
          ],
          [
           0.2,
           "rgb(244,109,67)"
          ],
          [
           0.3,
           "rgb(253,174,97)"
          ],
          [
           0.4,
           "rgb(254,224,144)"
          ],
          [
           0.5,
           "rgb(255,255,191)"
          ],
          [
           0.6,
           "rgb(224,243,248)"
          ],
          [
           0.7,
           "rgb(171,217,233)"
          ],
          [
           0.8,
           "rgb(116,173,209)"
          ],
          [
           0.9,
           "rgb(69,117,180)"
          ],
          [
           1,
           "rgb(49,54,149)"
          ]
         ],
         "type": "surface",
         "x": [
          0,
          1,
          2,
          3,
          4
         ],
         "y": [
          "x",
          "y",
          "z"
         ],
         "z": [
          [
           1,
           2,
           3,
           4,
           5
          ],
          [
           10,
           20,
           30,
           20,
           10
          ],
          [
           5,
           4,
           3,
           2,
           1
          ]
         ]
        }
       ],
       "layout": {
        "legend": {
         "bgcolor": "#F5F6F9",
         "font": {
          "color": "#4D5663"
         }
        },
        "paper_bgcolor": "#F5F6F9",
        "plot_bgcolor": "#F5F6F9",
        "template": {
         "data": {
          "bar": [
           {
            "error_x": {
             "color": "#2a3f5f"
            },
            "error_y": {
             "color": "#2a3f5f"
            },
            "marker": {
             "line": {
              "color": "#E5ECF6",
              "width": 0.5
             },
             "pattern": {
              "fillmode": "overlay",
              "size": 10,
              "solidity": 0.2
             }
            },
            "type": "bar"
           }
          ],
          "barpolar": [
           {
            "marker": {
             "line": {
              "color": "#E5ECF6",
              "width": 0.5
             },
             "pattern": {
              "fillmode": "overlay",
              "size": 10,
              "solidity": 0.2
             }
            },
            "type": "barpolar"
           }
          ],
          "carpet": [
           {
            "aaxis": {
             "endlinecolor": "#2a3f5f",
             "gridcolor": "white",
             "linecolor": "white",
             "minorgridcolor": "white",
             "startlinecolor": "#2a3f5f"
            },
            "baxis": {
             "endlinecolor": "#2a3f5f",
             "gridcolor": "white",
             "linecolor": "white",
             "minorgridcolor": "white",
             "startlinecolor": "#2a3f5f"
            },
            "type": "carpet"
           }
          ],
          "choropleth": [
           {
            "colorbar": {
             "outlinewidth": 0,
             "ticks": ""
            },
            "type": "choropleth"
           }
          ],
          "contour": [
           {
            "colorbar": {
             "outlinewidth": 0,
             "ticks": ""
            },
            "colorscale": [
             [
              0,
              "#0d0887"
             ],
             [
              0.1111111111111111,
              "#46039f"
             ],
             [
              0.2222222222222222,
              "#7201a8"
             ],
             [
              0.3333333333333333,
              "#9c179e"
             ],
             [
              0.4444444444444444,
              "#bd3786"
             ],
             [
              0.5555555555555556,
              "#d8576b"
             ],
             [
              0.6666666666666666,
              "#ed7953"
             ],
             [
              0.7777777777777778,
              "#fb9f3a"
             ],
             [
              0.8888888888888888,
              "#fdca26"
             ],
             [
              1,
              "#f0f921"
             ]
            ],
            "type": "contour"
           }
          ],
          "contourcarpet": [
           {
            "colorbar": {
             "outlinewidth": 0,
             "ticks": ""
            },
            "type": "contourcarpet"
           }
          ],
          "heatmap": [
           {
            "colorbar": {
             "outlinewidth": 0,
             "ticks": ""
            },
            "colorscale": [
             [
              0,
              "#0d0887"
             ],
             [
              0.1111111111111111,
              "#46039f"
             ],
             [
              0.2222222222222222,
              "#7201a8"
             ],
             [
              0.3333333333333333,
              "#9c179e"
             ],
             [
              0.4444444444444444,
              "#bd3786"
             ],
             [
              0.5555555555555556,
              "#d8576b"
             ],
             [
              0.6666666666666666,
              "#ed7953"
             ],
             [
              0.7777777777777778,
              "#fb9f3a"
             ],
             [
              0.8888888888888888,
              "#fdca26"
             ],
             [
              1,
              "#f0f921"
             ]
            ],
            "type": "heatmap"
           }
          ],
          "heatmapgl": [
           {
            "colorbar": {
             "outlinewidth": 0,
             "ticks": ""
            },
            "colorscale": [
             [
              0,
              "#0d0887"
             ],
             [
              0.1111111111111111,
              "#46039f"
             ],
             [
              0.2222222222222222,
              "#7201a8"
             ],
             [
              0.3333333333333333,
              "#9c179e"
             ],
             [
              0.4444444444444444,
              "#bd3786"
             ],
             [
              0.5555555555555556,
              "#d8576b"
             ],
             [
              0.6666666666666666,
              "#ed7953"
             ],
             [
              0.7777777777777778,
              "#fb9f3a"
             ],
             [
              0.8888888888888888,
              "#fdca26"
             ],
             [
              1,
              "#f0f921"
             ]
            ],
            "type": "heatmapgl"
           }
          ],
          "histogram": [
           {
            "marker": {
             "pattern": {
              "fillmode": "overlay",
              "size": 10,
              "solidity": 0.2
             }
            },
            "type": "histogram"
           }
          ],
          "histogram2d": [
           {
            "colorbar": {
             "outlinewidth": 0,
             "ticks": ""
            },
            "colorscale": [
             [
              0,
              "#0d0887"
             ],
             [
              0.1111111111111111,
              "#46039f"
             ],
             [
              0.2222222222222222,
              "#7201a8"
             ],
             [
              0.3333333333333333,
              "#9c179e"
             ],
             [
              0.4444444444444444,
              "#bd3786"
             ],
             [
              0.5555555555555556,
              "#d8576b"
             ],
             [
              0.6666666666666666,
              "#ed7953"
             ],
             [
              0.7777777777777778,
              "#fb9f3a"
             ],
             [
              0.8888888888888888,
              "#fdca26"
             ],
             [
              1,
              "#f0f921"
             ]
            ],
            "type": "histogram2d"
           }
          ],
          "histogram2dcontour": [
           {
            "colorbar": {
             "outlinewidth": 0,
             "ticks": ""
            },
            "colorscale": [
             [
              0,
              "#0d0887"
             ],
             [
              0.1111111111111111,
              "#46039f"
             ],
             [
              0.2222222222222222,
              "#7201a8"
             ],
             [
              0.3333333333333333,
              "#9c179e"
             ],
             [
              0.4444444444444444,
              "#bd3786"
             ],
             [
              0.5555555555555556,
              "#d8576b"
             ],
             [
              0.6666666666666666,
              "#ed7953"
             ],
             [
              0.7777777777777778,
              "#fb9f3a"
             ],
             [
              0.8888888888888888,
              "#fdca26"
             ],
             [
              1,
              "#f0f921"
             ]
            ],
            "type": "histogram2dcontour"
           }
          ],
          "mesh3d": [
           {
            "colorbar": {
             "outlinewidth": 0,
             "ticks": ""
            },
            "type": "mesh3d"
           }
          ],
          "parcoords": [
           {
            "line": {
             "colorbar": {
              "outlinewidth": 0,
              "ticks": ""
             }
            },
            "type": "parcoords"
           }
          ],
          "pie": [
           {
            "automargin": true,
            "type": "pie"
           }
          ],
          "scatter": [
           {
            "fillpattern": {
             "fillmode": "overlay",
             "size": 10,
             "solidity": 0.2
            },
            "type": "scatter"
           }
          ],
          "scatter3d": [
           {
            "line": {
             "colorbar": {
              "outlinewidth": 0,
              "ticks": ""
             }
            },
            "marker": {
             "colorbar": {
              "outlinewidth": 0,
              "ticks": ""
             }
            },
            "type": "scatter3d"
           }
          ],
          "scattercarpet": [
           {
            "marker": {
             "colorbar": {
              "outlinewidth": 0,
              "ticks": ""
             }
            },
            "type": "scattercarpet"
           }
          ],
          "scattergeo": [
           {
            "marker": {
             "colorbar": {
              "outlinewidth": 0,
              "ticks": ""
             }
            },
            "type": "scattergeo"
           }
          ],
          "scattergl": [
           {
            "marker": {
             "colorbar": {
              "outlinewidth": 0,
              "ticks": ""
             }
            },
            "type": "scattergl"
           }
          ],
          "scattermapbox": [
           {
            "marker": {
             "colorbar": {
              "outlinewidth": 0,
              "ticks": ""
             }
            },
            "type": "scattermapbox"
           }
          ],
          "scatterpolar": [
           {
            "marker": {
             "colorbar": {
              "outlinewidth": 0,
              "ticks": ""
             }
            },
            "type": "scatterpolar"
           }
          ],
          "scatterpolargl": [
           {
            "marker": {
             "colorbar": {
              "outlinewidth": 0,
              "ticks": ""
             }
            },
            "type": "scatterpolargl"
           }
          ],
          "scatterternary": [
           {
            "marker": {
             "colorbar": {
              "outlinewidth": 0,
              "ticks": ""
             }
            },
            "type": "scatterternary"
           }
          ],
          "surface": [
           {
            "colorbar": {
             "outlinewidth": 0,
             "ticks": ""
            },
            "colorscale": [
             [
              0,
              "#0d0887"
             ],
             [
              0.1111111111111111,
              "#46039f"
             ],
             [
              0.2222222222222222,
              "#7201a8"
             ],
             [
              0.3333333333333333,
              "#9c179e"
             ],
             [
              0.4444444444444444,
              "#bd3786"
             ],
             [
              0.5555555555555556,
              "#d8576b"
             ],
             [
              0.6666666666666666,
              "#ed7953"
             ],
             [
              0.7777777777777778,
              "#fb9f3a"
             ],
             [
              0.8888888888888888,
              "#fdca26"
             ],
             [
              1,
              "#f0f921"
             ]
            ],
            "type": "surface"
           }
          ],
          "table": [
           {
            "cells": {
             "fill": {
              "color": "#EBF0F8"
             },
             "line": {
              "color": "white"
             }
            },
            "header": {
             "fill": {
              "color": "#C8D4E3"
             },
             "line": {
              "color": "white"
             }
            },
            "type": "table"
           }
          ]
         },
         "layout": {
          "annotationdefaults": {
           "arrowcolor": "#2a3f5f",
           "arrowhead": 0,
           "arrowwidth": 1
          },
          "autotypenumbers": "strict",
          "coloraxis": {
           "colorbar": {
            "outlinewidth": 0,
            "ticks": ""
           }
          },
          "colorscale": {
           "diverging": [
            [
             0,
             "#8e0152"
            ],
            [
             0.1,
             "#c51b7d"
            ],
            [
             0.2,
             "#de77ae"
            ],
            [
             0.3,
             "#f1b6da"
            ],
            [
             0.4,
             "#fde0ef"
            ],
            [
             0.5,
             "#f7f7f7"
            ],
            [
             0.6,
             "#e6f5d0"
            ],
            [
             0.7,
             "#b8e186"
            ],
            [
             0.8,
             "#7fbc41"
            ],
            [
             0.9,
             "#4d9221"
            ],
            [
             1,
             "#276419"
            ]
           ],
           "sequential": [
            [
             0,
             "#0d0887"
            ],
            [
             0.1111111111111111,
             "#46039f"
            ],
            [
             0.2222222222222222,
             "#7201a8"
            ],
            [
             0.3333333333333333,
             "#9c179e"
            ],
            [
             0.4444444444444444,
             "#bd3786"
            ],
            [
             0.5555555555555556,
             "#d8576b"
            ],
            [
             0.6666666666666666,
             "#ed7953"
            ],
            [
             0.7777777777777778,
             "#fb9f3a"
            ],
            [
             0.8888888888888888,
             "#fdca26"
            ],
            [
             1,
             "#f0f921"
            ]
           ],
           "sequentialminus": [
            [
             0,
             "#0d0887"
            ],
            [
             0.1111111111111111,
             "#46039f"
            ],
            [
             0.2222222222222222,
             "#7201a8"
            ],
            [
             0.3333333333333333,
             "#9c179e"
            ],
            [
             0.4444444444444444,
             "#bd3786"
            ],
            [
             0.5555555555555556,
             "#d8576b"
            ],
            [
             0.6666666666666666,
             "#ed7953"
            ],
            [
             0.7777777777777778,
             "#fb9f3a"
            ],
            [
             0.8888888888888888,
             "#fdca26"
            ],
            [
             1,
             "#f0f921"
            ]
           ]
          },
          "colorway": [
           "#636efa",
           "#EF553B",
           "#00cc96",
           "#ab63fa",
           "#FFA15A",
           "#19d3f3",
           "#FF6692",
           "#B6E880",
           "#FF97FF",
           "#FECB52"
          ],
          "font": {
           "color": "#2a3f5f"
          },
          "geo": {
           "bgcolor": "white",
           "lakecolor": "white",
           "landcolor": "#E5ECF6",
           "showlakes": true,
           "showland": true,
           "subunitcolor": "white"
          },
          "hoverlabel": {
           "align": "left"
          },
          "hovermode": "closest",
          "mapbox": {
           "style": "light"
          },
          "paper_bgcolor": "white",
          "plot_bgcolor": "#E5ECF6",
          "polar": {
           "angularaxis": {
            "gridcolor": "white",
            "linecolor": "white",
            "ticks": ""
           },
           "bgcolor": "#E5ECF6",
           "radialaxis": {
            "gridcolor": "white",
            "linecolor": "white",
            "ticks": ""
           }
          },
          "scene": {
           "xaxis": {
            "backgroundcolor": "#E5ECF6",
            "gridcolor": "white",
            "gridwidth": 2,
            "linecolor": "white",
            "showbackground": true,
            "ticks": "",
            "zerolinecolor": "white"
           },
           "yaxis": {
            "backgroundcolor": "#E5ECF6",
            "gridcolor": "white",
            "gridwidth": 2,
            "linecolor": "white",
            "showbackground": true,
            "ticks": "",
            "zerolinecolor": "white"
           },
           "zaxis": {
            "backgroundcolor": "#E5ECF6",
            "gridcolor": "white",
            "gridwidth": 2,
            "linecolor": "white",
            "showbackground": true,
            "ticks": "",
            "zerolinecolor": "white"
           }
          },
          "shapedefaults": {
           "line": {
            "color": "#2a3f5f"
           }
          },
          "ternary": {
           "aaxis": {
            "gridcolor": "white",
            "linecolor": "white",
            "ticks": ""
           },
           "baxis": {
            "gridcolor": "white",
            "linecolor": "white",
            "ticks": ""
           },
           "bgcolor": "#E5ECF6",
           "caxis": {
            "gridcolor": "white",
            "linecolor": "white",
            "ticks": ""
           }
          },
          "title": {
           "x": 0.05
          },
          "xaxis": {
           "automargin": true,
           "gridcolor": "white",
           "linecolor": "white",
           "ticks": "",
           "title": {
            "standoff": 15
           },
           "zerolinecolor": "white",
           "zerolinewidth": 2
          },
          "yaxis": {
           "automargin": true,
           "gridcolor": "white",
           "linecolor": "white",
           "ticks": "",
           "title": {
            "standoff": 15
           },
           "zerolinecolor": "white",
           "zerolinewidth": 2
          }
         }
        },
        "title": {
         "font": {
          "color": "#4D5663"
         }
        },
        "xaxis": {
         "gridcolor": "#E1E5ED",
         "showgrid": true,
         "tickfont": {
          "color": "#4D5663"
         },
         "title": {
          "font": {
           "color": "#4D5663"
          },
          "text": ""
         },
         "zerolinecolor": "#E1E5ED"
        },
        "yaxis": {
         "gridcolor": "#E1E5ED",
         "showgrid": true,
         "tickfont": {
          "color": "#4D5663"
         },
         "title": {
          "font": {
           "color": "#4D5663"
          },
          "text": ""
         },
         "zerolinecolor": "#E1E5ED"
        }
       }
      },
      "text/html": [
       "<div>                            <div id=\"865eb673-6ceb-49e1-8c3d-d0b2ccdd80f7\" class=\"plotly-graph-div\" style=\"height:525px; width:100%;\"></div>            <script type=\"text/javascript\">                require([\"plotly\"], function(Plotly) {                    window.PLOTLYENV=window.PLOTLYENV || {};\n",
       "                    window.PLOTLYENV.BASE_URL='https://plot.ly';                                    if (document.getElementById(\"865eb673-6ceb-49e1-8c3d-d0b2ccdd80f7\")) {                    Plotly.newPlot(                        \"865eb673-6ceb-49e1-8c3d-d0b2ccdd80f7\",                        [{\"colorscale\":[[0.0,\"rgb(165,0,38)\"],[0.1,\"rgb(215,48,39)\"],[0.2,\"rgb(244,109,67)\"],[0.3,\"rgb(253,174,97)\"],[0.4,\"rgb(254,224,144)\"],[0.5,\"rgb(255,255,191)\"],[0.6,\"rgb(224,243,248)\"],[0.7,\"rgb(171,217,233)\"],[0.8,\"rgb(116,173,209)\"],[0.9,\"rgb(69,117,180)\"],[1.0,\"rgb(49,54,149)\"]],\"x\":[0,1,2,3,4],\"y\":[\"x\",\"y\",\"z\"],\"z\":[[1,2,3,4,5],[10,20,30,20,10],[5,4,3,2,1]],\"type\":\"surface\"}],                        {\"legend\":{\"bgcolor\":\"#F5F6F9\",\"font\":{\"color\":\"#4D5663\"}},\"paper_bgcolor\":\"#F5F6F9\",\"plot_bgcolor\":\"#F5F6F9\",\"template\":{\"data\":{\"barpolar\":[{\"marker\":{\"line\":{\"color\":\"#E5ECF6\",\"width\":0.5},\"pattern\":{\"fillmode\":\"overlay\",\"size\":10,\"solidity\":0.2}},\"type\":\"barpolar\"}],\"bar\":[{\"error_x\":{\"color\":\"#2a3f5f\"},\"error_y\":{\"color\":\"#2a3f5f\"},\"marker\":{\"line\":{\"color\":\"#E5ECF6\",\"width\":0.5},\"pattern\":{\"fillmode\":\"overlay\",\"size\":10,\"solidity\":0.2}},\"type\":\"bar\"}],\"carpet\":[{\"aaxis\":{\"endlinecolor\":\"#2a3f5f\",\"gridcolor\":\"white\",\"linecolor\":\"white\",\"minorgridcolor\":\"white\",\"startlinecolor\":\"#2a3f5f\"},\"baxis\":{\"endlinecolor\":\"#2a3f5f\",\"gridcolor\":\"white\",\"linecolor\":\"white\",\"minorgridcolor\":\"white\",\"startlinecolor\":\"#2a3f5f\"},\"type\":\"carpet\"}],\"choropleth\":[{\"colorbar\":{\"outlinewidth\":0,\"ticks\":\"\"},\"type\":\"choropleth\"}],\"contourcarpet\":[{\"colorbar\":{\"outlinewidth\":0,\"ticks\":\"\"},\"type\":\"contourcarpet\"}],\"contour\":[{\"colorbar\":{\"outlinewidth\":0,\"ticks\":\"\"},\"colorscale\":[[0.0,\"#0d0887\"],[0.1111111111111111,\"#46039f\"],[0.2222222222222222,\"#7201a8\"],[0.3333333333333333,\"#9c179e\"],[0.4444444444444444,\"#bd3786\"],[0.5555555555555556,\"#d8576b\"],[0.6666666666666666,\"#ed7953\"],[0.7777777777777778,\"#fb9f3a\"],[0.8888888888888888,\"#fdca26\"],[1.0,\"#f0f921\"]],\"type\":\"contour\"}],\"heatmapgl\":[{\"colorbar\":{\"outlinewidth\":0,\"ticks\":\"\"},\"colorscale\":[[0.0,\"#0d0887\"],[0.1111111111111111,\"#46039f\"],[0.2222222222222222,\"#7201a8\"],[0.3333333333333333,\"#9c179e\"],[0.4444444444444444,\"#bd3786\"],[0.5555555555555556,\"#d8576b\"],[0.6666666666666666,\"#ed7953\"],[0.7777777777777778,\"#fb9f3a\"],[0.8888888888888888,\"#fdca26\"],[1.0,\"#f0f921\"]],\"type\":\"heatmapgl\"}],\"heatmap\":[{\"colorbar\":{\"outlinewidth\":0,\"ticks\":\"\"},\"colorscale\":[[0.0,\"#0d0887\"],[0.1111111111111111,\"#46039f\"],[0.2222222222222222,\"#7201a8\"],[0.3333333333333333,\"#9c179e\"],[0.4444444444444444,\"#bd3786\"],[0.5555555555555556,\"#d8576b\"],[0.6666666666666666,\"#ed7953\"],[0.7777777777777778,\"#fb9f3a\"],[0.8888888888888888,\"#fdca26\"],[1.0,\"#f0f921\"]],\"type\":\"heatmap\"}],\"histogram2dcontour\":[{\"colorbar\":{\"outlinewidth\":0,\"ticks\":\"\"},\"colorscale\":[[0.0,\"#0d0887\"],[0.1111111111111111,\"#46039f\"],[0.2222222222222222,\"#7201a8\"],[0.3333333333333333,\"#9c179e\"],[0.4444444444444444,\"#bd3786\"],[0.5555555555555556,\"#d8576b\"],[0.6666666666666666,\"#ed7953\"],[0.7777777777777778,\"#fb9f3a\"],[0.8888888888888888,\"#fdca26\"],[1.0,\"#f0f921\"]],\"type\":\"histogram2dcontour\"}],\"histogram2d\":[{\"colorbar\":{\"outlinewidth\":0,\"ticks\":\"\"},\"colorscale\":[[0.0,\"#0d0887\"],[0.1111111111111111,\"#46039f\"],[0.2222222222222222,\"#7201a8\"],[0.3333333333333333,\"#9c179e\"],[0.4444444444444444,\"#bd3786\"],[0.5555555555555556,\"#d8576b\"],[0.6666666666666666,\"#ed7953\"],[0.7777777777777778,\"#fb9f3a\"],[0.8888888888888888,\"#fdca26\"],[1.0,\"#f0f921\"]],\"type\":\"histogram2d\"}],\"histogram\":[{\"marker\":{\"pattern\":{\"fillmode\":\"overlay\",\"size\":10,\"solidity\":0.2}},\"type\":\"histogram\"}],\"mesh3d\":[{\"colorbar\":{\"outlinewidth\":0,\"ticks\":\"\"},\"type\":\"mesh3d\"}],\"parcoords\":[{\"line\":{\"colorbar\":{\"outlinewidth\":0,\"ticks\":\"\"}},\"type\":\"parcoords\"}],\"pie\":[{\"automargin\":true,\"type\":\"pie\"}],\"scatter3d\":[{\"line\":{\"colorbar\":{\"outlinewidth\":0,\"ticks\":\"\"}},\"marker\":{\"colorbar\":{\"outlinewidth\":0,\"ticks\":\"\"}},\"type\":\"scatter3d\"}],\"scattercarpet\":[{\"marker\":{\"colorbar\":{\"outlinewidth\":0,\"ticks\":\"\"}},\"type\":\"scattercarpet\"}],\"scattergeo\":[{\"marker\":{\"colorbar\":{\"outlinewidth\":0,\"ticks\":\"\"}},\"type\":\"scattergeo\"}],\"scattergl\":[{\"marker\":{\"colorbar\":{\"outlinewidth\":0,\"ticks\":\"\"}},\"type\":\"scattergl\"}],\"scattermapbox\":[{\"marker\":{\"colorbar\":{\"outlinewidth\":0,\"ticks\":\"\"}},\"type\":\"scattermapbox\"}],\"scatterpolargl\":[{\"marker\":{\"colorbar\":{\"outlinewidth\":0,\"ticks\":\"\"}},\"type\":\"scatterpolargl\"}],\"scatterpolar\":[{\"marker\":{\"colorbar\":{\"outlinewidth\":0,\"ticks\":\"\"}},\"type\":\"scatterpolar\"}],\"scatter\":[{\"fillpattern\":{\"fillmode\":\"overlay\",\"size\":10,\"solidity\":0.2},\"type\":\"scatter\"}],\"scatterternary\":[{\"marker\":{\"colorbar\":{\"outlinewidth\":0,\"ticks\":\"\"}},\"type\":\"scatterternary\"}],\"surface\":[{\"colorbar\":{\"outlinewidth\":0,\"ticks\":\"\"},\"colorscale\":[[0.0,\"#0d0887\"],[0.1111111111111111,\"#46039f\"],[0.2222222222222222,\"#7201a8\"],[0.3333333333333333,\"#9c179e\"],[0.4444444444444444,\"#bd3786\"],[0.5555555555555556,\"#d8576b\"],[0.6666666666666666,\"#ed7953\"],[0.7777777777777778,\"#fb9f3a\"],[0.8888888888888888,\"#fdca26\"],[1.0,\"#f0f921\"]],\"type\":\"surface\"}],\"table\":[{\"cells\":{\"fill\":{\"color\":\"#EBF0F8\"},\"line\":{\"color\":\"white\"}},\"header\":{\"fill\":{\"color\":\"#C8D4E3\"},\"line\":{\"color\":\"white\"}},\"type\":\"table\"}]},\"layout\":{\"annotationdefaults\":{\"arrowcolor\":\"#2a3f5f\",\"arrowhead\":0,\"arrowwidth\":1},\"autotypenumbers\":\"strict\",\"coloraxis\":{\"colorbar\":{\"outlinewidth\":0,\"ticks\":\"\"}},\"colorscale\":{\"diverging\":[[0,\"#8e0152\"],[0.1,\"#c51b7d\"],[0.2,\"#de77ae\"],[0.3,\"#f1b6da\"],[0.4,\"#fde0ef\"],[0.5,\"#f7f7f7\"],[0.6,\"#e6f5d0\"],[0.7,\"#b8e186\"],[0.8,\"#7fbc41\"],[0.9,\"#4d9221\"],[1,\"#276419\"]],\"sequential\":[[0.0,\"#0d0887\"],[0.1111111111111111,\"#46039f\"],[0.2222222222222222,\"#7201a8\"],[0.3333333333333333,\"#9c179e\"],[0.4444444444444444,\"#bd3786\"],[0.5555555555555556,\"#d8576b\"],[0.6666666666666666,\"#ed7953\"],[0.7777777777777778,\"#fb9f3a\"],[0.8888888888888888,\"#fdca26\"],[1.0,\"#f0f921\"]],\"sequentialminus\":[[0.0,\"#0d0887\"],[0.1111111111111111,\"#46039f\"],[0.2222222222222222,\"#7201a8\"],[0.3333333333333333,\"#9c179e\"],[0.4444444444444444,\"#bd3786\"],[0.5555555555555556,\"#d8576b\"],[0.6666666666666666,\"#ed7953\"],[0.7777777777777778,\"#fb9f3a\"],[0.8888888888888888,\"#fdca26\"],[1.0,\"#f0f921\"]]},\"colorway\":[\"#636efa\",\"#EF553B\",\"#00cc96\",\"#ab63fa\",\"#FFA15A\",\"#19d3f3\",\"#FF6692\",\"#B6E880\",\"#FF97FF\",\"#FECB52\"],\"font\":{\"color\":\"#2a3f5f\"},\"geo\":{\"bgcolor\":\"white\",\"lakecolor\":\"white\",\"landcolor\":\"#E5ECF6\",\"showlakes\":true,\"showland\":true,\"subunitcolor\":\"white\"},\"hoverlabel\":{\"align\":\"left\"},\"hovermode\":\"closest\",\"mapbox\":{\"style\":\"light\"},\"paper_bgcolor\":\"white\",\"plot_bgcolor\":\"#E5ECF6\",\"polar\":{\"angularaxis\":{\"gridcolor\":\"white\",\"linecolor\":\"white\",\"ticks\":\"\"},\"bgcolor\":\"#E5ECF6\",\"radialaxis\":{\"gridcolor\":\"white\",\"linecolor\":\"white\",\"ticks\":\"\"}},\"scene\":{\"xaxis\":{\"backgroundcolor\":\"#E5ECF6\",\"gridcolor\":\"white\",\"gridwidth\":2,\"linecolor\":\"white\",\"showbackground\":true,\"ticks\":\"\",\"zerolinecolor\":\"white\"},\"yaxis\":{\"backgroundcolor\":\"#E5ECF6\",\"gridcolor\":\"white\",\"gridwidth\":2,\"linecolor\":\"white\",\"showbackground\":true,\"ticks\":\"\",\"zerolinecolor\":\"white\"},\"zaxis\":{\"backgroundcolor\":\"#E5ECF6\",\"gridcolor\":\"white\",\"gridwidth\":2,\"linecolor\":\"white\",\"showbackground\":true,\"ticks\":\"\",\"zerolinecolor\":\"white\"}},\"shapedefaults\":{\"line\":{\"color\":\"#2a3f5f\"}},\"ternary\":{\"aaxis\":{\"gridcolor\":\"white\",\"linecolor\":\"white\",\"ticks\":\"\"},\"baxis\":{\"gridcolor\":\"white\",\"linecolor\":\"white\",\"ticks\":\"\"},\"bgcolor\":\"#E5ECF6\",\"caxis\":{\"gridcolor\":\"white\",\"linecolor\":\"white\",\"ticks\":\"\"}},\"title\":{\"x\":0.05},\"xaxis\":{\"automargin\":true,\"gridcolor\":\"white\",\"linecolor\":\"white\",\"ticks\":\"\",\"title\":{\"standoff\":15},\"zerolinecolor\":\"white\",\"zerolinewidth\":2},\"yaxis\":{\"automargin\":true,\"gridcolor\":\"white\",\"linecolor\":\"white\",\"ticks\":\"\",\"title\":{\"standoff\":15},\"zerolinecolor\":\"white\",\"zerolinewidth\":2}}},\"title\":{\"font\":{\"color\":\"#4D5663\"}},\"xaxis\":{\"gridcolor\":\"#E1E5ED\",\"showgrid\":true,\"tickfont\":{\"color\":\"#4D5663\"},\"title\":{\"font\":{\"color\":\"#4D5663\"},\"text\":\"\"},\"zerolinecolor\":\"#E1E5ED\"},\"yaxis\":{\"gridcolor\":\"#E1E5ED\",\"showgrid\":true,\"tickfont\":{\"color\":\"#4D5663\"},\"title\":{\"font\":{\"color\":\"#4D5663\"},\"text\":\"\"},\"zerolinecolor\":\"#E1E5ED\"}},                        {\"showLink\": true, \"linkText\": \"Export to plot.ly\", \"plotlyServerURL\": \"https://plot.ly\", \"responsive\": true}                    ).then(function(){\n",
       "                            \n",
       "var gd = document.getElementById('865eb673-6ceb-49e1-8c3d-d0b2ccdd80f7');\n",
       "var x = new MutationObserver(function (mutations, observer) {{\n",
       "        var display = window.getComputedStyle(gd).display;\n",
       "        if (!display || display === 'none') {{\n",
       "            console.log([gd, 'removed!']);\n",
       "            Plotly.purge(gd);\n",
       "            observer.disconnect();\n",
       "        }}\n",
       "}});\n",
       "\n",
       "// Listen for the removal of the full notebook cells\n",
       "var notebookContainer = gd.closest('#notebook-container');\n",
       "if (notebookContainer) {{\n",
       "    x.observe(notebookContainer, {childList: true});\n",
       "}}\n",
       "\n",
       "// Listen for the clearing of the current output cell\n",
       "var outputEl = gd.closest('.output');\n",
       "if (outputEl) {{\n",
       "    x.observe(outputEl, {childList: true});\n",
       "}}\n",
       "\n",
       "                        })                };                });            </script>        </div>"
      ]
     },
     "metadata": {},
     "output_type": "display_data"
    }
   ],
   "source": [
    "df3 = pd.DataFrame({'x':[1,2,3,4,5],'y':[10,20,30,20,10],'z':[5,4,3,2,1]})\n",
    "df3.iplot(kind='surface',colorscale='rdylbu')"
   ]
  },
  {
   "cell_type": "markdown",
   "metadata": {},
   "source": [
    "## Spread"
   ]
  },
  {
   "cell_type": "code",
   "execution_count": 22,
   "metadata": {
    "collapsed": false
   },
   "outputs": [
    {
     "name": "stderr",
     "output_type": "stream",
     "text": [
      "/Library/Frameworks/Python.framework/Versions/3.10/lib/python3.10/site-packages/cufflinks/plotlytools.py:849: FutureWarning:\n",
      "\n",
      "The pandas.np module is deprecated and will be removed from pandas in a future version. Import numpy directly instead.\n",
      "\n",
      "/Library/Frameworks/Python.framework/Versions/3.10/lib/python3.10/site-packages/cufflinks/plotlytools.py:850: FutureWarning:\n",
      "\n",
      "The pandas.np module is deprecated and will be removed from pandas in a future version. Import numpy directly instead.\n",
      "\n"
     ]
    },
    {
     "data": {
      "application/vnd.plotly.v1+json": {
       "config": {
        "linkText": "Export to plot.ly",
        "plotlyServerURL": "https://plot.ly",
        "showLink": true
       },
       "data": [
        {
         "line": {
          "color": "rgba(255, 153, 51, 1.0)",
          "dash": "solid",
          "shape": "linear",
          "width": 1.3
         },
         "mode": "lines",
         "name": "A",
         "text": "",
         "type": "scatter",
         "x": [
          0,
          1,
          2,
          3,
          4,
          5,
          6,
          7,
          8,
          9,
          10,
          11,
          12,
          13,
          14,
          15,
          16,
          17,
          18,
          19,
          20,
          21,
          22,
          23,
          24,
          25,
          26,
          27,
          28,
          29,
          30,
          31,
          32,
          33,
          34,
          35,
          36,
          37,
          38,
          39,
          40,
          41,
          42,
          43,
          44,
          45,
          46,
          47,
          48,
          49,
          50,
          51,
          52,
          53,
          54,
          55,
          56,
          57,
          58,
          59,
          60,
          61,
          62,
          63,
          64,
          65,
          66,
          67,
          68,
          69,
          70,
          71,
          72,
          73,
          74,
          75,
          76,
          77,
          78,
          79,
          80,
          81,
          82,
          83,
          84,
          85,
          86,
          87,
          88,
          89,
          90,
          91,
          92,
          93,
          94,
          95,
          96,
          97,
          98,
          99
         ],
         "y": [
          -2.1884820507782847,
          -0.665854098661476,
          -1.3805289926414221,
          0.7177941534943872,
          -0.5079070431201327,
          -0.9254963685928826,
          0.07017048731831337,
          0.21659018028573443,
          0.6575896902323115,
          -0.7203671430016564,
          -0.4166920710075472,
          2.0056519868881817,
          0.6918406586642192,
          0.49110899481134057,
          0.5466373701568074,
          -0.04127578675147474,
          0.22291597539964056,
          0.5763452889571342,
          0.41911610659334153,
          -0.31504689375569617,
          0.4669768174623604,
          -1.1695274117766445,
          0.7364608342129234,
          -0.00913063712385115,
          0.4672029130412262,
          0.3027817525521753,
          -0.3025856918475431,
          0.4814090585715446,
          1.2196755070669176,
          -1.8270222684398807,
          0.03969622994150524,
          0.49267569055571897,
          -1.0036984109980298,
          -0.5251861744257543,
          0.9567356862535921,
          0.5369929247907468,
          -0.3161285413972293,
          -0.23372531142567546,
          0.41941353903405504,
          0.9964794674939226,
          1.305109453726727,
          0.13922444356079225,
          0.9926080522740052,
          -0.22710951340968658,
          -0.9502175771734338,
          -1.0761110833899576,
          -1.9580748766236473,
          0.20971225777735275,
          1.2391462120039176,
          0.0818135721981462,
          0.6420050639601032,
          0.03006078239224604,
          0.8414977144772191,
          0.7684983026064448,
          -0.027808936326751008,
          -0.16199630268676807,
          -0.009273158470795998,
          0.8995871936145745,
          -0.7930661423405327,
          0.5707151536428917,
          0.4609763337839569,
          -0.023021464976791594,
          1.5288125472120464,
          -0.88742429995902,
          0.3543999676999108,
          0.04814749748529384,
          -0.14407270331860864,
          -2.3584959248198327,
          0.36567542321995156,
          -0.015323485088775136,
          -1.5982332084815438,
          0.9893498435573947,
          0.4456789009768896,
          -0.4835972012995954,
          0.724238904244639,
          0.4682482817716083,
          0.839859989114251,
          0.14543189713505314,
          -0.5605395285621488,
          2.424734950386747,
          -0.7078065009697314,
          0.20773014860940905,
          0.4663918993987398,
          0.3610962931455434,
          0.13425091696086852,
          -2.3312497232908567,
          -0.3117097124746467,
          -0.24559017583110648,
          1.0340199528911336,
          0.660608635496201,
          -2.267483582162584,
          1.63512298448028,
          0.4248298038123525,
          -0.3912365822983923,
          0.2771786484275452,
          0.10688871829352858,
          1.1166460747599436,
          0.41147203906190505,
          -0.9308940719640626,
          -1.732720177574506
         ]
        },
        {
         "line": {
          "color": "rgba(55, 128, 191, 1.0)",
          "dash": "solid",
          "shape": "linear",
          "width": 1.3
         },
         "mode": "lines",
         "name": "B",
         "text": "",
         "type": "scatter",
         "x": [
          0,
          1,
          2,
          3,
          4,
          5,
          6,
          7,
          8,
          9,
          10,
          11,
          12,
          13,
          14,
          15,
          16,
          17,
          18,
          19,
          20,
          21,
          22,
          23,
          24,
          25,
          26,
          27,
          28,
          29,
          30,
          31,
          32,
          33,
          34,
          35,
          36,
          37,
          38,
          39,
          40,
          41,
          42,
          43,
          44,
          45,
          46,
          47,
          48,
          49,
          50,
          51,
          52,
          53,
          54,
          55,
          56,
          57,
          58,
          59,
          60,
          61,
          62,
          63,
          64,
          65,
          66,
          67,
          68,
          69,
          70,
          71,
          72,
          73,
          74,
          75,
          76,
          77,
          78,
          79,
          80,
          81,
          82,
          83,
          84,
          85,
          86,
          87,
          88,
          89,
          90,
          91,
          92,
          93,
          94,
          95,
          96,
          97,
          98,
          99
         ],
         "y": [
          -0.967280454551769,
          -0.4262657421923561,
          0.6415234161208461,
          1.4759389662434033,
          -0.09751903940280975,
          0.17776569210575774,
          -1.2649818651982054,
          -1.1950371518335574,
          -1.556187143796085,
          -0.788478158888168,
          0.9597956528465741,
          0.052036199061202104,
          -0.22058592370822638,
          0.9816388590414287,
          1.0383803563519347,
          0.8547553132479587,
          -0.5886735459625771,
          -0.37439112569718785,
          -0.2623656153035446,
          -0.5320925874026364,
          -1.4220184369846043,
          0.846670864223348,
          -1.8163473370703958,
          1.3189836329571303,
          1.6637685364756059,
          -0.13395936428216373,
          -0.6293732266752319,
          0.2577807925648532,
          1.0847800174280025,
          -0.7978812148317082,
          -0.8020952268900989,
          -0.6264398798921825,
          -0.36587928505657796,
          1.0522610581970544,
          0.19094524404423097,
          0.7231352783492214,
          -0.2628470864698082,
          0.927313688901756,
          1.503651062051654,
          0.06638646092277749,
          0.26384475047205663,
          0.4890528362926341,
          0.3935599443259979,
          0.024380658205805403,
          -2.0629355520061763,
          0.9602761856506804,
          -0.23567940021145856,
          0.10727002685212225,
          -0.38412961854053373,
          -0.1229972569582122,
          1.5674833863914581,
          0.05797782859663407,
          -0.43345383829272444,
          0.5567694675572081,
          0.4512681681842402,
          -1.4878857727703223,
          1.191498577036202,
          1.5943146889736306,
          0.4194520044974007,
          1.7600425888987563,
          0.6701645912360255,
          -0.3075623135830556,
          0.27153889798225794,
          -0.1842878503559655,
          2.00223124160167,
          0.6777750123085785,
          -1.892415763831858,
          0.8178162088050249,
          0.08596553384700664,
          -0.6939299549913309,
          2.588584225766686,
          -0.11310923050999826,
          0.03988515313517068,
          0.4029126777124784,
          2.406680282475156,
          -0.15646532092047744,
          1.8857104455932763,
          -2.3106019408979512,
          0.21436153692103366,
          0.31521645299591206,
          -1.6168355582536302,
          1.9993223040445842,
          0.019732995776760843,
          0.9279181708398891,
          0.4702358093948719,
          1.9865857140568173,
          0.6992311527671162,
          0.28295041913737606,
          0.6206079271821591,
          -0.7272387976112539,
          0.3650724022216879,
          0.3842491991780508,
          -1.9554140814769014,
          -1.6132508173081423,
          1.4952438761609834,
          0.37003354614048906,
          0.08129741268596019,
          0.8568806010650221,
          0.21521236402235247,
          -0.9304045945205974
         ]
        },
        {
         "connectgaps": false,
         "fill": "tozeroy",
         "line": {
          "color": "green",
          "dash": "solid",
          "shape": "linear",
          "width": 0.5
         },
         "mode": "lines",
         "name": "Spread",
         "showlegend": false,
         "type": "scatter",
         "x": [
          0,
          1,
          2,
          3,
          4,
          5,
          6,
          7,
          8,
          9,
          10,
          11,
          12,
          13,
          14,
          15,
          16,
          17,
          18,
          19,
          20,
          21,
          22,
          23,
          24,
          25,
          26,
          27,
          28,
          29,
          30,
          31,
          32,
          33,
          34,
          35,
          36,
          37,
          38,
          39,
          40,
          41,
          42,
          43,
          44,
          45,
          46,
          47,
          48,
          49,
          50,
          51,
          52,
          53,
          54,
          55,
          56,
          57,
          58,
          59,
          60,
          61,
          62,
          63,
          64,
          65,
          66,
          67,
          68,
          69,
          70,
          71,
          72,
          73,
          74,
          75,
          76,
          77,
          78,
          79,
          80,
          81,
          82,
          83,
          84,
          85,
          86,
          87,
          88,
          89,
          90,
          91,
          92,
          93,
          94,
          95,
          96,
          97,
          98,
          99
         ],
         "xaxis": "x2",
         "y": [
          "",
          "",
          "",
          "",
          "",
          "",
          1.3351523525165188,
          1.4116273321192918,
          2.2137768340283968,
          0.06811101588651158,
          "",
          1.9536157878269795,
          0.9124265823724456,
          "",
          "",
          "",
          0.8115895213622177,
          0.950736414654322,
          0.681481721896886,
          0.21704569364694026,
          1.8889952544469648,
          "",
          2.5528081712833193,
          "",
          "",
          0.436741116834339,
          0.3267875348276888,
          0.2236282660066914,
          0.13489548963891518,
          "",
          0.8417914568316042,
          1.1191155704479014,
          "",
          "",
          0.7657904422093611,
          "",
          "",
          "",
          "",
          0.9300930065711451,
          1.0412647032546702,
          "",
          0.5990481079480072,
          "",
          1.1127179748327425,
          "",
          "",
          0.1024422309252305,
          1.6232758305444515,
          0.2048108291563584,
          "",
          "",
          1.2749515527699435,
          0.21172883504923667,
          "",
          1.3258894700835542,
          "",
          "",
          "",
          "",
          "",
          0.284540848606264,
          1.2572736492297885,
          "",
          "",
          "",
          1.7483430605132493,
          "",
          0.27970988937294494,
          0.6786064699025558,
          "",
          1.102459074067393,
          0.40579374784171895,
          "",
          "",
          0.6247136026920858,
          "",
          2.4560338380330045,
          "",
          2.1095184973908347,
          0.9090290572838988,
          "",
          0.44665890362197896,
          "",
          "",
          "",
          "",
          "",
          0.4134120257089745,
          1.3878474331074548,
          "",
          1.2508737853022291,
          2.380243885289254,
          1.22201423500975,
          "",
          "",
          1.0353486620739834,
          "",
          "",
          ""
         ],
         "yaxis": "y2"
        },
        {
         "connectgaps": false,
         "fill": "tozeroy",
         "line": {
          "color": "red",
          "dash": "solid",
          "shape": "linear",
          "width": 0.5
         },
         "mode": "lines",
         "name": "Spread",
         "showlegend": false,
         "type": "scatter",
         "x": [
          0,
          1,
          2,
          3,
          4,
          5,
          6,
          7,
          8,
          9,
          10,
          11,
          12,
          13,
          14,
          15,
          16,
          17,
          18,
          19,
          20,
          21,
          22,
          23,
          24,
          25,
          26,
          27,
          28,
          29,
          30,
          31,
          32,
          33,
          34,
          35,
          36,
          37,
          38,
          39,
          40,
          41,
          42,
          43,
          44,
          45,
          46,
          47,
          48,
          49,
          50,
          51,
          52,
          53,
          54,
          55,
          56,
          57,
          58,
          59,
          60,
          61,
          62,
          63,
          64,
          65,
          66,
          67,
          68,
          69,
          70,
          71,
          72,
          73,
          74,
          75,
          76,
          77,
          78,
          79,
          80,
          81,
          82,
          83,
          84,
          85,
          86,
          87,
          88,
          89,
          90,
          91,
          92,
          93,
          94,
          95,
          96,
          97,
          98,
          99
         ],
         "xaxis": "x2",
         "y": [
          -1.2212015962265157,
          -0.23958835646911997,
          -2.022052408762268,
          -0.758144812749016,
          -0.4103880037173229,
          -1.1032620606986403,
          "",
          "",
          "",
          "",
          -1.3764877238541213,
          "",
          "",
          -0.4905298642300881,
          -0.49174298619512735,
          -0.8960310999994334,
          "",
          "",
          "",
          "",
          "",
          -2.016198275999993,
          "",
          -1.3281142700809814,
          -1.1965656234343798,
          "",
          "",
          "",
          "",
          -1.0291410536081727,
          "",
          "",
          -0.6378191259414518,
          -1.5774472326228088,
          "",
          -0.18614235355847464,
          -0.05328145492742109,
          -1.1610390003274316,
          -1.0842375230175991,
          "",
          "",
          -0.34982839273184185,
          "",
          -0.251490171615492,
          "",
          -2.036387269040638,
          -1.7223954764121887,
          "",
          "",
          "",
          -0.925478322431355,
          -0.02791704620438803,
          "",
          "",
          -0.4790771045109912,
          "",
          -1.200771735506998,
          -0.6947274953590561,
          -1.2125181468379336,
          -1.1893274352558647,
          -0.20918825745206854,
          "",
          "",
          -0.7031364496030544,
          -1.647831273901759,
          -0.6296275148232847,
          "",
          -3.1763121336248576,
          "",
          "",
          -4.18681743424823,
          "",
          "",
          -0.8865098790120738,
          -1.682441378230517,
          "",
          -1.0458504564790254,
          "",
          -0.7749010654831825,
          "",
          "",
          -1.7915921554351752,
          "",
          -0.5668218776943457,
          -0.3359848924340034,
          -4.317835437347674,
          -1.0109408652417629,
          -0.5285405949684825,
          "",
          "",
          -2.632555984384272,
          "",
          "",
          "",
          -1.2180652277334383,
          -0.26314482784696047,
          "",
          -0.445408562003117,
          -1.146106435986415,
          -0.8023155830539086
         ],
         "yaxis": "y2"
        }
       ],
       "layout": {
        "hovermode": "x",
        "legend": {
         "bgcolor": "#F5F6F9",
         "font": {
          "color": "#4D5663"
         }
        },
        "paper_bgcolor": "#F5F6F9",
        "plot_bgcolor": "#F5F6F9",
        "template": {
         "data": {
          "bar": [
           {
            "error_x": {
             "color": "#2a3f5f"
            },
            "error_y": {
             "color": "#2a3f5f"
            },
            "marker": {
             "line": {
              "color": "#E5ECF6",
              "width": 0.5
             },
             "pattern": {
              "fillmode": "overlay",
              "size": 10,
              "solidity": 0.2
             }
            },
            "type": "bar"
           }
          ],
          "barpolar": [
           {
            "marker": {
             "line": {
              "color": "#E5ECF6",
              "width": 0.5
             },
             "pattern": {
              "fillmode": "overlay",
              "size": 10,
              "solidity": 0.2
             }
            },
            "type": "barpolar"
           }
          ],
          "carpet": [
           {
            "aaxis": {
             "endlinecolor": "#2a3f5f",
             "gridcolor": "white",
             "linecolor": "white",
             "minorgridcolor": "white",
             "startlinecolor": "#2a3f5f"
            },
            "baxis": {
             "endlinecolor": "#2a3f5f",
             "gridcolor": "white",
             "linecolor": "white",
             "minorgridcolor": "white",
             "startlinecolor": "#2a3f5f"
            },
            "type": "carpet"
           }
          ],
          "choropleth": [
           {
            "colorbar": {
             "outlinewidth": 0,
             "ticks": ""
            },
            "type": "choropleth"
           }
          ],
          "contour": [
           {
            "colorbar": {
             "outlinewidth": 0,
             "ticks": ""
            },
            "colorscale": [
             [
              0,
              "#0d0887"
             ],
             [
              0.1111111111111111,
              "#46039f"
             ],
             [
              0.2222222222222222,
              "#7201a8"
             ],
             [
              0.3333333333333333,
              "#9c179e"
             ],
             [
              0.4444444444444444,
              "#bd3786"
             ],
             [
              0.5555555555555556,
              "#d8576b"
             ],
             [
              0.6666666666666666,
              "#ed7953"
             ],
             [
              0.7777777777777778,
              "#fb9f3a"
             ],
             [
              0.8888888888888888,
              "#fdca26"
             ],
             [
              1,
              "#f0f921"
             ]
            ],
            "type": "contour"
           }
          ],
          "contourcarpet": [
           {
            "colorbar": {
             "outlinewidth": 0,
             "ticks": ""
            },
            "type": "contourcarpet"
           }
          ],
          "heatmap": [
           {
            "colorbar": {
             "outlinewidth": 0,
             "ticks": ""
            },
            "colorscale": [
             [
              0,
              "#0d0887"
             ],
             [
              0.1111111111111111,
              "#46039f"
             ],
             [
              0.2222222222222222,
              "#7201a8"
             ],
             [
              0.3333333333333333,
              "#9c179e"
             ],
             [
              0.4444444444444444,
              "#bd3786"
             ],
             [
              0.5555555555555556,
              "#d8576b"
             ],
             [
              0.6666666666666666,
              "#ed7953"
             ],
             [
              0.7777777777777778,
              "#fb9f3a"
             ],
             [
              0.8888888888888888,
              "#fdca26"
             ],
             [
              1,
              "#f0f921"
             ]
            ],
            "type": "heatmap"
           }
          ],
          "heatmapgl": [
           {
            "colorbar": {
             "outlinewidth": 0,
             "ticks": ""
            },
            "colorscale": [
             [
              0,
              "#0d0887"
             ],
             [
              0.1111111111111111,
              "#46039f"
             ],
             [
              0.2222222222222222,
              "#7201a8"
             ],
             [
              0.3333333333333333,
              "#9c179e"
             ],
             [
              0.4444444444444444,
              "#bd3786"
             ],
             [
              0.5555555555555556,
              "#d8576b"
             ],
             [
              0.6666666666666666,
              "#ed7953"
             ],
             [
              0.7777777777777778,
              "#fb9f3a"
             ],
             [
              0.8888888888888888,
              "#fdca26"
             ],
             [
              1,
              "#f0f921"
             ]
            ],
            "type": "heatmapgl"
           }
          ],
          "histogram": [
           {
            "marker": {
             "pattern": {
              "fillmode": "overlay",
              "size": 10,
              "solidity": 0.2
             }
            },
            "type": "histogram"
           }
          ],
          "histogram2d": [
           {
            "colorbar": {
             "outlinewidth": 0,
             "ticks": ""
            },
            "colorscale": [
             [
              0,
              "#0d0887"
             ],
             [
              0.1111111111111111,
              "#46039f"
             ],
             [
              0.2222222222222222,
              "#7201a8"
             ],
             [
              0.3333333333333333,
              "#9c179e"
             ],
             [
              0.4444444444444444,
              "#bd3786"
             ],
             [
              0.5555555555555556,
              "#d8576b"
             ],
             [
              0.6666666666666666,
              "#ed7953"
             ],
             [
              0.7777777777777778,
              "#fb9f3a"
             ],
             [
              0.8888888888888888,
              "#fdca26"
             ],
             [
              1,
              "#f0f921"
             ]
            ],
            "type": "histogram2d"
           }
          ],
          "histogram2dcontour": [
           {
            "colorbar": {
             "outlinewidth": 0,
             "ticks": ""
            },
            "colorscale": [
             [
              0,
              "#0d0887"
             ],
             [
              0.1111111111111111,
              "#46039f"
             ],
             [
              0.2222222222222222,
              "#7201a8"
             ],
             [
              0.3333333333333333,
              "#9c179e"
             ],
             [
              0.4444444444444444,
              "#bd3786"
             ],
             [
              0.5555555555555556,
              "#d8576b"
             ],
             [
              0.6666666666666666,
              "#ed7953"
             ],
             [
              0.7777777777777778,
              "#fb9f3a"
             ],
             [
              0.8888888888888888,
              "#fdca26"
             ],
             [
              1,
              "#f0f921"
             ]
            ],
            "type": "histogram2dcontour"
           }
          ],
          "mesh3d": [
           {
            "colorbar": {
             "outlinewidth": 0,
             "ticks": ""
            },
            "type": "mesh3d"
           }
          ],
          "parcoords": [
           {
            "line": {
             "colorbar": {
              "outlinewidth": 0,
              "ticks": ""
             }
            },
            "type": "parcoords"
           }
          ],
          "pie": [
           {
            "automargin": true,
            "type": "pie"
           }
          ],
          "scatter": [
           {
            "fillpattern": {
             "fillmode": "overlay",
             "size": 10,
             "solidity": 0.2
            },
            "type": "scatter"
           }
          ],
          "scatter3d": [
           {
            "line": {
             "colorbar": {
              "outlinewidth": 0,
              "ticks": ""
             }
            },
            "marker": {
             "colorbar": {
              "outlinewidth": 0,
              "ticks": ""
             }
            },
            "type": "scatter3d"
           }
          ],
          "scattercarpet": [
           {
            "marker": {
             "colorbar": {
              "outlinewidth": 0,
              "ticks": ""
             }
            },
            "type": "scattercarpet"
           }
          ],
          "scattergeo": [
           {
            "marker": {
             "colorbar": {
              "outlinewidth": 0,
              "ticks": ""
             }
            },
            "type": "scattergeo"
           }
          ],
          "scattergl": [
           {
            "marker": {
             "colorbar": {
              "outlinewidth": 0,
              "ticks": ""
             }
            },
            "type": "scattergl"
           }
          ],
          "scattermapbox": [
           {
            "marker": {
             "colorbar": {
              "outlinewidth": 0,
              "ticks": ""
             }
            },
            "type": "scattermapbox"
           }
          ],
          "scatterpolar": [
           {
            "marker": {
             "colorbar": {
              "outlinewidth": 0,
              "ticks": ""
             }
            },
            "type": "scatterpolar"
           }
          ],
          "scatterpolargl": [
           {
            "marker": {
             "colorbar": {
              "outlinewidth": 0,
              "ticks": ""
             }
            },
            "type": "scatterpolargl"
           }
          ],
          "scatterternary": [
           {
            "marker": {
             "colorbar": {
              "outlinewidth": 0,
              "ticks": ""
             }
            },
            "type": "scatterternary"
           }
          ],
          "surface": [
           {
            "colorbar": {
             "outlinewidth": 0,
             "ticks": ""
            },
            "colorscale": [
             [
              0,
              "#0d0887"
             ],
             [
              0.1111111111111111,
              "#46039f"
             ],
             [
              0.2222222222222222,
              "#7201a8"
             ],
             [
              0.3333333333333333,
              "#9c179e"
             ],
             [
              0.4444444444444444,
              "#bd3786"
             ],
             [
              0.5555555555555556,
              "#d8576b"
             ],
             [
              0.6666666666666666,
              "#ed7953"
             ],
             [
              0.7777777777777778,
              "#fb9f3a"
             ],
             [
              0.8888888888888888,
              "#fdca26"
             ],
             [
              1,
              "#f0f921"
             ]
            ],
            "type": "surface"
           }
          ],
          "table": [
           {
            "cells": {
             "fill": {
              "color": "#EBF0F8"
             },
             "line": {
              "color": "white"
             }
            },
            "header": {
             "fill": {
              "color": "#C8D4E3"
             },
             "line": {
              "color": "white"
             }
            },
            "type": "table"
           }
          ]
         },
         "layout": {
          "annotationdefaults": {
           "arrowcolor": "#2a3f5f",
           "arrowhead": 0,
           "arrowwidth": 1
          },
          "autotypenumbers": "strict",
          "coloraxis": {
           "colorbar": {
            "outlinewidth": 0,
            "ticks": ""
           }
          },
          "colorscale": {
           "diverging": [
            [
             0,
             "#8e0152"
            ],
            [
             0.1,
             "#c51b7d"
            ],
            [
             0.2,
             "#de77ae"
            ],
            [
             0.3,
             "#f1b6da"
            ],
            [
             0.4,
             "#fde0ef"
            ],
            [
             0.5,
             "#f7f7f7"
            ],
            [
             0.6,
             "#e6f5d0"
            ],
            [
             0.7,
             "#b8e186"
            ],
            [
             0.8,
             "#7fbc41"
            ],
            [
             0.9,
             "#4d9221"
            ],
            [
             1,
             "#276419"
            ]
           ],
           "sequential": [
            [
             0,
             "#0d0887"
            ],
            [
             0.1111111111111111,
             "#46039f"
            ],
            [
             0.2222222222222222,
             "#7201a8"
            ],
            [
             0.3333333333333333,
             "#9c179e"
            ],
            [
             0.4444444444444444,
             "#bd3786"
            ],
            [
             0.5555555555555556,
             "#d8576b"
            ],
            [
             0.6666666666666666,
             "#ed7953"
            ],
            [
             0.7777777777777778,
             "#fb9f3a"
            ],
            [
             0.8888888888888888,
             "#fdca26"
            ],
            [
             1,
             "#f0f921"
            ]
           ],
           "sequentialminus": [
            [
             0,
             "#0d0887"
            ],
            [
             0.1111111111111111,
             "#46039f"
            ],
            [
             0.2222222222222222,
             "#7201a8"
            ],
            [
             0.3333333333333333,
             "#9c179e"
            ],
            [
             0.4444444444444444,
             "#bd3786"
            ],
            [
             0.5555555555555556,
             "#d8576b"
            ],
            [
             0.6666666666666666,
             "#ed7953"
            ],
            [
             0.7777777777777778,
             "#fb9f3a"
            ],
            [
             0.8888888888888888,
             "#fdca26"
            ],
            [
             1,
             "#f0f921"
            ]
           ]
          },
          "colorway": [
           "#636efa",
           "#EF553B",
           "#00cc96",
           "#ab63fa",
           "#FFA15A",
           "#19d3f3",
           "#FF6692",
           "#B6E880",
           "#FF97FF",
           "#FECB52"
          ],
          "font": {
           "color": "#2a3f5f"
          },
          "geo": {
           "bgcolor": "white",
           "lakecolor": "white",
           "landcolor": "#E5ECF6",
           "showlakes": true,
           "showland": true,
           "subunitcolor": "white"
          },
          "hoverlabel": {
           "align": "left"
          },
          "hovermode": "closest",
          "mapbox": {
           "style": "light"
          },
          "paper_bgcolor": "white",
          "plot_bgcolor": "#E5ECF6",
          "polar": {
           "angularaxis": {
            "gridcolor": "white",
            "linecolor": "white",
            "ticks": ""
           },
           "bgcolor": "#E5ECF6",
           "radialaxis": {
            "gridcolor": "white",
            "linecolor": "white",
            "ticks": ""
           }
          },
          "scene": {
           "xaxis": {
            "backgroundcolor": "#E5ECF6",
            "gridcolor": "white",
            "gridwidth": 2,
            "linecolor": "white",
            "showbackground": true,
            "ticks": "",
            "zerolinecolor": "white"
           },
           "yaxis": {
            "backgroundcolor": "#E5ECF6",
            "gridcolor": "white",
            "gridwidth": 2,
            "linecolor": "white",
            "showbackground": true,
            "ticks": "",
            "zerolinecolor": "white"
           },
           "zaxis": {
            "backgroundcolor": "#E5ECF6",
            "gridcolor": "white",
            "gridwidth": 2,
            "linecolor": "white",
            "showbackground": true,
            "ticks": "",
            "zerolinecolor": "white"
           }
          },
          "shapedefaults": {
           "line": {
            "color": "#2a3f5f"
           }
          },
          "ternary": {
           "aaxis": {
            "gridcolor": "white",
            "linecolor": "white",
            "ticks": ""
           },
           "baxis": {
            "gridcolor": "white",
            "linecolor": "white",
            "ticks": ""
           },
           "bgcolor": "#E5ECF6",
           "caxis": {
            "gridcolor": "white",
            "linecolor": "white",
            "ticks": ""
           }
          },
          "title": {
           "x": 0.05
          },
          "xaxis": {
           "automargin": true,
           "gridcolor": "white",
           "linecolor": "white",
           "ticks": "",
           "title": {
            "standoff": 15
           },
           "zerolinecolor": "white",
           "zerolinewidth": 2
          },
          "yaxis": {
           "automargin": true,
           "gridcolor": "white",
           "linecolor": "white",
           "ticks": "",
           "title": {
            "standoff": 15
           },
           "zerolinecolor": "white",
           "zerolinewidth": 2
          }
         }
        },
        "title": {
         "font": {
          "color": "#4D5663"
         }
        },
        "xaxis": {
         "gridcolor": "#E1E5ED",
         "showgrid": true,
         "tickfont": {
          "color": "#4D5663"
         },
         "title": {
          "font": {
           "color": "#4D5663"
          },
          "text": ""
         },
         "zerolinecolor": "#E1E5ED"
        },
        "xaxis2": {
         "anchor": "y2",
         "gridcolor": "#E1E5ED",
         "showgrid": true,
         "showticklabels": false,
         "tickfont": {
          "color": "#4D5663"
         },
         "title": {
          "font": {
           "color": "#4D5663"
          },
          "text": ""
         },
         "zerolinecolor": "#E1E5ED"
        },
        "yaxis": {
         "domain": [
          0.3,
          1
         ],
         "gridcolor": "#E1E5ED",
         "showgrid": true,
         "tickfont": {
          "color": "#4D5663"
         },
         "title": {
          "font": {
           "color": "#4D5663"
          },
          "text": ""
         },
         "zerolinecolor": "#E1E5ED"
        },
        "yaxis2": {
         "domain": [
          0,
          0.25
         ],
         "gridcolor": "#E1E5ED",
         "showgrid": true,
         "tickfont": {
          "color": "#4D5663"
         },
         "title": {
          "font": {
           "color": "#4D5663"
          },
          "text": "Spread"
         },
         "zerolinecolor": "#E1E5ED"
        }
       }
      },
      "text/html": [
       "<div>                            <div id=\"ac56c528-ce5a-4e10-a6d4-9749724a8edf\" class=\"plotly-graph-div\" style=\"height:525px; width:100%;\"></div>            <script type=\"text/javascript\">                require([\"plotly\"], function(Plotly) {                    window.PLOTLYENV=window.PLOTLYENV || {};\n",
       "                    window.PLOTLYENV.BASE_URL='https://plot.ly';                                    if (document.getElementById(\"ac56c528-ce5a-4e10-a6d4-9749724a8edf\")) {                    Plotly.newPlot(                        \"ac56c528-ce5a-4e10-a6d4-9749724a8edf\",                        [{\"line\":{\"color\":\"rgba(255, 153, 51, 1.0)\",\"dash\":\"solid\",\"shape\":\"linear\",\"width\":1.3},\"mode\":\"lines\",\"name\":\"A\",\"text\":\"\",\"x\":[0,1,2,3,4,5,6,7,8,9,10,11,12,13,14,15,16,17,18,19,20,21,22,23,24,25,26,27,28,29,30,31,32,33,34,35,36,37,38,39,40,41,42,43,44,45,46,47,48,49,50,51,52,53,54,55,56,57,58,59,60,61,62,63,64,65,66,67,68,69,70,71,72,73,74,75,76,77,78,79,80,81,82,83,84,85,86,87,88,89,90,91,92,93,94,95,96,97,98,99],\"y\":[-2.1884820507782847,-0.665854098661476,-1.3805289926414221,0.7177941534943872,-0.5079070431201327,-0.9254963685928826,0.07017048731831337,0.21659018028573443,0.6575896902323115,-0.7203671430016564,-0.4166920710075472,2.0056519868881817,0.6918406586642192,0.49110899481134057,0.5466373701568074,-0.04127578675147474,0.22291597539964056,0.5763452889571342,0.41911610659334153,-0.31504689375569617,0.4669768174623604,-1.1695274117766445,0.7364608342129234,-0.00913063712385115,0.4672029130412262,0.3027817525521753,-0.3025856918475431,0.4814090585715446,1.2196755070669176,-1.8270222684398807,0.03969622994150524,0.49267569055571897,-1.0036984109980298,-0.5251861744257543,0.9567356862535921,0.5369929247907468,-0.3161285413972293,-0.23372531142567546,0.41941353903405504,0.9964794674939226,1.305109453726727,0.13922444356079225,0.9926080522740052,-0.22710951340968658,-0.9502175771734338,-1.0761110833899576,-1.9580748766236473,0.20971225777735275,1.2391462120039176,0.0818135721981462,0.6420050639601032,0.03006078239224604,0.8414977144772191,0.7684983026064448,-0.027808936326751008,-0.16199630268676807,-0.009273158470795998,0.8995871936145745,-0.7930661423405327,0.5707151536428917,0.4609763337839569,-0.023021464976791594,1.5288125472120464,-0.88742429995902,0.3543999676999108,0.04814749748529384,-0.14407270331860864,-2.3584959248198327,0.36567542321995156,-0.015323485088775136,-1.5982332084815438,0.9893498435573947,0.4456789009768896,-0.4835972012995954,0.724238904244639,0.4682482817716083,0.839859989114251,0.14543189713505314,-0.5605395285621488,2.424734950386747,-0.7078065009697314,0.20773014860940905,0.4663918993987398,0.3610962931455434,0.13425091696086852,-2.3312497232908567,-0.3117097124746467,-0.24559017583110648,1.0340199528911336,0.660608635496201,-2.267483582162584,1.63512298448028,0.4248298038123525,-0.3912365822983923,0.2771786484275452,0.10688871829352858,1.1166460747599436,0.41147203906190505,-0.9308940719640626,-1.732720177574506],\"type\":\"scatter\"},{\"line\":{\"color\":\"rgba(55, 128, 191, 1.0)\",\"dash\":\"solid\",\"shape\":\"linear\",\"width\":1.3},\"mode\":\"lines\",\"name\":\"B\",\"text\":\"\",\"x\":[0,1,2,3,4,5,6,7,8,9,10,11,12,13,14,15,16,17,18,19,20,21,22,23,24,25,26,27,28,29,30,31,32,33,34,35,36,37,38,39,40,41,42,43,44,45,46,47,48,49,50,51,52,53,54,55,56,57,58,59,60,61,62,63,64,65,66,67,68,69,70,71,72,73,74,75,76,77,78,79,80,81,82,83,84,85,86,87,88,89,90,91,92,93,94,95,96,97,98,99],\"y\":[-0.967280454551769,-0.4262657421923561,0.6415234161208461,1.4759389662434033,-0.09751903940280975,0.17776569210575774,-1.2649818651982054,-1.1950371518335574,-1.556187143796085,-0.788478158888168,0.9597956528465741,0.052036199061202104,-0.22058592370822638,0.9816388590414287,1.0383803563519347,0.8547553132479587,-0.5886735459625771,-0.37439112569718785,-0.2623656153035446,-0.5320925874026364,-1.4220184369846043,0.846670864223348,-1.8163473370703958,1.3189836329571303,1.6637685364756059,-0.13395936428216373,-0.6293732266752319,0.2577807925648532,1.0847800174280025,-0.7978812148317082,-0.8020952268900989,-0.6264398798921825,-0.36587928505657796,1.0522610581970544,0.19094524404423097,0.7231352783492214,-0.2628470864698082,0.927313688901756,1.503651062051654,0.06638646092277749,0.26384475047205663,0.4890528362926341,0.3935599443259979,0.024380658205805403,-2.0629355520061763,0.9602761856506804,-0.23567940021145856,0.10727002685212225,-0.38412961854053373,-0.1229972569582122,1.5674833863914581,0.05797782859663407,-0.43345383829272444,0.5567694675572081,0.4512681681842402,-1.4878857727703223,1.191498577036202,1.5943146889736306,0.4194520044974007,1.7600425888987563,0.6701645912360255,-0.3075623135830556,0.27153889798225794,-0.1842878503559655,2.00223124160167,0.6777750123085785,-1.892415763831858,0.8178162088050249,0.08596553384700664,-0.6939299549913309,2.588584225766686,-0.11310923050999826,0.03988515313517068,0.4029126777124784,2.406680282475156,-0.15646532092047744,1.8857104455932763,-2.3106019408979512,0.21436153692103366,0.31521645299591206,-1.6168355582536302,1.9993223040445842,0.019732995776760843,0.9279181708398891,0.4702358093948719,1.9865857140568173,0.6992311527671162,0.28295041913737606,0.6206079271821591,-0.7272387976112539,0.3650724022216879,0.3842491991780508,-1.9554140814769014,-1.6132508173081423,1.4952438761609834,0.37003354614048906,0.08129741268596019,0.8568806010650221,0.21521236402235247,-0.9304045945205974],\"type\":\"scatter\"},{\"connectgaps\":false,\"fill\":\"tozeroy\",\"line\":{\"color\":\"green\",\"dash\":\"solid\",\"shape\":\"linear\",\"width\":0.5},\"mode\":\"lines\",\"name\":\"Spread\",\"showlegend\":false,\"x\":[0,1,2,3,4,5,6,7,8,9,10,11,12,13,14,15,16,17,18,19,20,21,22,23,24,25,26,27,28,29,30,31,32,33,34,35,36,37,38,39,40,41,42,43,44,45,46,47,48,49,50,51,52,53,54,55,56,57,58,59,60,61,62,63,64,65,66,67,68,69,70,71,72,73,74,75,76,77,78,79,80,81,82,83,84,85,86,87,88,89,90,91,92,93,94,95,96,97,98,99],\"xaxis\":\"x2\",\"y\":[\"\",\"\",\"\",\"\",\"\",\"\",1.3351523525165188,1.4116273321192918,2.2137768340283968,0.06811101588651158,\"\",1.9536157878269795,0.9124265823724456,\"\",\"\",\"\",0.8115895213622177,0.950736414654322,0.681481721896886,0.21704569364694026,1.8889952544469648,\"\",2.5528081712833193,\"\",\"\",0.436741116834339,0.3267875348276888,0.2236282660066914,0.13489548963891518,\"\",0.8417914568316042,1.1191155704479014,\"\",\"\",0.7657904422093611,\"\",\"\",\"\",\"\",0.9300930065711451,1.0412647032546702,\"\",0.5990481079480072,\"\",1.1127179748327425,\"\",\"\",0.1024422309252305,1.6232758305444515,0.2048108291563584,\"\",\"\",1.2749515527699435,0.21172883504923667,\"\",1.3258894700835542,\"\",\"\",\"\",\"\",\"\",0.284540848606264,1.2572736492297885,\"\",\"\",\"\",1.7483430605132493,\"\",0.27970988937294494,0.6786064699025558,\"\",1.102459074067393,0.40579374784171895,\"\",\"\",0.6247136026920858,\"\",2.4560338380330045,\"\",2.1095184973908347,0.9090290572838988,\"\",0.44665890362197896,\"\",\"\",\"\",\"\",\"\",0.4134120257089745,1.3878474331074548,\"\",1.2508737853022291,2.380243885289254,1.22201423500975,\"\",\"\",1.0353486620739834,\"\",\"\",\"\"],\"yaxis\":\"y2\",\"type\":\"scatter\"},{\"connectgaps\":false,\"fill\":\"tozeroy\",\"line\":{\"color\":\"red\",\"dash\":\"solid\",\"shape\":\"linear\",\"width\":0.5},\"mode\":\"lines\",\"name\":\"Spread\",\"showlegend\":false,\"x\":[0,1,2,3,4,5,6,7,8,9,10,11,12,13,14,15,16,17,18,19,20,21,22,23,24,25,26,27,28,29,30,31,32,33,34,35,36,37,38,39,40,41,42,43,44,45,46,47,48,49,50,51,52,53,54,55,56,57,58,59,60,61,62,63,64,65,66,67,68,69,70,71,72,73,74,75,76,77,78,79,80,81,82,83,84,85,86,87,88,89,90,91,92,93,94,95,96,97,98,99],\"xaxis\":\"x2\",\"y\":[-1.2212015962265157,-0.23958835646911997,-2.022052408762268,-0.758144812749016,-0.4103880037173229,-1.1032620606986403,\"\",\"\",\"\",\"\",-1.3764877238541213,\"\",\"\",-0.4905298642300881,-0.49174298619512735,-0.8960310999994334,\"\",\"\",\"\",\"\",\"\",-2.016198275999993,\"\",-1.3281142700809814,-1.1965656234343798,\"\",\"\",\"\",\"\",-1.0291410536081727,\"\",\"\",-0.6378191259414518,-1.5774472326228088,\"\",-0.18614235355847464,-0.05328145492742109,-1.1610390003274316,-1.0842375230175991,\"\",\"\",-0.34982839273184185,\"\",-0.251490171615492,\"\",-2.036387269040638,-1.7223954764121887,\"\",\"\",\"\",-0.925478322431355,-0.02791704620438803,\"\",\"\",-0.4790771045109912,\"\",-1.200771735506998,-0.6947274953590561,-1.2125181468379336,-1.1893274352558647,-0.20918825745206854,\"\",\"\",-0.7031364496030544,-1.647831273901759,-0.6296275148232847,\"\",-3.1763121336248576,\"\",\"\",-4.18681743424823,\"\",\"\",-0.8865098790120738,-1.682441378230517,\"\",-1.0458504564790254,\"\",-0.7749010654831825,\"\",\"\",-1.7915921554351752,\"\",-0.5668218776943457,-0.3359848924340034,-4.317835437347674,-1.0109408652417629,-0.5285405949684825,\"\",\"\",-2.632555984384272,\"\",\"\",\"\",-1.2180652277334383,-0.26314482784696047,\"\",-0.445408562003117,-1.146106435986415,-0.8023155830539086],\"yaxis\":\"y2\",\"type\":\"scatter\"}],                        {\"hovermode\":\"x\",\"legend\":{\"bgcolor\":\"#F5F6F9\",\"font\":{\"color\":\"#4D5663\"}},\"paper_bgcolor\":\"#F5F6F9\",\"plot_bgcolor\":\"#F5F6F9\",\"template\":{\"data\":{\"barpolar\":[{\"marker\":{\"line\":{\"color\":\"#E5ECF6\",\"width\":0.5},\"pattern\":{\"fillmode\":\"overlay\",\"size\":10,\"solidity\":0.2}},\"type\":\"barpolar\"}],\"bar\":[{\"error_x\":{\"color\":\"#2a3f5f\"},\"error_y\":{\"color\":\"#2a3f5f\"},\"marker\":{\"line\":{\"color\":\"#E5ECF6\",\"width\":0.5},\"pattern\":{\"fillmode\":\"overlay\",\"size\":10,\"solidity\":0.2}},\"type\":\"bar\"}],\"carpet\":[{\"aaxis\":{\"endlinecolor\":\"#2a3f5f\",\"gridcolor\":\"white\",\"linecolor\":\"white\",\"minorgridcolor\":\"white\",\"startlinecolor\":\"#2a3f5f\"},\"baxis\":{\"endlinecolor\":\"#2a3f5f\",\"gridcolor\":\"white\",\"linecolor\":\"white\",\"minorgridcolor\":\"white\",\"startlinecolor\":\"#2a3f5f\"},\"type\":\"carpet\"}],\"choropleth\":[{\"colorbar\":{\"outlinewidth\":0,\"ticks\":\"\"},\"type\":\"choropleth\"}],\"contourcarpet\":[{\"colorbar\":{\"outlinewidth\":0,\"ticks\":\"\"},\"type\":\"contourcarpet\"}],\"contour\":[{\"colorbar\":{\"outlinewidth\":0,\"ticks\":\"\"},\"colorscale\":[[0.0,\"#0d0887\"],[0.1111111111111111,\"#46039f\"],[0.2222222222222222,\"#7201a8\"],[0.3333333333333333,\"#9c179e\"],[0.4444444444444444,\"#bd3786\"],[0.5555555555555556,\"#d8576b\"],[0.6666666666666666,\"#ed7953\"],[0.7777777777777778,\"#fb9f3a\"],[0.8888888888888888,\"#fdca26\"],[1.0,\"#f0f921\"]],\"type\":\"contour\"}],\"heatmapgl\":[{\"colorbar\":{\"outlinewidth\":0,\"ticks\":\"\"},\"colorscale\":[[0.0,\"#0d0887\"],[0.1111111111111111,\"#46039f\"],[0.2222222222222222,\"#7201a8\"],[0.3333333333333333,\"#9c179e\"],[0.4444444444444444,\"#bd3786\"],[0.5555555555555556,\"#d8576b\"],[0.6666666666666666,\"#ed7953\"],[0.7777777777777778,\"#fb9f3a\"],[0.8888888888888888,\"#fdca26\"],[1.0,\"#f0f921\"]],\"type\":\"heatmapgl\"}],\"heatmap\":[{\"colorbar\":{\"outlinewidth\":0,\"ticks\":\"\"},\"colorscale\":[[0.0,\"#0d0887\"],[0.1111111111111111,\"#46039f\"],[0.2222222222222222,\"#7201a8\"],[0.3333333333333333,\"#9c179e\"],[0.4444444444444444,\"#bd3786\"],[0.5555555555555556,\"#d8576b\"],[0.6666666666666666,\"#ed7953\"],[0.7777777777777778,\"#fb9f3a\"],[0.8888888888888888,\"#fdca26\"],[1.0,\"#f0f921\"]],\"type\":\"heatmap\"}],\"histogram2dcontour\":[{\"colorbar\":{\"outlinewidth\":0,\"ticks\":\"\"},\"colorscale\":[[0.0,\"#0d0887\"],[0.1111111111111111,\"#46039f\"],[0.2222222222222222,\"#7201a8\"],[0.3333333333333333,\"#9c179e\"],[0.4444444444444444,\"#bd3786\"],[0.5555555555555556,\"#d8576b\"],[0.6666666666666666,\"#ed7953\"],[0.7777777777777778,\"#fb9f3a\"],[0.8888888888888888,\"#fdca26\"],[1.0,\"#f0f921\"]],\"type\":\"histogram2dcontour\"}],\"histogram2d\":[{\"colorbar\":{\"outlinewidth\":0,\"ticks\":\"\"},\"colorscale\":[[0.0,\"#0d0887\"],[0.1111111111111111,\"#46039f\"],[0.2222222222222222,\"#7201a8\"],[0.3333333333333333,\"#9c179e\"],[0.4444444444444444,\"#bd3786\"],[0.5555555555555556,\"#d8576b\"],[0.6666666666666666,\"#ed7953\"],[0.7777777777777778,\"#fb9f3a\"],[0.8888888888888888,\"#fdca26\"],[1.0,\"#f0f921\"]],\"type\":\"histogram2d\"}],\"histogram\":[{\"marker\":{\"pattern\":{\"fillmode\":\"overlay\",\"size\":10,\"solidity\":0.2}},\"type\":\"histogram\"}],\"mesh3d\":[{\"colorbar\":{\"outlinewidth\":0,\"ticks\":\"\"},\"type\":\"mesh3d\"}],\"parcoords\":[{\"line\":{\"colorbar\":{\"outlinewidth\":0,\"ticks\":\"\"}},\"type\":\"parcoords\"}],\"pie\":[{\"automargin\":true,\"type\":\"pie\"}],\"scatter3d\":[{\"line\":{\"colorbar\":{\"outlinewidth\":0,\"ticks\":\"\"}},\"marker\":{\"colorbar\":{\"outlinewidth\":0,\"ticks\":\"\"}},\"type\":\"scatter3d\"}],\"scattercarpet\":[{\"marker\":{\"colorbar\":{\"outlinewidth\":0,\"ticks\":\"\"}},\"type\":\"scattercarpet\"}],\"scattergeo\":[{\"marker\":{\"colorbar\":{\"outlinewidth\":0,\"ticks\":\"\"}},\"type\":\"scattergeo\"}],\"scattergl\":[{\"marker\":{\"colorbar\":{\"outlinewidth\":0,\"ticks\":\"\"}},\"type\":\"scattergl\"}],\"scattermapbox\":[{\"marker\":{\"colorbar\":{\"outlinewidth\":0,\"ticks\":\"\"}},\"type\":\"scattermapbox\"}],\"scatterpolargl\":[{\"marker\":{\"colorbar\":{\"outlinewidth\":0,\"ticks\":\"\"}},\"type\":\"scatterpolargl\"}],\"scatterpolar\":[{\"marker\":{\"colorbar\":{\"outlinewidth\":0,\"ticks\":\"\"}},\"type\":\"scatterpolar\"}],\"scatter\":[{\"fillpattern\":{\"fillmode\":\"overlay\",\"size\":10,\"solidity\":0.2},\"type\":\"scatter\"}],\"scatterternary\":[{\"marker\":{\"colorbar\":{\"outlinewidth\":0,\"ticks\":\"\"}},\"type\":\"scatterternary\"}],\"surface\":[{\"colorbar\":{\"outlinewidth\":0,\"ticks\":\"\"},\"colorscale\":[[0.0,\"#0d0887\"],[0.1111111111111111,\"#46039f\"],[0.2222222222222222,\"#7201a8\"],[0.3333333333333333,\"#9c179e\"],[0.4444444444444444,\"#bd3786\"],[0.5555555555555556,\"#d8576b\"],[0.6666666666666666,\"#ed7953\"],[0.7777777777777778,\"#fb9f3a\"],[0.8888888888888888,\"#fdca26\"],[1.0,\"#f0f921\"]],\"type\":\"surface\"}],\"table\":[{\"cells\":{\"fill\":{\"color\":\"#EBF0F8\"},\"line\":{\"color\":\"white\"}},\"header\":{\"fill\":{\"color\":\"#C8D4E3\"},\"line\":{\"color\":\"white\"}},\"type\":\"table\"}]},\"layout\":{\"annotationdefaults\":{\"arrowcolor\":\"#2a3f5f\",\"arrowhead\":0,\"arrowwidth\":1},\"autotypenumbers\":\"strict\",\"coloraxis\":{\"colorbar\":{\"outlinewidth\":0,\"ticks\":\"\"}},\"colorscale\":{\"diverging\":[[0,\"#8e0152\"],[0.1,\"#c51b7d\"],[0.2,\"#de77ae\"],[0.3,\"#f1b6da\"],[0.4,\"#fde0ef\"],[0.5,\"#f7f7f7\"],[0.6,\"#e6f5d0\"],[0.7,\"#b8e186\"],[0.8,\"#7fbc41\"],[0.9,\"#4d9221\"],[1,\"#276419\"]],\"sequential\":[[0.0,\"#0d0887\"],[0.1111111111111111,\"#46039f\"],[0.2222222222222222,\"#7201a8\"],[0.3333333333333333,\"#9c179e\"],[0.4444444444444444,\"#bd3786\"],[0.5555555555555556,\"#d8576b\"],[0.6666666666666666,\"#ed7953\"],[0.7777777777777778,\"#fb9f3a\"],[0.8888888888888888,\"#fdca26\"],[1.0,\"#f0f921\"]],\"sequentialminus\":[[0.0,\"#0d0887\"],[0.1111111111111111,\"#46039f\"],[0.2222222222222222,\"#7201a8\"],[0.3333333333333333,\"#9c179e\"],[0.4444444444444444,\"#bd3786\"],[0.5555555555555556,\"#d8576b\"],[0.6666666666666666,\"#ed7953\"],[0.7777777777777778,\"#fb9f3a\"],[0.8888888888888888,\"#fdca26\"],[1.0,\"#f0f921\"]]},\"colorway\":[\"#636efa\",\"#EF553B\",\"#00cc96\",\"#ab63fa\",\"#FFA15A\",\"#19d3f3\",\"#FF6692\",\"#B6E880\",\"#FF97FF\",\"#FECB52\"],\"font\":{\"color\":\"#2a3f5f\"},\"geo\":{\"bgcolor\":\"white\",\"lakecolor\":\"white\",\"landcolor\":\"#E5ECF6\",\"showlakes\":true,\"showland\":true,\"subunitcolor\":\"white\"},\"hoverlabel\":{\"align\":\"left\"},\"hovermode\":\"closest\",\"mapbox\":{\"style\":\"light\"},\"paper_bgcolor\":\"white\",\"plot_bgcolor\":\"#E5ECF6\",\"polar\":{\"angularaxis\":{\"gridcolor\":\"white\",\"linecolor\":\"white\",\"ticks\":\"\"},\"bgcolor\":\"#E5ECF6\",\"radialaxis\":{\"gridcolor\":\"white\",\"linecolor\":\"white\",\"ticks\":\"\"}},\"scene\":{\"xaxis\":{\"backgroundcolor\":\"#E5ECF6\",\"gridcolor\":\"white\",\"gridwidth\":2,\"linecolor\":\"white\",\"showbackground\":true,\"ticks\":\"\",\"zerolinecolor\":\"white\"},\"yaxis\":{\"backgroundcolor\":\"#E5ECF6\",\"gridcolor\":\"white\",\"gridwidth\":2,\"linecolor\":\"white\",\"showbackground\":true,\"ticks\":\"\",\"zerolinecolor\":\"white\"},\"zaxis\":{\"backgroundcolor\":\"#E5ECF6\",\"gridcolor\":\"white\",\"gridwidth\":2,\"linecolor\":\"white\",\"showbackground\":true,\"ticks\":\"\",\"zerolinecolor\":\"white\"}},\"shapedefaults\":{\"line\":{\"color\":\"#2a3f5f\"}},\"ternary\":{\"aaxis\":{\"gridcolor\":\"white\",\"linecolor\":\"white\",\"ticks\":\"\"},\"baxis\":{\"gridcolor\":\"white\",\"linecolor\":\"white\",\"ticks\":\"\"},\"bgcolor\":\"#E5ECF6\",\"caxis\":{\"gridcolor\":\"white\",\"linecolor\":\"white\",\"ticks\":\"\"}},\"title\":{\"x\":0.05},\"xaxis\":{\"automargin\":true,\"gridcolor\":\"white\",\"linecolor\":\"white\",\"ticks\":\"\",\"title\":{\"standoff\":15},\"zerolinecolor\":\"white\",\"zerolinewidth\":2},\"yaxis\":{\"automargin\":true,\"gridcolor\":\"white\",\"linecolor\":\"white\",\"ticks\":\"\",\"title\":{\"standoff\":15},\"zerolinecolor\":\"white\",\"zerolinewidth\":2}}},\"title\":{\"font\":{\"color\":\"#4D5663\"}},\"xaxis\":{\"gridcolor\":\"#E1E5ED\",\"showgrid\":true,\"tickfont\":{\"color\":\"#4D5663\"},\"title\":{\"font\":{\"color\":\"#4D5663\"},\"text\":\"\"},\"zerolinecolor\":\"#E1E5ED\"},\"yaxis\":{\"domain\":[0.3,1],\"gridcolor\":\"#E1E5ED\",\"showgrid\":true,\"tickfont\":{\"color\":\"#4D5663\"},\"title\":{\"font\":{\"color\":\"#4D5663\"},\"text\":\"\"},\"zerolinecolor\":\"#E1E5ED\"},\"yaxis2\":{\"domain\":[0,0.25],\"gridcolor\":\"#E1E5ED\",\"showgrid\":true,\"tickfont\":{\"color\":\"#4D5663\"},\"title\":{\"font\":{\"color\":\"#4D5663\"},\"text\":\"Spread\"},\"zerolinecolor\":\"#E1E5ED\"},\"xaxis2\":{\"anchor\":\"y2\",\"gridcolor\":\"#E1E5ED\",\"showgrid\":true,\"showticklabels\":false,\"tickfont\":{\"color\":\"#4D5663\"},\"title\":{\"font\":{\"color\":\"#4D5663\"},\"text\":\"\"},\"zerolinecolor\":\"#E1E5ED\"}},                        {\"showLink\": true, \"linkText\": \"Export to plot.ly\", \"plotlyServerURL\": \"https://plot.ly\", \"responsive\": true}                    ).then(function(){\n",
       "                            \n",
       "var gd = document.getElementById('ac56c528-ce5a-4e10-a6d4-9749724a8edf');\n",
       "var x = new MutationObserver(function (mutations, observer) {{\n",
       "        var display = window.getComputedStyle(gd).display;\n",
       "        if (!display || display === 'none') {{\n",
       "            console.log([gd, 'removed!']);\n",
       "            Plotly.purge(gd);\n",
       "            observer.disconnect();\n",
       "        }}\n",
       "}});\n",
       "\n",
       "// Listen for the removal of the full notebook cells\n",
       "var notebookContainer = gd.closest('#notebook-container');\n",
       "if (notebookContainer) {{\n",
       "    x.observe(notebookContainer, {childList: true});\n",
       "}}\n",
       "\n",
       "// Listen for the clearing of the current output cell\n",
       "var outputEl = gd.closest('.output');\n",
       "if (outputEl) {{\n",
       "    x.observe(outputEl, {childList: true});\n",
       "}}\n",
       "\n",
       "                        })                };                });            </script>        </div>"
      ]
     },
     "metadata": {},
     "output_type": "display_data"
    }
   ],
   "source": [
    "df[['A','B']].iplot(kind='spread')"
   ]
  },
  {
   "cell_type": "markdown",
   "metadata": {},
   "source": [
    "## histogram"
   ]
  },
  {
   "cell_type": "code",
   "execution_count": 23,
   "metadata": {
    "collapsed": false
   },
   "outputs": [
    {
     "data": {
      "application/vnd.plotly.v1+json": {
       "config": {
        "linkText": "Export to plot.ly",
        "plotlyServerURL": "https://plot.ly",
        "showLink": true
       },
       "data": [
        {
         "histfunc": "count",
         "histnorm": "",
         "marker": {
          "color": "rgba(255, 153, 51, 1.0)",
          "line": {
           "color": "#4D5663",
           "width": 1.3
          }
         },
         "name": "A",
         "nbinsx": 25,
         "opacity": 0.8,
         "orientation": "v",
         "type": "histogram",
         "x": [
          -2.1884820507782847,
          -0.665854098661476,
          -1.3805289926414221,
          0.7177941534943872,
          -0.5079070431201327,
          -0.9254963685928826,
          0.07017048731831337,
          0.21659018028573443,
          0.6575896902323115,
          -0.7203671430016564,
          -0.4166920710075472,
          2.0056519868881817,
          0.6918406586642192,
          0.49110899481134057,
          0.5466373701568074,
          -0.04127578675147474,
          0.22291597539964056,
          0.5763452889571342,
          0.41911610659334153,
          -0.31504689375569617,
          0.4669768174623604,
          -1.1695274117766445,
          0.7364608342129234,
          -0.00913063712385115,
          0.4672029130412262,
          0.3027817525521753,
          -0.3025856918475431,
          0.4814090585715446,
          1.2196755070669176,
          -1.8270222684398807,
          0.03969622994150524,
          0.49267569055571897,
          -1.0036984109980298,
          -0.5251861744257543,
          0.9567356862535921,
          0.5369929247907468,
          -0.3161285413972293,
          -0.23372531142567546,
          0.41941353903405504,
          0.9964794674939226,
          1.305109453726727,
          0.13922444356079225,
          0.9926080522740052,
          -0.22710951340968658,
          -0.9502175771734338,
          -1.0761110833899576,
          -1.9580748766236473,
          0.20971225777735275,
          1.2391462120039176,
          0.0818135721981462,
          0.6420050639601032,
          0.03006078239224604,
          0.8414977144772191,
          0.7684983026064448,
          -0.027808936326751008,
          -0.16199630268676807,
          -0.009273158470795998,
          0.8995871936145745,
          -0.7930661423405327,
          0.5707151536428917,
          0.4609763337839569,
          -0.023021464976791594,
          1.5288125472120464,
          -0.88742429995902,
          0.3543999676999108,
          0.04814749748529384,
          -0.14407270331860864,
          -2.3584959248198327,
          0.36567542321995156,
          -0.015323485088775136,
          -1.5982332084815438,
          0.9893498435573947,
          0.4456789009768896,
          -0.4835972012995954,
          0.724238904244639,
          0.4682482817716083,
          0.839859989114251,
          0.14543189713505314,
          -0.5605395285621488,
          2.424734950386747,
          -0.7078065009697314,
          0.20773014860940905,
          0.4663918993987398,
          0.3610962931455434,
          0.13425091696086852,
          -2.3312497232908567,
          -0.3117097124746467,
          -0.24559017583110648,
          1.0340199528911336,
          0.660608635496201,
          -2.267483582162584,
          1.63512298448028,
          0.4248298038123525,
          -0.3912365822983923,
          0.2771786484275452,
          0.10688871829352858,
          1.1166460747599436,
          0.41147203906190505,
          -0.9308940719640626,
          -1.732720177574506
         ]
        }
       ],
       "layout": {
        "barmode": "overlay",
        "legend": {
         "bgcolor": "#F5F6F9",
         "font": {
          "color": "#4D5663"
         }
        },
        "paper_bgcolor": "#F5F6F9",
        "plot_bgcolor": "#F5F6F9",
        "template": {
         "data": {
          "bar": [
           {
            "error_x": {
             "color": "#2a3f5f"
            },
            "error_y": {
             "color": "#2a3f5f"
            },
            "marker": {
             "line": {
              "color": "#E5ECF6",
              "width": 0.5
             },
             "pattern": {
              "fillmode": "overlay",
              "size": 10,
              "solidity": 0.2
             }
            },
            "type": "bar"
           }
          ],
          "barpolar": [
           {
            "marker": {
             "line": {
              "color": "#E5ECF6",
              "width": 0.5
             },
             "pattern": {
              "fillmode": "overlay",
              "size": 10,
              "solidity": 0.2
             }
            },
            "type": "barpolar"
           }
          ],
          "carpet": [
           {
            "aaxis": {
             "endlinecolor": "#2a3f5f",
             "gridcolor": "white",
             "linecolor": "white",
             "minorgridcolor": "white",
             "startlinecolor": "#2a3f5f"
            },
            "baxis": {
             "endlinecolor": "#2a3f5f",
             "gridcolor": "white",
             "linecolor": "white",
             "minorgridcolor": "white",
             "startlinecolor": "#2a3f5f"
            },
            "type": "carpet"
           }
          ],
          "choropleth": [
           {
            "colorbar": {
             "outlinewidth": 0,
             "ticks": ""
            },
            "type": "choropleth"
           }
          ],
          "contour": [
           {
            "colorbar": {
             "outlinewidth": 0,
             "ticks": ""
            },
            "colorscale": [
             [
              0,
              "#0d0887"
             ],
             [
              0.1111111111111111,
              "#46039f"
             ],
             [
              0.2222222222222222,
              "#7201a8"
             ],
             [
              0.3333333333333333,
              "#9c179e"
             ],
             [
              0.4444444444444444,
              "#bd3786"
             ],
             [
              0.5555555555555556,
              "#d8576b"
             ],
             [
              0.6666666666666666,
              "#ed7953"
             ],
             [
              0.7777777777777778,
              "#fb9f3a"
             ],
             [
              0.8888888888888888,
              "#fdca26"
             ],
             [
              1,
              "#f0f921"
             ]
            ],
            "type": "contour"
           }
          ],
          "contourcarpet": [
           {
            "colorbar": {
             "outlinewidth": 0,
             "ticks": ""
            },
            "type": "contourcarpet"
           }
          ],
          "heatmap": [
           {
            "colorbar": {
             "outlinewidth": 0,
             "ticks": ""
            },
            "colorscale": [
             [
              0,
              "#0d0887"
             ],
             [
              0.1111111111111111,
              "#46039f"
             ],
             [
              0.2222222222222222,
              "#7201a8"
             ],
             [
              0.3333333333333333,
              "#9c179e"
             ],
             [
              0.4444444444444444,
              "#bd3786"
             ],
             [
              0.5555555555555556,
              "#d8576b"
             ],
             [
              0.6666666666666666,
              "#ed7953"
             ],
             [
              0.7777777777777778,
              "#fb9f3a"
             ],
             [
              0.8888888888888888,
              "#fdca26"
             ],
             [
              1,
              "#f0f921"
             ]
            ],
            "type": "heatmap"
           }
          ],
          "heatmapgl": [
           {
            "colorbar": {
             "outlinewidth": 0,
             "ticks": ""
            },
            "colorscale": [
             [
              0,
              "#0d0887"
             ],
             [
              0.1111111111111111,
              "#46039f"
             ],
             [
              0.2222222222222222,
              "#7201a8"
             ],
             [
              0.3333333333333333,
              "#9c179e"
             ],
             [
              0.4444444444444444,
              "#bd3786"
             ],
             [
              0.5555555555555556,
              "#d8576b"
             ],
             [
              0.6666666666666666,
              "#ed7953"
             ],
             [
              0.7777777777777778,
              "#fb9f3a"
             ],
             [
              0.8888888888888888,
              "#fdca26"
             ],
             [
              1,
              "#f0f921"
             ]
            ],
            "type": "heatmapgl"
           }
          ],
          "histogram": [
           {
            "marker": {
             "pattern": {
              "fillmode": "overlay",
              "size": 10,
              "solidity": 0.2
             }
            },
            "type": "histogram"
           }
          ],
          "histogram2d": [
           {
            "colorbar": {
             "outlinewidth": 0,
             "ticks": ""
            },
            "colorscale": [
             [
              0,
              "#0d0887"
             ],
             [
              0.1111111111111111,
              "#46039f"
             ],
             [
              0.2222222222222222,
              "#7201a8"
             ],
             [
              0.3333333333333333,
              "#9c179e"
             ],
             [
              0.4444444444444444,
              "#bd3786"
             ],
             [
              0.5555555555555556,
              "#d8576b"
             ],
             [
              0.6666666666666666,
              "#ed7953"
             ],
             [
              0.7777777777777778,
              "#fb9f3a"
             ],
             [
              0.8888888888888888,
              "#fdca26"
             ],
             [
              1,
              "#f0f921"
             ]
            ],
            "type": "histogram2d"
           }
          ],
          "histogram2dcontour": [
           {
            "colorbar": {
             "outlinewidth": 0,
             "ticks": ""
            },
            "colorscale": [
             [
              0,
              "#0d0887"
             ],
             [
              0.1111111111111111,
              "#46039f"
             ],
             [
              0.2222222222222222,
              "#7201a8"
             ],
             [
              0.3333333333333333,
              "#9c179e"
             ],
             [
              0.4444444444444444,
              "#bd3786"
             ],
             [
              0.5555555555555556,
              "#d8576b"
             ],
             [
              0.6666666666666666,
              "#ed7953"
             ],
             [
              0.7777777777777778,
              "#fb9f3a"
             ],
             [
              0.8888888888888888,
              "#fdca26"
             ],
             [
              1,
              "#f0f921"
             ]
            ],
            "type": "histogram2dcontour"
           }
          ],
          "mesh3d": [
           {
            "colorbar": {
             "outlinewidth": 0,
             "ticks": ""
            },
            "type": "mesh3d"
           }
          ],
          "parcoords": [
           {
            "line": {
             "colorbar": {
              "outlinewidth": 0,
              "ticks": ""
             }
            },
            "type": "parcoords"
           }
          ],
          "pie": [
           {
            "automargin": true,
            "type": "pie"
           }
          ],
          "scatter": [
           {
            "fillpattern": {
             "fillmode": "overlay",
             "size": 10,
             "solidity": 0.2
            },
            "type": "scatter"
           }
          ],
          "scatter3d": [
           {
            "line": {
             "colorbar": {
              "outlinewidth": 0,
              "ticks": ""
             }
            },
            "marker": {
             "colorbar": {
              "outlinewidth": 0,
              "ticks": ""
             }
            },
            "type": "scatter3d"
           }
          ],
          "scattercarpet": [
           {
            "marker": {
             "colorbar": {
              "outlinewidth": 0,
              "ticks": ""
             }
            },
            "type": "scattercarpet"
           }
          ],
          "scattergeo": [
           {
            "marker": {
             "colorbar": {
              "outlinewidth": 0,
              "ticks": ""
             }
            },
            "type": "scattergeo"
           }
          ],
          "scattergl": [
           {
            "marker": {
             "colorbar": {
              "outlinewidth": 0,
              "ticks": ""
             }
            },
            "type": "scattergl"
           }
          ],
          "scattermapbox": [
           {
            "marker": {
             "colorbar": {
              "outlinewidth": 0,
              "ticks": ""
             }
            },
            "type": "scattermapbox"
           }
          ],
          "scatterpolar": [
           {
            "marker": {
             "colorbar": {
              "outlinewidth": 0,
              "ticks": ""
             }
            },
            "type": "scatterpolar"
           }
          ],
          "scatterpolargl": [
           {
            "marker": {
             "colorbar": {
              "outlinewidth": 0,
              "ticks": ""
             }
            },
            "type": "scatterpolargl"
           }
          ],
          "scatterternary": [
           {
            "marker": {
             "colorbar": {
              "outlinewidth": 0,
              "ticks": ""
             }
            },
            "type": "scatterternary"
           }
          ],
          "surface": [
           {
            "colorbar": {
             "outlinewidth": 0,
             "ticks": ""
            },
            "colorscale": [
             [
              0,
              "#0d0887"
             ],
             [
              0.1111111111111111,
              "#46039f"
             ],
             [
              0.2222222222222222,
              "#7201a8"
             ],
             [
              0.3333333333333333,
              "#9c179e"
             ],
             [
              0.4444444444444444,
              "#bd3786"
             ],
             [
              0.5555555555555556,
              "#d8576b"
             ],
             [
              0.6666666666666666,
              "#ed7953"
             ],
             [
              0.7777777777777778,
              "#fb9f3a"
             ],
             [
              0.8888888888888888,
              "#fdca26"
             ],
             [
              1,
              "#f0f921"
             ]
            ],
            "type": "surface"
           }
          ],
          "table": [
           {
            "cells": {
             "fill": {
              "color": "#EBF0F8"
             },
             "line": {
              "color": "white"
             }
            },
            "header": {
             "fill": {
              "color": "#C8D4E3"
             },
             "line": {
              "color": "white"
             }
            },
            "type": "table"
           }
          ]
         },
         "layout": {
          "annotationdefaults": {
           "arrowcolor": "#2a3f5f",
           "arrowhead": 0,
           "arrowwidth": 1
          },
          "autotypenumbers": "strict",
          "coloraxis": {
           "colorbar": {
            "outlinewidth": 0,
            "ticks": ""
           }
          },
          "colorscale": {
           "diverging": [
            [
             0,
             "#8e0152"
            ],
            [
             0.1,
             "#c51b7d"
            ],
            [
             0.2,
             "#de77ae"
            ],
            [
             0.3,
             "#f1b6da"
            ],
            [
             0.4,
             "#fde0ef"
            ],
            [
             0.5,
             "#f7f7f7"
            ],
            [
             0.6,
             "#e6f5d0"
            ],
            [
             0.7,
             "#b8e186"
            ],
            [
             0.8,
             "#7fbc41"
            ],
            [
             0.9,
             "#4d9221"
            ],
            [
             1,
             "#276419"
            ]
           ],
           "sequential": [
            [
             0,
             "#0d0887"
            ],
            [
             0.1111111111111111,
             "#46039f"
            ],
            [
             0.2222222222222222,
             "#7201a8"
            ],
            [
             0.3333333333333333,
             "#9c179e"
            ],
            [
             0.4444444444444444,
             "#bd3786"
            ],
            [
             0.5555555555555556,
             "#d8576b"
            ],
            [
             0.6666666666666666,
             "#ed7953"
            ],
            [
             0.7777777777777778,
             "#fb9f3a"
            ],
            [
             0.8888888888888888,
             "#fdca26"
            ],
            [
             1,
             "#f0f921"
            ]
           ],
           "sequentialminus": [
            [
             0,
             "#0d0887"
            ],
            [
             0.1111111111111111,
             "#46039f"
            ],
            [
             0.2222222222222222,
             "#7201a8"
            ],
            [
             0.3333333333333333,
             "#9c179e"
            ],
            [
             0.4444444444444444,
             "#bd3786"
            ],
            [
             0.5555555555555556,
             "#d8576b"
            ],
            [
             0.6666666666666666,
             "#ed7953"
            ],
            [
             0.7777777777777778,
             "#fb9f3a"
            ],
            [
             0.8888888888888888,
             "#fdca26"
            ],
            [
             1,
             "#f0f921"
            ]
           ]
          },
          "colorway": [
           "#636efa",
           "#EF553B",
           "#00cc96",
           "#ab63fa",
           "#FFA15A",
           "#19d3f3",
           "#FF6692",
           "#B6E880",
           "#FF97FF",
           "#FECB52"
          ],
          "font": {
           "color": "#2a3f5f"
          },
          "geo": {
           "bgcolor": "white",
           "lakecolor": "white",
           "landcolor": "#E5ECF6",
           "showlakes": true,
           "showland": true,
           "subunitcolor": "white"
          },
          "hoverlabel": {
           "align": "left"
          },
          "hovermode": "closest",
          "mapbox": {
           "style": "light"
          },
          "paper_bgcolor": "white",
          "plot_bgcolor": "#E5ECF6",
          "polar": {
           "angularaxis": {
            "gridcolor": "white",
            "linecolor": "white",
            "ticks": ""
           },
           "bgcolor": "#E5ECF6",
           "radialaxis": {
            "gridcolor": "white",
            "linecolor": "white",
            "ticks": ""
           }
          },
          "scene": {
           "xaxis": {
            "backgroundcolor": "#E5ECF6",
            "gridcolor": "white",
            "gridwidth": 2,
            "linecolor": "white",
            "showbackground": true,
            "ticks": "",
            "zerolinecolor": "white"
           },
           "yaxis": {
            "backgroundcolor": "#E5ECF6",
            "gridcolor": "white",
            "gridwidth": 2,
            "linecolor": "white",
            "showbackground": true,
            "ticks": "",
            "zerolinecolor": "white"
           },
           "zaxis": {
            "backgroundcolor": "#E5ECF6",
            "gridcolor": "white",
            "gridwidth": 2,
            "linecolor": "white",
            "showbackground": true,
            "ticks": "",
            "zerolinecolor": "white"
           }
          },
          "shapedefaults": {
           "line": {
            "color": "#2a3f5f"
           }
          },
          "ternary": {
           "aaxis": {
            "gridcolor": "white",
            "linecolor": "white",
            "ticks": ""
           },
           "baxis": {
            "gridcolor": "white",
            "linecolor": "white",
            "ticks": ""
           },
           "bgcolor": "#E5ECF6",
           "caxis": {
            "gridcolor": "white",
            "linecolor": "white",
            "ticks": ""
           }
          },
          "title": {
           "x": 0.05
          },
          "xaxis": {
           "automargin": true,
           "gridcolor": "white",
           "linecolor": "white",
           "ticks": "",
           "title": {
            "standoff": 15
           },
           "zerolinecolor": "white",
           "zerolinewidth": 2
          },
          "yaxis": {
           "automargin": true,
           "gridcolor": "white",
           "linecolor": "white",
           "ticks": "",
           "title": {
            "standoff": 15
           },
           "zerolinecolor": "white",
           "zerolinewidth": 2
          }
         }
        },
        "title": {
         "font": {
          "color": "#4D5663"
         }
        },
        "xaxis": {
         "gridcolor": "#E1E5ED",
         "showgrid": true,
         "tickfont": {
          "color": "#4D5663"
         },
         "title": {
          "font": {
           "color": "#4D5663"
          },
          "text": ""
         },
         "zerolinecolor": "#E1E5ED"
        },
        "yaxis": {
         "gridcolor": "#E1E5ED",
         "showgrid": true,
         "tickfont": {
          "color": "#4D5663"
         },
         "title": {
          "font": {
           "color": "#4D5663"
          },
          "text": ""
         },
         "zerolinecolor": "#E1E5ED"
        }
       }
      },
      "text/html": [
       "<div>                            <div id=\"dbae9d27-7d91-4963-87b0-ad2c24c6c953\" class=\"plotly-graph-div\" style=\"height:525px; width:100%;\"></div>            <script type=\"text/javascript\">                require([\"plotly\"], function(Plotly) {                    window.PLOTLYENV=window.PLOTLYENV || {};\n",
       "                    window.PLOTLYENV.BASE_URL='https://plot.ly';                                    if (document.getElementById(\"dbae9d27-7d91-4963-87b0-ad2c24c6c953\")) {                    Plotly.newPlot(                        \"dbae9d27-7d91-4963-87b0-ad2c24c6c953\",                        [{\"histfunc\":\"count\",\"histnorm\":\"\",\"marker\":{\"color\":\"rgba(255, 153, 51, 1.0)\",\"line\":{\"color\":\"#4D5663\",\"width\":1.3}},\"name\":\"A\",\"nbinsx\":25,\"opacity\":0.8,\"orientation\":\"v\",\"x\":[-2.1884820507782847,-0.665854098661476,-1.3805289926414221,0.7177941534943872,-0.5079070431201327,-0.9254963685928826,0.07017048731831337,0.21659018028573443,0.6575896902323115,-0.7203671430016564,-0.4166920710075472,2.0056519868881817,0.6918406586642192,0.49110899481134057,0.5466373701568074,-0.04127578675147474,0.22291597539964056,0.5763452889571342,0.41911610659334153,-0.31504689375569617,0.4669768174623604,-1.1695274117766445,0.7364608342129234,-0.00913063712385115,0.4672029130412262,0.3027817525521753,-0.3025856918475431,0.4814090585715446,1.2196755070669176,-1.8270222684398807,0.03969622994150524,0.49267569055571897,-1.0036984109980298,-0.5251861744257543,0.9567356862535921,0.5369929247907468,-0.3161285413972293,-0.23372531142567546,0.41941353903405504,0.9964794674939226,1.305109453726727,0.13922444356079225,0.9926080522740052,-0.22710951340968658,-0.9502175771734338,-1.0761110833899576,-1.9580748766236473,0.20971225777735275,1.2391462120039176,0.0818135721981462,0.6420050639601032,0.03006078239224604,0.8414977144772191,0.7684983026064448,-0.027808936326751008,-0.16199630268676807,-0.009273158470795998,0.8995871936145745,-0.7930661423405327,0.5707151536428917,0.4609763337839569,-0.023021464976791594,1.5288125472120464,-0.88742429995902,0.3543999676999108,0.04814749748529384,-0.14407270331860864,-2.3584959248198327,0.36567542321995156,-0.015323485088775136,-1.5982332084815438,0.9893498435573947,0.4456789009768896,-0.4835972012995954,0.724238904244639,0.4682482817716083,0.839859989114251,0.14543189713505314,-0.5605395285621488,2.424734950386747,-0.7078065009697314,0.20773014860940905,0.4663918993987398,0.3610962931455434,0.13425091696086852,-2.3312497232908567,-0.3117097124746467,-0.24559017583110648,1.0340199528911336,0.660608635496201,-2.267483582162584,1.63512298448028,0.4248298038123525,-0.3912365822983923,0.2771786484275452,0.10688871829352858,1.1166460747599436,0.41147203906190505,-0.9308940719640626,-1.732720177574506],\"type\":\"histogram\"}],                        {\"barmode\":\"overlay\",\"legend\":{\"bgcolor\":\"#F5F6F9\",\"font\":{\"color\":\"#4D5663\"}},\"paper_bgcolor\":\"#F5F6F9\",\"plot_bgcolor\":\"#F5F6F9\",\"template\":{\"data\":{\"barpolar\":[{\"marker\":{\"line\":{\"color\":\"#E5ECF6\",\"width\":0.5},\"pattern\":{\"fillmode\":\"overlay\",\"size\":10,\"solidity\":0.2}},\"type\":\"barpolar\"}],\"bar\":[{\"error_x\":{\"color\":\"#2a3f5f\"},\"error_y\":{\"color\":\"#2a3f5f\"},\"marker\":{\"line\":{\"color\":\"#E5ECF6\",\"width\":0.5},\"pattern\":{\"fillmode\":\"overlay\",\"size\":10,\"solidity\":0.2}},\"type\":\"bar\"}],\"carpet\":[{\"aaxis\":{\"endlinecolor\":\"#2a3f5f\",\"gridcolor\":\"white\",\"linecolor\":\"white\",\"minorgridcolor\":\"white\",\"startlinecolor\":\"#2a3f5f\"},\"baxis\":{\"endlinecolor\":\"#2a3f5f\",\"gridcolor\":\"white\",\"linecolor\":\"white\",\"minorgridcolor\":\"white\",\"startlinecolor\":\"#2a3f5f\"},\"type\":\"carpet\"}],\"choropleth\":[{\"colorbar\":{\"outlinewidth\":0,\"ticks\":\"\"},\"type\":\"choropleth\"}],\"contourcarpet\":[{\"colorbar\":{\"outlinewidth\":0,\"ticks\":\"\"},\"type\":\"contourcarpet\"}],\"contour\":[{\"colorbar\":{\"outlinewidth\":0,\"ticks\":\"\"},\"colorscale\":[[0.0,\"#0d0887\"],[0.1111111111111111,\"#46039f\"],[0.2222222222222222,\"#7201a8\"],[0.3333333333333333,\"#9c179e\"],[0.4444444444444444,\"#bd3786\"],[0.5555555555555556,\"#d8576b\"],[0.6666666666666666,\"#ed7953\"],[0.7777777777777778,\"#fb9f3a\"],[0.8888888888888888,\"#fdca26\"],[1.0,\"#f0f921\"]],\"type\":\"contour\"}],\"heatmapgl\":[{\"colorbar\":{\"outlinewidth\":0,\"ticks\":\"\"},\"colorscale\":[[0.0,\"#0d0887\"],[0.1111111111111111,\"#46039f\"],[0.2222222222222222,\"#7201a8\"],[0.3333333333333333,\"#9c179e\"],[0.4444444444444444,\"#bd3786\"],[0.5555555555555556,\"#d8576b\"],[0.6666666666666666,\"#ed7953\"],[0.7777777777777778,\"#fb9f3a\"],[0.8888888888888888,\"#fdca26\"],[1.0,\"#f0f921\"]],\"type\":\"heatmapgl\"}],\"heatmap\":[{\"colorbar\":{\"outlinewidth\":0,\"ticks\":\"\"},\"colorscale\":[[0.0,\"#0d0887\"],[0.1111111111111111,\"#46039f\"],[0.2222222222222222,\"#7201a8\"],[0.3333333333333333,\"#9c179e\"],[0.4444444444444444,\"#bd3786\"],[0.5555555555555556,\"#d8576b\"],[0.6666666666666666,\"#ed7953\"],[0.7777777777777778,\"#fb9f3a\"],[0.8888888888888888,\"#fdca26\"],[1.0,\"#f0f921\"]],\"type\":\"heatmap\"}],\"histogram2dcontour\":[{\"colorbar\":{\"outlinewidth\":0,\"ticks\":\"\"},\"colorscale\":[[0.0,\"#0d0887\"],[0.1111111111111111,\"#46039f\"],[0.2222222222222222,\"#7201a8\"],[0.3333333333333333,\"#9c179e\"],[0.4444444444444444,\"#bd3786\"],[0.5555555555555556,\"#d8576b\"],[0.6666666666666666,\"#ed7953\"],[0.7777777777777778,\"#fb9f3a\"],[0.8888888888888888,\"#fdca26\"],[1.0,\"#f0f921\"]],\"type\":\"histogram2dcontour\"}],\"histogram2d\":[{\"colorbar\":{\"outlinewidth\":0,\"ticks\":\"\"},\"colorscale\":[[0.0,\"#0d0887\"],[0.1111111111111111,\"#46039f\"],[0.2222222222222222,\"#7201a8\"],[0.3333333333333333,\"#9c179e\"],[0.4444444444444444,\"#bd3786\"],[0.5555555555555556,\"#d8576b\"],[0.6666666666666666,\"#ed7953\"],[0.7777777777777778,\"#fb9f3a\"],[0.8888888888888888,\"#fdca26\"],[1.0,\"#f0f921\"]],\"type\":\"histogram2d\"}],\"histogram\":[{\"marker\":{\"pattern\":{\"fillmode\":\"overlay\",\"size\":10,\"solidity\":0.2}},\"type\":\"histogram\"}],\"mesh3d\":[{\"colorbar\":{\"outlinewidth\":0,\"ticks\":\"\"},\"type\":\"mesh3d\"}],\"parcoords\":[{\"line\":{\"colorbar\":{\"outlinewidth\":0,\"ticks\":\"\"}},\"type\":\"parcoords\"}],\"pie\":[{\"automargin\":true,\"type\":\"pie\"}],\"scatter3d\":[{\"line\":{\"colorbar\":{\"outlinewidth\":0,\"ticks\":\"\"}},\"marker\":{\"colorbar\":{\"outlinewidth\":0,\"ticks\":\"\"}},\"type\":\"scatter3d\"}],\"scattercarpet\":[{\"marker\":{\"colorbar\":{\"outlinewidth\":0,\"ticks\":\"\"}},\"type\":\"scattercarpet\"}],\"scattergeo\":[{\"marker\":{\"colorbar\":{\"outlinewidth\":0,\"ticks\":\"\"}},\"type\":\"scattergeo\"}],\"scattergl\":[{\"marker\":{\"colorbar\":{\"outlinewidth\":0,\"ticks\":\"\"}},\"type\":\"scattergl\"}],\"scattermapbox\":[{\"marker\":{\"colorbar\":{\"outlinewidth\":0,\"ticks\":\"\"}},\"type\":\"scattermapbox\"}],\"scatterpolargl\":[{\"marker\":{\"colorbar\":{\"outlinewidth\":0,\"ticks\":\"\"}},\"type\":\"scatterpolargl\"}],\"scatterpolar\":[{\"marker\":{\"colorbar\":{\"outlinewidth\":0,\"ticks\":\"\"}},\"type\":\"scatterpolar\"}],\"scatter\":[{\"fillpattern\":{\"fillmode\":\"overlay\",\"size\":10,\"solidity\":0.2},\"type\":\"scatter\"}],\"scatterternary\":[{\"marker\":{\"colorbar\":{\"outlinewidth\":0,\"ticks\":\"\"}},\"type\":\"scatterternary\"}],\"surface\":[{\"colorbar\":{\"outlinewidth\":0,\"ticks\":\"\"},\"colorscale\":[[0.0,\"#0d0887\"],[0.1111111111111111,\"#46039f\"],[0.2222222222222222,\"#7201a8\"],[0.3333333333333333,\"#9c179e\"],[0.4444444444444444,\"#bd3786\"],[0.5555555555555556,\"#d8576b\"],[0.6666666666666666,\"#ed7953\"],[0.7777777777777778,\"#fb9f3a\"],[0.8888888888888888,\"#fdca26\"],[1.0,\"#f0f921\"]],\"type\":\"surface\"}],\"table\":[{\"cells\":{\"fill\":{\"color\":\"#EBF0F8\"},\"line\":{\"color\":\"white\"}},\"header\":{\"fill\":{\"color\":\"#C8D4E3\"},\"line\":{\"color\":\"white\"}},\"type\":\"table\"}]},\"layout\":{\"annotationdefaults\":{\"arrowcolor\":\"#2a3f5f\",\"arrowhead\":0,\"arrowwidth\":1},\"autotypenumbers\":\"strict\",\"coloraxis\":{\"colorbar\":{\"outlinewidth\":0,\"ticks\":\"\"}},\"colorscale\":{\"diverging\":[[0,\"#8e0152\"],[0.1,\"#c51b7d\"],[0.2,\"#de77ae\"],[0.3,\"#f1b6da\"],[0.4,\"#fde0ef\"],[0.5,\"#f7f7f7\"],[0.6,\"#e6f5d0\"],[0.7,\"#b8e186\"],[0.8,\"#7fbc41\"],[0.9,\"#4d9221\"],[1,\"#276419\"]],\"sequential\":[[0.0,\"#0d0887\"],[0.1111111111111111,\"#46039f\"],[0.2222222222222222,\"#7201a8\"],[0.3333333333333333,\"#9c179e\"],[0.4444444444444444,\"#bd3786\"],[0.5555555555555556,\"#d8576b\"],[0.6666666666666666,\"#ed7953\"],[0.7777777777777778,\"#fb9f3a\"],[0.8888888888888888,\"#fdca26\"],[1.0,\"#f0f921\"]],\"sequentialminus\":[[0.0,\"#0d0887\"],[0.1111111111111111,\"#46039f\"],[0.2222222222222222,\"#7201a8\"],[0.3333333333333333,\"#9c179e\"],[0.4444444444444444,\"#bd3786\"],[0.5555555555555556,\"#d8576b\"],[0.6666666666666666,\"#ed7953\"],[0.7777777777777778,\"#fb9f3a\"],[0.8888888888888888,\"#fdca26\"],[1.0,\"#f0f921\"]]},\"colorway\":[\"#636efa\",\"#EF553B\",\"#00cc96\",\"#ab63fa\",\"#FFA15A\",\"#19d3f3\",\"#FF6692\",\"#B6E880\",\"#FF97FF\",\"#FECB52\"],\"font\":{\"color\":\"#2a3f5f\"},\"geo\":{\"bgcolor\":\"white\",\"lakecolor\":\"white\",\"landcolor\":\"#E5ECF6\",\"showlakes\":true,\"showland\":true,\"subunitcolor\":\"white\"},\"hoverlabel\":{\"align\":\"left\"},\"hovermode\":\"closest\",\"mapbox\":{\"style\":\"light\"},\"paper_bgcolor\":\"white\",\"plot_bgcolor\":\"#E5ECF6\",\"polar\":{\"angularaxis\":{\"gridcolor\":\"white\",\"linecolor\":\"white\",\"ticks\":\"\"},\"bgcolor\":\"#E5ECF6\",\"radialaxis\":{\"gridcolor\":\"white\",\"linecolor\":\"white\",\"ticks\":\"\"}},\"scene\":{\"xaxis\":{\"backgroundcolor\":\"#E5ECF6\",\"gridcolor\":\"white\",\"gridwidth\":2,\"linecolor\":\"white\",\"showbackground\":true,\"ticks\":\"\",\"zerolinecolor\":\"white\"},\"yaxis\":{\"backgroundcolor\":\"#E5ECF6\",\"gridcolor\":\"white\",\"gridwidth\":2,\"linecolor\":\"white\",\"showbackground\":true,\"ticks\":\"\",\"zerolinecolor\":\"white\"},\"zaxis\":{\"backgroundcolor\":\"#E5ECF6\",\"gridcolor\":\"white\",\"gridwidth\":2,\"linecolor\":\"white\",\"showbackground\":true,\"ticks\":\"\",\"zerolinecolor\":\"white\"}},\"shapedefaults\":{\"line\":{\"color\":\"#2a3f5f\"}},\"ternary\":{\"aaxis\":{\"gridcolor\":\"white\",\"linecolor\":\"white\",\"ticks\":\"\"},\"baxis\":{\"gridcolor\":\"white\",\"linecolor\":\"white\",\"ticks\":\"\"},\"bgcolor\":\"#E5ECF6\",\"caxis\":{\"gridcolor\":\"white\",\"linecolor\":\"white\",\"ticks\":\"\"}},\"title\":{\"x\":0.05},\"xaxis\":{\"automargin\":true,\"gridcolor\":\"white\",\"linecolor\":\"white\",\"ticks\":\"\",\"title\":{\"standoff\":15},\"zerolinecolor\":\"white\",\"zerolinewidth\":2},\"yaxis\":{\"automargin\":true,\"gridcolor\":\"white\",\"linecolor\":\"white\",\"ticks\":\"\",\"title\":{\"standoff\":15},\"zerolinecolor\":\"white\",\"zerolinewidth\":2}}},\"title\":{\"font\":{\"color\":\"#4D5663\"}},\"xaxis\":{\"gridcolor\":\"#E1E5ED\",\"showgrid\":true,\"tickfont\":{\"color\":\"#4D5663\"},\"title\":{\"font\":{\"color\":\"#4D5663\"},\"text\":\"\"},\"zerolinecolor\":\"#E1E5ED\"},\"yaxis\":{\"gridcolor\":\"#E1E5ED\",\"showgrid\":true,\"tickfont\":{\"color\":\"#4D5663\"},\"title\":{\"font\":{\"color\":\"#4D5663\"},\"text\":\"\"},\"zerolinecolor\":\"#E1E5ED\"}},                        {\"showLink\": true, \"linkText\": \"Export to plot.ly\", \"plotlyServerURL\": \"https://plot.ly\", \"responsive\": true}                    ).then(function(){\n",
       "                            \n",
       "var gd = document.getElementById('dbae9d27-7d91-4963-87b0-ad2c24c6c953');\n",
       "var x = new MutationObserver(function (mutations, observer) {{\n",
       "        var display = window.getComputedStyle(gd).display;\n",
       "        if (!display || display === 'none') {{\n",
       "            console.log([gd, 'removed!']);\n",
       "            Plotly.purge(gd);\n",
       "            observer.disconnect();\n",
       "        }}\n",
       "}});\n",
       "\n",
       "// Listen for the removal of the full notebook cells\n",
       "var notebookContainer = gd.closest('#notebook-container');\n",
       "if (notebookContainer) {{\n",
       "    x.observe(notebookContainer, {childList: true});\n",
       "}}\n",
       "\n",
       "// Listen for the clearing of the current output cell\n",
       "var outputEl = gd.closest('.output');\n",
       "if (outputEl) {{\n",
       "    x.observe(outputEl, {childList: true});\n",
       "}}\n",
       "\n",
       "                        })                };                });            </script>        </div>"
      ]
     },
     "metadata": {},
     "output_type": "display_data"
    }
   ],
   "source": [
    "df['A'].iplot(kind='hist',bins=25)"
   ]
  },
  {
   "cell_type": "code",
   "execution_count": 24,
   "metadata": {
    "collapsed": false
   },
   "outputs": [
    {
     "data": {
      "application/vnd.plotly.v1+json": {
       "config": {
        "linkText": "Export to plot.ly",
        "plotlyServerURL": "https://plot.ly",
        "showLink": true
       },
       "data": [
        {
         "marker": {
          "color": [
           "rgb(255, 153, 51)",
           "rgb(55, 128, 191)",
           "rgb(50, 171, 96)",
           "rgb(128, 0, 128)",
           "rgb(219, 64, 82)",
           "rgb(0, 128, 128)",
           "rgb(255, 255, 51)",
           "rgb(128, 128, 0)",
           "rgb(251, 128, 114)",
           "rgb(128, 177, 211)"
          ],
          "line": {
           "width": 1.3
          },
          "size": [
           67,
           54,
           66,
           91,
           75,
           62,
           58,
           51,
           50,
           98,
           31,
           68,
           77,
           72,
           85,
           37,
           41,
           65,
           86,
           80,
           65,
           51,
           84,
           81,
           58,
           47,
           64,
           86,
           30,
           82,
           69,
           108,
           67,
           77,
           62,
           82,
           65,
           52,
           59,
           112,
           92,
           47,
           63,
           77,
           46,
           64,
           92,
           29,
           41,
           63,
           80,
           70,
           62,
           62,
           31,
           92,
           63,
           65,
           57,
           78,
           63,
           93,
           59,
           59,
           27,
           53,
           61,
           82,
           62,
           56,
           69,
           72,
           45,
           75,
           51,
           43,
           72,
           30,
           12,
           96,
           42,
           80,
           49,
           60,
           32,
           60,
           81,
           65,
           49,
           47,
           44,
           51,
           56,
           44,
           62,
           79,
           59,
           43,
           36,
           41
          ],
          "symbol": "circle"
         },
         "mode": "markers",
         "text": "",
         "type": "scatter",
         "x": [
          -2.1884820507782847,
          -0.665854098661476,
          -1.3805289926414221,
          0.7177941534943872,
          -0.5079070431201327,
          -0.9254963685928826,
          0.07017048731831337,
          0.21659018028573443,
          0.6575896902323115,
          -0.7203671430016564,
          -0.4166920710075472,
          2.0056519868881817,
          0.6918406586642192,
          0.49110899481134057,
          0.5466373701568074,
          -0.04127578675147474,
          0.22291597539964056,
          0.5763452889571342,
          0.41911610659334153,
          -0.31504689375569617,
          0.4669768174623604,
          -1.1695274117766445,
          0.7364608342129234,
          -0.00913063712385115,
          0.4672029130412262,
          0.3027817525521753,
          -0.3025856918475431,
          0.4814090585715446,
          1.2196755070669176,
          -1.8270222684398807,
          0.03969622994150524,
          0.49267569055571897,
          -1.0036984109980298,
          -0.5251861744257543,
          0.9567356862535921,
          0.5369929247907468,
          -0.3161285413972293,
          -0.23372531142567546,
          0.41941353903405504,
          0.9964794674939226,
          1.305109453726727,
          0.13922444356079225,
          0.9926080522740052,
          -0.22710951340968658,
          -0.9502175771734338,
          -1.0761110833899576,
          -1.9580748766236473,
          0.20971225777735275,
          1.2391462120039176,
          0.0818135721981462,
          0.6420050639601032,
          0.03006078239224604,
          0.8414977144772191,
          0.7684983026064448,
          -0.027808936326751008,
          -0.16199630268676807,
          -0.009273158470795998,
          0.8995871936145745,
          -0.7930661423405327,
          0.5707151536428917,
          0.4609763337839569,
          -0.023021464976791594,
          1.5288125472120464,
          -0.88742429995902,
          0.3543999676999108,
          0.04814749748529384,
          -0.14407270331860864,
          -2.3584959248198327,
          0.36567542321995156,
          -0.015323485088775136,
          -1.5982332084815438,
          0.9893498435573947,
          0.4456789009768896,
          -0.4835972012995954,
          0.724238904244639,
          0.4682482817716083,
          0.839859989114251,
          0.14543189713505314,
          -0.5605395285621488,
          2.424734950386747,
          -0.7078065009697314,
          0.20773014860940905,
          0.4663918993987398,
          0.3610962931455434,
          0.13425091696086852,
          -2.3312497232908567,
          -0.3117097124746467,
          -0.24559017583110648,
          1.0340199528911336,
          0.660608635496201,
          -2.267483582162584,
          1.63512298448028,
          0.4248298038123525,
          -0.3912365822983923,
          0.2771786484275452,
          0.10688871829352858,
          1.1166460747599436,
          0.41147203906190505,
          -0.9308940719640626,
          -1.732720177574506
         ],
         "y": [
          -0.967280454551769,
          -0.4262657421923561,
          0.6415234161208461,
          1.4759389662434033,
          -0.09751903940280975,
          0.17776569210575774,
          -1.2649818651982054,
          -1.1950371518335574,
          -1.556187143796085,
          -0.788478158888168,
          0.9597956528465741,
          0.052036199061202104,
          -0.22058592370822638,
          0.9816388590414287,
          1.0383803563519347,
          0.8547553132479587,
          -0.5886735459625771,
          -0.37439112569718785,
          -0.2623656153035446,
          -0.5320925874026364,
          -1.4220184369846043,
          0.846670864223348,
          -1.8163473370703958,
          1.3189836329571303,
          1.6637685364756059,
          -0.13395936428216373,
          -0.6293732266752319,
          0.2577807925648532,
          1.0847800174280025,
          -0.7978812148317082,
          -0.8020952268900989,
          -0.6264398798921825,
          -0.36587928505657796,
          1.0522610581970544,
          0.19094524404423097,
          0.7231352783492214,
          -0.2628470864698082,
          0.927313688901756,
          1.503651062051654,
          0.06638646092277749,
          0.26384475047205663,
          0.4890528362926341,
          0.3935599443259979,
          0.024380658205805403,
          -2.0629355520061763,
          0.9602761856506804,
          -0.23567940021145856,
          0.10727002685212225,
          -0.38412961854053373,
          -0.1229972569582122,
          1.5674833863914581,
          0.05797782859663407,
          -0.43345383829272444,
          0.5567694675572081,
          0.4512681681842402,
          -1.4878857727703223,
          1.191498577036202,
          1.5943146889736306,
          0.4194520044974007,
          1.7600425888987563,
          0.6701645912360255,
          -0.3075623135830556,
          0.27153889798225794,
          -0.1842878503559655,
          2.00223124160167,
          0.6777750123085785,
          -1.892415763831858,
          0.8178162088050249,
          0.08596553384700664,
          -0.6939299549913309,
          2.588584225766686,
          -0.11310923050999826,
          0.03988515313517068,
          0.4029126777124784,
          2.406680282475156,
          -0.15646532092047744,
          1.8857104455932763,
          -2.3106019408979512,
          0.21436153692103366,
          0.31521645299591206,
          -1.6168355582536302,
          1.9993223040445842,
          0.019732995776760843,
          0.9279181708398891,
          0.4702358093948719,
          1.9865857140568173,
          0.6992311527671162,
          0.28295041913737606,
          0.6206079271821591,
          -0.7272387976112539,
          0.3650724022216879,
          0.3842491991780508,
          -1.9554140814769014,
          -1.6132508173081423,
          1.4952438761609834,
          0.37003354614048906,
          0.08129741268596019,
          0.8568806010650221,
          0.21521236402235247,
          -0.9304045945205974
         ]
        }
       ],
       "layout": {
        "legend": {
         "bgcolor": "#F5F6F9",
         "font": {
          "color": "#4D5663"
         }
        },
        "paper_bgcolor": "#F5F6F9",
        "plot_bgcolor": "#F5F6F9",
        "template": {
         "data": {
          "bar": [
           {
            "error_x": {
             "color": "#2a3f5f"
            },
            "error_y": {
             "color": "#2a3f5f"
            },
            "marker": {
             "line": {
              "color": "#E5ECF6",
              "width": 0.5
             },
             "pattern": {
              "fillmode": "overlay",
              "size": 10,
              "solidity": 0.2
             }
            },
            "type": "bar"
           }
          ],
          "barpolar": [
           {
            "marker": {
             "line": {
              "color": "#E5ECF6",
              "width": 0.5
             },
             "pattern": {
              "fillmode": "overlay",
              "size": 10,
              "solidity": 0.2
             }
            },
            "type": "barpolar"
           }
          ],
          "carpet": [
           {
            "aaxis": {
             "endlinecolor": "#2a3f5f",
             "gridcolor": "white",
             "linecolor": "white",
             "minorgridcolor": "white",
             "startlinecolor": "#2a3f5f"
            },
            "baxis": {
             "endlinecolor": "#2a3f5f",
             "gridcolor": "white",
             "linecolor": "white",
             "minorgridcolor": "white",
             "startlinecolor": "#2a3f5f"
            },
            "type": "carpet"
           }
          ],
          "choropleth": [
           {
            "colorbar": {
             "outlinewidth": 0,
             "ticks": ""
            },
            "type": "choropleth"
           }
          ],
          "contour": [
           {
            "colorbar": {
             "outlinewidth": 0,
             "ticks": ""
            },
            "colorscale": [
             [
              0,
              "#0d0887"
             ],
             [
              0.1111111111111111,
              "#46039f"
             ],
             [
              0.2222222222222222,
              "#7201a8"
             ],
             [
              0.3333333333333333,
              "#9c179e"
             ],
             [
              0.4444444444444444,
              "#bd3786"
             ],
             [
              0.5555555555555556,
              "#d8576b"
             ],
             [
              0.6666666666666666,
              "#ed7953"
             ],
             [
              0.7777777777777778,
              "#fb9f3a"
             ],
             [
              0.8888888888888888,
              "#fdca26"
             ],
             [
              1,
              "#f0f921"
             ]
            ],
            "type": "contour"
           }
          ],
          "contourcarpet": [
           {
            "colorbar": {
             "outlinewidth": 0,
             "ticks": ""
            },
            "type": "contourcarpet"
           }
          ],
          "heatmap": [
           {
            "colorbar": {
             "outlinewidth": 0,
             "ticks": ""
            },
            "colorscale": [
             [
              0,
              "#0d0887"
             ],
             [
              0.1111111111111111,
              "#46039f"
             ],
             [
              0.2222222222222222,
              "#7201a8"
             ],
             [
              0.3333333333333333,
              "#9c179e"
             ],
             [
              0.4444444444444444,
              "#bd3786"
             ],
             [
              0.5555555555555556,
              "#d8576b"
             ],
             [
              0.6666666666666666,
              "#ed7953"
             ],
             [
              0.7777777777777778,
              "#fb9f3a"
             ],
             [
              0.8888888888888888,
              "#fdca26"
             ],
             [
              1,
              "#f0f921"
             ]
            ],
            "type": "heatmap"
           }
          ],
          "heatmapgl": [
           {
            "colorbar": {
             "outlinewidth": 0,
             "ticks": ""
            },
            "colorscale": [
             [
              0,
              "#0d0887"
             ],
             [
              0.1111111111111111,
              "#46039f"
             ],
             [
              0.2222222222222222,
              "#7201a8"
             ],
             [
              0.3333333333333333,
              "#9c179e"
             ],
             [
              0.4444444444444444,
              "#bd3786"
             ],
             [
              0.5555555555555556,
              "#d8576b"
             ],
             [
              0.6666666666666666,
              "#ed7953"
             ],
             [
              0.7777777777777778,
              "#fb9f3a"
             ],
             [
              0.8888888888888888,
              "#fdca26"
             ],
             [
              1,
              "#f0f921"
             ]
            ],
            "type": "heatmapgl"
           }
          ],
          "histogram": [
           {
            "marker": {
             "pattern": {
              "fillmode": "overlay",
              "size": 10,
              "solidity": 0.2
             }
            },
            "type": "histogram"
           }
          ],
          "histogram2d": [
           {
            "colorbar": {
             "outlinewidth": 0,
             "ticks": ""
            },
            "colorscale": [
             [
              0,
              "#0d0887"
             ],
             [
              0.1111111111111111,
              "#46039f"
             ],
             [
              0.2222222222222222,
              "#7201a8"
             ],
             [
              0.3333333333333333,
              "#9c179e"
             ],
             [
              0.4444444444444444,
              "#bd3786"
             ],
             [
              0.5555555555555556,
              "#d8576b"
             ],
             [
              0.6666666666666666,
              "#ed7953"
             ],
             [
              0.7777777777777778,
              "#fb9f3a"
             ],
             [
              0.8888888888888888,
              "#fdca26"
             ],
             [
              1,
              "#f0f921"
             ]
            ],
            "type": "histogram2d"
           }
          ],
          "histogram2dcontour": [
           {
            "colorbar": {
             "outlinewidth": 0,
             "ticks": ""
            },
            "colorscale": [
             [
              0,
              "#0d0887"
             ],
             [
              0.1111111111111111,
              "#46039f"
             ],
             [
              0.2222222222222222,
              "#7201a8"
             ],
             [
              0.3333333333333333,
              "#9c179e"
             ],
             [
              0.4444444444444444,
              "#bd3786"
             ],
             [
              0.5555555555555556,
              "#d8576b"
             ],
             [
              0.6666666666666666,
              "#ed7953"
             ],
             [
              0.7777777777777778,
              "#fb9f3a"
             ],
             [
              0.8888888888888888,
              "#fdca26"
             ],
             [
              1,
              "#f0f921"
             ]
            ],
            "type": "histogram2dcontour"
           }
          ],
          "mesh3d": [
           {
            "colorbar": {
             "outlinewidth": 0,
             "ticks": ""
            },
            "type": "mesh3d"
           }
          ],
          "parcoords": [
           {
            "line": {
             "colorbar": {
              "outlinewidth": 0,
              "ticks": ""
             }
            },
            "type": "parcoords"
           }
          ],
          "pie": [
           {
            "automargin": true,
            "type": "pie"
           }
          ],
          "scatter": [
           {
            "fillpattern": {
             "fillmode": "overlay",
             "size": 10,
             "solidity": 0.2
            },
            "type": "scatter"
           }
          ],
          "scatter3d": [
           {
            "line": {
             "colorbar": {
              "outlinewidth": 0,
              "ticks": ""
             }
            },
            "marker": {
             "colorbar": {
              "outlinewidth": 0,
              "ticks": ""
             }
            },
            "type": "scatter3d"
           }
          ],
          "scattercarpet": [
           {
            "marker": {
             "colorbar": {
              "outlinewidth": 0,
              "ticks": ""
             }
            },
            "type": "scattercarpet"
           }
          ],
          "scattergeo": [
           {
            "marker": {
             "colorbar": {
              "outlinewidth": 0,
              "ticks": ""
             }
            },
            "type": "scattergeo"
           }
          ],
          "scattergl": [
           {
            "marker": {
             "colorbar": {
              "outlinewidth": 0,
              "ticks": ""
             }
            },
            "type": "scattergl"
           }
          ],
          "scattermapbox": [
           {
            "marker": {
             "colorbar": {
              "outlinewidth": 0,
              "ticks": ""
             }
            },
            "type": "scattermapbox"
           }
          ],
          "scatterpolar": [
           {
            "marker": {
             "colorbar": {
              "outlinewidth": 0,
              "ticks": ""
             }
            },
            "type": "scatterpolar"
           }
          ],
          "scatterpolargl": [
           {
            "marker": {
             "colorbar": {
              "outlinewidth": 0,
              "ticks": ""
             }
            },
            "type": "scatterpolargl"
           }
          ],
          "scatterternary": [
           {
            "marker": {
             "colorbar": {
              "outlinewidth": 0,
              "ticks": ""
             }
            },
            "type": "scatterternary"
           }
          ],
          "surface": [
           {
            "colorbar": {
             "outlinewidth": 0,
             "ticks": ""
            },
            "colorscale": [
             [
              0,
              "#0d0887"
             ],
             [
              0.1111111111111111,
              "#46039f"
             ],
             [
              0.2222222222222222,
              "#7201a8"
             ],
             [
              0.3333333333333333,
              "#9c179e"
             ],
             [
              0.4444444444444444,
              "#bd3786"
             ],
             [
              0.5555555555555556,
              "#d8576b"
             ],
             [
              0.6666666666666666,
              "#ed7953"
             ],
             [
              0.7777777777777778,
              "#fb9f3a"
             ],
             [
              0.8888888888888888,
              "#fdca26"
             ],
             [
              1,
              "#f0f921"
             ]
            ],
            "type": "surface"
           }
          ],
          "table": [
           {
            "cells": {
             "fill": {
              "color": "#EBF0F8"
             },
             "line": {
              "color": "white"
             }
            },
            "header": {
             "fill": {
              "color": "#C8D4E3"
             },
             "line": {
              "color": "white"
             }
            },
            "type": "table"
           }
          ]
         },
         "layout": {
          "annotationdefaults": {
           "arrowcolor": "#2a3f5f",
           "arrowhead": 0,
           "arrowwidth": 1
          },
          "autotypenumbers": "strict",
          "coloraxis": {
           "colorbar": {
            "outlinewidth": 0,
            "ticks": ""
           }
          },
          "colorscale": {
           "diverging": [
            [
             0,
             "#8e0152"
            ],
            [
             0.1,
             "#c51b7d"
            ],
            [
             0.2,
             "#de77ae"
            ],
            [
             0.3,
             "#f1b6da"
            ],
            [
             0.4,
             "#fde0ef"
            ],
            [
             0.5,
             "#f7f7f7"
            ],
            [
             0.6,
             "#e6f5d0"
            ],
            [
             0.7,
             "#b8e186"
            ],
            [
             0.8,
             "#7fbc41"
            ],
            [
             0.9,
             "#4d9221"
            ],
            [
             1,
             "#276419"
            ]
           ],
           "sequential": [
            [
             0,
             "#0d0887"
            ],
            [
             0.1111111111111111,
             "#46039f"
            ],
            [
             0.2222222222222222,
             "#7201a8"
            ],
            [
             0.3333333333333333,
             "#9c179e"
            ],
            [
             0.4444444444444444,
             "#bd3786"
            ],
            [
             0.5555555555555556,
             "#d8576b"
            ],
            [
             0.6666666666666666,
             "#ed7953"
            ],
            [
             0.7777777777777778,
             "#fb9f3a"
            ],
            [
             0.8888888888888888,
             "#fdca26"
            ],
            [
             1,
             "#f0f921"
            ]
           ],
           "sequentialminus": [
            [
             0,
             "#0d0887"
            ],
            [
             0.1111111111111111,
             "#46039f"
            ],
            [
             0.2222222222222222,
             "#7201a8"
            ],
            [
             0.3333333333333333,
             "#9c179e"
            ],
            [
             0.4444444444444444,
             "#bd3786"
            ],
            [
             0.5555555555555556,
             "#d8576b"
            ],
            [
             0.6666666666666666,
             "#ed7953"
            ],
            [
             0.7777777777777778,
             "#fb9f3a"
            ],
            [
             0.8888888888888888,
             "#fdca26"
            ],
            [
             1,
             "#f0f921"
            ]
           ]
          },
          "colorway": [
           "#636efa",
           "#EF553B",
           "#00cc96",
           "#ab63fa",
           "#FFA15A",
           "#19d3f3",
           "#FF6692",
           "#B6E880",
           "#FF97FF",
           "#FECB52"
          ],
          "font": {
           "color": "#2a3f5f"
          },
          "geo": {
           "bgcolor": "white",
           "lakecolor": "white",
           "landcolor": "#E5ECF6",
           "showlakes": true,
           "showland": true,
           "subunitcolor": "white"
          },
          "hoverlabel": {
           "align": "left"
          },
          "hovermode": "closest",
          "mapbox": {
           "style": "light"
          },
          "paper_bgcolor": "white",
          "plot_bgcolor": "#E5ECF6",
          "polar": {
           "angularaxis": {
            "gridcolor": "white",
            "linecolor": "white",
            "ticks": ""
           },
           "bgcolor": "#E5ECF6",
           "radialaxis": {
            "gridcolor": "white",
            "linecolor": "white",
            "ticks": ""
           }
          },
          "scene": {
           "xaxis": {
            "backgroundcolor": "#E5ECF6",
            "gridcolor": "white",
            "gridwidth": 2,
            "linecolor": "white",
            "showbackground": true,
            "ticks": "",
            "zerolinecolor": "white"
           },
           "yaxis": {
            "backgroundcolor": "#E5ECF6",
            "gridcolor": "white",
            "gridwidth": 2,
            "linecolor": "white",
            "showbackground": true,
            "ticks": "",
            "zerolinecolor": "white"
           },
           "zaxis": {
            "backgroundcolor": "#E5ECF6",
            "gridcolor": "white",
            "gridwidth": 2,
            "linecolor": "white",
            "showbackground": true,
            "ticks": "",
            "zerolinecolor": "white"
           }
          },
          "shapedefaults": {
           "line": {
            "color": "#2a3f5f"
           }
          },
          "ternary": {
           "aaxis": {
            "gridcolor": "white",
            "linecolor": "white",
            "ticks": ""
           },
           "baxis": {
            "gridcolor": "white",
            "linecolor": "white",
            "ticks": ""
           },
           "bgcolor": "#E5ECF6",
           "caxis": {
            "gridcolor": "white",
            "linecolor": "white",
            "ticks": ""
           }
          },
          "title": {
           "x": 0.05
          },
          "xaxis": {
           "automargin": true,
           "gridcolor": "white",
           "linecolor": "white",
           "ticks": "",
           "title": {
            "standoff": 15
           },
           "zerolinecolor": "white",
           "zerolinewidth": 2
          },
          "yaxis": {
           "automargin": true,
           "gridcolor": "white",
           "linecolor": "white",
           "ticks": "",
           "title": {
            "standoff": 15
           },
           "zerolinecolor": "white",
           "zerolinewidth": 2
          }
         }
        },
        "title": {
         "font": {
          "color": "#4D5663"
         }
        },
        "xaxis": {
         "gridcolor": "#E1E5ED",
         "showgrid": true,
         "tickfont": {
          "color": "#4D5663"
         },
         "title": {
          "font": {
           "color": "#4D5663"
          },
          "text": ""
         },
         "zerolinecolor": "#E1E5ED"
        },
        "yaxis": {
         "gridcolor": "#E1E5ED",
         "showgrid": true,
         "tickfont": {
          "color": "#4D5663"
         },
         "title": {
          "font": {
           "color": "#4D5663"
          },
          "text": ""
         },
         "zerolinecolor": "#E1E5ED"
        }
       }
      },
      "text/html": [
       "<div>                            <div id=\"a92c2c03-f3f9-4828-b6ba-1d619c3ed9ce\" class=\"plotly-graph-div\" style=\"height:525px; width:100%;\"></div>            <script type=\"text/javascript\">                require([\"plotly\"], function(Plotly) {                    window.PLOTLYENV=window.PLOTLYENV || {};\n",
       "                    window.PLOTLYENV.BASE_URL='https://plot.ly';                                    if (document.getElementById(\"a92c2c03-f3f9-4828-b6ba-1d619c3ed9ce\")) {                    Plotly.newPlot(                        \"a92c2c03-f3f9-4828-b6ba-1d619c3ed9ce\",                        [{\"marker\":{\"color\":[\"rgb(255, 153, 51)\",\"rgb(55, 128, 191)\",\"rgb(50, 171, 96)\",\"rgb(128, 0, 128)\",\"rgb(219, 64, 82)\",\"rgb(0, 128, 128)\",\"rgb(255, 255, 51)\",\"rgb(128, 128, 0)\",\"rgb(251, 128, 114)\",\"rgb(128, 177, 211)\"],\"line\":{\"width\":1.3},\"size\":[67,54,66,91,75,62,58,51,50,98,31,68,77,72,85,37,41,65,86,80,65,51,84,81,58,47,64,86,30,82,69,108,67,77,62,82,65,52,59,112,92,47,63,77,46,64,92,29,41,63,80,70,62,62,31,92,63,65,57,78,63,93,59,59,27,53,61,82,62,56,69,72,45,75,51,43,72,30,12,96,42,80,49,60,32,60,81,65,49,47,44,51,56,44,62,79,59,43,36,41],\"symbol\":\"circle\"},\"mode\":\"markers\",\"text\":\"\",\"x\":[-2.1884820507782847,-0.665854098661476,-1.3805289926414221,0.7177941534943872,-0.5079070431201327,-0.9254963685928826,0.07017048731831337,0.21659018028573443,0.6575896902323115,-0.7203671430016564,-0.4166920710075472,2.0056519868881817,0.6918406586642192,0.49110899481134057,0.5466373701568074,-0.04127578675147474,0.22291597539964056,0.5763452889571342,0.41911610659334153,-0.31504689375569617,0.4669768174623604,-1.1695274117766445,0.7364608342129234,-0.00913063712385115,0.4672029130412262,0.3027817525521753,-0.3025856918475431,0.4814090585715446,1.2196755070669176,-1.8270222684398807,0.03969622994150524,0.49267569055571897,-1.0036984109980298,-0.5251861744257543,0.9567356862535921,0.5369929247907468,-0.3161285413972293,-0.23372531142567546,0.41941353903405504,0.9964794674939226,1.305109453726727,0.13922444356079225,0.9926080522740052,-0.22710951340968658,-0.9502175771734338,-1.0761110833899576,-1.9580748766236473,0.20971225777735275,1.2391462120039176,0.0818135721981462,0.6420050639601032,0.03006078239224604,0.8414977144772191,0.7684983026064448,-0.027808936326751008,-0.16199630268676807,-0.009273158470795998,0.8995871936145745,-0.7930661423405327,0.5707151536428917,0.4609763337839569,-0.023021464976791594,1.5288125472120464,-0.88742429995902,0.3543999676999108,0.04814749748529384,-0.14407270331860864,-2.3584959248198327,0.36567542321995156,-0.015323485088775136,-1.5982332084815438,0.9893498435573947,0.4456789009768896,-0.4835972012995954,0.724238904244639,0.4682482817716083,0.839859989114251,0.14543189713505314,-0.5605395285621488,2.424734950386747,-0.7078065009697314,0.20773014860940905,0.4663918993987398,0.3610962931455434,0.13425091696086852,-2.3312497232908567,-0.3117097124746467,-0.24559017583110648,1.0340199528911336,0.660608635496201,-2.267483582162584,1.63512298448028,0.4248298038123525,-0.3912365822983923,0.2771786484275452,0.10688871829352858,1.1166460747599436,0.41147203906190505,-0.9308940719640626,-1.732720177574506],\"y\":[-0.967280454551769,-0.4262657421923561,0.6415234161208461,1.4759389662434033,-0.09751903940280975,0.17776569210575774,-1.2649818651982054,-1.1950371518335574,-1.556187143796085,-0.788478158888168,0.9597956528465741,0.052036199061202104,-0.22058592370822638,0.9816388590414287,1.0383803563519347,0.8547553132479587,-0.5886735459625771,-0.37439112569718785,-0.2623656153035446,-0.5320925874026364,-1.4220184369846043,0.846670864223348,-1.8163473370703958,1.3189836329571303,1.6637685364756059,-0.13395936428216373,-0.6293732266752319,0.2577807925648532,1.0847800174280025,-0.7978812148317082,-0.8020952268900989,-0.6264398798921825,-0.36587928505657796,1.0522610581970544,0.19094524404423097,0.7231352783492214,-0.2628470864698082,0.927313688901756,1.503651062051654,0.06638646092277749,0.26384475047205663,0.4890528362926341,0.3935599443259979,0.024380658205805403,-2.0629355520061763,0.9602761856506804,-0.23567940021145856,0.10727002685212225,-0.38412961854053373,-0.1229972569582122,1.5674833863914581,0.05797782859663407,-0.43345383829272444,0.5567694675572081,0.4512681681842402,-1.4878857727703223,1.191498577036202,1.5943146889736306,0.4194520044974007,1.7600425888987563,0.6701645912360255,-0.3075623135830556,0.27153889798225794,-0.1842878503559655,2.00223124160167,0.6777750123085785,-1.892415763831858,0.8178162088050249,0.08596553384700664,-0.6939299549913309,2.588584225766686,-0.11310923050999826,0.03988515313517068,0.4029126777124784,2.406680282475156,-0.15646532092047744,1.8857104455932763,-2.3106019408979512,0.21436153692103366,0.31521645299591206,-1.6168355582536302,1.9993223040445842,0.019732995776760843,0.9279181708398891,0.4702358093948719,1.9865857140568173,0.6992311527671162,0.28295041913737606,0.6206079271821591,-0.7272387976112539,0.3650724022216879,0.3842491991780508,-1.9554140814769014,-1.6132508173081423,1.4952438761609834,0.37003354614048906,0.08129741268596019,0.8568806010650221,0.21521236402235247,-0.9304045945205974],\"type\":\"scatter\"}],                        {\"legend\":{\"bgcolor\":\"#F5F6F9\",\"font\":{\"color\":\"#4D5663\"}},\"paper_bgcolor\":\"#F5F6F9\",\"plot_bgcolor\":\"#F5F6F9\",\"template\":{\"data\":{\"barpolar\":[{\"marker\":{\"line\":{\"color\":\"#E5ECF6\",\"width\":0.5},\"pattern\":{\"fillmode\":\"overlay\",\"size\":10,\"solidity\":0.2}},\"type\":\"barpolar\"}],\"bar\":[{\"error_x\":{\"color\":\"#2a3f5f\"},\"error_y\":{\"color\":\"#2a3f5f\"},\"marker\":{\"line\":{\"color\":\"#E5ECF6\",\"width\":0.5},\"pattern\":{\"fillmode\":\"overlay\",\"size\":10,\"solidity\":0.2}},\"type\":\"bar\"}],\"carpet\":[{\"aaxis\":{\"endlinecolor\":\"#2a3f5f\",\"gridcolor\":\"white\",\"linecolor\":\"white\",\"minorgridcolor\":\"white\",\"startlinecolor\":\"#2a3f5f\"},\"baxis\":{\"endlinecolor\":\"#2a3f5f\",\"gridcolor\":\"white\",\"linecolor\":\"white\",\"minorgridcolor\":\"white\",\"startlinecolor\":\"#2a3f5f\"},\"type\":\"carpet\"}],\"choropleth\":[{\"colorbar\":{\"outlinewidth\":0,\"ticks\":\"\"},\"type\":\"choropleth\"}],\"contourcarpet\":[{\"colorbar\":{\"outlinewidth\":0,\"ticks\":\"\"},\"type\":\"contourcarpet\"}],\"contour\":[{\"colorbar\":{\"outlinewidth\":0,\"ticks\":\"\"},\"colorscale\":[[0.0,\"#0d0887\"],[0.1111111111111111,\"#46039f\"],[0.2222222222222222,\"#7201a8\"],[0.3333333333333333,\"#9c179e\"],[0.4444444444444444,\"#bd3786\"],[0.5555555555555556,\"#d8576b\"],[0.6666666666666666,\"#ed7953\"],[0.7777777777777778,\"#fb9f3a\"],[0.8888888888888888,\"#fdca26\"],[1.0,\"#f0f921\"]],\"type\":\"contour\"}],\"heatmapgl\":[{\"colorbar\":{\"outlinewidth\":0,\"ticks\":\"\"},\"colorscale\":[[0.0,\"#0d0887\"],[0.1111111111111111,\"#46039f\"],[0.2222222222222222,\"#7201a8\"],[0.3333333333333333,\"#9c179e\"],[0.4444444444444444,\"#bd3786\"],[0.5555555555555556,\"#d8576b\"],[0.6666666666666666,\"#ed7953\"],[0.7777777777777778,\"#fb9f3a\"],[0.8888888888888888,\"#fdca26\"],[1.0,\"#f0f921\"]],\"type\":\"heatmapgl\"}],\"heatmap\":[{\"colorbar\":{\"outlinewidth\":0,\"ticks\":\"\"},\"colorscale\":[[0.0,\"#0d0887\"],[0.1111111111111111,\"#46039f\"],[0.2222222222222222,\"#7201a8\"],[0.3333333333333333,\"#9c179e\"],[0.4444444444444444,\"#bd3786\"],[0.5555555555555556,\"#d8576b\"],[0.6666666666666666,\"#ed7953\"],[0.7777777777777778,\"#fb9f3a\"],[0.8888888888888888,\"#fdca26\"],[1.0,\"#f0f921\"]],\"type\":\"heatmap\"}],\"histogram2dcontour\":[{\"colorbar\":{\"outlinewidth\":0,\"ticks\":\"\"},\"colorscale\":[[0.0,\"#0d0887\"],[0.1111111111111111,\"#46039f\"],[0.2222222222222222,\"#7201a8\"],[0.3333333333333333,\"#9c179e\"],[0.4444444444444444,\"#bd3786\"],[0.5555555555555556,\"#d8576b\"],[0.6666666666666666,\"#ed7953\"],[0.7777777777777778,\"#fb9f3a\"],[0.8888888888888888,\"#fdca26\"],[1.0,\"#f0f921\"]],\"type\":\"histogram2dcontour\"}],\"histogram2d\":[{\"colorbar\":{\"outlinewidth\":0,\"ticks\":\"\"},\"colorscale\":[[0.0,\"#0d0887\"],[0.1111111111111111,\"#46039f\"],[0.2222222222222222,\"#7201a8\"],[0.3333333333333333,\"#9c179e\"],[0.4444444444444444,\"#bd3786\"],[0.5555555555555556,\"#d8576b\"],[0.6666666666666666,\"#ed7953\"],[0.7777777777777778,\"#fb9f3a\"],[0.8888888888888888,\"#fdca26\"],[1.0,\"#f0f921\"]],\"type\":\"histogram2d\"}],\"histogram\":[{\"marker\":{\"pattern\":{\"fillmode\":\"overlay\",\"size\":10,\"solidity\":0.2}},\"type\":\"histogram\"}],\"mesh3d\":[{\"colorbar\":{\"outlinewidth\":0,\"ticks\":\"\"},\"type\":\"mesh3d\"}],\"parcoords\":[{\"line\":{\"colorbar\":{\"outlinewidth\":0,\"ticks\":\"\"}},\"type\":\"parcoords\"}],\"pie\":[{\"automargin\":true,\"type\":\"pie\"}],\"scatter3d\":[{\"line\":{\"colorbar\":{\"outlinewidth\":0,\"ticks\":\"\"}},\"marker\":{\"colorbar\":{\"outlinewidth\":0,\"ticks\":\"\"}},\"type\":\"scatter3d\"}],\"scattercarpet\":[{\"marker\":{\"colorbar\":{\"outlinewidth\":0,\"ticks\":\"\"}},\"type\":\"scattercarpet\"}],\"scattergeo\":[{\"marker\":{\"colorbar\":{\"outlinewidth\":0,\"ticks\":\"\"}},\"type\":\"scattergeo\"}],\"scattergl\":[{\"marker\":{\"colorbar\":{\"outlinewidth\":0,\"ticks\":\"\"}},\"type\":\"scattergl\"}],\"scattermapbox\":[{\"marker\":{\"colorbar\":{\"outlinewidth\":0,\"ticks\":\"\"}},\"type\":\"scattermapbox\"}],\"scatterpolargl\":[{\"marker\":{\"colorbar\":{\"outlinewidth\":0,\"ticks\":\"\"}},\"type\":\"scatterpolargl\"}],\"scatterpolar\":[{\"marker\":{\"colorbar\":{\"outlinewidth\":0,\"ticks\":\"\"}},\"type\":\"scatterpolar\"}],\"scatter\":[{\"fillpattern\":{\"fillmode\":\"overlay\",\"size\":10,\"solidity\":0.2},\"type\":\"scatter\"}],\"scatterternary\":[{\"marker\":{\"colorbar\":{\"outlinewidth\":0,\"ticks\":\"\"}},\"type\":\"scatterternary\"}],\"surface\":[{\"colorbar\":{\"outlinewidth\":0,\"ticks\":\"\"},\"colorscale\":[[0.0,\"#0d0887\"],[0.1111111111111111,\"#46039f\"],[0.2222222222222222,\"#7201a8\"],[0.3333333333333333,\"#9c179e\"],[0.4444444444444444,\"#bd3786\"],[0.5555555555555556,\"#d8576b\"],[0.6666666666666666,\"#ed7953\"],[0.7777777777777778,\"#fb9f3a\"],[0.8888888888888888,\"#fdca26\"],[1.0,\"#f0f921\"]],\"type\":\"surface\"}],\"table\":[{\"cells\":{\"fill\":{\"color\":\"#EBF0F8\"},\"line\":{\"color\":\"white\"}},\"header\":{\"fill\":{\"color\":\"#C8D4E3\"},\"line\":{\"color\":\"white\"}},\"type\":\"table\"}]},\"layout\":{\"annotationdefaults\":{\"arrowcolor\":\"#2a3f5f\",\"arrowhead\":0,\"arrowwidth\":1},\"autotypenumbers\":\"strict\",\"coloraxis\":{\"colorbar\":{\"outlinewidth\":0,\"ticks\":\"\"}},\"colorscale\":{\"diverging\":[[0,\"#8e0152\"],[0.1,\"#c51b7d\"],[0.2,\"#de77ae\"],[0.3,\"#f1b6da\"],[0.4,\"#fde0ef\"],[0.5,\"#f7f7f7\"],[0.6,\"#e6f5d0\"],[0.7,\"#b8e186\"],[0.8,\"#7fbc41\"],[0.9,\"#4d9221\"],[1,\"#276419\"]],\"sequential\":[[0.0,\"#0d0887\"],[0.1111111111111111,\"#46039f\"],[0.2222222222222222,\"#7201a8\"],[0.3333333333333333,\"#9c179e\"],[0.4444444444444444,\"#bd3786\"],[0.5555555555555556,\"#d8576b\"],[0.6666666666666666,\"#ed7953\"],[0.7777777777777778,\"#fb9f3a\"],[0.8888888888888888,\"#fdca26\"],[1.0,\"#f0f921\"]],\"sequentialminus\":[[0.0,\"#0d0887\"],[0.1111111111111111,\"#46039f\"],[0.2222222222222222,\"#7201a8\"],[0.3333333333333333,\"#9c179e\"],[0.4444444444444444,\"#bd3786\"],[0.5555555555555556,\"#d8576b\"],[0.6666666666666666,\"#ed7953\"],[0.7777777777777778,\"#fb9f3a\"],[0.8888888888888888,\"#fdca26\"],[1.0,\"#f0f921\"]]},\"colorway\":[\"#636efa\",\"#EF553B\",\"#00cc96\",\"#ab63fa\",\"#FFA15A\",\"#19d3f3\",\"#FF6692\",\"#B6E880\",\"#FF97FF\",\"#FECB52\"],\"font\":{\"color\":\"#2a3f5f\"},\"geo\":{\"bgcolor\":\"white\",\"lakecolor\":\"white\",\"landcolor\":\"#E5ECF6\",\"showlakes\":true,\"showland\":true,\"subunitcolor\":\"white\"},\"hoverlabel\":{\"align\":\"left\"},\"hovermode\":\"closest\",\"mapbox\":{\"style\":\"light\"},\"paper_bgcolor\":\"white\",\"plot_bgcolor\":\"#E5ECF6\",\"polar\":{\"angularaxis\":{\"gridcolor\":\"white\",\"linecolor\":\"white\",\"ticks\":\"\"},\"bgcolor\":\"#E5ECF6\",\"radialaxis\":{\"gridcolor\":\"white\",\"linecolor\":\"white\",\"ticks\":\"\"}},\"scene\":{\"xaxis\":{\"backgroundcolor\":\"#E5ECF6\",\"gridcolor\":\"white\",\"gridwidth\":2,\"linecolor\":\"white\",\"showbackground\":true,\"ticks\":\"\",\"zerolinecolor\":\"white\"},\"yaxis\":{\"backgroundcolor\":\"#E5ECF6\",\"gridcolor\":\"white\",\"gridwidth\":2,\"linecolor\":\"white\",\"showbackground\":true,\"ticks\":\"\",\"zerolinecolor\":\"white\"},\"zaxis\":{\"backgroundcolor\":\"#E5ECF6\",\"gridcolor\":\"white\",\"gridwidth\":2,\"linecolor\":\"white\",\"showbackground\":true,\"ticks\":\"\",\"zerolinecolor\":\"white\"}},\"shapedefaults\":{\"line\":{\"color\":\"#2a3f5f\"}},\"ternary\":{\"aaxis\":{\"gridcolor\":\"white\",\"linecolor\":\"white\",\"ticks\":\"\"},\"baxis\":{\"gridcolor\":\"white\",\"linecolor\":\"white\",\"ticks\":\"\"},\"bgcolor\":\"#E5ECF6\",\"caxis\":{\"gridcolor\":\"white\",\"linecolor\":\"white\",\"ticks\":\"\"}},\"title\":{\"x\":0.05},\"xaxis\":{\"automargin\":true,\"gridcolor\":\"white\",\"linecolor\":\"white\",\"ticks\":\"\",\"title\":{\"standoff\":15},\"zerolinecolor\":\"white\",\"zerolinewidth\":2},\"yaxis\":{\"automargin\":true,\"gridcolor\":\"white\",\"linecolor\":\"white\",\"ticks\":\"\",\"title\":{\"standoff\":15},\"zerolinecolor\":\"white\",\"zerolinewidth\":2}}},\"title\":{\"font\":{\"color\":\"#4D5663\"}},\"xaxis\":{\"gridcolor\":\"#E1E5ED\",\"showgrid\":true,\"tickfont\":{\"color\":\"#4D5663\"},\"title\":{\"font\":{\"color\":\"#4D5663\"},\"text\":\"\"},\"zerolinecolor\":\"#E1E5ED\"},\"yaxis\":{\"gridcolor\":\"#E1E5ED\",\"showgrid\":true,\"tickfont\":{\"color\":\"#4D5663\"},\"title\":{\"font\":{\"color\":\"#4D5663\"},\"text\":\"\"},\"zerolinecolor\":\"#E1E5ED\"}},                        {\"showLink\": true, \"linkText\": \"Export to plot.ly\", \"plotlyServerURL\": \"https://plot.ly\", \"responsive\": true}                    ).then(function(){\n",
       "                            \n",
       "var gd = document.getElementById('a92c2c03-f3f9-4828-b6ba-1d619c3ed9ce');\n",
       "var x = new MutationObserver(function (mutations, observer) {{\n",
       "        var display = window.getComputedStyle(gd).display;\n",
       "        if (!display || display === 'none') {{\n",
       "            console.log([gd, 'removed!']);\n",
       "            Plotly.purge(gd);\n",
       "            observer.disconnect();\n",
       "        }}\n",
       "}});\n",
       "\n",
       "// Listen for the removal of the full notebook cells\n",
       "var notebookContainer = gd.closest('#notebook-container');\n",
       "if (notebookContainer) {{\n",
       "    x.observe(notebookContainer, {childList: true});\n",
       "}}\n",
       "\n",
       "// Listen for the clearing of the current output cell\n",
       "var outputEl = gd.closest('.output');\n",
       "if (outputEl) {{\n",
       "    x.observe(outputEl, {childList: true});\n",
       "}}\n",
       "\n",
       "                        })                };                });            </script>        </div>"
      ]
     },
     "metadata": {},
     "output_type": "display_data"
    }
   ],
   "source": [
    "df.iplot(kind='bubble',x='A',y='B',size='C')"
   ]
  },
  {
   "cell_type": "markdown",
   "metadata": {},
   "source": [
    "## scatter_matrix()\n",
    "\n",
    "Similar to sns.pairplot()"
   ]
  },
  {
   "cell_type": "code",
   "execution_count": 25,
   "metadata": {
    "collapsed": false
   },
   "outputs": [
    {
     "data": {
      "application/vnd.plotly.v1+json": {
       "config": {
        "linkText": "Export to plot.ly",
        "plotlyServerURL": "https://plot.ly",
        "showLink": true
       },
       "data": [
        {
         "histfunc": "count",
         "histnorm": "",
         "marker": {
          "color": "rgba(255, 153, 51, 1.0)",
          "line": {
           "color": "#4D5663",
           "width": 1.3
          }
         },
         "name": "A",
         "nbinsx": 10,
         "opacity": 0.8,
         "orientation": "v",
         "type": "histogram",
         "x": [
          -2.1884820507782847,
          -0.665854098661476,
          -1.3805289926414221,
          0.7177941534943872,
          -0.5079070431201327,
          -0.9254963685928826,
          0.07017048731831337,
          0.21659018028573443,
          0.6575896902323115,
          -0.7203671430016564,
          -0.4166920710075472,
          2.0056519868881817,
          0.6918406586642192,
          0.49110899481134057,
          0.5466373701568074,
          -0.04127578675147474,
          0.22291597539964056,
          0.5763452889571342,
          0.41911610659334153,
          -0.31504689375569617,
          0.4669768174623604,
          -1.1695274117766445,
          0.7364608342129234,
          -0.00913063712385115,
          0.4672029130412262,
          0.3027817525521753,
          -0.3025856918475431,
          0.4814090585715446,
          1.2196755070669176,
          -1.8270222684398807,
          0.03969622994150524,
          0.49267569055571897,
          -1.0036984109980298,
          -0.5251861744257543,
          0.9567356862535921,
          0.5369929247907468,
          -0.3161285413972293,
          -0.23372531142567546,
          0.41941353903405504,
          0.9964794674939226,
          1.305109453726727,
          0.13922444356079225,
          0.9926080522740052,
          -0.22710951340968658,
          -0.9502175771734338,
          -1.0761110833899576,
          -1.9580748766236473,
          0.20971225777735275,
          1.2391462120039176,
          0.0818135721981462,
          0.6420050639601032,
          0.03006078239224604,
          0.8414977144772191,
          0.7684983026064448,
          -0.027808936326751008,
          -0.16199630268676807,
          -0.009273158470795998,
          0.8995871936145745,
          -0.7930661423405327,
          0.5707151536428917,
          0.4609763337839569,
          -0.023021464976791594,
          1.5288125472120464,
          -0.88742429995902,
          0.3543999676999108,
          0.04814749748529384,
          -0.14407270331860864,
          -2.3584959248198327,
          0.36567542321995156,
          -0.015323485088775136,
          -1.5982332084815438,
          0.9893498435573947,
          0.4456789009768896,
          -0.4835972012995954,
          0.724238904244639,
          0.4682482817716083,
          0.839859989114251,
          0.14543189713505314,
          -0.5605395285621488,
          2.424734950386747,
          -0.7078065009697314,
          0.20773014860940905,
          0.4663918993987398,
          0.3610962931455434,
          0.13425091696086852,
          -2.3312497232908567,
          -0.3117097124746467,
          -0.24559017583110648,
          1.0340199528911336,
          0.660608635496201,
          -2.267483582162584,
          1.63512298448028,
          0.4248298038123525,
          -0.3912365822983923,
          0.2771786484275452,
          0.10688871829352858,
          1.1166460747599436,
          0.41147203906190505,
          -0.9308940719640626,
          -1.732720177574506
         ],
         "xaxis": "x",
         "yaxis": "y"
        },
        {
         "line": {
          "color": "rgba(128, 128, 128, 1.0)",
          "dash": "solid",
          "shape": "linear",
          "width": 1.3
         },
         "marker": {
          "size": 2,
          "symbol": "circle"
         },
         "mode": "markers",
         "name": "A",
         "text": "",
         "type": "scatter",
         "x": [
          -0.967280454551769,
          -0.4262657421923561,
          0.6415234161208461,
          1.4759389662434033,
          -0.09751903940280975,
          0.17776569210575774,
          -1.2649818651982054,
          -1.1950371518335574,
          -1.556187143796085,
          -0.788478158888168,
          0.9597956528465741,
          0.052036199061202104,
          -0.22058592370822638,
          0.9816388590414287,
          1.0383803563519347,
          0.8547553132479587,
          -0.5886735459625771,
          -0.37439112569718785,
          -0.2623656153035446,
          -0.5320925874026364,
          -1.4220184369846043,
          0.846670864223348,
          -1.8163473370703958,
          1.3189836329571303,
          1.6637685364756059,
          -0.13395936428216373,
          -0.6293732266752319,
          0.2577807925648532,
          1.0847800174280025,
          -0.7978812148317082,
          -0.8020952268900989,
          -0.6264398798921825,
          -0.36587928505657796,
          1.0522610581970544,
          0.19094524404423097,
          0.7231352783492214,
          -0.2628470864698082,
          0.927313688901756,
          1.503651062051654,
          0.06638646092277749,
          0.26384475047205663,
          0.4890528362926341,
          0.3935599443259979,
          0.024380658205805403,
          -2.0629355520061763,
          0.9602761856506804,
          -0.23567940021145856,
          0.10727002685212225,
          -0.38412961854053373,
          -0.1229972569582122,
          1.5674833863914581,
          0.05797782859663407,
          -0.43345383829272444,
          0.5567694675572081,
          0.4512681681842402,
          -1.4878857727703223,
          1.191498577036202,
          1.5943146889736306,
          0.4194520044974007,
          1.7600425888987563,
          0.6701645912360255,
          -0.3075623135830556,
          0.27153889798225794,
          -0.1842878503559655,
          2.00223124160167,
          0.6777750123085785,
          -1.892415763831858,
          0.8178162088050249,
          0.08596553384700664,
          -0.6939299549913309,
          2.588584225766686,
          -0.11310923050999826,
          0.03988515313517068,
          0.4029126777124784,
          2.406680282475156,
          -0.15646532092047744,
          1.8857104455932763,
          -2.3106019408979512,
          0.21436153692103366,
          0.31521645299591206,
          -1.6168355582536302,
          1.9993223040445842,
          0.019732995776760843,
          0.9279181708398891,
          0.4702358093948719,
          1.9865857140568173,
          0.6992311527671162,
          0.28295041913737606,
          0.6206079271821591,
          -0.7272387976112539,
          0.3650724022216879,
          0.3842491991780508,
          -1.9554140814769014,
          -1.6132508173081423,
          1.4952438761609834,
          0.37003354614048906,
          0.08129741268596019,
          0.8568806010650221,
          0.21521236402235247,
          -0.9304045945205974
         ],
         "xaxis": "x2",
         "y": [
          -2.1884820507782847,
          -0.665854098661476,
          -1.3805289926414221,
          0.7177941534943872,
          -0.5079070431201327,
          -0.9254963685928826,
          0.07017048731831337,
          0.21659018028573443,
          0.6575896902323115,
          -0.7203671430016564,
          -0.4166920710075472,
          2.0056519868881817,
          0.6918406586642192,
          0.49110899481134057,
          0.5466373701568074,
          -0.04127578675147474,
          0.22291597539964056,
          0.5763452889571342,
          0.41911610659334153,
          -0.31504689375569617,
          0.4669768174623604,
          -1.1695274117766445,
          0.7364608342129234,
          -0.00913063712385115,
          0.4672029130412262,
          0.3027817525521753,
          -0.3025856918475431,
          0.4814090585715446,
          1.2196755070669176,
          -1.8270222684398807,
          0.03969622994150524,
          0.49267569055571897,
          -1.0036984109980298,
          -0.5251861744257543,
          0.9567356862535921,
          0.5369929247907468,
          -0.3161285413972293,
          -0.23372531142567546,
          0.41941353903405504,
          0.9964794674939226,
          1.305109453726727,
          0.13922444356079225,
          0.9926080522740052,
          -0.22710951340968658,
          -0.9502175771734338,
          -1.0761110833899576,
          -1.9580748766236473,
          0.20971225777735275,
          1.2391462120039176,
          0.0818135721981462,
          0.6420050639601032,
          0.03006078239224604,
          0.8414977144772191,
          0.7684983026064448,
          -0.027808936326751008,
          -0.16199630268676807,
          -0.009273158470795998,
          0.8995871936145745,
          -0.7930661423405327,
          0.5707151536428917,
          0.4609763337839569,
          -0.023021464976791594,
          1.5288125472120464,
          -0.88742429995902,
          0.3543999676999108,
          0.04814749748529384,
          -0.14407270331860864,
          -2.3584959248198327,
          0.36567542321995156,
          -0.015323485088775136,
          -1.5982332084815438,
          0.9893498435573947,
          0.4456789009768896,
          -0.4835972012995954,
          0.724238904244639,
          0.4682482817716083,
          0.839859989114251,
          0.14543189713505314,
          -0.5605395285621488,
          2.424734950386747,
          -0.7078065009697314,
          0.20773014860940905,
          0.4663918993987398,
          0.3610962931455434,
          0.13425091696086852,
          -2.3312497232908567,
          -0.3117097124746467,
          -0.24559017583110648,
          1.0340199528911336,
          0.660608635496201,
          -2.267483582162584,
          1.63512298448028,
          0.4248298038123525,
          -0.3912365822983923,
          0.2771786484275452,
          0.10688871829352858,
          1.1166460747599436,
          0.41147203906190505,
          -0.9308940719640626,
          -1.732720177574506
         ],
         "yaxis": "y2"
        },
        {
         "line": {
          "color": "rgba(128, 128, 128, 1.0)",
          "dash": "solid",
          "shape": "linear",
          "width": 1.3
         },
         "marker": {
          "size": 2,
          "symbol": "circle"
         },
         "mode": "markers",
         "name": "A",
         "text": "",
         "type": "scatter",
         "x": [
          0.23428231187653542,
          -0.5062269628241942,
          0.1554330972551764,
          1.491685191989914,
          0.6380747751840952,
          -0.04712005265653837,
          -0.28527899439058124,
          -0.6448451895242465,
          -0.682852267610924,
          1.8816713200626887,
          -1.7535769961200314,
          0.2843989183509091,
          0.742928779138545,
          0.48970746585397373,
          1.1598440705077344,
          -1.4125583357784603,
          -1.2007696696290329,
          0.11987329476803449,
          1.2571635351290438,
          0.8866286349479189,
          0.08033220604955596,
          -0.6474834267724643,
          1.1208756463334026,
          0.9647924728698976,
          -0.2885880948006768,
          -0.8765389365926599,
          0.07493352468931654,
          1.2597131086051392,
          -1.7819398182406463,
          1.0080211162079058,
          0.3368855099392784,
          2.4490429674818035,
          0.20660191739625874,
          0.7745483729601508,
          -0.039320226622781056,
          1.0053058422004353,
          0.0845442659011733,
          -0.5971867959351375,
          -0.20872978728838665,
          2.6116514414693714,
          1.5389235456214478,
          -0.8870022450061268,
          -0.0212668593031821,
          0.7283542518691947,
          -0.9256975407166056,
          0.0349960568846339,
          1.5593718757303405,
          -1.8546065765042206,
          -1.2011491032810682,
          0.0011092944817803188,
          0.8980306000933594,
          0.3986089621584366,
          -0.08285771893874207,
          -0.0371247682609338,
          -1.750100224980951,
          1.5459896000640223,
          -0.01964459998748743,
          0.11793168659605284,
          -0.34997760150329915,
          0.800332613833526,
          -0.0039756455255922805,
          1.6191383500503471,
          -0.21069960757642167,
          -0.19549645331420631,
          -1.9414375013297795,
          -0.5478493758383675,
          -0.12346870149557682,
          1.0399913940408467,
          -0.03603981212573254,
          -0.3709218968748972,
          0.33918448683449964,
          0.45595652906226075,
          -0.9978901366382805,
          0.6451474898802855,
          -0.652348198652816,
          -1.0585118215443197,
          0.49308871892717465,
          -1.775000161427018,
          -2.782560635724997,
          1.8000453676628363,
          -1.1496384383146256,
          0.9205906911226659,
          -0.7700437738435117,
          -0.19033578606574472,
          -1.6723282097389343,
          -0.18493692467041134,
          0.9780387731219494,
          0.08463645307487533,
          -0.7359729079784721,
          -0.8943728036154838,
          -1.041374476049706,
          -0.6749362307487199,
          -0.3684695548216315,
          -1.0218490443655872,
          -0.06423352124383631,
          0.8810969928025059,
          -0.20636236600369035,
          -1.1016360580904643,
          -1.4864261996589854,
          -1.188796837066149
         ],
         "xaxis": "x3",
         "y": [
          -2.1884820507782847,
          -0.665854098661476,
          -1.3805289926414221,
          0.7177941534943872,
          -0.5079070431201327,
          -0.9254963685928826,
          0.07017048731831337,
          0.21659018028573443,
          0.6575896902323115,
          -0.7203671430016564,
          -0.4166920710075472,
          2.0056519868881817,
          0.6918406586642192,
          0.49110899481134057,
          0.5466373701568074,
          -0.04127578675147474,
          0.22291597539964056,
          0.5763452889571342,
          0.41911610659334153,
          -0.31504689375569617,
          0.4669768174623604,
          -1.1695274117766445,
          0.7364608342129234,
          -0.00913063712385115,
          0.4672029130412262,
          0.3027817525521753,
          -0.3025856918475431,
          0.4814090585715446,
          1.2196755070669176,
          -1.8270222684398807,
          0.03969622994150524,
          0.49267569055571897,
          -1.0036984109980298,
          -0.5251861744257543,
          0.9567356862535921,
          0.5369929247907468,
          -0.3161285413972293,
          -0.23372531142567546,
          0.41941353903405504,
          0.9964794674939226,
          1.305109453726727,
          0.13922444356079225,
          0.9926080522740052,
          -0.22710951340968658,
          -0.9502175771734338,
          -1.0761110833899576,
          -1.9580748766236473,
          0.20971225777735275,
          1.2391462120039176,
          0.0818135721981462,
          0.6420050639601032,
          0.03006078239224604,
          0.8414977144772191,
          0.7684983026064448,
          -0.027808936326751008,
          -0.16199630268676807,
          -0.009273158470795998,
          0.8995871936145745,
          -0.7930661423405327,
          0.5707151536428917,
          0.4609763337839569,
          -0.023021464976791594,
          1.5288125472120464,
          -0.88742429995902,
          0.3543999676999108,
          0.04814749748529384,
          -0.14407270331860864,
          -2.3584959248198327,
          0.36567542321995156,
          -0.015323485088775136,
          -1.5982332084815438,
          0.9893498435573947,
          0.4456789009768896,
          -0.4835972012995954,
          0.724238904244639,
          0.4682482817716083,
          0.839859989114251,
          0.14543189713505314,
          -0.5605395285621488,
          2.424734950386747,
          -0.7078065009697314,
          0.20773014860940905,
          0.4663918993987398,
          0.3610962931455434,
          0.13425091696086852,
          -2.3312497232908567,
          -0.3117097124746467,
          -0.24559017583110648,
          1.0340199528911336,
          0.660608635496201,
          -2.267483582162584,
          1.63512298448028,
          0.4248298038123525,
          -0.3912365822983923,
          0.2771786484275452,
          0.10688871829352858,
          1.1166460747599436,
          0.41147203906190505,
          -0.9308940719640626,
          -1.732720177574506
         ],
         "yaxis": "y3"
        },
        {
         "line": {
          "color": "rgba(128, 128, 128, 1.0)",
          "dash": "solid",
          "shape": "linear",
          "width": 1.3
         },
         "marker": {
          "size": 2,
          "symbol": "circle"
         },
         "mode": "markers",
         "name": "A",
         "text": "",
         "type": "scatter",
         "x": [
          0.5727028398438736,
          0.9672912315342161,
          -0.6011193167910865,
          0.6265073348918706,
          -0.6845930339810649,
          0.5157149307469034,
          -0.5623742574307509,
          -0.5400218615284166,
          0.46896200044525854,
          1.522746407902645,
          -0.6632378341080102,
          0.3767761466127862,
          0.19876519972120366,
          0.14089587397219044,
          -1.2867954867023015,
          0.8935828636158181,
          -0.41057596944723207,
          0.5023786667702334,
          -0.12161892468101979,
          0.30284339257766085,
          0.02256901382894332,
          -1.7471711023742016,
          -0.41218551079226445,
          0.7788042775725317,
          -2.118154917948143,
          -0.241390800208255,
          0.7158723380330595,
          -0.13930349305422826,
          0.6811371445802761,
          0.14341276575956208,
          0.06590855054264795,
          -0.12123895443197005,
          0.3764833352321729,
          -0.10281561595272033,
          -0.7850015230615864,
          -0.46787835737609906,
          -0.6964105212575877,
          0.10185290218201198,
          -0.19107002944533907,
          -0.028455894728015723,
          0.9119072456135072,
          0.1781284814352502,
          -0.11951251939718534,
          -0.3344861568947874,
          1.3942345834240544,
          2.4801259228307533,
          -0.15135699529625257,
          0.5602697708296652,
          -0.6742766582469438,
          -0.001735009409199714,
          0.9246316608132168,
          0.7385083277166636,
          -0.8841692452661862,
          0.8677647001187814,
          0.341781424472247,
          0.0969769213800931,
          -2.8035068148233675,
          1.2961030974153602,
          0.4253408115195964,
          -0.0013851837692080663,
          -0.2536792151103678,
          -0.7805452846290323,
          -0.36618626409372784,
          -1.2871035418630075,
          -1.0284944989935407,
          -1.8099490580614084,
          -0.7092559128826477,
          1.2193296862248788,
          1.3322839666757185,
          0.6499959249630906,
          0.6629273032324599,
          1.3898750900397097,
          0.25540233715028937,
          -1.467912142692282,
          1.5034826378445685,
          0.39805233555649827,
          0.41877106171973705,
          -0.2108610476937432,
          -0.6496394290540343,
          -1.502357851648659,
          -1.738371495683503,
          -1.0764389882455565,
          0.7328901743262194,
          2.8264898298445553,
          -0.9157246492180827,
          -0.684955403294419,
          -2.1375964888504804,
          -0.5437230552169133,
          1.6239975993511928,
          0.8981691214801488,
          1.532442284653799,
          -0.1812244887023817,
          -1.1796127186397276,
          -0.05345178275268116,
          -1.188945314879167,
          0.18753248296821876,
          -0.2746382030719508,
          0.24722631136191997,
          -0.973909124838166,
          2.324432354939149
         ],
         "xaxis": "x4",
         "y": [
          -2.1884820507782847,
          -0.665854098661476,
          -1.3805289926414221,
          0.7177941534943872,
          -0.5079070431201327,
          -0.9254963685928826,
          0.07017048731831337,
          0.21659018028573443,
          0.6575896902323115,
          -0.7203671430016564,
          -0.4166920710075472,
          2.0056519868881817,
          0.6918406586642192,
          0.49110899481134057,
          0.5466373701568074,
          -0.04127578675147474,
          0.22291597539964056,
          0.5763452889571342,
          0.41911610659334153,
          -0.31504689375569617,
          0.4669768174623604,
          -1.1695274117766445,
          0.7364608342129234,
          -0.00913063712385115,
          0.4672029130412262,
          0.3027817525521753,
          -0.3025856918475431,
          0.4814090585715446,
          1.2196755070669176,
          -1.8270222684398807,
          0.03969622994150524,
          0.49267569055571897,
          -1.0036984109980298,
          -0.5251861744257543,
          0.9567356862535921,
          0.5369929247907468,
          -0.3161285413972293,
          -0.23372531142567546,
          0.41941353903405504,
          0.9964794674939226,
          1.305109453726727,
          0.13922444356079225,
          0.9926080522740052,
          -0.22710951340968658,
          -0.9502175771734338,
          -1.0761110833899576,
          -1.9580748766236473,
          0.20971225777735275,
          1.2391462120039176,
          0.0818135721981462,
          0.6420050639601032,
          0.03006078239224604,
          0.8414977144772191,
          0.7684983026064448,
          -0.027808936326751008,
          -0.16199630268676807,
          -0.009273158470795998,
          0.8995871936145745,
          -0.7930661423405327,
          0.5707151536428917,
          0.4609763337839569,
          -0.023021464976791594,
          1.5288125472120464,
          -0.88742429995902,
          0.3543999676999108,
          0.04814749748529384,
          -0.14407270331860864,
          -2.3584959248198327,
          0.36567542321995156,
          -0.015323485088775136,
          -1.5982332084815438,
          0.9893498435573947,
          0.4456789009768896,
          -0.4835972012995954,
          0.724238904244639,
          0.4682482817716083,
          0.839859989114251,
          0.14543189713505314,
          -0.5605395285621488,
          2.424734950386747,
          -0.7078065009697314,
          0.20773014860940905,
          0.4663918993987398,
          0.3610962931455434,
          0.13425091696086852,
          -2.3312497232908567,
          -0.3117097124746467,
          -0.24559017583110648,
          1.0340199528911336,
          0.660608635496201,
          -2.267483582162584,
          1.63512298448028,
          0.4248298038123525,
          -0.3912365822983923,
          0.2771786484275452,
          0.10688871829352858,
          1.1166460747599436,
          0.41147203906190505,
          -0.9308940719640626,
          -1.732720177574506
         ],
         "yaxis": "y4"
        },
        {
         "line": {
          "color": "rgba(128, 128, 128, 1.0)",
          "dash": "solid",
          "shape": "linear",
          "width": 1.3
         },
         "marker": {
          "size": 2,
          "symbol": "circle"
         },
         "mode": "markers",
         "name": "B",
         "text": "",
         "type": "scatter",
         "x": [
          -2.1884820507782847,
          -0.665854098661476,
          -1.3805289926414221,
          0.7177941534943872,
          -0.5079070431201327,
          -0.9254963685928826,
          0.07017048731831337,
          0.21659018028573443,
          0.6575896902323115,
          -0.7203671430016564,
          -0.4166920710075472,
          2.0056519868881817,
          0.6918406586642192,
          0.49110899481134057,
          0.5466373701568074,
          -0.04127578675147474,
          0.22291597539964056,
          0.5763452889571342,
          0.41911610659334153,
          -0.31504689375569617,
          0.4669768174623604,
          -1.1695274117766445,
          0.7364608342129234,
          -0.00913063712385115,
          0.4672029130412262,
          0.3027817525521753,
          -0.3025856918475431,
          0.4814090585715446,
          1.2196755070669176,
          -1.8270222684398807,
          0.03969622994150524,
          0.49267569055571897,
          -1.0036984109980298,
          -0.5251861744257543,
          0.9567356862535921,
          0.5369929247907468,
          -0.3161285413972293,
          -0.23372531142567546,
          0.41941353903405504,
          0.9964794674939226,
          1.305109453726727,
          0.13922444356079225,
          0.9926080522740052,
          -0.22710951340968658,
          -0.9502175771734338,
          -1.0761110833899576,
          -1.9580748766236473,
          0.20971225777735275,
          1.2391462120039176,
          0.0818135721981462,
          0.6420050639601032,
          0.03006078239224604,
          0.8414977144772191,
          0.7684983026064448,
          -0.027808936326751008,
          -0.16199630268676807,
          -0.009273158470795998,
          0.8995871936145745,
          -0.7930661423405327,
          0.5707151536428917,
          0.4609763337839569,
          -0.023021464976791594,
          1.5288125472120464,
          -0.88742429995902,
          0.3543999676999108,
          0.04814749748529384,
          -0.14407270331860864,
          -2.3584959248198327,
          0.36567542321995156,
          -0.015323485088775136,
          -1.5982332084815438,
          0.9893498435573947,
          0.4456789009768896,
          -0.4835972012995954,
          0.724238904244639,
          0.4682482817716083,
          0.839859989114251,
          0.14543189713505314,
          -0.5605395285621488,
          2.424734950386747,
          -0.7078065009697314,
          0.20773014860940905,
          0.4663918993987398,
          0.3610962931455434,
          0.13425091696086852,
          -2.3312497232908567,
          -0.3117097124746467,
          -0.24559017583110648,
          1.0340199528911336,
          0.660608635496201,
          -2.267483582162584,
          1.63512298448028,
          0.4248298038123525,
          -0.3912365822983923,
          0.2771786484275452,
          0.10688871829352858,
          1.1166460747599436,
          0.41147203906190505,
          -0.9308940719640626,
          -1.732720177574506
         ],
         "xaxis": "x5",
         "y": [
          -0.967280454551769,
          -0.4262657421923561,
          0.6415234161208461,
          1.4759389662434033,
          -0.09751903940280975,
          0.17776569210575774,
          -1.2649818651982054,
          -1.1950371518335574,
          -1.556187143796085,
          -0.788478158888168,
          0.9597956528465741,
          0.052036199061202104,
          -0.22058592370822638,
          0.9816388590414287,
          1.0383803563519347,
          0.8547553132479587,
          -0.5886735459625771,
          -0.37439112569718785,
          -0.2623656153035446,
          -0.5320925874026364,
          -1.4220184369846043,
          0.846670864223348,
          -1.8163473370703958,
          1.3189836329571303,
          1.6637685364756059,
          -0.13395936428216373,
          -0.6293732266752319,
          0.2577807925648532,
          1.0847800174280025,
          -0.7978812148317082,
          -0.8020952268900989,
          -0.6264398798921825,
          -0.36587928505657796,
          1.0522610581970544,
          0.19094524404423097,
          0.7231352783492214,
          -0.2628470864698082,
          0.927313688901756,
          1.503651062051654,
          0.06638646092277749,
          0.26384475047205663,
          0.4890528362926341,
          0.3935599443259979,
          0.024380658205805403,
          -2.0629355520061763,
          0.9602761856506804,
          -0.23567940021145856,
          0.10727002685212225,
          -0.38412961854053373,
          -0.1229972569582122,
          1.5674833863914581,
          0.05797782859663407,
          -0.43345383829272444,
          0.5567694675572081,
          0.4512681681842402,
          -1.4878857727703223,
          1.191498577036202,
          1.5943146889736306,
          0.4194520044974007,
          1.7600425888987563,
          0.6701645912360255,
          -0.3075623135830556,
          0.27153889798225794,
          -0.1842878503559655,
          2.00223124160167,
          0.6777750123085785,
          -1.892415763831858,
          0.8178162088050249,
          0.08596553384700664,
          -0.6939299549913309,
          2.588584225766686,
          -0.11310923050999826,
          0.03988515313517068,
          0.4029126777124784,
          2.406680282475156,
          -0.15646532092047744,
          1.8857104455932763,
          -2.3106019408979512,
          0.21436153692103366,
          0.31521645299591206,
          -1.6168355582536302,
          1.9993223040445842,
          0.019732995776760843,
          0.9279181708398891,
          0.4702358093948719,
          1.9865857140568173,
          0.6992311527671162,
          0.28295041913737606,
          0.6206079271821591,
          -0.7272387976112539,
          0.3650724022216879,
          0.3842491991780508,
          -1.9554140814769014,
          -1.6132508173081423,
          1.4952438761609834,
          0.37003354614048906,
          0.08129741268596019,
          0.8568806010650221,
          0.21521236402235247,
          -0.9304045945205974
         ],
         "yaxis": "y5"
        },
        {
         "histfunc": "count",
         "histnorm": "",
         "marker": {
          "color": "rgba(55, 128, 191, 1.0)",
          "line": {
           "color": "#4D5663",
           "width": 1.3
          }
         },
         "name": "B",
         "nbinsx": 10,
         "opacity": 0.8,
         "orientation": "v",
         "type": "histogram",
         "x": [
          -0.967280454551769,
          -0.4262657421923561,
          0.6415234161208461,
          1.4759389662434033,
          -0.09751903940280975,
          0.17776569210575774,
          -1.2649818651982054,
          -1.1950371518335574,
          -1.556187143796085,
          -0.788478158888168,
          0.9597956528465741,
          0.052036199061202104,
          -0.22058592370822638,
          0.9816388590414287,
          1.0383803563519347,
          0.8547553132479587,
          -0.5886735459625771,
          -0.37439112569718785,
          -0.2623656153035446,
          -0.5320925874026364,
          -1.4220184369846043,
          0.846670864223348,
          -1.8163473370703958,
          1.3189836329571303,
          1.6637685364756059,
          -0.13395936428216373,
          -0.6293732266752319,
          0.2577807925648532,
          1.0847800174280025,
          -0.7978812148317082,
          -0.8020952268900989,
          -0.6264398798921825,
          -0.36587928505657796,
          1.0522610581970544,
          0.19094524404423097,
          0.7231352783492214,
          -0.2628470864698082,
          0.927313688901756,
          1.503651062051654,
          0.06638646092277749,
          0.26384475047205663,
          0.4890528362926341,
          0.3935599443259979,
          0.024380658205805403,
          -2.0629355520061763,
          0.9602761856506804,
          -0.23567940021145856,
          0.10727002685212225,
          -0.38412961854053373,
          -0.1229972569582122,
          1.5674833863914581,
          0.05797782859663407,
          -0.43345383829272444,
          0.5567694675572081,
          0.4512681681842402,
          -1.4878857727703223,
          1.191498577036202,
          1.5943146889736306,
          0.4194520044974007,
          1.7600425888987563,
          0.6701645912360255,
          -0.3075623135830556,
          0.27153889798225794,
          -0.1842878503559655,
          2.00223124160167,
          0.6777750123085785,
          -1.892415763831858,
          0.8178162088050249,
          0.08596553384700664,
          -0.6939299549913309,
          2.588584225766686,
          -0.11310923050999826,
          0.03988515313517068,
          0.4029126777124784,
          2.406680282475156,
          -0.15646532092047744,
          1.8857104455932763,
          -2.3106019408979512,
          0.21436153692103366,
          0.31521645299591206,
          -1.6168355582536302,
          1.9993223040445842,
          0.019732995776760843,
          0.9279181708398891,
          0.4702358093948719,
          1.9865857140568173,
          0.6992311527671162,
          0.28295041913737606,
          0.6206079271821591,
          -0.7272387976112539,
          0.3650724022216879,
          0.3842491991780508,
          -1.9554140814769014,
          -1.6132508173081423,
          1.4952438761609834,
          0.37003354614048906,
          0.08129741268596019,
          0.8568806010650221,
          0.21521236402235247,
          -0.9304045945205974
         ],
         "xaxis": "x6",
         "yaxis": "y6"
        },
        {
         "line": {
          "color": "rgba(128, 128, 128, 1.0)",
          "dash": "solid",
          "shape": "linear",
          "width": 1.3
         },
         "marker": {
          "size": 2,
          "symbol": "circle"
         },
         "mode": "markers",
         "name": "B",
         "text": "",
         "type": "scatter",
         "x": [
          0.23428231187653542,
          -0.5062269628241942,
          0.1554330972551764,
          1.491685191989914,
          0.6380747751840952,
          -0.04712005265653837,
          -0.28527899439058124,
          -0.6448451895242465,
          -0.682852267610924,
          1.8816713200626887,
          -1.7535769961200314,
          0.2843989183509091,
          0.742928779138545,
          0.48970746585397373,
          1.1598440705077344,
          -1.4125583357784603,
          -1.2007696696290329,
          0.11987329476803449,
          1.2571635351290438,
          0.8866286349479189,
          0.08033220604955596,
          -0.6474834267724643,
          1.1208756463334026,
          0.9647924728698976,
          -0.2885880948006768,
          -0.8765389365926599,
          0.07493352468931654,
          1.2597131086051392,
          -1.7819398182406463,
          1.0080211162079058,
          0.3368855099392784,
          2.4490429674818035,
          0.20660191739625874,
          0.7745483729601508,
          -0.039320226622781056,
          1.0053058422004353,
          0.0845442659011733,
          -0.5971867959351375,
          -0.20872978728838665,
          2.6116514414693714,
          1.5389235456214478,
          -0.8870022450061268,
          -0.0212668593031821,
          0.7283542518691947,
          -0.9256975407166056,
          0.0349960568846339,
          1.5593718757303405,
          -1.8546065765042206,
          -1.2011491032810682,
          0.0011092944817803188,
          0.8980306000933594,
          0.3986089621584366,
          -0.08285771893874207,
          -0.0371247682609338,
          -1.750100224980951,
          1.5459896000640223,
          -0.01964459998748743,
          0.11793168659605284,
          -0.34997760150329915,
          0.800332613833526,
          -0.0039756455255922805,
          1.6191383500503471,
          -0.21069960757642167,
          -0.19549645331420631,
          -1.9414375013297795,
          -0.5478493758383675,
          -0.12346870149557682,
          1.0399913940408467,
          -0.03603981212573254,
          -0.3709218968748972,
          0.33918448683449964,
          0.45595652906226075,
          -0.9978901366382805,
          0.6451474898802855,
          -0.652348198652816,
          -1.0585118215443197,
          0.49308871892717465,
          -1.775000161427018,
          -2.782560635724997,
          1.8000453676628363,
          -1.1496384383146256,
          0.9205906911226659,
          -0.7700437738435117,
          -0.19033578606574472,
          -1.6723282097389343,
          -0.18493692467041134,
          0.9780387731219494,
          0.08463645307487533,
          -0.7359729079784721,
          -0.8943728036154838,
          -1.041374476049706,
          -0.6749362307487199,
          -0.3684695548216315,
          -1.0218490443655872,
          -0.06423352124383631,
          0.8810969928025059,
          -0.20636236600369035,
          -1.1016360580904643,
          -1.4864261996589854,
          -1.188796837066149
         ],
         "xaxis": "x7",
         "y": [
          -0.967280454551769,
          -0.4262657421923561,
          0.6415234161208461,
          1.4759389662434033,
          -0.09751903940280975,
          0.17776569210575774,
          -1.2649818651982054,
          -1.1950371518335574,
          -1.556187143796085,
          -0.788478158888168,
          0.9597956528465741,
          0.052036199061202104,
          -0.22058592370822638,
          0.9816388590414287,
          1.0383803563519347,
          0.8547553132479587,
          -0.5886735459625771,
          -0.37439112569718785,
          -0.2623656153035446,
          -0.5320925874026364,
          -1.4220184369846043,
          0.846670864223348,
          -1.8163473370703958,
          1.3189836329571303,
          1.6637685364756059,
          -0.13395936428216373,
          -0.6293732266752319,
          0.2577807925648532,
          1.0847800174280025,
          -0.7978812148317082,
          -0.8020952268900989,
          -0.6264398798921825,
          -0.36587928505657796,
          1.0522610581970544,
          0.19094524404423097,
          0.7231352783492214,
          -0.2628470864698082,
          0.927313688901756,
          1.503651062051654,
          0.06638646092277749,
          0.26384475047205663,
          0.4890528362926341,
          0.3935599443259979,
          0.024380658205805403,
          -2.0629355520061763,
          0.9602761856506804,
          -0.23567940021145856,
          0.10727002685212225,
          -0.38412961854053373,
          -0.1229972569582122,
          1.5674833863914581,
          0.05797782859663407,
          -0.43345383829272444,
          0.5567694675572081,
          0.4512681681842402,
          -1.4878857727703223,
          1.191498577036202,
          1.5943146889736306,
          0.4194520044974007,
          1.7600425888987563,
          0.6701645912360255,
          -0.3075623135830556,
          0.27153889798225794,
          -0.1842878503559655,
          2.00223124160167,
          0.6777750123085785,
          -1.892415763831858,
          0.8178162088050249,
          0.08596553384700664,
          -0.6939299549913309,
          2.588584225766686,
          -0.11310923050999826,
          0.03988515313517068,
          0.4029126777124784,
          2.406680282475156,
          -0.15646532092047744,
          1.8857104455932763,
          -2.3106019408979512,
          0.21436153692103366,
          0.31521645299591206,
          -1.6168355582536302,
          1.9993223040445842,
          0.019732995776760843,
          0.9279181708398891,
          0.4702358093948719,
          1.9865857140568173,
          0.6992311527671162,
          0.28295041913737606,
          0.6206079271821591,
          -0.7272387976112539,
          0.3650724022216879,
          0.3842491991780508,
          -1.9554140814769014,
          -1.6132508173081423,
          1.4952438761609834,
          0.37003354614048906,
          0.08129741268596019,
          0.8568806010650221,
          0.21521236402235247,
          -0.9304045945205974
         ],
         "yaxis": "y7"
        },
        {
         "line": {
          "color": "rgba(128, 128, 128, 1.0)",
          "dash": "solid",
          "shape": "linear",
          "width": 1.3
         },
         "marker": {
          "size": 2,
          "symbol": "circle"
         },
         "mode": "markers",
         "name": "B",
         "text": "",
         "type": "scatter",
         "x": [
          0.5727028398438736,
          0.9672912315342161,
          -0.6011193167910865,
          0.6265073348918706,
          -0.6845930339810649,
          0.5157149307469034,
          -0.5623742574307509,
          -0.5400218615284166,
          0.46896200044525854,
          1.522746407902645,
          -0.6632378341080102,
          0.3767761466127862,
          0.19876519972120366,
          0.14089587397219044,
          -1.2867954867023015,
          0.8935828636158181,
          -0.41057596944723207,
          0.5023786667702334,
          -0.12161892468101979,
          0.30284339257766085,
          0.02256901382894332,
          -1.7471711023742016,
          -0.41218551079226445,
          0.7788042775725317,
          -2.118154917948143,
          -0.241390800208255,
          0.7158723380330595,
          -0.13930349305422826,
          0.6811371445802761,
          0.14341276575956208,
          0.06590855054264795,
          -0.12123895443197005,
          0.3764833352321729,
          -0.10281561595272033,
          -0.7850015230615864,
          -0.46787835737609906,
          -0.6964105212575877,
          0.10185290218201198,
          -0.19107002944533907,
          -0.028455894728015723,
          0.9119072456135072,
          0.1781284814352502,
          -0.11951251939718534,
          -0.3344861568947874,
          1.3942345834240544,
          2.4801259228307533,
          -0.15135699529625257,
          0.5602697708296652,
          -0.6742766582469438,
          -0.001735009409199714,
          0.9246316608132168,
          0.7385083277166636,
          -0.8841692452661862,
          0.8677647001187814,
          0.341781424472247,
          0.0969769213800931,
          -2.8035068148233675,
          1.2961030974153602,
          0.4253408115195964,
          -0.0013851837692080663,
          -0.2536792151103678,
          -0.7805452846290323,
          -0.36618626409372784,
          -1.2871035418630075,
          -1.0284944989935407,
          -1.8099490580614084,
          -0.7092559128826477,
          1.2193296862248788,
          1.3322839666757185,
          0.6499959249630906,
          0.6629273032324599,
          1.3898750900397097,
          0.25540233715028937,
          -1.467912142692282,
          1.5034826378445685,
          0.39805233555649827,
          0.41877106171973705,
          -0.2108610476937432,
          -0.6496394290540343,
          -1.502357851648659,
          -1.738371495683503,
          -1.0764389882455565,
          0.7328901743262194,
          2.8264898298445553,
          -0.9157246492180827,
          -0.684955403294419,
          -2.1375964888504804,
          -0.5437230552169133,
          1.6239975993511928,
          0.8981691214801488,
          1.532442284653799,
          -0.1812244887023817,
          -1.1796127186397276,
          -0.05345178275268116,
          -1.188945314879167,
          0.18753248296821876,
          -0.2746382030719508,
          0.24722631136191997,
          -0.973909124838166,
          2.324432354939149
         ],
         "xaxis": "x8",
         "y": [
          -0.967280454551769,
          -0.4262657421923561,
          0.6415234161208461,
          1.4759389662434033,
          -0.09751903940280975,
          0.17776569210575774,
          -1.2649818651982054,
          -1.1950371518335574,
          -1.556187143796085,
          -0.788478158888168,
          0.9597956528465741,
          0.052036199061202104,
          -0.22058592370822638,
          0.9816388590414287,
          1.0383803563519347,
          0.8547553132479587,
          -0.5886735459625771,
          -0.37439112569718785,
          -0.2623656153035446,
          -0.5320925874026364,
          -1.4220184369846043,
          0.846670864223348,
          -1.8163473370703958,
          1.3189836329571303,
          1.6637685364756059,
          -0.13395936428216373,
          -0.6293732266752319,
          0.2577807925648532,
          1.0847800174280025,
          -0.7978812148317082,
          -0.8020952268900989,
          -0.6264398798921825,
          -0.36587928505657796,
          1.0522610581970544,
          0.19094524404423097,
          0.7231352783492214,
          -0.2628470864698082,
          0.927313688901756,
          1.503651062051654,
          0.06638646092277749,
          0.26384475047205663,
          0.4890528362926341,
          0.3935599443259979,
          0.024380658205805403,
          -2.0629355520061763,
          0.9602761856506804,
          -0.23567940021145856,
          0.10727002685212225,
          -0.38412961854053373,
          -0.1229972569582122,
          1.5674833863914581,
          0.05797782859663407,
          -0.43345383829272444,
          0.5567694675572081,
          0.4512681681842402,
          -1.4878857727703223,
          1.191498577036202,
          1.5943146889736306,
          0.4194520044974007,
          1.7600425888987563,
          0.6701645912360255,
          -0.3075623135830556,
          0.27153889798225794,
          -0.1842878503559655,
          2.00223124160167,
          0.6777750123085785,
          -1.892415763831858,
          0.8178162088050249,
          0.08596553384700664,
          -0.6939299549913309,
          2.588584225766686,
          -0.11310923050999826,
          0.03988515313517068,
          0.4029126777124784,
          2.406680282475156,
          -0.15646532092047744,
          1.8857104455932763,
          -2.3106019408979512,
          0.21436153692103366,
          0.31521645299591206,
          -1.6168355582536302,
          1.9993223040445842,
          0.019732995776760843,
          0.9279181708398891,
          0.4702358093948719,
          1.9865857140568173,
          0.6992311527671162,
          0.28295041913737606,
          0.6206079271821591,
          -0.7272387976112539,
          0.3650724022216879,
          0.3842491991780508,
          -1.9554140814769014,
          -1.6132508173081423,
          1.4952438761609834,
          0.37003354614048906,
          0.08129741268596019,
          0.8568806010650221,
          0.21521236402235247,
          -0.9304045945205974
         ],
         "yaxis": "y8"
        },
        {
         "line": {
          "color": "rgba(128, 128, 128, 1.0)",
          "dash": "solid",
          "shape": "linear",
          "width": 1.3
         },
         "marker": {
          "size": 2,
          "symbol": "circle"
         },
         "mode": "markers",
         "name": "C",
         "text": "",
         "type": "scatter",
         "x": [
          -2.1884820507782847,
          -0.665854098661476,
          -1.3805289926414221,
          0.7177941534943872,
          -0.5079070431201327,
          -0.9254963685928826,
          0.07017048731831337,
          0.21659018028573443,
          0.6575896902323115,
          -0.7203671430016564,
          -0.4166920710075472,
          2.0056519868881817,
          0.6918406586642192,
          0.49110899481134057,
          0.5466373701568074,
          -0.04127578675147474,
          0.22291597539964056,
          0.5763452889571342,
          0.41911610659334153,
          -0.31504689375569617,
          0.4669768174623604,
          -1.1695274117766445,
          0.7364608342129234,
          -0.00913063712385115,
          0.4672029130412262,
          0.3027817525521753,
          -0.3025856918475431,
          0.4814090585715446,
          1.2196755070669176,
          -1.8270222684398807,
          0.03969622994150524,
          0.49267569055571897,
          -1.0036984109980298,
          -0.5251861744257543,
          0.9567356862535921,
          0.5369929247907468,
          -0.3161285413972293,
          -0.23372531142567546,
          0.41941353903405504,
          0.9964794674939226,
          1.305109453726727,
          0.13922444356079225,
          0.9926080522740052,
          -0.22710951340968658,
          -0.9502175771734338,
          -1.0761110833899576,
          -1.9580748766236473,
          0.20971225777735275,
          1.2391462120039176,
          0.0818135721981462,
          0.6420050639601032,
          0.03006078239224604,
          0.8414977144772191,
          0.7684983026064448,
          -0.027808936326751008,
          -0.16199630268676807,
          -0.009273158470795998,
          0.8995871936145745,
          -0.7930661423405327,
          0.5707151536428917,
          0.4609763337839569,
          -0.023021464976791594,
          1.5288125472120464,
          -0.88742429995902,
          0.3543999676999108,
          0.04814749748529384,
          -0.14407270331860864,
          -2.3584959248198327,
          0.36567542321995156,
          -0.015323485088775136,
          -1.5982332084815438,
          0.9893498435573947,
          0.4456789009768896,
          -0.4835972012995954,
          0.724238904244639,
          0.4682482817716083,
          0.839859989114251,
          0.14543189713505314,
          -0.5605395285621488,
          2.424734950386747,
          -0.7078065009697314,
          0.20773014860940905,
          0.4663918993987398,
          0.3610962931455434,
          0.13425091696086852,
          -2.3312497232908567,
          -0.3117097124746467,
          -0.24559017583110648,
          1.0340199528911336,
          0.660608635496201,
          -2.267483582162584,
          1.63512298448028,
          0.4248298038123525,
          -0.3912365822983923,
          0.2771786484275452,
          0.10688871829352858,
          1.1166460747599436,
          0.41147203906190505,
          -0.9308940719640626,
          -1.732720177574506
         ],
         "xaxis": "x9",
         "y": [
          0.23428231187653542,
          -0.5062269628241942,
          0.1554330972551764,
          1.491685191989914,
          0.6380747751840952,
          -0.04712005265653837,
          -0.28527899439058124,
          -0.6448451895242465,
          -0.682852267610924,
          1.8816713200626887,
          -1.7535769961200314,
          0.2843989183509091,
          0.742928779138545,
          0.48970746585397373,
          1.1598440705077344,
          -1.4125583357784603,
          -1.2007696696290329,
          0.11987329476803449,
          1.2571635351290438,
          0.8866286349479189,
          0.08033220604955596,
          -0.6474834267724643,
          1.1208756463334026,
          0.9647924728698976,
          -0.2885880948006768,
          -0.8765389365926599,
          0.07493352468931654,
          1.2597131086051392,
          -1.7819398182406463,
          1.0080211162079058,
          0.3368855099392784,
          2.4490429674818035,
          0.20660191739625874,
          0.7745483729601508,
          -0.039320226622781056,
          1.0053058422004353,
          0.0845442659011733,
          -0.5971867959351375,
          -0.20872978728838665,
          2.6116514414693714,
          1.5389235456214478,
          -0.8870022450061268,
          -0.0212668593031821,
          0.7283542518691947,
          -0.9256975407166056,
          0.0349960568846339,
          1.5593718757303405,
          -1.8546065765042206,
          -1.2011491032810682,
          0.0011092944817803188,
          0.8980306000933594,
          0.3986089621584366,
          -0.08285771893874207,
          -0.0371247682609338,
          -1.750100224980951,
          1.5459896000640223,
          -0.01964459998748743,
          0.11793168659605284,
          -0.34997760150329915,
          0.800332613833526,
          -0.0039756455255922805,
          1.6191383500503471,
          -0.21069960757642167,
          -0.19549645331420631,
          -1.9414375013297795,
          -0.5478493758383675,
          -0.12346870149557682,
          1.0399913940408467,
          -0.03603981212573254,
          -0.3709218968748972,
          0.33918448683449964,
          0.45595652906226075,
          -0.9978901366382805,
          0.6451474898802855,
          -0.652348198652816,
          -1.0585118215443197,
          0.49308871892717465,
          -1.775000161427018,
          -2.782560635724997,
          1.8000453676628363,
          -1.1496384383146256,
          0.9205906911226659,
          -0.7700437738435117,
          -0.19033578606574472,
          -1.6723282097389343,
          -0.18493692467041134,
          0.9780387731219494,
          0.08463645307487533,
          -0.7359729079784721,
          -0.8943728036154838,
          -1.041374476049706,
          -0.6749362307487199,
          -0.3684695548216315,
          -1.0218490443655872,
          -0.06423352124383631,
          0.8810969928025059,
          -0.20636236600369035,
          -1.1016360580904643,
          -1.4864261996589854,
          -1.188796837066149
         ],
         "yaxis": "y9"
        },
        {
         "line": {
          "color": "rgba(128, 128, 128, 1.0)",
          "dash": "solid",
          "shape": "linear",
          "width": 1.3
         },
         "marker": {
          "size": 2,
          "symbol": "circle"
         },
         "mode": "markers",
         "name": "C",
         "text": "",
         "type": "scatter",
         "x": [
          -0.967280454551769,
          -0.4262657421923561,
          0.6415234161208461,
          1.4759389662434033,
          -0.09751903940280975,
          0.17776569210575774,
          -1.2649818651982054,
          -1.1950371518335574,
          -1.556187143796085,
          -0.788478158888168,
          0.9597956528465741,
          0.052036199061202104,
          -0.22058592370822638,
          0.9816388590414287,
          1.0383803563519347,
          0.8547553132479587,
          -0.5886735459625771,
          -0.37439112569718785,
          -0.2623656153035446,
          -0.5320925874026364,
          -1.4220184369846043,
          0.846670864223348,
          -1.8163473370703958,
          1.3189836329571303,
          1.6637685364756059,
          -0.13395936428216373,
          -0.6293732266752319,
          0.2577807925648532,
          1.0847800174280025,
          -0.7978812148317082,
          -0.8020952268900989,
          -0.6264398798921825,
          -0.36587928505657796,
          1.0522610581970544,
          0.19094524404423097,
          0.7231352783492214,
          -0.2628470864698082,
          0.927313688901756,
          1.503651062051654,
          0.06638646092277749,
          0.26384475047205663,
          0.4890528362926341,
          0.3935599443259979,
          0.024380658205805403,
          -2.0629355520061763,
          0.9602761856506804,
          -0.23567940021145856,
          0.10727002685212225,
          -0.38412961854053373,
          -0.1229972569582122,
          1.5674833863914581,
          0.05797782859663407,
          -0.43345383829272444,
          0.5567694675572081,
          0.4512681681842402,
          -1.4878857727703223,
          1.191498577036202,
          1.5943146889736306,
          0.4194520044974007,
          1.7600425888987563,
          0.6701645912360255,
          -0.3075623135830556,
          0.27153889798225794,
          -0.1842878503559655,
          2.00223124160167,
          0.6777750123085785,
          -1.892415763831858,
          0.8178162088050249,
          0.08596553384700664,
          -0.6939299549913309,
          2.588584225766686,
          -0.11310923050999826,
          0.03988515313517068,
          0.4029126777124784,
          2.406680282475156,
          -0.15646532092047744,
          1.8857104455932763,
          -2.3106019408979512,
          0.21436153692103366,
          0.31521645299591206,
          -1.6168355582536302,
          1.9993223040445842,
          0.019732995776760843,
          0.9279181708398891,
          0.4702358093948719,
          1.9865857140568173,
          0.6992311527671162,
          0.28295041913737606,
          0.6206079271821591,
          -0.7272387976112539,
          0.3650724022216879,
          0.3842491991780508,
          -1.9554140814769014,
          -1.6132508173081423,
          1.4952438761609834,
          0.37003354614048906,
          0.08129741268596019,
          0.8568806010650221,
          0.21521236402235247,
          -0.9304045945205974
         ],
         "xaxis": "x10",
         "y": [
          0.23428231187653542,
          -0.5062269628241942,
          0.1554330972551764,
          1.491685191989914,
          0.6380747751840952,
          -0.04712005265653837,
          -0.28527899439058124,
          -0.6448451895242465,
          -0.682852267610924,
          1.8816713200626887,
          -1.7535769961200314,
          0.2843989183509091,
          0.742928779138545,
          0.48970746585397373,
          1.1598440705077344,
          -1.4125583357784603,
          -1.2007696696290329,
          0.11987329476803449,
          1.2571635351290438,
          0.8866286349479189,
          0.08033220604955596,
          -0.6474834267724643,
          1.1208756463334026,
          0.9647924728698976,
          -0.2885880948006768,
          -0.8765389365926599,
          0.07493352468931654,
          1.2597131086051392,
          -1.7819398182406463,
          1.0080211162079058,
          0.3368855099392784,
          2.4490429674818035,
          0.20660191739625874,
          0.7745483729601508,
          -0.039320226622781056,
          1.0053058422004353,
          0.0845442659011733,
          -0.5971867959351375,
          -0.20872978728838665,
          2.6116514414693714,
          1.5389235456214478,
          -0.8870022450061268,
          -0.0212668593031821,
          0.7283542518691947,
          -0.9256975407166056,
          0.0349960568846339,
          1.5593718757303405,
          -1.8546065765042206,
          -1.2011491032810682,
          0.0011092944817803188,
          0.8980306000933594,
          0.3986089621584366,
          -0.08285771893874207,
          -0.0371247682609338,
          -1.750100224980951,
          1.5459896000640223,
          -0.01964459998748743,
          0.11793168659605284,
          -0.34997760150329915,
          0.800332613833526,
          -0.0039756455255922805,
          1.6191383500503471,
          -0.21069960757642167,
          -0.19549645331420631,
          -1.9414375013297795,
          -0.5478493758383675,
          -0.12346870149557682,
          1.0399913940408467,
          -0.03603981212573254,
          -0.3709218968748972,
          0.33918448683449964,
          0.45595652906226075,
          -0.9978901366382805,
          0.6451474898802855,
          -0.652348198652816,
          -1.0585118215443197,
          0.49308871892717465,
          -1.775000161427018,
          -2.782560635724997,
          1.8000453676628363,
          -1.1496384383146256,
          0.9205906911226659,
          -0.7700437738435117,
          -0.19033578606574472,
          -1.6723282097389343,
          -0.18493692467041134,
          0.9780387731219494,
          0.08463645307487533,
          -0.7359729079784721,
          -0.8943728036154838,
          -1.041374476049706,
          -0.6749362307487199,
          -0.3684695548216315,
          -1.0218490443655872,
          -0.06423352124383631,
          0.8810969928025059,
          -0.20636236600369035,
          -1.1016360580904643,
          -1.4864261996589854,
          -1.188796837066149
         ],
         "yaxis": "y10"
        },
        {
         "histfunc": "count",
         "histnorm": "",
         "marker": {
          "color": "rgba(50, 171, 96, 1.0)",
          "line": {
           "color": "#4D5663",
           "width": 1.3
          }
         },
         "name": "C",
         "nbinsx": 10,
         "opacity": 0.8,
         "orientation": "v",
         "type": "histogram",
         "x": [
          0.23428231187653542,
          -0.5062269628241942,
          0.1554330972551764,
          1.491685191989914,
          0.6380747751840952,
          -0.04712005265653837,
          -0.28527899439058124,
          -0.6448451895242465,
          -0.682852267610924,
          1.8816713200626887,
          -1.7535769961200314,
          0.2843989183509091,
          0.742928779138545,
          0.48970746585397373,
          1.1598440705077344,
          -1.4125583357784603,
          -1.2007696696290329,
          0.11987329476803449,
          1.2571635351290438,
          0.8866286349479189,
          0.08033220604955596,
          -0.6474834267724643,
          1.1208756463334026,
          0.9647924728698976,
          -0.2885880948006768,
          -0.8765389365926599,
          0.07493352468931654,
          1.2597131086051392,
          -1.7819398182406463,
          1.0080211162079058,
          0.3368855099392784,
          2.4490429674818035,
          0.20660191739625874,
          0.7745483729601508,
          -0.039320226622781056,
          1.0053058422004353,
          0.0845442659011733,
          -0.5971867959351375,
          -0.20872978728838665,
          2.6116514414693714,
          1.5389235456214478,
          -0.8870022450061268,
          -0.0212668593031821,
          0.7283542518691947,
          -0.9256975407166056,
          0.0349960568846339,
          1.5593718757303405,
          -1.8546065765042206,
          -1.2011491032810682,
          0.0011092944817803188,
          0.8980306000933594,
          0.3986089621584366,
          -0.08285771893874207,
          -0.0371247682609338,
          -1.750100224980951,
          1.5459896000640223,
          -0.01964459998748743,
          0.11793168659605284,
          -0.34997760150329915,
          0.800332613833526,
          -0.0039756455255922805,
          1.6191383500503471,
          -0.21069960757642167,
          -0.19549645331420631,
          -1.9414375013297795,
          -0.5478493758383675,
          -0.12346870149557682,
          1.0399913940408467,
          -0.03603981212573254,
          -0.3709218968748972,
          0.33918448683449964,
          0.45595652906226075,
          -0.9978901366382805,
          0.6451474898802855,
          -0.652348198652816,
          -1.0585118215443197,
          0.49308871892717465,
          -1.775000161427018,
          -2.782560635724997,
          1.8000453676628363,
          -1.1496384383146256,
          0.9205906911226659,
          -0.7700437738435117,
          -0.19033578606574472,
          -1.6723282097389343,
          -0.18493692467041134,
          0.9780387731219494,
          0.08463645307487533,
          -0.7359729079784721,
          -0.8943728036154838,
          -1.041374476049706,
          -0.6749362307487199,
          -0.3684695548216315,
          -1.0218490443655872,
          -0.06423352124383631,
          0.8810969928025059,
          -0.20636236600369035,
          -1.1016360580904643,
          -1.4864261996589854,
          -1.188796837066149
         ],
         "xaxis": "x11",
         "yaxis": "y11"
        },
        {
         "line": {
          "color": "rgba(128, 128, 128, 1.0)",
          "dash": "solid",
          "shape": "linear",
          "width": 1.3
         },
         "marker": {
          "size": 2,
          "symbol": "circle"
         },
         "mode": "markers",
         "name": "C",
         "text": "",
         "type": "scatter",
         "x": [
          0.5727028398438736,
          0.9672912315342161,
          -0.6011193167910865,
          0.6265073348918706,
          -0.6845930339810649,
          0.5157149307469034,
          -0.5623742574307509,
          -0.5400218615284166,
          0.46896200044525854,
          1.522746407902645,
          -0.6632378341080102,
          0.3767761466127862,
          0.19876519972120366,
          0.14089587397219044,
          -1.2867954867023015,
          0.8935828636158181,
          -0.41057596944723207,
          0.5023786667702334,
          -0.12161892468101979,
          0.30284339257766085,
          0.02256901382894332,
          -1.7471711023742016,
          -0.41218551079226445,
          0.7788042775725317,
          -2.118154917948143,
          -0.241390800208255,
          0.7158723380330595,
          -0.13930349305422826,
          0.6811371445802761,
          0.14341276575956208,
          0.06590855054264795,
          -0.12123895443197005,
          0.3764833352321729,
          -0.10281561595272033,
          -0.7850015230615864,
          -0.46787835737609906,
          -0.6964105212575877,
          0.10185290218201198,
          -0.19107002944533907,
          -0.028455894728015723,
          0.9119072456135072,
          0.1781284814352502,
          -0.11951251939718534,
          -0.3344861568947874,
          1.3942345834240544,
          2.4801259228307533,
          -0.15135699529625257,
          0.5602697708296652,
          -0.6742766582469438,
          -0.001735009409199714,
          0.9246316608132168,
          0.7385083277166636,
          -0.8841692452661862,
          0.8677647001187814,
          0.341781424472247,
          0.0969769213800931,
          -2.8035068148233675,
          1.2961030974153602,
          0.4253408115195964,
          -0.0013851837692080663,
          -0.2536792151103678,
          -0.7805452846290323,
          -0.36618626409372784,
          -1.2871035418630075,
          -1.0284944989935407,
          -1.8099490580614084,
          -0.7092559128826477,
          1.2193296862248788,
          1.3322839666757185,
          0.6499959249630906,
          0.6629273032324599,
          1.3898750900397097,
          0.25540233715028937,
          -1.467912142692282,
          1.5034826378445685,
          0.39805233555649827,
          0.41877106171973705,
          -0.2108610476937432,
          -0.6496394290540343,
          -1.502357851648659,
          -1.738371495683503,
          -1.0764389882455565,
          0.7328901743262194,
          2.8264898298445553,
          -0.9157246492180827,
          -0.684955403294419,
          -2.1375964888504804,
          -0.5437230552169133,
          1.6239975993511928,
          0.8981691214801488,
          1.532442284653799,
          -0.1812244887023817,
          -1.1796127186397276,
          -0.05345178275268116,
          -1.188945314879167,
          0.18753248296821876,
          -0.2746382030719508,
          0.24722631136191997,
          -0.973909124838166,
          2.324432354939149
         ],
         "xaxis": "x12",
         "y": [
          0.23428231187653542,
          -0.5062269628241942,
          0.1554330972551764,
          1.491685191989914,
          0.6380747751840952,
          -0.04712005265653837,
          -0.28527899439058124,
          -0.6448451895242465,
          -0.682852267610924,
          1.8816713200626887,
          -1.7535769961200314,
          0.2843989183509091,
          0.742928779138545,
          0.48970746585397373,
          1.1598440705077344,
          -1.4125583357784603,
          -1.2007696696290329,
          0.11987329476803449,
          1.2571635351290438,
          0.8866286349479189,
          0.08033220604955596,
          -0.6474834267724643,
          1.1208756463334026,
          0.9647924728698976,
          -0.2885880948006768,
          -0.8765389365926599,
          0.07493352468931654,
          1.2597131086051392,
          -1.7819398182406463,
          1.0080211162079058,
          0.3368855099392784,
          2.4490429674818035,
          0.20660191739625874,
          0.7745483729601508,
          -0.039320226622781056,
          1.0053058422004353,
          0.0845442659011733,
          -0.5971867959351375,
          -0.20872978728838665,
          2.6116514414693714,
          1.5389235456214478,
          -0.8870022450061268,
          -0.0212668593031821,
          0.7283542518691947,
          -0.9256975407166056,
          0.0349960568846339,
          1.5593718757303405,
          -1.8546065765042206,
          -1.2011491032810682,
          0.0011092944817803188,
          0.8980306000933594,
          0.3986089621584366,
          -0.08285771893874207,
          -0.0371247682609338,
          -1.750100224980951,
          1.5459896000640223,
          -0.01964459998748743,
          0.11793168659605284,
          -0.34997760150329915,
          0.800332613833526,
          -0.0039756455255922805,
          1.6191383500503471,
          -0.21069960757642167,
          -0.19549645331420631,
          -1.9414375013297795,
          -0.5478493758383675,
          -0.12346870149557682,
          1.0399913940408467,
          -0.03603981212573254,
          -0.3709218968748972,
          0.33918448683449964,
          0.45595652906226075,
          -0.9978901366382805,
          0.6451474898802855,
          -0.652348198652816,
          -1.0585118215443197,
          0.49308871892717465,
          -1.775000161427018,
          -2.782560635724997,
          1.8000453676628363,
          -1.1496384383146256,
          0.9205906911226659,
          -0.7700437738435117,
          -0.19033578606574472,
          -1.6723282097389343,
          -0.18493692467041134,
          0.9780387731219494,
          0.08463645307487533,
          -0.7359729079784721,
          -0.8943728036154838,
          -1.041374476049706,
          -0.6749362307487199,
          -0.3684695548216315,
          -1.0218490443655872,
          -0.06423352124383631,
          0.8810969928025059,
          -0.20636236600369035,
          -1.1016360580904643,
          -1.4864261996589854,
          -1.188796837066149
         ],
         "yaxis": "y12"
        },
        {
         "line": {
          "color": "rgba(128, 128, 128, 1.0)",
          "dash": "solid",
          "shape": "linear",
          "width": 1.3
         },
         "marker": {
          "size": 2,
          "symbol": "circle"
         },
         "mode": "markers",
         "name": "D",
         "text": "",
         "type": "scatter",
         "x": [
          -2.1884820507782847,
          -0.665854098661476,
          -1.3805289926414221,
          0.7177941534943872,
          -0.5079070431201327,
          -0.9254963685928826,
          0.07017048731831337,
          0.21659018028573443,
          0.6575896902323115,
          -0.7203671430016564,
          -0.4166920710075472,
          2.0056519868881817,
          0.6918406586642192,
          0.49110899481134057,
          0.5466373701568074,
          -0.04127578675147474,
          0.22291597539964056,
          0.5763452889571342,
          0.41911610659334153,
          -0.31504689375569617,
          0.4669768174623604,
          -1.1695274117766445,
          0.7364608342129234,
          -0.00913063712385115,
          0.4672029130412262,
          0.3027817525521753,
          -0.3025856918475431,
          0.4814090585715446,
          1.2196755070669176,
          -1.8270222684398807,
          0.03969622994150524,
          0.49267569055571897,
          -1.0036984109980298,
          -0.5251861744257543,
          0.9567356862535921,
          0.5369929247907468,
          -0.3161285413972293,
          -0.23372531142567546,
          0.41941353903405504,
          0.9964794674939226,
          1.305109453726727,
          0.13922444356079225,
          0.9926080522740052,
          -0.22710951340968658,
          -0.9502175771734338,
          -1.0761110833899576,
          -1.9580748766236473,
          0.20971225777735275,
          1.2391462120039176,
          0.0818135721981462,
          0.6420050639601032,
          0.03006078239224604,
          0.8414977144772191,
          0.7684983026064448,
          -0.027808936326751008,
          -0.16199630268676807,
          -0.009273158470795998,
          0.8995871936145745,
          -0.7930661423405327,
          0.5707151536428917,
          0.4609763337839569,
          -0.023021464976791594,
          1.5288125472120464,
          -0.88742429995902,
          0.3543999676999108,
          0.04814749748529384,
          -0.14407270331860864,
          -2.3584959248198327,
          0.36567542321995156,
          -0.015323485088775136,
          -1.5982332084815438,
          0.9893498435573947,
          0.4456789009768896,
          -0.4835972012995954,
          0.724238904244639,
          0.4682482817716083,
          0.839859989114251,
          0.14543189713505314,
          -0.5605395285621488,
          2.424734950386747,
          -0.7078065009697314,
          0.20773014860940905,
          0.4663918993987398,
          0.3610962931455434,
          0.13425091696086852,
          -2.3312497232908567,
          -0.3117097124746467,
          -0.24559017583110648,
          1.0340199528911336,
          0.660608635496201,
          -2.267483582162584,
          1.63512298448028,
          0.4248298038123525,
          -0.3912365822983923,
          0.2771786484275452,
          0.10688871829352858,
          1.1166460747599436,
          0.41147203906190505,
          -0.9308940719640626,
          -1.732720177574506
         ],
         "xaxis": "x13",
         "y": [
          0.5727028398438736,
          0.9672912315342161,
          -0.6011193167910865,
          0.6265073348918706,
          -0.6845930339810649,
          0.5157149307469034,
          -0.5623742574307509,
          -0.5400218615284166,
          0.46896200044525854,
          1.522746407902645,
          -0.6632378341080102,
          0.3767761466127862,
          0.19876519972120366,
          0.14089587397219044,
          -1.2867954867023015,
          0.8935828636158181,
          -0.41057596944723207,
          0.5023786667702334,
          -0.12161892468101979,
          0.30284339257766085,
          0.02256901382894332,
          -1.7471711023742016,
          -0.41218551079226445,
          0.7788042775725317,
          -2.118154917948143,
          -0.241390800208255,
          0.7158723380330595,
          -0.13930349305422826,
          0.6811371445802761,
          0.14341276575956208,
          0.06590855054264795,
          -0.12123895443197005,
          0.3764833352321729,
          -0.10281561595272033,
          -0.7850015230615864,
          -0.46787835737609906,
          -0.6964105212575877,
          0.10185290218201198,
          -0.19107002944533907,
          -0.028455894728015723,
          0.9119072456135072,
          0.1781284814352502,
          -0.11951251939718534,
          -0.3344861568947874,
          1.3942345834240544,
          2.4801259228307533,
          -0.15135699529625257,
          0.5602697708296652,
          -0.6742766582469438,
          -0.001735009409199714,
          0.9246316608132168,
          0.7385083277166636,
          -0.8841692452661862,
          0.8677647001187814,
          0.341781424472247,
          0.0969769213800931,
          -2.8035068148233675,
          1.2961030974153602,
          0.4253408115195964,
          -0.0013851837692080663,
          -0.2536792151103678,
          -0.7805452846290323,
          -0.36618626409372784,
          -1.2871035418630075,
          -1.0284944989935407,
          -1.8099490580614084,
          -0.7092559128826477,
          1.2193296862248788,
          1.3322839666757185,
          0.6499959249630906,
          0.6629273032324599,
          1.3898750900397097,
          0.25540233715028937,
          -1.467912142692282,
          1.5034826378445685,
          0.39805233555649827,
          0.41877106171973705,
          -0.2108610476937432,
          -0.6496394290540343,
          -1.502357851648659,
          -1.738371495683503,
          -1.0764389882455565,
          0.7328901743262194,
          2.8264898298445553,
          -0.9157246492180827,
          -0.684955403294419,
          -2.1375964888504804,
          -0.5437230552169133,
          1.6239975993511928,
          0.8981691214801488,
          1.532442284653799,
          -0.1812244887023817,
          -1.1796127186397276,
          -0.05345178275268116,
          -1.188945314879167,
          0.18753248296821876,
          -0.2746382030719508,
          0.24722631136191997,
          -0.973909124838166,
          2.324432354939149
         ],
         "yaxis": "y13"
        },
        {
         "line": {
          "color": "rgba(128, 128, 128, 1.0)",
          "dash": "solid",
          "shape": "linear",
          "width": 1.3
         },
         "marker": {
          "size": 2,
          "symbol": "circle"
         },
         "mode": "markers",
         "name": "D",
         "text": "",
         "type": "scatter",
         "x": [
          -0.967280454551769,
          -0.4262657421923561,
          0.6415234161208461,
          1.4759389662434033,
          -0.09751903940280975,
          0.17776569210575774,
          -1.2649818651982054,
          -1.1950371518335574,
          -1.556187143796085,
          -0.788478158888168,
          0.9597956528465741,
          0.052036199061202104,
          -0.22058592370822638,
          0.9816388590414287,
          1.0383803563519347,
          0.8547553132479587,
          -0.5886735459625771,
          -0.37439112569718785,
          -0.2623656153035446,
          -0.5320925874026364,
          -1.4220184369846043,
          0.846670864223348,
          -1.8163473370703958,
          1.3189836329571303,
          1.6637685364756059,
          -0.13395936428216373,
          -0.6293732266752319,
          0.2577807925648532,
          1.0847800174280025,
          -0.7978812148317082,
          -0.8020952268900989,
          -0.6264398798921825,
          -0.36587928505657796,
          1.0522610581970544,
          0.19094524404423097,
          0.7231352783492214,
          -0.2628470864698082,
          0.927313688901756,
          1.503651062051654,
          0.06638646092277749,
          0.26384475047205663,
          0.4890528362926341,
          0.3935599443259979,
          0.024380658205805403,
          -2.0629355520061763,
          0.9602761856506804,
          -0.23567940021145856,
          0.10727002685212225,
          -0.38412961854053373,
          -0.1229972569582122,
          1.5674833863914581,
          0.05797782859663407,
          -0.43345383829272444,
          0.5567694675572081,
          0.4512681681842402,
          -1.4878857727703223,
          1.191498577036202,
          1.5943146889736306,
          0.4194520044974007,
          1.7600425888987563,
          0.6701645912360255,
          -0.3075623135830556,
          0.27153889798225794,
          -0.1842878503559655,
          2.00223124160167,
          0.6777750123085785,
          -1.892415763831858,
          0.8178162088050249,
          0.08596553384700664,
          -0.6939299549913309,
          2.588584225766686,
          -0.11310923050999826,
          0.03988515313517068,
          0.4029126777124784,
          2.406680282475156,
          -0.15646532092047744,
          1.8857104455932763,
          -2.3106019408979512,
          0.21436153692103366,
          0.31521645299591206,
          -1.6168355582536302,
          1.9993223040445842,
          0.019732995776760843,
          0.9279181708398891,
          0.4702358093948719,
          1.9865857140568173,
          0.6992311527671162,
          0.28295041913737606,
          0.6206079271821591,
          -0.7272387976112539,
          0.3650724022216879,
          0.3842491991780508,
          -1.9554140814769014,
          -1.6132508173081423,
          1.4952438761609834,
          0.37003354614048906,
          0.08129741268596019,
          0.8568806010650221,
          0.21521236402235247,
          -0.9304045945205974
         ],
         "xaxis": "x14",
         "y": [
          0.5727028398438736,
          0.9672912315342161,
          -0.6011193167910865,
          0.6265073348918706,
          -0.6845930339810649,
          0.5157149307469034,
          -0.5623742574307509,
          -0.5400218615284166,
          0.46896200044525854,
          1.522746407902645,
          -0.6632378341080102,
          0.3767761466127862,
          0.19876519972120366,
          0.14089587397219044,
          -1.2867954867023015,
          0.8935828636158181,
          -0.41057596944723207,
          0.5023786667702334,
          -0.12161892468101979,
          0.30284339257766085,
          0.02256901382894332,
          -1.7471711023742016,
          -0.41218551079226445,
          0.7788042775725317,
          -2.118154917948143,
          -0.241390800208255,
          0.7158723380330595,
          -0.13930349305422826,
          0.6811371445802761,
          0.14341276575956208,
          0.06590855054264795,
          -0.12123895443197005,
          0.3764833352321729,
          -0.10281561595272033,
          -0.7850015230615864,
          -0.46787835737609906,
          -0.6964105212575877,
          0.10185290218201198,
          -0.19107002944533907,
          -0.028455894728015723,
          0.9119072456135072,
          0.1781284814352502,
          -0.11951251939718534,
          -0.3344861568947874,
          1.3942345834240544,
          2.4801259228307533,
          -0.15135699529625257,
          0.5602697708296652,
          -0.6742766582469438,
          -0.001735009409199714,
          0.9246316608132168,
          0.7385083277166636,
          -0.8841692452661862,
          0.8677647001187814,
          0.341781424472247,
          0.0969769213800931,
          -2.8035068148233675,
          1.2961030974153602,
          0.4253408115195964,
          -0.0013851837692080663,
          -0.2536792151103678,
          -0.7805452846290323,
          -0.36618626409372784,
          -1.2871035418630075,
          -1.0284944989935407,
          -1.8099490580614084,
          -0.7092559128826477,
          1.2193296862248788,
          1.3322839666757185,
          0.6499959249630906,
          0.6629273032324599,
          1.3898750900397097,
          0.25540233715028937,
          -1.467912142692282,
          1.5034826378445685,
          0.39805233555649827,
          0.41877106171973705,
          -0.2108610476937432,
          -0.6496394290540343,
          -1.502357851648659,
          -1.738371495683503,
          -1.0764389882455565,
          0.7328901743262194,
          2.8264898298445553,
          -0.9157246492180827,
          -0.684955403294419,
          -2.1375964888504804,
          -0.5437230552169133,
          1.6239975993511928,
          0.8981691214801488,
          1.532442284653799,
          -0.1812244887023817,
          -1.1796127186397276,
          -0.05345178275268116,
          -1.188945314879167,
          0.18753248296821876,
          -0.2746382030719508,
          0.24722631136191997,
          -0.973909124838166,
          2.324432354939149
         ],
         "yaxis": "y14"
        },
        {
         "line": {
          "color": "rgba(128, 128, 128, 1.0)",
          "dash": "solid",
          "shape": "linear",
          "width": 1.3
         },
         "marker": {
          "size": 2,
          "symbol": "circle"
         },
         "mode": "markers",
         "name": "D",
         "text": "",
         "type": "scatter",
         "x": [
          0.23428231187653542,
          -0.5062269628241942,
          0.1554330972551764,
          1.491685191989914,
          0.6380747751840952,
          -0.04712005265653837,
          -0.28527899439058124,
          -0.6448451895242465,
          -0.682852267610924,
          1.8816713200626887,
          -1.7535769961200314,
          0.2843989183509091,
          0.742928779138545,
          0.48970746585397373,
          1.1598440705077344,
          -1.4125583357784603,
          -1.2007696696290329,
          0.11987329476803449,
          1.2571635351290438,
          0.8866286349479189,
          0.08033220604955596,
          -0.6474834267724643,
          1.1208756463334026,
          0.9647924728698976,
          -0.2885880948006768,
          -0.8765389365926599,
          0.07493352468931654,
          1.2597131086051392,
          -1.7819398182406463,
          1.0080211162079058,
          0.3368855099392784,
          2.4490429674818035,
          0.20660191739625874,
          0.7745483729601508,
          -0.039320226622781056,
          1.0053058422004353,
          0.0845442659011733,
          -0.5971867959351375,
          -0.20872978728838665,
          2.6116514414693714,
          1.5389235456214478,
          -0.8870022450061268,
          -0.0212668593031821,
          0.7283542518691947,
          -0.9256975407166056,
          0.0349960568846339,
          1.5593718757303405,
          -1.8546065765042206,
          -1.2011491032810682,
          0.0011092944817803188,
          0.8980306000933594,
          0.3986089621584366,
          -0.08285771893874207,
          -0.0371247682609338,
          -1.750100224980951,
          1.5459896000640223,
          -0.01964459998748743,
          0.11793168659605284,
          -0.34997760150329915,
          0.800332613833526,
          -0.0039756455255922805,
          1.6191383500503471,
          -0.21069960757642167,
          -0.19549645331420631,
          -1.9414375013297795,
          -0.5478493758383675,
          -0.12346870149557682,
          1.0399913940408467,
          -0.03603981212573254,
          -0.3709218968748972,
          0.33918448683449964,
          0.45595652906226075,
          -0.9978901366382805,
          0.6451474898802855,
          -0.652348198652816,
          -1.0585118215443197,
          0.49308871892717465,
          -1.775000161427018,
          -2.782560635724997,
          1.8000453676628363,
          -1.1496384383146256,
          0.9205906911226659,
          -0.7700437738435117,
          -0.19033578606574472,
          -1.6723282097389343,
          -0.18493692467041134,
          0.9780387731219494,
          0.08463645307487533,
          -0.7359729079784721,
          -0.8943728036154838,
          -1.041374476049706,
          -0.6749362307487199,
          -0.3684695548216315,
          -1.0218490443655872,
          -0.06423352124383631,
          0.8810969928025059,
          -0.20636236600369035,
          -1.1016360580904643,
          -1.4864261996589854,
          -1.188796837066149
         ],
         "xaxis": "x15",
         "y": [
          0.5727028398438736,
          0.9672912315342161,
          -0.6011193167910865,
          0.6265073348918706,
          -0.6845930339810649,
          0.5157149307469034,
          -0.5623742574307509,
          -0.5400218615284166,
          0.46896200044525854,
          1.522746407902645,
          -0.6632378341080102,
          0.3767761466127862,
          0.19876519972120366,
          0.14089587397219044,
          -1.2867954867023015,
          0.8935828636158181,
          -0.41057596944723207,
          0.5023786667702334,
          -0.12161892468101979,
          0.30284339257766085,
          0.02256901382894332,
          -1.7471711023742016,
          -0.41218551079226445,
          0.7788042775725317,
          -2.118154917948143,
          -0.241390800208255,
          0.7158723380330595,
          -0.13930349305422826,
          0.6811371445802761,
          0.14341276575956208,
          0.06590855054264795,
          -0.12123895443197005,
          0.3764833352321729,
          -0.10281561595272033,
          -0.7850015230615864,
          -0.46787835737609906,
          -0.6964105212575877,
          0.10185290218201198,
          -0.19107002944533907,
          -0.028455894728015723,
          0.9119072456135072,
          0.1781284814352502,
          -0.11951251939718534,
          -0.3344861568947874,
          1.3942345834240544,
          2.4801259228307533,
          -0.15135699529625257,
          0.5602697708296652,
          -0.6742766582469438,
          -0.001735009409199714,
          0.9246316608132168,
          0.7385083277166636,
          -0.8841692452661862,
          0.8677647001187814,
          0.341781424472247,
          0.0969769213800931,
          -2.8035068148233675,
          1.2961030974153602,
          0.4253408115195964,
          -0.0013851837692080663,
          -0.2536792151103678,
          -0.7805452846290323,
          -0.36618626409372784,
          -1.2871035418630075,
          -1.0284944989935407,
          -1.8099490580614084,
          -0.7092559128826477,
          1.2193296862248788,
          1.3322839666757185,
          0.6499959249630906,
          0.6629273032324599,
          1.3898750900397097,
          0.25540233715028937,
          -1.467912142692282,
          1.5034826378445685,
          0.39805233555649827,
          0.41877106171973705,
          -0.2108610476937432,
          -0.6496394290540343,
          -1.502357851648659,
          -1.738371495683503,
          -1.0764389882455565,
          0.7328901743262194,
          2.8264898298445553,
          -0.9157246492180827,
          -0.684955403294419,
          -2.1375964888504804,
          -0.5437230552169133,
          1.6239975993511928,
          0.8981691214801488,
          1.532442284653799,
          -0.1812244887023817,
          -1.1796127186397276,
          -0.05345178275268116,
          -1.188945314879167,
          0.18753248296821876,
          -0.2746382030719508,
          0.24722631136191997,
          -0.973909124838166,
          2.324432354939149
         ],
         "yaxis": "y15"
        },
        {
         "histfunc": "count",
         "histnorm": "",
         "marker": {
          "color": "rgba(128, 0, 128, 1.0)",
          "line": {
           "color": "#4D5663",
           "width": 1.3
          }
         },
         "name": "D",
         "nbinsx": 10,
         "opacity": 0.8,
         "orientation": "v",
         "type": "histogram",
         "x": [
          0.5727028398438736,
          0.9672912315342161,
          -0.6011193167910865,
          0.6265073348918706,
          -0.6845930339810649,
          0.5157149307469034,
          -0.5623742574307509,
          -0.5400218615284166,
          0.46896200044525854,
          1.522746407902645,
          -0.6632378341080102,
          0.3767761466127862,
          0.19876519972120366,
          0.14089587397219044,
          -1.2867954867023015,
          0.8935828636158181,
          -0.41057596944723207,
          0.5023786667702334,
          -0.12161892468101979,
          0.30284339257766085,
          0.02256901382894332,
          -1.7471711023742016,
          -0.41218551079226445,
          0.7788042775725317,
          -2.118154917948143,
          -0.241390800208255,
          0.7158723380330595,
          -0.13930349305422826,
          0.6811371445802761,
          0.14341276575956208,
          0.06590855054264795,
          -0.12123895443197005,
          0.3764833352321729,
          -0.10281561595272033,
          -0.7850015230615864,
          -0.46787835737609906,
          -0.6964105212575877,
          0.10185290218201198,
          -0.19107002944533907,
          -0.028455894728015723,
          0.9119072456135072,
          0.1781284814352502,
          -0.11951251939718534,
          -0.3344861568947874,
          1.3942345834240544,
          2.4801259228307533,
          -0.15135699529625257,
          0.5602697708296652,
          -0.6742766582469438,
          -0.001735009409199714,
          0.9246316608132168,
          0.7385083277166636,
          -0.8841692452661862,
          0.8677647001187814,
          0.341781424472247,
          0.0969769213800931,
          -2.8035068148233675,
          1.2961030974153602,
          0.4253408115195964,
          -0.0013851837692080663,
          -0.2536792151103678,
          -0.7805452846290323,
          -0.36618626409372784,
          -1.2871035418630075,
          -1.0284944989935407,
          -1.8099490580614084,
          -0.7092559128826477,
          1.2193296862248788,
          1.3322839666757185,
          0.6499959249630906,
          0.6629273032324599,
          1.3898750900397097,
          0.25540233715028937,
          -1.467912142692282,
          1.5034826378445685,
          0.39805233555649827,
          0.41877106171973705,
          -0.2108610476937432,
          -0.6496394290540343,
          -1.502357851648659,
          -1.738371495683503,
          -1.0764389882455565,
          0.7328901743262194,
          2.8264898298445553,
          -0.9157246492180827,
          -0.684955403294419,
          -2.1375964888504804,
          -0.5437230552169133,
          1.6239975993511928,
          0.8981691214801488,
          1.532442284653799,
          -0.1812244887023817,
          -1.1796127186397276,
          -0.05345178275268116,
          -1.188945314879167,
          0.18753248296821876,
          -0.2746382030719508,
          0.24722631136191997,
          -0.973909124838166,
          2.324432354939149
         ],
         "xaxis": "x16",
         "yaxis": "y16"
        }
       ],
       "layout": {
        "bargap": 0.02,
        "legend": {
         "bgcolor": "#F5F6F9",
         "font": {
          "color": "#4D5663"
         }
        },
        "paper_bgcolor": "#F5F6F9",
        "plot_bgcolor": "#F5F6F9",
        "showlegend": false,
        "template": {
         "data": {
          "bar": [
           {
            "error_x": {
             "color": "#2a3f5f"
            },
            "error_y": {
             "color": "#2a3f5f"
            },
            "marker": {
             "line": {
              "color": "#E5ECF6",
              "width": 0.5
             },
             "pattern": {
              "fillmode": "overlay",
              "size": 10,
              "solidity": 0.2
             }
            },
            "type": "bar"
           }
          ],
          "barpolar": [
           {
            "marker": {
             "line": {
              "color": "#E5ECF6",
              "width": 0.5
             },
             "pattern": {
              "fillmode": "overlay",
              "size": 10,
              "solidity": 0.2
             }
            },
            "type": "barpolar"
           }
          ],
          "carpet": [
           {
            "aaxis": {
             "endlinecolor": "#2a3f5f",
             "gridcolor": "white",
             "linecolor": "white",
             "minorgridcolor": "white",
             "startlinecolor": "#2a3f5f"
            },
            "baxis": {
             "endlinecolor": "#2a3f5f",
             "gridcolor": "white",
             "linecolor": "white",
             "minorgridcolor": "white",
             "startlinecolor": "#2a3f5f"
            },
            "type": "carpet"
           }
          ],
          "choropleth": [
           {
            "colorbar": {
             "outlinewidth": 0,
             "ticks": ""
            },
            "type": "choropleth"
           }
          ],
          "contour": [
           {
            "colorbar": {
             "outlinewidth": 0,
             "ticks": ""
            },
            "colorscale": [
             [
              0,
              "#0d0887"
             ],
             [
              0.1111111111111111,
              "#46039f"
             ],
             [
              0.2222222222222222,
              "#7201a8"
             ],
             [
              0.3333333333333333,
              "#9c179e"
             ],
             [
              0.4444444444444444,
              "#bd3786"
             ],
             [
              0.5555555555555556,
              "#d8576b"
             ],
             [
              0.6666666666666666,
              "#ed7953"
             ],
             [
              0.7777777777777778,
              "#fb9f3a"
             ],
             [
              0.8888888888888888,
              "#fdca26"
             ],
             [
              1,
              "#f0f921"
             ]
            ],
            "type": "contour"
           }
          ],
          "contourcarpet": [
           {
            "colorbar": {
             "outlinewidth": 0,
             "ticks": ""
            },
            "type": "contourcarpet"
           }
          ],
          "heatmap": [
           {
            "colorbar": {
             "outlinewidth": 0,
             "ticks": ""
            },
            "colorscale": [
             [
              0,
              "#0d0887"
             ],
             [
              0.1111111111111111,
              "#46039f"
             ],
             [
              0.2222222222222222,
              "#7201a8"
             ],
             [
              0.3333333333333333,
              "#9c179e"
             ],
             [
              0.4444444444444444,
              "#bd3786"
             ],
             [
              0.5555555555555556,
              "#d8576b"
             ],
             [
              0.6666666666666666,
              "#ed7953"
             ],
             [
              0.7777777777777778,
              "#fb9f3a"
             ],
             [
              0.8888888888888888,
              "#fdca26"
             ],
             [
              1,
              "#f0f921"
             ]
            ],
            "type": "heatmap"
           }
          ],
          "heatmapgl": [
           {
            "colorbar": {
             "outlinewidth": 0,
             "ticks": ""
            },
            "colorscale": [
             [
              0,
              "#0d0887"
             ],
             [
              0.1111111111111111,
              "#46039f"
             ],
             [
              0.2222222222222222,
              "#7201a8"
             ],
             [
              0.3333333333333333,
              "#9c179e"
             ],
             [
              0.4444444444444444,
              "#bd3786"
             ],
             [
              0.5555555555555556,
              "#d8576b"
             ],
             [
              0.6666666666666666,
              "#ed7953"
             ],
             [
              0.7777777777777778,
              "#fb9f3a"
             ],
             [
              0.8888888888888888,
              "#fdca26"
             ],
             [
              1,
              "#f0f921"
             ]
            ],
            "type": "heatmapgl"
           }
          ],
          "histogram": [
           {
            "marker": {
             "pattern": {
              "fillmode": "overlay",
              "size": 10,
              "solidity": 0.2
             }
            },
            "type": "histogram"
           }
          ],
          "histogram2d": [
           {
            "colorbar": {
             "outlinewidth": 0,
             "ticks": ""
            },
            "colorscale": [
             [
              0,
              "#0d0887"
             ],
             [
              0.1111111111111111,
              "#46039f"
             ],
             [
              0.2222222222222222,
              "#7201a8"
             ],
             [
              0.3333333333333333,
              "#9c179e"
             ],
             [
              0.4444444444444444,
              "#bd3786"
             ],
             [
              0.5555555555555556,
              "#d8576b"
             ],
             [
              0.6666666666666666,
              "#ed7953"
             ],
             [
              0.7777777777777778,
              "#fb9f3a"
             ],
             [
              0.8888888888888888,
              "#fdca26"
             ],
             [
              1,
              "#f0f921"
             ]
            ],
            "type": "histogram2d"
           }
          ],
          "histogram2dcontour": [
           {
            "colorbar": {
             "outlinewidth": 0,
             "ticks": ""
            },
            "colorscale": [
             [
              0,
              "#0d0887"
             ],
             [
              0.1111111111111111,
              "#46039f"
             ],
             [
              0.2222222222222222,
              "#7201a8"
             ],
             [
              0.3333333333333333,
              "#9c179e"
             ],
             [
              0.4444444444444444,
              "#bd3786"
             ],
             [
              0.5555555555555556,
              "#d8576b"
             ],
             [
              0.6666666666666666,
              "#ed7953"
             ],
             [
              0.7777777777777778,
              "#fb9f3a"
             ],
             [
              0.8888888888888888,
              "#fdca26"
             ],
             [
              1,
              "#f0f921"
             ]
            ],
            "type": "histogram2dcontour"
           }
          ],
          "mesh3d": [
           {
            "colorbar": {
             "outlinewidth": 0,
             "ticks": ""
            },
            "type": "mesh3d"
           }
          ],
          "parcoords": [
           {
            "line": {
             "colorbar": {
              "outlinewidth": 0,
              "ticks": ""
             }
            },
            "type": "parcoords"
           }
          ],
          "pie": [
           {
            "automargin": true,
            "type": "pie"
           }
          ],
          "scatter": [
           {
            "fillpattern": {
             "fillmode": "overlay",
             "size": 10,
             "solidity": 0.2
            },
            "type": "scatter"
           }
          ],
          "scatter3d": [
           {
            "line": {
             "colorbar": {
              "outlinewidth": 0,
              "ticks": ""
             }
            },
            "marker": {
             "colorbar": {
              "outlinewidth": 0,
              "ticks": ""
             }
            },
            "type": "scatter3d"
           }
          ],
          "scattercarpet": [
           {
            "marker": {
             "colorbar": {
              "outlinewidth": 0,
              "ticks": ""
             }
            },
            "type": "scattercarpet"
           }
          ],
          "scattergeo": [
           {
            "marker": {
             "colorbar": {
              "outlinewidth": 0,
              "ticks": ""
             }
            },
            "type": "scattergeo"
           }
          ],
          "scattergl": [
           {
            "marker": {
             "colorbar": {
              "outlinewidth": 0,
              "ticks": ""
             }
            },
            "type": "scattergl"
           }
          ],
          "scattermapbox": [
           {
            "marker": {
             "colorbar": {
              "outlinewidth": 0,
              "ticks": ""
             }
            },
            "type": "scattermapbox"
           }
          ],
          "scatterpolar": [
           {
            "marker": {
             "colorbar": {
              "outlinewidth": 0,
              "ticks": ""
             }
            },
            "type": "scatterpolar"
           }
          ],
          "scatterpolargl": [
           {
            "marker": {
             "colorbar": {
              "outlinewidth": 0,
              "ticks": ""
             }
            },
            "type": "scatterpolargl"
           }
          ],
          "scatterternary": [
           {
            "marker": {
             "colorbar": {
              "outlinewidth": 0,
              "ticks": ""
             }
            },
            "type": "scatterternary"
           }
          ],
          "surface": [
           {
            "colorbar": {
             "outlinewidth": 0,
             "ticks": ""
            },
            "colorscale": [
             [
              0,
              "#0d0887"
             ],
             [
              0.1111111111111111,
              "#46039f"
             ],
             [
              0.2222222222222222,
              "#7201a8"
             ],
             [
              0.3333333333333333,
              "#9c179e"
             ],
             [
              0.4444444444444444,
              "#bd3786"
             ],
             [
              0.5555555555555556,
              "#d8576b"
             ],
             [
              0.6666666666666666,
              "#ed7953"
             ],
             [
              0.7777777777777778,
              "#fb9f3a"
             ],
             [
              0.8888888888888888,
              "#fdca26"
             ],
             [
              1,
              "#f0f921"
             ]
            ],
            "type": "surface"
           }
          ],
          "table": [
           {
            "cells": {
             "fill": {
              "color": "#EBF0F8"
             },
             "line": {
              "color": "white"
             }
            },
            "header": {
             "fill": {
              "color": "#C8D4E3"
             },
             "line": {
              "color": "white"
             }
            },
            "type": "table"
           }
          ]
         },
         "layout": {
          "annotationdefaults": {
           "arrowcolor": "#2a3f5f",
           "arrowhead": 0,
           "arrowwidth": 1
          },
          "autotypenumbers": "strict",
          "coloraxis": {
           "colorbar": {
            "outlinewidth": 0,
            "ticks": ""
           }
          },
          "colorscale": {
           "diverging": [
            [
             0,
             "#8e0152"
            ],
            [
             0.1,
             "#c51b7d"
            ],
            [
             0.2,
             "#de77ae"
            ],
            [
             0.3,
             "#f1b6da"
            ],
            [
             0.4,
             "#fde0ef"
            ],
            [
             0.5,
             "#f7f7f7"
            ],
            [
             0.6,
             "#e6f5d0"
            ],
            [
             0.7,
             "#b8e186"
            ],
            [
             0.8,
             "#7fbc41"
            ],
            [
             0.9,
             "#4d9221"
            ],
            [
             1,
             "#276419"
            ]
           ],
           "sequential": [
            [
             0,
             "#0d0887"
            ],
            [
             0.1111111111111111,
             "#46039f"
            ],
            [
             0.2222222222222222,
             "#7201a8"
            ],
            [
             0.3333333333333333,
             "#9c179e"
            ],
            [
             0.4444444444444444,
             "#bd3786"
            ],
            [
             0.5555555555555556,
             "#d8576b"
            ],
            [
             0.6666666666666666,
             "#ed7953"
            ],
            [
             0.7777777777777778,
             "#fb9f3a"
            ],
            [
             0.8888888888888888,
             "#fdca26"
            ],
            [
             1,
             "#f0f921"
            ]
           ],
           "sequentialminus": [
            [
             0,
             "#0d0887"
            ],
            [
             0.1111111111111111,
             "#46039f"
            ],
            [
             0.2222222222222222,
             "#7201a8"
            ],
            [
             0.3333333333333333,
             "#9c179e"
            ],
            [
             0.4444444444444444,
             "#bd3786"
            ],
            [
             0.5555555555555556,
             "#d8576b"
            ],
            [
             0.6666666666666666,
             "#ed7953"
            ],
            [
             0.7777777777777778,
             "#fb9f3a"
            ],
            [
             0.8888888888888888,
             "#fdca26"
            ],
            [
             1,
             "#f0f921"
            ]
           ]
          },
          "colorway": [
           "#636efa",
           "#EF553B",
           "#00cc96",
           "#ab63fa",
           "#FFA15A",
           "#19d3f3",
           "#FF6692",
           "#B6E880",
           "#FF97FF",
           "#FECB52"
          ],
          "font": {
           "color": "#2a3f5f"
          },
          "geo": {
           "bgcolor": "white",
           "lakecolor": "white",
           "landcolor": "#E5ECF6",
           "showlakes": true,
           "showland": true,
           "subunitcolor": "white"
          },
          "hoverlabel": {
           "align": "left"
          },
          "hovermode": "closest",
          "mapbox": {
           "style": "light"
          },
          "paper_bgcolor": "white",
          "plot_bgcolor": "#E5ECF6",
          "polar": {
           "angularaxis": {
            "gridcolor": "white",
            "linecolor": "white",
            "ticks": ""
           },
           "bgcolor": "#E5ECF6",
           "radialaxis": {
            "gridcolor": "white",
            "linecolor": "white",
            "ticks": ""
           }
          },
          "scene": {
           "xaxis": {
            "backgroundcolor": "#E5ECF6",
            "gridcolor": "white",
            "gridwidth": 2,
            "linecolor": "white",
            "showbackground": true,
            "ticks": "",
            "zerolinecolor": "white"
           },
           "yaxis": {
            "backgroundcolor": "#E5ECF6",
            "gridcolor": "white",
            "gridwidth": 2,
            "linecolor": "white",
            "showbackground": true,
            "ticks": "",
            "zerolinecolor": "white"
           },
           "zaxis": {
            "backgroundcolor": "#E5ECF6",
            "gridcolor": "white",
            "gridwidth": 2,
            "linecolor": "white",
            "showbackground": true,
            "ticks": "",
            "zerolinecolor": "white"
           }
          },
          "shapedefaults": {
           "line": {
            "color": "#2a3f5f"
           }
          },
          "ternary": {
           "aaxis": {
            "gridcolor": "white",
            "linecolor": "white",
            "ticks": ""
           },
           "baxis": {
            "gridcolor": "white",
            "linecolor": "white",
            "ticks": ""
           },
           "bgcolor": "#E5ECF6",
           "caxis": {
            "gridcolor": "white",
            "linecolor": "white",
            "ticks": ""
           }
          },
          "title": {
           "x": 0.05
          },
          "xaxis": {
           "automargin": true,
           "gridcolor": "white",
           "linecolor": "white",
           "ticks": "",
           "title": {
            "standoff": 15
           },
           "zerolinecolor": "white",
           "zerolinewidth": 2
          },
          "yaxis": {
           "automargin": true,
           "gridcolor": "white",
           "linecolor": "white",
           "ticks": "",
           "title": {
            "standoff": 15
           },
           "zerolinecolor": "white",
           "zerolinewidth": 2
          }
         }
        },
        "title": {
         "font": {
          "color": "#4D5663"
         }
        },
        "xaxis": {
         "anchor": "y",
         "domain": [
          0,
          0.2125
         ],
         "gridcolor": "#E1E5ED",
         "showgrid": false,
         "tickfont": {
          "color": "#4D5663"
         },
         "title": {
          "font": {
           "color": "#4D5663"
          },
          "text": ""
         },
         "zerolinecolor": "#E1E5ED"
        },
        "xaxis10": {
         "anchor": "y10",
         "domain": [
          0.2625,
          0.475
         ],
         "gridcolor": "#E1E5ED",
         "showgrid": false,
         "tickfont": {
          "color": "#4D5663"
         },
         "title": {
          "font": {
           "color": "#4D5663"
          },
          "text": ""
         },
         "zerolinecolor": "#E1E5ED"
        },
        "xaxis11": {
         "anchor": "y11",
         "domain": [
          0.525,
          0.7375
         ],
         "gridcolor": "#E1E5ED",
         "showgrid": false,
         "tickfont": {
          "color": "#4D5663"
         },
         "title": {
          "font": {
           "color": "#4D5663"
          },
          "text": ""
         },
         "zerolinecolor": "#E1E5ED"
        },
        "xaxis12": {
         "anchor": "y12",
         "domain": [
          0.7875,
          1
         ],
         "gridcolor": "#E1E5ED",
         "showgrid": false,
         "tickfont": {
          "color": "#4D5663"
         },
         "title": {
          "font": {
           "color": "#4D5663"
          },
          "text": ""
         },
         "zerolinecolor": "#E1E5ED"
        },
        "xaxis13": {
         "anchor": "y13",
         "domain": [
          0,
          0.2125
         ],
         "gridcolor": "#E1E5ED",
         "showgrid": false,
         "tickfont": {
          "color": "#4D5663"
         },
         "title": {
          "font": {
           "color": "#4D5663"
          },
          "text": ""
         },
         "zerolinecolor": "#E1E5ED"
        },
        "xaxis14": {
         "anchor": "y14",
         "domain": [
          0.2625,
          0.475
         ],
         "gridcolor": "#E1E5ED",
         "showgrid": false,
         "tickfont": {
          "color": "#4D5663"
         },
         "title": {
          "font": {
           "color": "#4D5663"
          },
          "text": ""
         },
         "zerolinecolor": "#E1E5ED"
        },
        "xaxis15": {
         "anchor": "y15",
         "domain": [
          0.525,
          0.7375
         ],
         "gridcolor": "#E1E5ED",
         "showgrid": false,
         "tickfont": {
          "color": "#4D5663"
         },
         "title": {
          "font": {
           "color": "#4D5663"
          },
          "text": ""
         },
         "zerolinecolor": "#E1E5ED"
        },
        "xaxis16": {
         "anchor": "y16",
         "domain": [
          0.7875,
          1
         ],
         "gridcolor": "#E1E5ED",
         "showgrid": false,
         "tickfont": {
          "color": "#4D5663"
         },
         "title": {
          "font": {
           "color": "#4D5663"
          },
          "text": ""
         },
         "zerolinecolor": "#E1E5ED"
        },
        "xaxis2": {
         "anchor": "y2",
         "domain": [
          0.2625,
          0.475
         ],
         "gridcolor": "#E1E5ED",
         "showgrid": false,
         "tickfont": {
          "color": "#4D5663"
         },
         "title": {
          "font": {
           "color": "#4D5663"
          },
          "text": ""
         },
         "zerolinecolor": "#E1E5ED"
        },
        "xaxis3": {
         "anchor": "y3",
         "domain": [
          0.525,
          0.7375
         ],
         "gridcolor": "#E1E5ED",
         "showgrid": false,
         "tickfont": {
          "color": "#4D5663"
         },
         "title": {
          "font": {
           "color": "#4D5663"
          },
          "text": ""
         },
         "zerolinecolor": "#E1E5ED"
        },
        "xaxis4": {
         "anchor": "y4",
         "domain": [
          0.7875,
          1
         ],
         "gridcolor": "#E1E5ED",
         "showgrid": false,
         "tickfont": {
          "color": "#4D5663"
         },
         "title": {
          "font": {
           "color": "#4D5663"
          },
          "text": ""
         },
         "zerolinecolor": "#E1E5ED"
        },
        "xaxis5": {
         "anchor": "y5",
         "domain": [
          0,
          0.2125
         ],
         "gridcolor": "#E1E5ED",
         "showgrid": false,
         "tickfont": {
          "color": "#4D5663"
         },
         "title": {
          "font": {
           "color": "#4D5663"
          },
          "text": ""
         },
         "zerolinecolor": "#E1E5ED"
        },
        "xaxis6": {
         "anchor": "y6",
         "domain": [
          0.2625,
          0.475
         ],
         "gridcolor": "#E1E5ED",
         "showgrid": false,
         "tickfont": {
          "color": "#4D5663"
         },
         "title": {
          "font": {
           "color": "#4D5663"
          },
          "text": ""
         },
         "zerolinecolor": "#E1E5ED"
        },
        "xaxis7": {
         "anchor": "y7",
         "domain": [
          0.525,
          0.7375
         ],
         "gridcolor": "#E1E5ED",
         "showgrid": false,
         "tickfont": {
          "color": "#4D5663"
         },
         "title": {
          "font": {
           "color": "#4D5663"
          },
          "text": ""
         },
         "zerolinecolor": "#E1E5ED"
        },
        "xaxis8": {
         "anchor": "y8",
         "domain": [
          0.7875,
          1
         ],
         "gridcolor": "#E1E5ED",
         "showgrid": false,
         "tickfont": {
          "color": "#4D5663"
         },
         "title": {
          "font": {
           "color": "#4D5663"
          },
          "text": ""
         },
         "zerolinecolor": "#E1E5ED"
        },
        "xaxis9": {
         "anchor": "y9",
         "domain": [
          0,
          0.2125
         ],
         "gridcolor": "#E1E5ED",
         "showgrid": false,
         "tickfont": {
          "color": "#4D5663"
         },
         "title": {
          "font": {
           "color": "#4D5663"
          },
          "text": ""
         },
         "zerolinecolor": "#E1E5ED"
        },
        "yaxis": {
         "anchor": "x",
         "domain": [
          0.8025,
          1
         ],
         "gridcolor": "#E1E5ED",
         "showgrid": false,
         "tickfont": {
          "color": "#4D5663"
         },
         "title": {
          "font": {
           "color": "#4D5663"
          },
          "text": ""
         },
         "zerolinecolor": "#E1E5ED"
        },
        "yaxis10": {
         "anchor": "x10",
         "domain": [
          0.2675,
          0.465
         ],
         "gridcolor": "#E1E5ED",
         "showgrid": false,
         "tickfont": {
          "color": "#4D5663"
         },
         "title": {
          "font": {
           "color": "#4D5663"
          },
          "text": ""
         },
         "zerolinecolor": "#E1E5ED"
        },
        "yaxis11": {
         "anchor": "x11",
         "domain": [
          0.2675,
          0.465
         ],
         "gridcolor": "#E1E5ED",
         "showgrid": false,
         "tickfont": {
          "color": "#4D5663"
         },
         "title": {
          "font": {
           "color": "#4D5663"
          },
          "text": ""
         },
         "zerolinecolor": "#E1E5ED"
        },
        "yaxis12": {
         "anchor": "x12",
         "domain": [
          0.2675,
          0.465
         ],
         "gridcolor": "#E1E5ED",
         "showgrid": false,
         "tickfont": {
          "color": "#4D5663"
         },
         "title": {
          "font": {
           "color": "#4D5663"
          },
          "text": ""
         },
         "zerolinecolor": "#E1E5ED"
        },
        "yaxis13": {
         "anchor": "x13",
         "domain": [
          0,
          0.1975
         ],
         "gridcolor": "#E1E5ED",
         "showgrid": false,
         "tickfont": {
          "color": "#4D5663"
         },
         "title": {
          "font": {
           "color": "#4D5663"
          },
          "text": ""
         },
         "zerolinecolor": "#E1E5ED"
        },
        "yaxis14": {
         "anchor": "x14",
         "domain": [
          0,
          0.1975
         ],
         "gridcolor": "#E1E5ED",
         "showgrid": false,
         "tickfont": {
          "color": "#4D5663"
         },
         "title": {
          "font": {
           "color": "#4D5663"
          },
          "text": ""
         },
         "zerolinecolor": "#E1E5ED"
        },
        "yaxis15": {
         "anchor": "x15",
         "domain": [
          0,
          0.1975
         ],
         "gridcolor": "#E1E5ED",
         "showgrid": false,
         "tickfont": {
          "color": "#4D5663"
         },
         "title": {
          "font": {
           "color": "#4D5663"
          },
          "text": ""
         },
         "zerolinecolor": "#E1E5ED"
        },
        "yaxis16": {
         "anchor": "x16",
         "domain": [
          0,
          0.1975
         ],
         "gridcolor": "#E1E5ED",
         "showgrid": false,
         "tickfont": {
          "color": "#4D5663"
         },
         "title": {
          "font": {
           "color": "#4D5663"
          },
          "text": ""
         },
         "zerolinecolor": "#E1E5ED"
        },
        "yaxis2": {
         "anchor": "x2",
         "domain": [
          0.8025,
          1
         ],
         "gridcolor": "#E1E5ED",
         "showgrid": false,
         "tickfont": {
          "color": "#4D5663"
         },
         "title": {
          "font": {
           "color": "#4D5663"
          },
          "text": ""
         },
         "zerolinecolor": "#E1E5ED"
        },
        "yaxis3": {
         "anchor": "x3",
         "domain": [
          0.8025,
          1
         ],
         "gridcolor": "#E1E5ED",
         "showgrid": false,
         "tickfont": {
          "color": "#4D5663"
         },
         "title": {
          "font": {
           "color": "#4D5663"
          },
          "text": ""
         },
         "zerolinecolor": "#E1E5ED"
        },
        "yaxis4": {
         "anchor": "x4",
         "domain": [
          0.8025,
          1
         ],
         "gridcolor": "#E1E5ED",
         "showgrid": false,
         "tickfont": {
          "color": "#4D5663"
         },
         "title": {
          "font": {
           "color": "#4D5663"
          },
          "text": ""
         },
         "zerolinecolor": "#E1E5ED"
        },
        "yaxis5": {
         "anchor": "x5",
         "domain": [
          0.535,
          0.7325
         ],
         "gridcolor": "#E1E5ED",
         "showgrid": false,
         "tickfont": {
          "color": "#4D5663"
         },
         "title": {
          "font": {
           "color": "#4D5663"
          },
          "text": ""
         },
         "zerolinecolor": "#E1E5ED"
        },
        "yaxis6": {
         "anchor": "x6",
         "domain": [
          0.535,
          0.7325
         ],
         "gridcolor": "#E1E5ED",
         "showgrid": false,
         "tickfont": {
          "color": "#4D5663"
         },
         "title": {
          "font": {
           "color": "#4D5663"
          },
          "text": ""
         },
         "zerolinecolor": "#E1E5ED"
        },
        "yaxis7": {
         "anchor": "x7",
         "domain": [
          0.535,
          0.7325
         ],
         "gridcolor": "#E1E5ED",
         "showgrid": false,
         "tickfont": {
          "color": "#4D5663"
         },
         "title": {
          "font": {
           "color": "#4D5663"
          },
          "text": ""
         },
         "zerolinecolor": "#E1E5ED"
        },
        "yaxis8": {
         "anchor": "x8",
         "domain": [
          0.535,
          0.7325
         ],
         "gridcolor": "#E1E5ED",
         "showgrid": false,
         "tickfont": {
          "color": "#4D5663"
         },
         "title": {
          "font": {
           "color": "#4D5663"
          },
          "text": ""
         },
         "zerolinecolor": "#E1E5ED"
        },
        "yaxis9": {
         "anchor": "x9",
         "domain": [
          0.2675,
          0.465
         ],
         "gridcolor": "#E1E5ED",
         "showgrid": false,
         "tickfont": {
          "color": "#4D5663"
         },
         "title": {
          "font": {
           "color": "#4D5663"
          },
          "text": ""
         },
         "zerolinecolor": "#E1E5ED"
        }
       }
      },
      "text/html": [
       "<div>                            <div id=\"1449897d-ed24-4fc4-a30b-16ce27686703\" class=\"plotly-graph-div\" style=\"height:525px; width:100%;\"></div>            <script type=\"text/javascript\">                require([\"plotly\"], function(Plotly) {                    window.PLOTLYENV=window.PLOTLYENV || {};\n",
       "                    window.PLOTLYENV.BASE_URL='https://plot.ly';                                    if (document.getElementById(\"1449897d-ed24-4fc4-a30b-16ce27686703\")) {                    Plotly.newPlot(                        \"1449897d-ed24-4fc4-a30b-16ce27686703\",                        [{\"histfunc\":\"count\",\"histnorm\":\"\",\"marker\":{\"color\":\"rgba(255, 153, 51, 1.0)\",\"line\":{\"color\":\"#4D5663\",\"width\":1.3}},\"name\":\"A\",\"nbinsx\":10,\"opacity\":0.8,\"orientation\":\"v\",\"x\":[-2.1884820507782847,-0.665854098661476,-1.3805289926414221,0.7177941534943872,-0.5079070431201327,-0.9254963685928826,0.07017048731831337,0.21659018028573443,0.6575896902323115,-0.7203671430016564,-0.4166920710075472,2.0056519868881817,0.6918406586642192,0.49110899481134057,0.5466373701568074,-0.04127578675147474,0.22291597539964056,0.5763452889571342,0.41911610659334153,-0.31504689375569617,0.4669768174623604,-1.1695274117766445,0.7364608342129234,-0.00913063712385115,0.4672029130412262,0.3027817525521753,-0.3025856918475431,0.4814090585715446,1.2196755070669176,-1.8270222684398807,0.03969622994150524,0.49267569055571897,-1.0036984109980298,-0.5251861744257543,0.9567356862535921,0.5369929247907468,-0.3161285413972293,-0.23372531142567546,0.41941353903405504,0.9964794674939226,1.305109453726727,0.13922444356079225,0.9926080522740052,-0.22710951340968658,-0.9502175771734338,-1.0761110833899576,-1.9580748766236473,0.20971225777735275,1.2391462120039176,0.0818135721981462,0.6420050639601032,0.03006078239224604,0.8414977144772191,0.7684983026064448,-0.027808936326751008,-0.16199630268676807,-0.009273158470795998,0.8995871936145745,-0.7930661423405327,0.5707151536428917,0.4609763337839569,-0.023021464976791594,1.5288125472120464,-0.88742429995902,0.3543999676999108,0.04814749748529384,-0.14407270331860864,-2.3584959248198327,0.36567542321995156,-0.015323485088775136,-1.5982332084815438,0.9893498435573947,0.4456789009768896,-0.4835972012995954,0.724238904244639,0.4682482817716083,0.839859989114251,0.14543189713505314,-0.5605395285621488,2.424734950386747,-0.7078065009697314,0.20773014860940905,0.4663918993987398,0.3610962931455434,0.13425091696086852,-2.3312497232908567,-0.3117097124746467,-0.24559017583110648,1.0340199528911336,0.660608635496201,-2.267483582162584,1.63512298448028,0.4248298038123525,-0.3912365822983923,0.2771786484275452,0.10688871829352858,1.1166460747599436,0.41147203906190505,-0.9308940719640626,-1.732720177574506],\"xaxis\":\"x\",\"yaxis\":\"y\",\"type\":\"histogram\"},{\"line\":{\"color\":\"rgba(128, 128, 128, 1.0)\",\"dash\":\"solid\",\"shape\":\"linear\",\"width\":1.3},\"marker\":{\"size\":2,\"symbol\":\"circle\"},\"mode\":\"markers\",\"name\":\"A\",\"text\":\"\",\"x\":[-0.967280454551769,-0.4262657421923561,0.6415234161208461,1.4759389662434033,-0.09751903940280975,0.17776569210575774,-1.2649818651982054,-1.1950371518335574,-1.556187143796085,-0.788478158888168,0.9597956528465741,0.052036199061202104,-0.22058592370822638,0.9816388590414287,1.0383803563519347,0.8547553132479587,-0.5886735459625771,-0.37439112569718785,-0.2623656153035446,-0.5320925874026364,-1.4220184369846043,0.846670864223348,-1.8163473370703958,1.3189836329571303,1.6637685364756059,-0.13395936428216373,-0.6293732266752319,0.2577807925648532,1.0847800174280025,-0.7978812148317082,-0.8020952268900989,-0.6264398798921825,-0.36587928505657796,1.0522610581970544,0.19094524404423097,0.7231352783492214,-0.2628470864698082,0.927313688901756,1.503651062051654,0.06638646092277749,0.26384475047205663,0.4890528362926341,0.3935599443259979,0.024380658205805403,-2.0629355520061763,0.9602761856506804,-0.23567940021145856,0.10727002685212225,-0.38412961854053373,-0.1229972569582122,1.5674833863914581,0.05797782859663407,-0.43345383829272444,0.5567694675572081,0.4512681681842402,-1.4878857727703223,1.191498577036202,1.5943146889736306,0.4194520044974007,1.7600425888987563,0.6701645912360255,-0.3075623135830556,0.27153889798225794,-0.1842878503559655,2.00223124160167,0.6777750123085785,-1.892415763831858,0.8178162088050249,0.08596553384700664,-0.6939299549913309,2.588584225766686,-0.11310923050999826,0.03988515313517068,0.4029126777124784,2.406680282475156,-0.15646532092047744,1.8857104455932763,-2.3106019408979512,0.21436153692103366,0.31521645299591206,-1.6168355582536302,1.9993223040445842,0.019732995776760843,0.9279181708398891,0.4702358093948719,1.9865857140568173,0.6992311527671162,0.28295041913737606,0.6206079271821591,-0.7272387976112539,0.3650724022216879,0.3842491991780508,-1.9554140814769014,-1.6132508173081423,1.4952438761609834,0.37003354614048906,0.08129741268596019,0.8568806010650221,0.21521236402235247,-0.9304045945205974],\"xaxis\":\"x2\",\"y\":[-2.1884820507782847,-0.665854098661476,-1.3805289926414221,0.7177941534943872,-0.5079070431201327,-0.9254963685928826,0.07017048731831337,0.21659018028573443,0.6575896902323115,-0.7203671430016564,-0.4166920710075472,2.0056519868881817,0.6918406586642192,0.49110899481134057,0.5466373701568074,-0.04127578675147474,0.22291597539964056,0.5763452889571342,0.41911610659334153,-0.31504689375569617,0.4669768174623604,-1.1695274117766445,0.7364608342129234,-0.00913063712385115,0.4672029130412262,0.3027817525521753,-0.3025856918475431,0.4814090585715446,1.2196755070669176,-1.8270222684398807,0.03969622994150524,0.49267569055571897,-1.0036984109980298,-0.5251861744257543,0.9567356862535921,0.5369929247907468,-0.3161285413972293,-0.23372531142567546,0.41941353903405504,0.9964794674939226,1.305109453726727,0.13922444356079225,0.9926080522740052,-0.22710951340968658,-0.9502175771734338,-1.0761110833899576,-1.9580748766236473,0.20971225777735275,1.2391462120039176,0.0818135721981462,0.6420050639601032,0.03006078239224604,0.8414977144772191,0.7684983026064448,-0.027808936326751008,-0.16199630268676807,-0.009273158470795998,0.8995871936145745,-0.7930661423405327,0.5707151536428917,0.4609763337839569,-0.023021464976791594,1.5288125472120464,-0.88742429995902,0.3543999676999108,0.04814749748529384,-0.14407270331860864,-2.3584959248198327,0.36567542321995156,-0.015323485088775136,-1.5982332084815438,0.9893498435573947,0.4456789009768896,-0.4835972012995954,0.724238904244639,0.4682482817716083,0.839859989114251,0.14543189713505314,-0.5605395285621488,2.424734950386747,-0.7078065009697314,0.20773014860940905,0.4663918993987398,0.3610962931455434,0.13425091696086852,-2.3312497232908567,-0.3117097124746467,-0.24559017583110648,1.0340199528911336,0.660608635496201,-2.267483582162584,1.63512298448028,0.4248298038123525,-0.3912365822983923,0.2771786484275452,0.10688871829352858,1.1166460747599436,0.41147203906190505,-0.9308940719640626,-1.732720177574506],\"yaxis\":\"y2\",\"type\":\"scatter\"},{\"line\":{\"color\":\"rgba(128, 128, 128, 1.0)\",\"dash\":\"solid\",\"shape\":\"linear\",\"width\":1.3},\"marker\":{\"size\":2,\"symbol\":\"circle\"},\"mode\":\"markers\",\"name\":\"A\",\"text\":\"\",\"x\":[0.23428231187653542,-0.5062269628241942,0.1554330972551764,1.491685191989914,0.6380747751840952,-0.04712005265653837,-0.28527899439058124,-0.6448451895242465,-0.682852267610924,1.8816713200626887,-1.7535769961200314,0.2843989183509091,0.742928779138545,0.48970746585397373,1.1598440705077344,-1.4125583357784603,-1.2007696696290329,0.11987329476803449,1.2571635351290438,0.8866286349479189,0.08033220604955596,-0.6474834267724643,1.1208756463334026,0.9647924728698976,-0.2885880948006768,-0.8765389365926599,0.07493352468931654,1.2597131086051392,-1.7819398182406463,1.0080211162079058,0.3368855099392784,2.4490429674818035,0.20660191739625874,0.7745483729601508,-0.039320226622781056,1.0053058422004353,0.0845442659011733,-0.5971867959351375,-0.20872978728838665,2.6116514414693714,1.5389235456214478,-0.8870022450061268,-0.0212668593031821,0.7283542518691947,-0.9256975407166056,0.0349960568846339,1.5593718757303405,-1.8546065765042206,-1.2011491032810682,0.0011092944817803188,0.8980306000933594,0.3986089621584366,-0.08285771893874207,-0.0371247682609338,-1.750100224980951,1.5459896000640223,-0.01964459998748743,0.11793168659605284,-0.34997760150329915,0.800332613833526,-0.0039756455255922805,1.6191383500503471,-0.21069960757642167,-0.19549645331420631,-1.9414375013297795,-0.5478493758383675,-0.12346870149557682,1.0399913940408467,-0.03603981212573254,-0.3709218968748972,0.33918448683449964,0.45595652906226075,-0.9978901366382805,0.6451474898802855,-0.652348198652816,-1.0585118215443197,0.49308871892717465,-1.775000161427018,-2.782560635724997,1.8000453676628363,-1.1496384383146256,0.9205906911226659,-0.7700437738435117,-0.19033578606574472,-1.6723282097389343,-0.18493692467041134,0.9780387731219494,0.08463645307487533,-0.7359729079784721,-0.8943728036154838,-1.041374476049706,-0.6749362307487199,-0.3684695548216315,-1.0218490443655872,-0.06423352124383631,0.8810969928025059,-0.20636236600369035,-1.1016360580904643,-1.4864261996589854,-1.188796837066149],\"xaxis\":\"x3\",\"y\":[-2.1884820507782847,-0.665854098661476,-1.3805289926414221,0.7177941534943872,-0.5079070431201327,-0.9254963685928826,0.07017048731831337,0.21659018028573443,0.6575896902323115,-0.7203671430016564,-0.4166920710075472,2.0056519868881817,0.6918406586642192,0.49110899481134057,0.5466373701568074,-0.04127578675147474,0.22291597539964056,0.5763452889571342,0.41911610659334153,-0.31504689375569617,0.4669768174623604,-1.1695274117766445,0.7364608342129234,-0.00913063712385115,0.4672029130412262,0.3027817525521753,-0.3025856918475431,0.4814090585715446,1.2196755070669176,-1.8270222684398807,0.03969622994150524,0.49267569055571897,-1.0036984109980298,-0.5251861744257543,0.9567356862535921,0.5369929247907468,-0.3161285413972293,-0.23372531142567546,0.41941353903405504,0.9964794674939226,1.305109453726727,0.13922444356079225,0.9926080522740052,-0.22710951340968658,-0.9502175771734338,-1.0761110833899576,-1.9580748766236473,0.20971225777735275,1.2391462120039176,0.0818135721981462,0.6420050639601032,0.03006078239224604,0.8414977144772191,0.7684983026064448,-0.027808936326751008,-0.16199630268676807,-0.009273158470795998,0.8995871936145745,-0.7930661423405327,0.5707151536428917,0.4609763337839569,-0.023021464976791594,1.5288125472120464,-0.88742429995902,0.3543999676999108,0.04814749748529384,-0.14407270331860864,-2.3584959248198327,0.36567542321995156,-0.015323485088775136,-1.5982332084815438,0.9893498435573947,0.4456789009768896,-0.4835972012995954,0.724238904244639,0.4682482817716083,0.839859989114251,0.14543189713505314,-0.5605395285621488,2.424734950386747,-0.7078065009697314,0.20773014860940905,0.4663918993987398,0.3610962931455434,0.13425091696086852,-2.3312497232908567,-0.3117097124746467,-0.24559017583110648,1.0340199528911336,0.660608635496201,-2.267483582162584,1.63512298448028,0.4248298038123525,-0.3912365822983923,0.2771786484275452,0.10688871829352858,1.1166460747599436,0.41147203906190505,-0.9308940719640626,-1.732720177574506],\"yaxis\":\"y3\",\"type\":\"scatter\"},{\"line\":{\"color\":\"rgba(128, 128, 128, 1.0)\",\"dash\":\"solid\",\"shape\":\"linear\",\"width\":1.3},\"marker\":{\"size\":2,\"symbol\":\"circle\"},\"mode\":\"markers\",\"name\":\"A\",\"text\":\"\",\"x\":[0.5727028398438736,0.9672912315342161,-0.6011193167910865,0.6265073348918706,-0.6845930339810649,0.5157149307469034,-0.5623742574307509,-0.5400218615284166,0.46896200044525854,1.522746407902645,-0.6632378341080102,0.3767761466127862,0.19876519972120366,0.14089587397219044,-1.2867954867023015,0.8935828636158181,-0.41057596944723207,0.5023786667702334,-0.12161892468101979,0.30284339257766085,0.02256901382894332,-1.7471711023742016,-0.41218551079226445,0.7788042775725317,-2.118154917948143,-0.241390800208255,0.7158723380330595,-0.13930349305422826,0.6811371445802761,0.14341276575956208,0.06590855054264795,-0.12123895443197005,0.3764833352321729,-0.10281561595272033,-0.7850015230615864,-0.46787835737609906,-0.6964105212575877,0.10185290218201198,-0.19107002944533907,-0.028455894728015723,0.9119072456135072,0.1781284814352502,-0.11951251939718534,-0.3344861568947874,1.3942345834240544,2.4801259228307533,-0.15135699529625257,0.5602697708296652,-0.6742766582469438,-0.001735009409199714,0.9246316608132168,0.7385083277166636,-0.8841692452661862,0.8677647001187814,0.341781424472247,0.0969769213800931,-2.8035068148233675,1.2961030974153602,0.4253408115195964,-0.0013851837692080663,-0.2536792151103678,-0.7805452846290323,-0.36618626409372784,-1.2871035418630075,-1.0284944989935407,-1.8099490580614084,-0.7092559128826477,1.2193296862248788,1.3322839666757185,0.6499959249630906,0.6629273032324599,1.3898750900397097,0.25540233715028937,-1.467912142692282,1.5034826378445685,0.39805233555649827,0.41877106171973705,-0.2108610476937432,-0.6496394290540343,-1.502357851648659,-1.738371495683503,-1.0764389882455565,0.7328901743262194,2.8264898298445553,-0.9157246492180827,-0.684955403294419,-2.1375964888504804,-0.5437230552169133,1.6239975993511928,0.8981691214801488,1.532442284653799,-0.1812244887023817,-1.1796127186397276,-0.05345178275268116,-1.188945314879167,0.18753248296821876,-0.2746382030719508,0.24722631136191997,-0.973909124838166,2.324432354939149],\"xaxis\":\"x4\",\"y\":[-2.1884820507782847,-0.665854098661476,-1.3805289926414221,0.7177941534943872,-0.5079070431201327,-0.9254963685928826,0.07017048731831337,0.21659018028573443,0.6575896902323115,-0.7203671430016564,-0.4166920710075472,2.0056519868881817,0.6918406586642192,0.49110899481134057,0.5466373701568074,-0.04127578675147474,0.22291597539964056,0.5763452889571342,0.41911610659334153,-0.31504689375569617,0.4669768174623604,-1.1695274117766445,0.7364608342129234,-0.00913063712385115,0.4672029130412262,0.3027817525521753,-0.3025856918475431,0.4814090585715446,1.2196755070669176,-1.8270222684398807,0.03969622994150524,0.49267569055571897,-1.0036984109980298,-0.5251861744257543,0.9567356862535921,0.5369929247907468,-0.3161285413972293,-0.23372531142567546,0.41941353903405504,0.9964794674939226,1.305109453726727,0.13922444356079225,0.9926080522740052,-0.22710951340968658,-0.9502175771734338,-1.0761110833899576,-1.9580748766236473,0.20971225777735275,1.2391462120039176,0.0818135721981462,0.6420050639601032,0.03006078239224604,0.8414977144772191,0.7684983026064448,-0.027808936326751008,-0.16199630268676807,-0.009273158470795998,0.8995871936145745,-0.7930661423405327,0.5707151536428917,0.4609763337839569,-0.023021464976791594,1.5288125472120464,-0.88742429995902,0.3543999676999108,0.04814749748529384,-0.14407270331860864,-2.3584959248198327,0.36567542321995156,-0.015323485088775136,-1.5982332084815438,0.9893498435573947,0.4456789009768896,-0.4835972012995954,0.724238904244639,0.4682482817716083,0.839859989114251,0.14543189713505314,-0.5605395285621488,2.424734950386747,-0.7078065009697314,0.20773014860940905,0.4663918993987398,0.3610962931455434,0.13425091696086852,-2.3312497232908567,-0.3117097124746467,-0.24559017583110648,1.0340199528911336,0.660608635496201,-2.267483582162584,1.63512298448028,0.4248298038123525,-0.3912365822983923,0.2771786484275452,0.10688871829352858,1.1166460747599436,0.41147203906190505,-0.9308940719640626,-1.732720177574506],\"yaxis\":\"y4\",\"type\":\"scatter\"},{\"line\":{\"color\":\"rgba(128, 128, 128, 1.0)\",\"dash\":\"solid\",\"shape\":\"linear\",\"width\":1.3},\"marker\":{\"size\":2,\"symbol\":\"circle\"},\"mode\":\"markers\",\"name\":\"B\",\"text\":\"\",\"x\":[-2.1884820507782847,-0.665854098661476,-1.3805289926414221,0.7177941534943872,-0.5079070431201327,-0.9254963685928826,0.07017048731831337,0.21659018028573443,0.6575896902323115,-0.7203671430016564,-0.4166920710075472,2.0056519868881817,0.6918406586642192,0.49110899481134057,0.5466373701568074,-0.04127578675147474,0.22291597539964056,0.5763452889571342,0.41911610659334153,-0.31504689375569617,0.4669768174623604,-1.1695274117766445,0.7364608342129234,-0.00913063712385115,0.4672029130412262,0.3027817525521753,-0.3025856918475431,0.4814090585715446,1.2196755070669176,-1.8270222684398807,0.03969622994150524,0.49267569055571897,-1.0036984109980298,-0.5251861744257543,0.9567356862535921,0.5369929247907468,-0.3161285413972293,-0.23372531142567546,0.41941353903405504,0.9964794674939226,1.305109453726727,0.13922444356079225,0.9926080522740052,-0.22710951340968658,-0.9502175771734338,-1.0761110833899576,-1.9580748766236473,0.20971225777735275,1.2391462120039176,0.0818135721981462,0.6420050639601032,0.03006078239224604,0.8414977144772191,0.7684983026064448,-0.027808936326751008,-0.16199630268676807,-0.009273158470795998,0.8995871936145745,-0.7930661423405327,0.5707151536428917,0.4609763337839569,-0.023021464976791594,1.5288125472120464,-0.88742429995902,0.3543999676999108,0.04814749748529384,-0.14407270331860864,-2.3584959248198327,0.36567542321995156,-0.015323485088775136,-1.5982332084815438,0.9893498435573947,0.4456789009768896,-0.4835972012995954,0.724238904244639,0.4682482817716083,0.839859989114251,0.14543189713505314,-0.5605395285621488,2.424734950386747,-0.7078065009697314,0.20773014860940905,0.4663918993987398,0.3610962931455434,0.13425091696086852,-2.3312497232908567,-0.3117097124746467,-0.24559017583110648,1.0340199528911336,0.660608635496201,-2.267483582162584,1.63512298448028,0.4248298038123525,-0.3912365822983923,0.2771786484275452,0.10688871829352858,1.1166460747599436,0.41147203906190505,-0.9308940719640626,-1.732720177574506],\"xaxis\":\"x5\",\"y\":[-0.967280454551769,-0.4262657421923561,0.6415234161208461,1.4759389662434033,-0.09751903940280975,0.17776569210575774,-1.2649818651982054,-1.1950371518335574,-1.556187143796085,-0.788478158888168,0.9597956528465741,0.052036199061202104,-0.22058592370822638,0.9816388590414287,1.0383803563519347,0.8547553132479587,-0.5886735459625771,-0.37439112569718785,-0.2623656153035446,-0.5320925874026364,-1.4220184369846043,0.846670864223348,-1.8163473370703958,1.3189836329571303,1.6637685364756059,-0.13395936428216373,-0.6293732266752319,0.2577807925648532,1.0847800174280025,-0.7978812148317082,-0.8020952268900989,-0.6264398798921825,-0.36587928505657796,1.0522610581970544,0.19094524404423097,0.7231352783492214,-0.2628470864698082,0.927313688901756,1.503651062051654,0.06638646092277749,0.26384475047205663,0.4890528362926341,0.3935599443259979,0.024380658205805403,-2.0629355520061763,0.9602761856506804,-0.23567940021145856,0.10727002685212225,-0.38412961854053373,-0.1229972569582122,1.5674833863914581,0.05797782859663407,-0.43345383829272444,0.5567694675572081,0.4512681681842402,-1.4878857727703223,1.191498577036202,1.5943146889736306,0.4194520044974007,1.7600425888987563,0.6701645912360255,-0.3075623135830556,0.27153889798225794,-0.1842878503559655,2.00223124160167,0.6777750123085785,-1.892415763831858,0.8178162088050249,0.08596553384700664,-0.6939299549913309,2.588584225766686,-0.11310923050999826,0.03988515313517068,0.4029126777124784,2.406680282475156,-0.15646532092047744,1.8857104455932763,-2.3106019408979512,0.21436153692103366,0.31521645299591206,-1.6168355582536302,1.9993223040445842,0.019732995776760843,0.9279181708398891,0.4702358093948719,1.9865857140568173,0.6992311527671162,0.28295041913737606,0.6206079271821591,-0.7272387976112539,0.3650724022216879,0.3842491991780508,-1.9554140814769014,-1.6132508173081423,1.4952438761609834,0.37003354614048906,0.08129741268596019,0.8568806010650221,0.21521236402235247,-0.9304045945205974],\"yaxis\":\"y5\",\"type\":\"scatter\"},{\"histfunc\":\"count\",\"histnorm\":\"\",\"marker\":{\"color\":\"rgba(55, 128, 191, 1.0)\",\"line\":{\"color\":\"#4D5663\",\"width\":1.3}},\"name\":\"B\",\"nbinsx\":10,\"opacity\":0.8,\"orientation\":\"v\",\"x\":[-0.967280454551769,-0.4262657421923561,0.6415234161208461,1.4759389662434033,-0.09751903940280975,0.17776569210575774,-1.2649818651982054,-1.1950371518335574,-1.556187143796085,-0.788478158888168,0.9597956528465741,0.052036199061202104,-0.22058592370822638,0.9816388590414287,1.0383803563519347,0.8547553132479587,-0.5886735459625771,-0.37439112569718785,-0.2623656153035446,-0.5320925874026364,-1.4220184369846043,0.846670864223348,-1.8163473370703958,1.3189836329571303,1.6637685364756059,-0.13395936428216373,-0.6293732266752319,0.2577807925648532,1.0847800174280025,-0.7978812148317082,-0.8020952268900989,-0.6264398798921825,-0.36587928505657796,1.0522610581970544,0.19094524404423097,0.7231352783492214,-0.2628470864698082,0.927313688901756,1.503651062051654,0.06638646092277749,0.26384475047205663,0.4890528362926341,0.3935599443259979,0.024380658205805403,-2.0629355520061763,0.9602761856506804,-0.23567940021145856,0.10727002685212225,-0.38412961854053373,-0.1229972569582122,1.5674833863914581,0.05797782859663407,-0.43345383829272444,0.5567694675572081,0.4512681681842402,-1.4878857727703223,1.191498577036202,1.5943146889736306,0.4194520044974007,1.7600425888987563,0.6701645912360255,-0.3075623135830556,0.27153889798225794,-0.1842878503559655,2.00223124160167,0.6777750123085785,-1.892415763831858,0.8178162088050249,0.08596553384700664,-0.6939299549913309,2.588584225766686,-0.11310923050999826,0.03988515313517068,0.4029126777124784,2.406680282475156,-0.15646532092047744,1.8857104455932763,-2.3106019408979512,0.21436153692103366,0.31521645299591206,-1.6168355582536302,1.9993223040445842,0.019732995776760843,0.9279181708398891,0.4702358093948719,1.9865857140568173,0.6992311527671162,0.28295041913737606,0.6206079271821591,-0.7272387976112539,0.3650724022216879,0.3842491991780508,-1.9554140814769014,-1.6132508173081423,1.4952438761609834,0.37003354614048906,0.08129741268596019,0.8568806010650221,0.21521236402235247,-0.9304045945205974],\"xaxis\":\"x6\",\"yaxis\":\"y6\",\"type\":\"histogram\"},{\"line\":{\"color\":\"rgba(128, 128, 128, 1.0)\",\"dash\":\"solid\",\"shape\":\"linear\",\"width\":1.3},\"marker\":{\"size\":2,\"symbol\":\"circle\"},\"mode\":\"markers\",\"name\":\"B\",\"text\":\"\",\"x\":[0.23428231187653542,-0.5062269628241942,0.1554330972551764,1.491685191989914,0.6380747751840952,-0.04712005265653837,-0.28527899439058124,-0.6448451895242465,-0.682852267610924,1.8816713200626887,-1.7535769961200314,0.2843989183509091,0.742928779138545,0.48970746585397373,1.1598440705077344,-1.4125583357784603,-1.2007696696290329,0.11987329476803449,1.2571635351290438,0.8866286349479189,0.08033220604955596,-0.6474834267724643,1.1208756463334026,0.9647924728698976,-0.2885880948006768,-0.8765389365926599,0.07493352468931654,1.2597131086051392,-1.7819398182406463,1.0080211162079058,0.3368855099392784,2.4490429674818035,0.20660191739625874,0.7745483729601508,-0.039320226622781056,1.0053058422004353,0.0845442659011733,-0.5971867959351375,-0.20872978728838665,2.6116514414693714,1.5389235456214478,-0.8870022450061268,-0.0212668593031821,0.7283542518691947,-0.9256975407166056,0.0349960568846339,1.5593718757303405,-1.8546065765042206,-1.2011491032810682,0.0011092944817803188,0.8980306000933594,0.3986089621584366,-0.08285771893874207,-0.0371247682609338,-1.750100224980951,1.5459896000640223,-0.01964459998748743,0.11793168659605284,-0.34997760150329915,0.800332613833526,-0.0039756455255922805,1.6191383500503471,-0.21069960757642167,-0.19549645331420631,-1.9414375013297795,-0.5478493758383675,-0.12346870149557682,1.0399913940408467,-0.03603981212573254,-0.3709218968748972,0.33918448683449964,0.45595652906226075,-0.9978901366382805,0.6451474898802855,-0.652348198652816,-1.0585118215443197,0.49308871892717465,-1.775000161427018,-2.782560635724997,1.8000453676628363,-1.1496384383146256,0.9205906911226659,-0.7700437738435117,-0.19033578606574472,-1.6723282097389343,-0.18493692467041134,0.9780387731219494,0.08463645307487533,-0.7359729079784721,-0.8943728036154838,-1.041374476049706,-0.6749362307487199,-0.3684695548216315,-1.0218490443655872,-0.06423352124383631,0.8810969928025059,-0.20636236600369035,-1.1016360580904643,-1.4864261996589854,-1.188796837066149],\"xaxis\":\"x7\",\"y\":[-0.967280454551769,-0.4262657421923561,0.6415234161208461,1.4759389662434033,-0.09751903940280975,0.17776569210575774,-1.2649818651982054,-1.1950371518335574,-1.556187143796085,-0.788478158888168,0.9597956528465741,0.052036199061202104,-0.22058592370822638,0.9816388590414287,1.0383803563519347,0.8547553132479587,-0.5886735459625771,-0.37439112569718785,-0.2623656153035446,-0.5320925874026364,-1.4220184369846043,0.846670864223348,-1.8163473370703958,1.3189836329571303,1.6637685364756059,-0.13395936428216373,-0.6293732266752319,0.2577807925648532,1.0847800174280025,-0.7978812148317082,-0.8020952268900989,-0.6264398798921825,-0.36587928505657796,1.0522610581970544,0.19094524404423097,0.7231352783492214,-0.2628470864698082,0.927313688901756,1.503651062051654,0.06638646092277749,0.26384475047205663,0.4890528362926341,0.3935599443259979,0.024380658205805403,-2.0629355520061763,0.9602761856506804,-0.23567940021145856,0.10727002685212225,-0.38412961854053373,-0.1229972569582122,1.5674833863914581,0.05797782859663407,-0.43345383829272444,0.5567694675572081,0.4512681681842402,-1.4878857727703223,1.191498577036202,1.5943146889736306,0.4194520044974007,1.7600425888987563,0.6701645912360255,-0.3075623135830556,0.27153889798225794,-0.1842878503559655,2.00223124160167,0.6777750123085785,-1.892415763831858,0.8178162088050249,0.08596553384700664,-0.6939299549913309,2.588584225766686,-0.11310923050999826,0.03988515313517068,0.4029126777124784,2.406680282475156,-0.15646532092047744,1.8857104455932763,-2.3106019408979512,0.21436153692103366,0.31521645299591206,-1.6168355582536302,1.9993223040445842,0.019732995776760843,0.9279181708398891,0.4702358093948719,1.9865857140568173,0.6992311527671162,0.28295041913737606,0.6206079271821591,-0.7272387976112539,0.3650724022216879,0.3842491991780508,-1.9554140814769014,-1.6132508173081423,1.4952438761609834,0.37003354614048906,0.08129741268596019,0.8568806010650221,0.21521236402235247,-0.9304045945205974],\"yaxis\":\"y7\",\"type\":\"scatter\"},{\"line\":{\"color\":\"rgba(128, 128, 128, 1.0)\",\"dash\":\"solid\",\"shape\":\"linear\",\"width\":1.3},\"marker\":{\"size\":2,\"symbol\":\"circle\"},\"mode\":\"markers\",\"name\":\"B\",\"text\":\"\",\"x\":[0.5727028398438736,0.9672912315342161,-0.6011193167910865,0.6265073348918706,-0.6845930339810649,0.5157149307469034,-0.5623742574307509,-0.5400218615284166,0.46896200044525854,1.522746407902645,-0.6632378341080102,0.3767761466127862,0.19876519972120366,0.14089587397219044,-1.2867954867023015,0.8935828636158181,-0.41057596944723207,0.5023786667702334,-0.12161892468101979,0.30284339257766085,0.02256901382894332,-1.7471711023742016,-0.41218551079226445,0.7788042775725317,-2.118154917948143,-0.241390800208255,0.7158723380330595,-0.13930349305422826,0.6811371445802761,0.14341276575956208,0.06590855054264795,-0.12123895443197005,0.3764833352321729,-0.10281561595272033,-0.7850015230615864,-0.46787835737609906,-0.6964105212575877,0.10185290218201198,-0.19107002944533907,-0.028455894728015723,0.9119072456135072,0.1781284814352502,-0.11951251939718534,-0.3344861568947874,1.3942345834240544,2.4801259228307533,-0.15135699529625257,0.5602697708296652,-0.6742766582469438,-0.001735009409199714,0.9246316608132168,0.7385083277166636,-0.8841692452661862,0.8677647001187814,0.341781424472247,0.0969769213800931,-2.8035068148233675,1.2961030974153602,0.4253408115195964,-0.0013851837692080663,-0.2536792151103678,-0.7805452846290323,-0.36618626409372784,-1.2871035418630075,-1.0284944989935407,-1.8099490580614084,-0.7092559128826477,1.2193296862248788,1.3322839666757185,0.6499959249630906,0.6629273032324599,1.3898750900397097,0.25540233715028937,-1.467912142692282,1.5034826378445685,0.39805233555649827,0.41877106171973705,-0.2108610476937432,-0.6496394290540343,-1.502357851648659,-1.738371495683503,-1.0764389882455565,0.7328901743262194,2.8264898298445553,-0.9157246492180827,-0.684955403294419,-2.1375964888504804,-0.5437230552169133,1.6239975993511928,0.8981691214801488,1.532442284653799,-0.1812244887023817,-1.1796127186397276,-0.05345178275268116,-1.188945314879167,0.18753248296821876,-0.2746382030719508,0.24722631136191997,-0.973909124838166,2.324432354939149],\"xaxis\":\"x8\",\"y\":[-0.967280454551769,-0.4262657421923561,0.6415234161208461,1.4759389662434033,-0.09751903940280975,0.17776569210575774,-1.2649818651982054,-1.1950371518335574,-1.556187143796085,-0.788478158888168,0.9597956528465741,0.052036199061202104,-0.22058592370822638,0.9816388590414287,1.0383803563519347,0.8547553132479587,-0.5886735459625771,-0.37439112569718785,-0.2623656153035446,-0.5320925874026364,-1.4220184369846043,0.846670864223348,-1.8163473370703958,1.3189836329571303,1.6637685364756059,-0.13395936428216373,-0.6293732266752319,0.2577807925648532,1.0847800174280025,-0.7978812148317082,-0.8020952268900989,-0.6264398798921825,-0.36587928505657796,1.0522610581970544,0.19094524404423097,0.7231352783492214,-0.2628470864698082,0.927313688901756,1.503651062051654,0.06638646092277749,0.26384475047205663,0.4890528362926341,0.3935599443259979,0.024380658205805403,-2.0629355520061763,0.9602761856506804,-0.23567940021145856,0.10727002685212225,-0.38412961854053373,-0.1229972569582122,1.5674833863914581,0.05797782859663407,-0.43345383829272444,0.5567694675572081,0.4512681681842402,-1.4878857727703223,1.191498577036202,1.5943146889736306,0.4194520044974007,1.7600425888987563,0.6701645912360255,-0.3075623135830556,0.27153889798225794,-0.1842878503559655,2.00223124160167,0.6777750123085785,-1.892415763831858,0.8178162088050249,0.08596553384700664,-0.6939299549913309,2.588584225766686,-0.11310923050999826,0.03988515313517068,0.4029126777124784,2.406680282475156,-0.15646532092047744,1.8857104455932763,-2.3106019408979512,0.21436153692103366,0.31521645299591206,-1.6168355582536302,1.9993223040445842,0.019732995776760843,0.9279181708398891,0.4702358093948719,1.9865857140568173,0.6992311527671162,0.28295041913737606,0.6206079271821591,-0.7272387976112539,0.3650724022216879,0.3842491991780508,-1.9554140814769014,-1.6132508173081423,1.4952438761609834,0.37003354614048906,0.08129741268596019,0.8568806010650221,0.21521236402235247,-0.9304045945205974],\"yaxis\":\"y8\",\"type\":\"scatter\"},{\"line\":{\"color\":\"rgba(128, 128, 128, 1.0)\",\"dash\":\"solid\",\"shape\":\"linear\",\"width\":1.3},\"marker\":{\"size\":2,\"symbol\":\"circle\"},\"mode\":\"markers\",\"name\":\"C\",\"text\":\"\",\"x\":[-2.1884820507782847,-0.665854098661476,-1.3805289926414221,0.7177941534943872,-0.5079070431201327,-0.9254963685928826,0.07017048731831337,0.21659018028573443,0.6575896902323115,-0.7203671430016564,-0.4166920710075472,2.0056519868881817,0.6918406586642192,0.49110899481134057,0.5466373701568074,-0.04127578675147474,0.22291597539964056,0.5763452889571342,0.41911610659334153,-0.31504689375569617,0.4669768174623604,-1.1695274117766445,0.7364608342129234,-0.00913063712385115,0.4672029130412262,0.3027817525521753,-0.3025856918475431,0.4814090585715446,1.2196755070669176,-1.8270222684398807,0.03969622994150524,0.49267569055571897,-1.0036984109980298,-0.5251861744257543,0.9567356862535921,0.5369929247907468,-0.3161285413972293,-0.23372531142567546,0.41941353903405504,0.9964794674939226,1.305109453726727,0.13922444356079225,0.9926080522740052,-0.22710951340968658,-0.9502175771734338,-1.0761110833899576,-1.9580748766236473,0.20971225777735275,1.2391462120039176,0.0818135721981462,0.6420050639601032,0.03006078239224604,0.8414977144772191,0.7684983026064448,-0.027808936326751008,-0.16199630268676807,-0.009273158470795998,0.8995871936145745,-0.7930661423405327,0.5707151536428917,0.4609763337839569,-0.023021464976791594,1.5288125472120464,-0.88742429995902,0.3543999676999108,0.04814749748529384,-0.14407270331860864,-2.3584959248198327,0.36567542321995156,-0.015323485088775136,-1.5982332084815438,0.9893498435573947,0.4456789009768896,-0.4835972012995954,0.724238904244639,0.4682482817716083,0.839859989114251,0.14543189713505314,-0.5605395285621488,2.424734950386747,-0.7078065009697314,0.20773014860940905,0.4663918993987398,0.3610962931455434,0.13425091696086852,-2.3312497232908567,-0.3117097124746467,-0.24559017583110648,1.0340199528911336,0.660608635496201,-2.267483582162584,1.63512298448028,0.4248298038123525,-0.3912365822983923,0.2771786484275452,0.10688871829352858,1.1166460747599436,0.41147203906190505,-0.9308940719640626,-1.732720177574506],\"xaxis\":\"x9\",\"y\":[0.23428231187653542,-0.5062269628241942,0.1554330972551764,1.491685191989914,0.6380747751840952,-0.04712005265653837,-0.28527899439058124,-0.6448451895242465,-0.682852267610924,1.8816713200626887,-1.7535769961200314,0.2843989183509091,0.742928779138545,0.48970746585397373,1.1598440705077344,-1.4125583357784603,-1.2007696696290329,0.11987329476803449,1.2571635351290438,0.8866286349479189,0.08033220604955596,-0.6474834267724643,1.1208756463334026,0.9647924728698976,-0.2885880948006768,-0.8765389365926599,0.07493352468931654,1.2597131086051392,-1.7819398182406463,1.0080211162079058,0.3368855099392784,2.4490429674818035,0.20660191739625874,0.7745483729601508,-0.039320226622781056,1.0053058422004353,0.0845442659011733,-0.5971867959351375,-0.20872978728838665,2.6116514414693714,1.5389235456214478,-0.8870022450061268,-0.0212668593031821,0.7283542518691947,-0.9256975407166056,0.0349960568846339,1.5593718757303405,-1.8546065765042206,-1.2011491032810682,0.0011092944817803188,0.8980306000933594,0.3986089621584366,-0.08285771893874207,-0.0371247682609338,-1.750100224980951,1.5459896000640223,-0.01964459998748743,0.11793168659605284,-0.34997760150329915,0.800332613833526,-0.0039756455255922805,1.6191383500503471,-0.21069960757642167,-0.19549645331420631,-1.9414375013297795,-0.5478493758383675,-0.12346870149557682,1.0399913940408467,-0.03603981212573254,-0.3709218968748972,0.33918448683449964,0.45595652906226075,-0.9978901366382805,0.6451474898802855,-0.652348198652816,-1.0585118215443197,0.49308871892717465,-1.775000161427018,-2.782560635724997,1.8000453676628363,-1.1496384383146256,0.9205906911226659,-0.7700437738435117,-0.19033578606574472,-1.6723282097389343,-0.18493692467041134,0.9780387731219494,0.08463645307487533,-0.7359729079784721,-0.8943728036154838,-1.041374476049706,-0.6749362307487199,-0.3684695548216315,-1.0218490443655872,-0.06423352124383631,0.8810969928025059,-0.20636236600369035,-1.1016360580904643,-1.4864261996589854,-1.188796837066149],\"yaxis\":\"y9\",\"type\":\"scatter\"},{\"line\":{\"color\":\"rgba(128, 128, 128, 1.0)\",\"dash\":\"solid\",\"shape\":\"linear\",\"width\":1.3},\"marker\":{\"size\":2,\"symbol\":\"circle\"},\"mode\":\"markers\",\"name\":\"C\",\"text\":\"\",\"x\":[-0.967280454551769,-0.4262657421923561,0.6415234161208461,1.4759389662434033,-0.09751903940280975,0.17776569210575774,-1.2649818651982054,-1.1950371518335574,-1.556187143796085,-0.788478158888168,0.9597956528465741,0.052036199061202104,-0.22058592370822638,0.9816388590414287,1.0383803563519347,0.8547553132479587,-0.5886735459625771,-0.37439112569718785,-0.2623656153035446,-0.5320925874026364,-1.4220184369846043,0.846670864223348,-1.8163473370703958,1.3189836329571303,1.6637685364756059,-0.13395936428216373,-0.6293732266752319,0.2577807925648532,1.0847800174280025,-0.7978812148317082,-0.8020952268900989,-0.6264398798921825,-0.36587928505657796,1.0522610581970544,0.19094524404423097,0.7231352783492214,-0.2628470864698082,0.927313688901756,1.503651062051654,0.06638646092277749,0.26384475047205663,0.4890528362926341,0.3935599443259979,0.024380658205805403,-2.0629355520061763,0.9602761856506804,-0.23567940021145856,0.10727002685212225,-0.38412961854053373,-0.1229972569582122,1.5674833863914581,0.05797782859663407,-0.43345383829272444,0.5567694675572081,0.4512681681842402,-1.4878857727703223,1.191498577036202,1.5943146889736306,0.4194520044974007,1.7600425888987563,0.6701645912360255,-0.3075623135830556,0.27153889798225794,-0.1842878503559655,2.00223124160167,0.6777750123085785,-1.892415763831858,0.8178162088050249,0.08596553384700664,-0.6939299549913309,2.588584225766686,-0.11310923050999826,0.03988515313517068,0.4029126777124784,2.406680282475156,-0.15646532092047744,1.8857104455932763,-2.3106019408979512,0.21436153692103366,0.31521645299591206,-1.6168355582536302,1.9993223040445842,0.019732995776760843,0.9279181708398891,0.4702358093948719,1.9865857140568173,0.6992311527671162,0.28295041913737606,0.6206079271821591,-0.7272387976112539,0.3650724022216879,0.3842491991780508,-1.9554140814769014,-1.6132508173081423,1.4952438761609834,0.37003354614048906,0.08129741268596019,0.8568806010650221,0.21521236402235247,-0.9304045945205974],\"xaxis\":\"x10\",\"y\":[0.23428231187653542,-0.5062269628241942,0.1554330972551764,1.491685191989914,0.6380747751840952,-0.04712005265653837,-0.28527899439058124,-0.6448451895242465,-0.682852267610924,1.8816713200626887,-1.7535769961200314,0.2843989183509091,0.742928779138545,0.48970746585397373,1.1598440705077344,-1.4125583357784603,-1.2007696696290329,0.11987329476803449,1.2571635351290438,0.8866286349479189,0.08033220604955596,-0.6474834267724643,1.1208756463334026,0.9647924728698976,-0.2885880948006768,-0.8765389365926599,0.07493352468931654,1.2597131086051392,-1.7819398182406463,1.0080211162079058,0.3368855099392784,2.4490429674818035,0.20660191739625874,0.7745483729601508,-0.039320226622781056,1.0053058422004353,0.0845442659011733,-0.5971867959351375,-0.20872978728838665,2.6116514414693714,1.5389235456214478,-0.8870022450061268,-0.0212668593031821,0.7283542518691947,-0.9256975407166056,0.0349960568846339,1.5593718757303405,-1.8546065765042206,-1.2011491032810682,0.0011092944817803188,0.8980306000933594,0.3986089621584366,-0.08285771893874207,-0.0371247682609338,-1.750100224980951,1.5459896000640223,-0.01964459998748743,0.11793168659605284,-0.34997760150329915,0.800332613833526,-0.0039756455255922805,1.6191383500503471,-0.21069960757642167,-0.19549645331420631,-1.9414375013297795,-0.5478493758383675,-0.12346870149557682,1.0399913940408467,-0.03603981212573254,-0.3709218968748972,0.33918448683449964,0.45595652906226075,-0.9978901366382805,0.6451474898802855,-0.652348198652816,-1.0585118215443197,0.49308871892717465,-1.775000161427018,-2.782560635724997,1.8000453676628363,-1.1496384383146256,0.9205906911226659,-0.7700437738435117,-0.19033578606574472,-1.6723282097389343,-0.18493692467041134,0.9780387731219494,0.08463645307487533,-0.7359729079784721,-0.8943728036154838,-1.041374476049706,-0.6749362307487199,-0.3684695548216315,-1.0218490443655872,-0.06423352124383631,0.8810969928025059,-0.20636236600369035,-1.1016360580904643,-1.4864261996589854,-1.188796837066149],\"yaxis\":\"y10\",\"type\":\"scatter\"},{\"histfunc\":\"count\",\"histnorm\":\"\",\"marker\":{\"color\":\"rgba(50, 171, 96, 1.0)\",\"line\":{\"color\":\"#4D5663\",\"width\":1.3}},\"name\":\"C\",\"nbinsx\":10,\"opacity\":0.8,\"orientation\":\"v\",\"x\":[0.23428231187653542,-0.5062269628241942,0.1554330972551764,1.491685191989914,0.6380747751840952,-0.04712005265653837,-0.28527899439058124,-0.6448451895242465,-0.682852267610924,1.8816713200626887,-1.7535769961200314,0.2843989183509091,0.742928779138545,0.48970746585397373,1.1598440705077344,-1.4125583357784603,-1.2007696696290329,0.11987329476803449,1.2571635351290438,0.8866286349479189,0.08033220604955596,-0.6474834267724643,1.1208756463334026,0.9647924728698976,-0.2885880948006768,-0.8765389365926599,0.07493352468931654,1.2597131086051392,-1.7819398182406463,1.0080211162079058,0.3368855099392784,2.4490429674818035,0.20660191739625874,0.7745483729601508,-0.039320226622781056,1.0053058422004353,0.0845442659011733,-0.5971867959351375,-0.20872978728838665,2.6116514414693714,1.5389235456214478,-0.8870022450061268,-0.0212668593031821,0.7283542518691947,-0.9256975407166056,0.0349960568846339,1.5593718757303405,-1.8546065765042206,-1.2011491032810682,0.0011092944817803188,0.8980306000933594,0.3986089621584366,-0.08285771893874207,-0.0371247682609338,-1.750100224980951,1.5459896000640223,-0.01964459998748743,0.11793168659605284,-0.34997760150329915,0.800332613833526,-0.0039756455255922805,1.6191383500503471,-0.21069960757642167,-0.19549645331420631,-1.9414375013297795,-0.5478493758383675,-0.12346870149557682,1.0399913940408467,-0.03603981212573254,-0.3709218968748972,0.33918448683449964,0.45595652906226075,-0.9978901366382805,0.6451474898802855,-0.652348198652816,-1.0585118215443197,0.49308871892717465,-1.775000161427018,-2.782560635724997,1.8000453676628363,-1.1496384383146256,0.9205906911226659,-0.7700437738435117,-0.19033578606574472,-1.6723282097389343,-0.18493692467041134,0.9780387731219494,0.08463645307487533,-0.7359729079784721,-0.8943728036154838,-1.041374476049706,-0.6749362307487199,-0.3684695548216315,-1.0218490443655872,-0.06423352124383631,0.8810969928025059,-0.20636236600369035,-1.1016360580904643,-1.4864261996589854,-1.188796837066149],\"xaxis\":\"x11\",\"yaxis\":\"y11\",\"type\":\"histogram\"},{\"line\":{\"color\":\"rgba(128, 128, 128, 1.0)\",\"dash\":\"solid\",\"shape\":\"linear\",\"width\":1.3},\"marker\":{\"size\":2,\"symbol\":\"circle\"},\"mode\":\"markers\",\"name\":\"C\",\"text\":\"\",\"x\":[0.5727028398438736,0.9672912315342161,-0.6011193167910865,0.6265073348918706,-0.6845930339810649,0.5157149307469034,-0.5623742574307509,-0.5400218615284166,0.46896200044525854,1.522746407902645,-0.6632378341080102,0.3767761466127862,0.19876519972120366,0.14089587397219044,-1.2867954867023015,0.8935828636158181,-0.41057596944723207,0.5023786667702334,-0.12161892468101979,0.30284339257766085,0.02256901382894332,-1.7471711023742016,-0.41218551079226445,0.7788042775725317,-2.118154917948143,-0.241390800208255,0.7158723380330595,-0.13930349305422826,0.6811371445802761,0.14341276575956208,0.06590855054264795,-0.12123895443197005,0.3764833352321729,-0.10281561595272033,-0.7850015230615864,-0.46787835737609906,-0.6964105212575877,0.10185290218201198,-0.19107002944533907,-0.028455894728015723,0.9119072456135072,0.1781284814352502,-0.11951251939718534,-0.3344861568947874,1.3942345834240544,2.4801259228307533,-0.15135699529625257,0.5602697708296652,-0.6742766582469438,-0.001735009409199714,0.9246316608132168,0.7385083277166636,-0.8841692452661862,0.8677647001187814,0.341781424472247,0.0969769213800931,-2.8035068148233675,1.2961030974153602,0.4253408115195964,-0.0013851837692080663,-0.2536792151103678,-0.7805452846290323,-0.36618626409372784,-1.2871035418630075,-1.0284944989935407,-1.8099490580614084,-0.7092559128826477,1.2193296862248788,1.3322839666757185,0.6499959249630906,0.6629273032324599,1.3898750900397097,0.25540233715028937,-1.467912142692282,1.5034826378445685,0.39805233555649827,0.41877106171973705,-0.2108610476937432,-0.6496394290540343,-1.502357851648659,-1.738371495683503,-1.0764389882455565,0.7328901743262194,2.8264898298445553,-0.9157246492180827,-0.684955403294419,-2.1375964888504804,-0.5437230552169133,1.6239975993511928,0.8981691214801488,1.532442284653799,-0.1812244887023817,-1.1796127186397276,-0.05345178275268116,-1.188945314879167,0.18753248296821876,-0.2746382030719508,0.24722631136191997,-0.973909124838166,2.324432354939149],\"xaxis\":\"x12\",\"y\":[0.23428231187653542,-0.5062269628241942,0.1554330972551764,1.491685191989914,0.6380747751840952,-0.04712005265653837,-0.28527899439058124,-0.6448451895242465,-0.682852267610924,1.8816713200626887,-1.7535769961200314,0.2843989183509091,0.742928779138545,0.48970746585397373,1.1598440705077344,-1.4125583357784603,-1.2007696696290329,0.11987329476803449,1.2571635351290438,0.8866286349479189,0.08033220604955596,-0.6474834267724643,1.1208756463334026,0.9647924728698976,-0.2885880948006768,-0.8765389365926599,0.07493352468931654,1.2597131086051392,-1.7819398182406463,1.0080211162079058,0.3368855099392784,2.4490429674818035,0.20660191739625874,0.7745483729601508,-0.039320226622781056,1.0053058422004353,0.0845442659011733,-0.5971867959351375,-0.20872978728838665,2.6116514414693714,1.5389235456214478,-0.8870022450061268,-0.0212668593031821,0.7283542518691947,-0.9256975407166056,0.0349960568846339,1.5593718757303405,-1.8546065765042206,-1.2011491032810682,0.0011092944817803188,0.8980306000933594,0.3986089621584366,-0.08285771893874207,-0.0371247682609338,-1.750100224980951,1.5459896000640223,-0.01964459998748743,0.11793168659605284,-0.34997760150329915,0.800332613833526,-0.0039756455255922805,1.6191383500503471,-0.21069960757642167,-0.19549645331420631,-1.9414375013297795,-0.5478493758383675,-0.12346870149557682,1.0399913940408467,-0.03603981212573254,-0.3709218968748972,0.33918448683449964,0.45595652906226075,-0.9978901366382805,0.6451474898802855,-0.652348198652816,-1.0585118215443197,0.49308871892717465,-1.775000161427018,-2.782560635724997,1.8000453676628363,-1.1496384383146256,0.9205906911226659,-0.7700437738435117,-0.19033578606574472,-1.6723282097389343,-0.18493692467041134,0.9780387731219494,0.08463645307487533,-0.7359729079784721,-0.8943728036154838,-1.041374476049706,-0.6749362307487199,-0.3684695548216315,-1.0218490443655872,-0.06423352124383631,0.8810969928025059,-0.20636236600369035,-1.1016360580904643,-1.4864261996589854,-1.188796837066149],\"yaxis\":\"y12\",\"type\":\"scatter\"},{\"line\":{\"color\":\"rgba(128, 128, 128, 1.0)\",\"dash\":\"solid\",\"shape\":\"linear\",\"width\":1.3},\"marker\":{\"size\":2,\"symbol\":\"circle\"},\"mode\":\"markers\",\"name\":\"D\",\"text\":\"\",\"x\":[-2.1884820507782847,-0.665854098661476,-1.3805289926414221,0.7177941534943872,-0.5079070431201327,-0.9254963685928826,0.07017048731831337,0.21659018028573443,0.6575896902323115,-0.7203671430016564,-0.4166920710075472,2.0056519868881817,0.6918406586642192,0.49110899481134057,0.5466373701568074,-0.04127578675147474,0.22291597539964056,0.5763452889571342,0.41911610659334153,-0.31504689375569617,0.4669768174623604,-1.1695274117766445,0.7364608342129234,-0.00913063712385115,0.4672029130412262,0.3027817525521753,-0.3025856918475431,0.4814090585715446,1.2196755070669176,-1.8270222684398807,0.03969622994150524,0.49267569055571897,-1.0036984109980298,-0.5251861744257543,0.9567356862535921,0.5369929247907468,-0.3161285413972293,-0.23372531142567546,0.41941353903405504,0.9964794674939226,1.305109453726727,0.13922444356079225,0.9926080522740052,-0.22710951340968658,-0.9502175771734338,-1.0761110833899576,-1.9580748766236473,0.20971225777735275,1.2391462120039176,0.0818135721981462,0.6420050639601032,0.03006078239224604,0.8414977144772191,0.7684983026064448,-0.027808936326751008,-0.16199630268676807,-0.009273158470795998,0.8995871936145745,-0.7930661423405327,0.5707151536428917,0.4609763337839569,-0.023021464976791594,1.5288125472120464,-0.88742429995902,0.3543999676999108,0.04814749748529384,-0.14407270331860864,-2.3584959248198327,0.36567542321995156,-0.015323485088775136,-1.5982332084815438,0.9893498435573947,0.4456789009768896,-0.4835972012995954,0.724238904244639,0.4682482817716083,0.839859989114251,0.14543189713505314,-0.5605395285621488,2.424734950386747,-0.7078065009697314,0.20773014860940905,0.4663918993987398,0.3610962931455434,0.13425091696086852,-2.3312497232908567,-0.3117097124746467,-0.24559017583110648,1.0340199528911336,0.660608635496201,-2.267483582162584,1.63512298448028,0.4248298038123525,-0.3912365822983923,0.2771786484275452,0.10688871829352858,1.1166460747599436,0.41147203906190505,-0.9308940719640626,-1.732720177574506],\"xaxis\":\"x13\",\"y\":[0.5727028398438736,0.9672912315342161,-0.6011193167910865,0.6265073348918706,-0.6845930339810649,0.5157149307469034,-0.5623742574307509,-0.5400218615284166,0.46896200044525854,1.522746407902645,-0.6632378341080102,0.3767761466127862,0.19876519972120366,0.14089587397219044,-1.2867954867023015,0.8935828636158181,-0.41057596944723207,0.5023786667702334,-0.12161892468101979,0.30284339257766085,0.02256901382894332,-1.7471711023742016,-0.41218551079226445,0.7788042775725317,-2.118154917948143,-0.241390800208255,0.7158723380330595,-0.13930349305422826,0.6811371445802761,0.14341276575956208,0.06590855054264795,-0.12123895443197005,0.3764833352321729,-0.10281561595272033,-0.7850015230615864,-0.46787835737609906,-0.6964105212575877,0.10185290218201198,-0.19107002944533907,-0.028455894728015723,0.9119072456135072,0.1781284814352502,-0.11951251939718534,-0.3344861568947874,1.3942345834240544,2.4801259228307533,-0.15135699529625257,0.5602697708296652,-0.6742766582469438,-0.001735009409199714,0.9246316608132168,0.7385083277166636,-0.8841692452661862,0.8677647001187814,0.341781424472247,0.0969769213800931,-2.8035068148233675,1.2961030974153602,0.4253408115195964,-0.0013851837692080663,-0.2536792151103678,-0.7805452846290323,-0.36618626409372784,-1.2871035418630075,-1.0284944989935407,-1.8099490580614084,-0.7092559128826477,1.2193296862248788,1.3322839666757185,0.6499959249630906,0.6629273032324599,1.3898750900397097,0.25540233715028937,-1.467912142692282,1.5034826378445685,0.39805233555649827,0.41877106171973705,-0.2108610476937432,-0.6496394290540343,-1.502357851648659,-1.738371495683503,-1.0764389882455565,0.7328901743262194,2.8264898298445553,-0.9157246492180827,-0.684955403294419,-2.1375964888504804,-0.5437230552169133,1.6239975993511928,0.8981691214801488,1.532442284653799,-0.1812244887023817,-1.1796127186397276,-0.05345178275268116,-1.188945314879167,0.18753248296821876,-0.2746382030719508,0.24722631136191997,-0.973909124838166,2.324432354939149],\"yaxis\":\"y13\",\"type\":\"scatter\"},{\"line\":{\"color\":\"rgba(128, 128, 128, 1.0)\",\"dash\":\"solid\",\"shape\":\"linear\",\"width\":1.3},\"marker\":{\"size\":2,\"symbol\":\"circle\"},\"mode\":\"markers\",\"name\":\"D\",\"text\":\"\",\"x\":[-0.967280454551769,-0.4262657421923561,0.6415234161208461,1.4759389662434033,-0.09751903940280975,0.17776569210575774,-1.2649818651982054,-1.1950371518335574,-1.556187143796085,-0.788478158888168,0.9597956528465741,0.052036199061202104,-0.22058592370822638,0.9816388590414287,1.0383803563519347,0.8547553132479587,-0.5886735459625771,-0.37439112569718785,-0.2623656153035446,-0.5320925874026364,-1.4220184369846043,0.846670864223348,-1.8163473370703958,1.3189836329571303,1.6637685364756059,-0.13395936428216373,-0.6293732266752319,0.2577807925648532,1.0847800174280025,-0.7978812148317082,-0.8020952268900989,-0.6264398798921825,-0.36587928505657796,1.0522610581970544,0.19094524404423097,0.7231352783492214,-0.2628470864698082,0.927313688901756,1.503651062051654,0.06638646092277749,0.26384475047205663,0.4890528362926341,0.3935599443259979,0.024380658205805403,-2.0629355520061763,0.9602761856506804,-0.23567940021145856,0.10727002685212225,-0.38412961854053373,-0.1229972569582122,1.5674833863914581,0.05797782859663407,-0.43345383829272444,0.5567694675572081,0.4512681681842402,-1.4878857727703223,1.191498577036202,1.5943146889736306,0.4194520044974007,1.7600425888987563,0.6701645912360255,-0.3075623135830556,0.27153889798225794,-0.1842878503559655,2.00223124160167,0.6777750123085785,-1.892415763831858,0.8178162088050249,0.08596553384700664,-0.6939299549913309,2.588584225766686,-0.11310923050999826,0.03988515313517068,0.4029126777124784,2.406680282475156,-0.15646532092047744,1.8857104455932763,-2.3106019408979512,0.21436153692103366,0.31521645299591206,-1.6168355582536302,1.9993223040445842,0.019732995776760843,0.9279181708398891,0.4702358093948719,1.9865857140568173,0.6992311527671162,0.28295041913737606,0.6206079271821591,-0.7272387976112539,0.3650724022216879,0.3842491991780508,-1.9554140814769014,-1.6132508173081423,1.4952438761609834,0.37003354614048906,0.08129741268596019,0.8568806010650221,0.21521236402235247,-0.9304045945205974],\"xaxis\":\"x14\",\"y\":[0.5727028398438736,0.9672912315342161,-0.6011193167910865,0.6265073348918706,-0.6845930339810649,0.5157149307469034,-0.5623742574307509,-0.5400218615284166,0.46896200044525854,1.522746407902645,-0.6632378341080102,0.3767761466127862,0.19876519972120366,0.14089587397219044,-1.2867954867023015,0.8935828636158181,-0.41057596944723207,0.5023786667702334,-0.12161892468101979,0.30284339257766085,0.02256901382894332,-1.7471711023742016,-0.41218551079226445,0.7788042775725317,-2.118154917948143,-0.241390800208255,0.7158723380330595,-0.13930349305422826,0.6811371445802761,0.14341276575956208,0.06590855054264795,-0.12123895443197005,0.3764833352321729,-0.10281561595272033,-0.7850015230615864,-0.46787835737609906,-0.6964105212575877,0.10185290218201198,-0.19107002944533907,-0.028455894728015723,0.9119072456135072,0.1781284814352502,-0.11951251939718534,-0.3344861568947874,1.3942345834240544,2.4801259228307533,-0.15135699529625257,0.5602697708296652,-0.6742766582469438,-0.001735009409199714,0.9246316608132168,0.7385083277166636,-0.8841692452661862,0.8677647001187814,0.341781424472247,0.0969769213800931,-2.8035068148233675,1.2961030974153602,0.4253408115195964,-0.0013851837692080663,-0.2536792151103678,-0.7805452846290323,-0.36618626409372784,-1.2871035418630075,-1.0284944989935407,-1.8099490580614084,-0.7092559128826477,1.2193296862248788,1.3322839666757185,0.6499959249630906,0.6629273032324599,1.3898750900397097,0.25540233715028937,-1.467912142692282,1.5034826378445685,0.39805233555649827,0.41877106171973705,-0.2108610476937432,-0.6496394290540343,-1.502357851648659,-1.738371495683503,-1.0764389882455565,0.7328901743262194,2.8264898298445553,-0.9157246492180827,-0.684955403294419,-2.1375964888504804,-0.5437230552169133,1.6239975993511928,0.8981691214801488,1.532442284653799,-0.1812244887023817,-1.1796127186397276,-0.05345178275268116,-1.188945314879167,0.18753248296821876,-0.2746382030719508,0.24722631136191997,-0.973909124838166,2.324432354939149],\"yaxis\":\"y14\",\"type\":\"scatter\"},{\"line\":{\"color\":\"rgba(128, 128, 128, 1.0)\",\"dash\":\"solid\",\"shape\":\"linear\",\"width\":1.3},\"marker\":{\"size\":2,\"symbol\":\"circle\"},\"mode\":\"markers\",\"name\":\"D\",\"text\":\"\",\"x\":[0.23428231187653542,-0.5062269628241942,0.1554330972551764,1.491685191989914,0.6380747751840952,-0.04712005265653837,-0.28527899439058124,-0.6448451895242465,-0.682852267610924,1.8816713200626887,-1.7535769961200314,0.2843989183509091,0.742928779138545,0.48970746585397373,1.1598440705077344,-1.4125583357784603,-1.2007696696290329,0.11987329476803449,1.2571635351290438,0.8866286349479189,0.08033220604955596,-0.6474834267724643,1.1208756463334026,0.9647924728698976,-0.2885880948006768,-0.8765389365926599,0.07493352468931654,1.2597131086051392,-1.7819398182406463,1.0080211162079058,0.3368855099392784,2.4490429674818035,0.20660191739625874,0.7745483729601508,-0.039320226622781056,1.0053058422004353,0.0845442659011733,-0.5971867959351375,-0.20872978728838665,2.6116514414693714,1.5389235456214478,-0.8870022450061268,-0.0212668593031821,0.7283542518691947,-0.9256975407166056,0.0349960568846339,1.5593718757303405,-1.8546065765042206,-1.2011491032810682,0.0011092944817803188,0.8980306000933594,0.3986089621584366,-0.08285771893874207,-0.0371247682609338,-1.750100224980951,1.5459896000640223,-0.01964459998748743,0.11793168659605284,-0.34997760150329915,0.800332613833526,-0.0039756455255922805,1.6191383500503471,-0.21069960757642167,-0.19549645331420631,-1.9414375013297795,-0.5478493758383675,-0.12346870149557682,1.0399913940408467,-0.03603981212573254,-0.3709218968748972,0.33918448683449964,0.45595652906226075,-0.9978901366382805,0.6451474898802855,-0.652348198652816,-1.0585118215443197,0.49308871892717465,-1.775000161427018,-2.782560635724997,1.8000453676628363,-1.1496384383146256,0.9205906911226659,-0.7700437738435117,-0.19033578606574472,-1.6723282097389343,-0.18493692467041134,0.9780387731219494,0.08463645307487533,-0.7359729079784721,-0.8943728036154838,-1.041374476049706,-0.6749362307487199,-0.3684695548216315,-1.0218490443655872,-0.06423352124383631,0.8810969928025059,-0.20636236600369035,-1.1016360580904643,-1.4864261996589854,-1.188796837066149],\"xaxis\":\"x15\",\"y\":[0.5727028398438736,0.9672912315342161,-0.6011193167910865,0.6265073348918706,-0.6845930339810649,0.5157149307469034,-0.5623742574307509,-0.5400218615284166,0.46896200044525854,1.522746407902645,-0.6632378341080102,0.3767761466127862,0.19876519972120366,0.14089587397219044,-1.2867954867023015,0.8935828636158181,-0.41057596944723207,0.5023786667702334,-0.12161892468101979,0.30284339257766085,0.02256901382894332,-1.7471711023742016,-0.41218551079226445,0.7788042775725317,-2.118154917948143,-0.241390800208255,0.7158723380330595,-0.13930349305422826,0.6811371445802761,0.14341276575956208,0.06590855054264795,-0.12123895443197005,0.3764833352321729,-0.10281561595272033,-0.7850015230615864,-0.46787835737609906,-0.6964105212575877,0.10185290218201198,-0.19107002944533907,-0.028455894728015723,0.9119072456135072,0.1781284814352502,-0.11951251939718534,-0.3344861568947874,1.3942345834240544,2.4801259228307533,-0.15135699529625257,0.5602697708296652,-0.6742766582469438,-0.001735009409199714,0.9246316608132168,0.7385083277166636,-0.8841692452661862,0.8677647001187814,0.341781424472247,0.0969769213800931,-2.8035068148233675,1.2961030974153602,0.4253408115195964,-0.0013851837692080663,-0.2536792151103678,-0.7805452846290323,-0.36618626409372784,-1.2871035418630075,-1.0284944989935407,-1.8099490580614084,-0.7092559128826477,1.2193296862248788,1.3322839666757185,0.6499959249630906,0.6629273032324599,1.3898750900397097,0.25540233715028937,-1.467912142692282,1.5034826378445685,0.39805233555649827,0.41877106171973705,-0.2108610476937432,-0.6496394290540343,-1.502357851648659,-1.738371495683503,-1.0764389882455565,0.7328901743262194,2.8264898298445553,-0.9157246492180827,-0.684955403294419,-2.1375964888504804,-0.5437230552169133,1.6239975993511928,0.8981691214801488,1.532442284653799,-0.1812244887023817,-1.1796127186397276,-0.05345178275268116,-1.188945314879167,0.18753248296821876,-0.2746382030719508,0.24722631136191997,-0.973909124838166,2.324432354939149],\"yaxis\":\"y15\",\"type\":\"scatter\"},{\"histfunc\":\"count\",\"histnorm\":\"\",\"marker\":{\"color\":\"rgba(128, 0, 128, 1.0)\",\"line\":{\"color\":\"#4D5663\",\"width\":1.3}},\"name\":\"D\",\"nbinsx\":10,\"opacity\":0.8,\"orientation\":\"v\",\"x\":[0.5727028398438736,0.9672912315342161,-0.6011193167910865,0.6265073348918706,-0.6845930339810649,0.5157149307469034,-0.5623742574307509,-0.5400218615284166,0.46896200044525854,1.522746407902645,-0.6632378341080102,0.3767761466127862,0.19876519972120366,0.14089587397219044,-1.2867954867023015,0.8935828636158181,-0.41057596944723207,0.5023786667702334,-0.12161892468101979,0.30284339257766085,0.02256901382894332,-1.7471711023742016,-0.41218551079226445,0.7788042775725317,-2.118154917948143,-0.241390800208255,0.7158723380330595,-0.13930349305422826,0.6811371445802761,0.14341276575956208,0.06590855054264795,-0.12123895443197005,0.3764833352321729,-0.10281561595272033,-0.7850015230615864,-0.46787835737609906,-0.6964105212575877,0.10185290218201198,-0.19107002944533907,-0.028455894728015723,0.9119072456135072,0.1781284814352502,-0.11951251939718534,-0.3344861568947874,1.3942345834240544,2.4801259228307533,-0.15135699529625257,0.5602697708296652,-0.6742766582469438,-0.001735009409199714,0.9246316608132168,0.7385083277166636,-0.8841692452661862,0.8677647001187814,0.341781424472247,0.0969769213800931,-2.8035068148233675,1.2961030974153602,0.4253408115195964,-0.0013851837692080663,-0.2536792151103678,-0.7805452846290323,-0.36618626409372784,-1.2871035418630075,-1.0284944989935407,-1.8099490580614084,-0.7092559128826477,1.2193296862248788,1.3322839666757185,0.6499959249630906,0.6629273032324599,1.3898750900397097,0.25540233715028937,-1.467912142692282,1.5034826378445685,0.39805233555649827,0.41877106171973705,-0.2108610476937432,-0.6496394290540343,-1.502357851648659,-1.738371495683503,-1.0764389882455565,0.7328901743262194,2.8264898298445553,-0.9157246492180827,-0.684955403294419,-2.1375964888504804,-0.5437230552169133,1.6239975993511928,0.8981691214801488,1.532442284653799,-0.1812244887023817,-1.1796127186397276,-0.05345178275268116,-1.188945314879167,0.18753248296821876,-0.2746382030719508,0.24722631136191997,-0.973909124838166,2.324432354939149],\"xaxis\":\"x16\",\"yaxis\":\"y16\",\"type\":\"histogram\"}],                        {\"bargap\":0.02,\"legend\":{\"bgcolor\":\"#F5F6F9\",\"font\":{\"color\":\"#4D5663\"}},\"paper_bgcolor\":\"#F5F6F9\",\"plot_bgcolor\":\"#F5F6F9\",\"showlegend\":false,\"template\":{\"data\":{\"barpolar\":[{\"marker\":{\"line\":{\"color\":\"#E5ECF6\",\"width\":0.5},\"pattern\":{\"fillmode\":\"overlay\",\"size\":10,\"solidity\":0.2}},\"type\":\"barpolar\"}],\"bar\":[{\"error_x\":{\"color\":\"#2a3f5f\"},\"error_y\":{\"color\":\"#2a3f5f\"},\"marker\":{\"line\":{\"color\":\"#E5ECF6\",\"width\":0.5},\"pattern\":{\"fillmode\":\"overlay\",\"size\":10,\"solidity\":0.2}},\"type\":\"bar\"}],\"carpet\":[{\"aaxis\":{\"endlinecolor\":\"#2a3f5f\",\"gridcolor\":\"white\",\"linecolor\":\"white\",\"minorgridcolor\":\"white\",\"startlinecolor\":\"#2a3f5f\"},\"baxis\":{\"endlinecolor\":\"#2a3f5f\",\"gridcolor\":\"white\",\"linecolor\":\"white\",\"minorgridcolor\":\"white\",\"startlinecolor\":\"#2a3f5f\"},\"type\":\"carpet\"}],\"choropleth\":[{\"colorbar\":{\"outlinewidth\":0,\"ticks\":\"\"},\"type\":\"choropleth\"}],\"contourcarpet\":[{\"colorbar\":{\"outlinewidth\":0,\"ticks\":\"\"},\"type\":\"contourcarpet\"}],\"contour\":[{\"colorbar\":{\"outlinewidth\":0,\"ticks\":\"\"},\"colorscale\":[[0.0,\"#0d0887\"],[0.1111111111111111,\"#46039f\"],[0.2222222222222222,\"#7201a8\"],[0.3333333333333333,\"#9c179e\"],[0.4444444444444444,\"#bd3786\"],[0.5555555555555556,\"#d8576b\"],[0.6666666666666666,\"#ed7953\"],[0.7777777777777778,\"#fb9f3a\"],[0.8888888888888888,\"#fdca26\"],[1.0,\"#f0f921\"]],\"type\":\"contour\"}],\"heatmapgl\":[{\"colorbar\":{\"outlinewidth\":0,\"ticks\":\"\"},\"colorscale\":[[0.0,\"#0d0887\"],[0.1111111111111111,\"#46039f\"],[0.2222222222222222,\"#7201a8\"],[0.3333333333333333,\"#9c179e\"],[0.4444444444444444,\"#bd3786\"],[0.5555555555555556,\"#d8576b\"],[0.6666666666666666,\"#ed7953\"],[0.7777777777777778,\"#fb9f3a\"],[0.8888888888888888,\"#fdca26\"],[1.0,\"#f0f921\"]],\"type\":\"heatmapgl\"}],\"heatmap\":[{\"colorbar\":{\"outlinewidth\":0,\"ticks\":\"\"},\"colorscale\":[[0.0,\"#0d0887\"],[0.1111111111111111,\"#46039f\"],[0.2222222222222222,\"#7201a8\"],[0.3333333333333333,\"#9c179e\"],[0.4444444444444444,\"#bd3786\"],[0.5555555555555556,\"#d8576b\"],[0.6666666666666666,\"#ed7953\"],[0.7777777777777778,\"#fb9f3a\"],[0.8888888888888888,\"#fdca26\"],[1.0,\"#f0f921\"]],\"type\":\"heatmap\"}],\"histogram2dcontour\":[{\"colorbar\":{\"outlinewidth\":0,\"ticks\":\"\"},\"colorscale\":[[0.0,\"#0d0887\"],[0.1111111111111111,\"#46039f\"],[0.2222222222222222,\"#7201a8\"],[0.3333333333333333,\"#9c179e\"],[0.4444444444444444,\"#bd3786\"],[0.5555555555555556,\"#d8576b\"],[0.6666666666666666,\"#ed7953\"],[0.7777777777777778,\"#fb9f3a\"],[0.8888888888888888,\"#fdca26\"],[1.0,\"#f0f921\"]],\"type\":\"histogram2dcontour\"}],\"histogram2d\":[{\"colorbar\":{\"outlinewidth\":0,\"ticks\":\"\"},\"colorscale\":[[0.0,\"#0d0887\"],[0.1111111111111111,\"#46039f\"],[0.2222222222222222,\"#7201a8\"],[0.3333333333333333,\"#9c179e\"],[0.4444444444444444,\"#bd3786\"],[0.5555555555555556,\"#d8576b\"],[0.6666666666666666,\"#ed7953\"],[0.7777777777777778,\"#fb9f3a\"],[0.8888888888888888,\"#fdca26\"],[1.0,\"#f0f921\"]],\"type\":\"histogram2d\"}],\"histogram\":[{\"marker\":{\"pattern\":{\"fillmode\":\"overlay\",\"size\":10,\"solidity\":0.2}},\"type\":\"histogram\"}],\"mesh3d\":[{\"colorbar\":{\"outlinewidth\":0,\"ticks\":\"\"},\"type\":\"mesh3d\"}],\"parcoords\":[{\"line\":{\"colorbar\":{\"outlinewidth\":0,\"ticks\":\"\"}},\"type\":\"parcoords\"}],\"pie\":[{\"automargin\":true,\"type\":\"pie\"}],\"scatter3d\":[{\"line\":{\"colorbar\":{\"outlinewidth\":0,\"ticks\":\"\"}},\"marker\":{\"colorbar\":{\"outlinewidth\":0,\"ticks\":\"\"}},\"type\":\"scatter3d\"}],\"scattercarpet\":[{\"marker\":{\"colorbar\":{\"outlinewidth\":0,\"ticks\":\"\"}},\"type\":\"scattercarpet\"}],\"scattergeo\":[{\"marker\":{\"colorbar\":{\"outlinewidth\":0,\"ticks\":\"\"}},\"type\":\"scattergeo\"}],\"scattergl\":[{\"marker\":{\"colorbar\":{\"outlinewidth\":0,\"ticks\":\"\"}},\"type\":\"scattergl\"}],\"scattermapbox\":[{\"marker\":{\"colorbar\":{\"outlinewidth\":0,\"ticks\":\"\"}},\"type\":\"scattermapbox\"}],\"scatterpolargl\":[{\"marker\":{\"colorbar\":{\"outlinewidth\":0,\"ticks\":\"\"}},\"type\":\"scatterpolargl\"}],\"scatterpolar\":[{\"marker\":{\"colorbar\":{\"outlinewidth\":0,\"ticks\":\"\"}},\"type\":\"scatterpolar\"}],\"scatter\":[{\"fillpattern\":{\"fillmode\":\"overlay\",\"size\":10,\"solidity\":0.2},\"type\":\"scatter\"}],\"scatterternary\":[{\"marker\":{\"colorbar\":{\"outlinewidth\":0,\"ticks\":\"\"}},\"type\":\"scatterternary\"}],\"surface\":[{\"colorbar\":{\"outlinewidth\":0,\"ticks\":\"\"},\"colorscale\":[[0.0,\"#0d0887\"],[0.1111111111111111,\"#46039f\"],[0.2222222222222222,\"#7201a8\"],[0.3333333333333333,\"#9c179e\"],[0.4444444444444444,\"#bd3786\"],[0.5555555555555556,\"#d8576b\"],[0.6666666666666666,\"#ed7953\"],[0.7777777777777778,\"#fb9f3a\"],[0.8888888888888888,\"#fdca26\"],[1.0,\"#f0f921\"]],\"type\":\"surface\"}],\"table\":[{\"cells\":{\"fill\":{\"color\":\"#EBF0F8\"},\"line\":{\"color\":\"white\"}},\"header\":{\"fill\":{\"color\":\"#C8D4E3\"},\"line\":{\"color\":\"white\"}},\"type\":\"table\"}]},\"layout\":{\"annotationdefaults\":{\"arrowcolor\":\"#2a3f5f\",\"arrowhead\":0,\"arrowwidth\":1},\"autotypenumbers\":\"strict\",\"coloraxis\":{\"colorbar\":{\"outlinewidth\":0,\"ticks\":\"\"}},\"colorscale\":{\"diverging\":[[0,\"#8e0152\"],[0.1,\"#c51b7d\"],[0.2,\"#de77ae\"],[0.3,\"#f1b6da\"],[0.4,\"#fde0ef\"],[0.5,\"#f7f7f7\"],[0.6,\"#e6f5d0\"],[0.7,\"#b8e186\"],[0.8,\"#7fbc41\"],[0.9,\"#4d9221\"],[1,\"#276419\"]],\"sequential\":[[0.0,\"#0d0887\"],[0.1111111111111111,\"#46039f\"],[0.2222222222222222,\"#7201a8\"],[0.3333333333333333,\"#9c179e\"],[0.4444444444444444,\"#bd3786\"],[0.5555555555555556,\"#d8576b\"],[0.6666666666666666,\"#ed7953\"],[0.7777777777777778,\"#fb9f3a\"],[0.8888888888888888,\"#fdca26\"],[1.0,\"#f0f921\"]],\"sequentialminus\":[[0.0,\"#0d0887\"],[0.1111111111111111,\"#46039f\"],[0.2222222222222222,\"#7201a8\"],[0.3333333333333333,\"#9c179e\"],[0.4444444444444444,\"#bd3786\"],[0.5555555555555556,\"#d8576b\"],[0.6666666666666666,\"#ed7953\"],[0.7777777777777778,\"#fb9f3a\"],[0.8888888888888888,\"#fdca26\"],[1.0,\"#f0f921\"]]},\"colorway\":[\"#636efa\",\"#EF553B\",\"#00cc96\",\"#ab63fa\",\"#FFA15A\",\"#19d3f3\",\"#FF6692\",\"#B6E880\",\"#FF97FF\",\"#FECB52\"],\"font\":{\"color\":\"#2a3f5f\"},\"geo\":{\"bgcolor\":\"white\",\"lakecolor\":\"white\",\"landcolor\":\"#E5ECF6\",\"showlakes\":true,\"showland\":true,\"subunitcolor\":\"white\"},\"hoverlabel\":{\"align\":\"left\"},\"hovermode\":\"closest\",\"mapbox\":{\"style\":\"light\"},\"paper_bgcolor\":\"white\",\"plot_bgcolor\":\"#E5ECF6\",\"polar\":{\"angularaxis\":{\"gridcolor\":\"white\",\"linecolor\":\"white\",\"ticks\":\"\"},\"bgcolor\":\"#E5ECF6\",\"radialaxis\":{\"gridcolor\":\"white\",\"linecolor\":\"white\",\"ticks\":\"\"}},\"scene\":{\"xaxis\":{\"backgroundcolor\":\"#E5ECF6\",\"gridcolor\":\"white\",\"gridwidth\":2,\"linecolor\":\"white\",\"showbackground\":true,\"ticks\":\"\",\"zerolinecolor\":\"white\"},\"yaxis\":{\"backgroundcolor\":\"#E5ECF6\",\"gridcolor\":\"white\",\"gridwidth\":2,\"linecolor\":\"white\",\"showbackground\":true,\"ticks\":\"\",\"zerolinecolor\":\"white\"},\"zaxis\":{\"backgroundcolor\":\"#E5ECF6\",\"gridcolor\":\"white\",\"gridwidth\":2,\"linecolor\":\"white\",\"showbackground\":true,\"ticks\":\"\",\"zerolinecolor\":\"white\"}},\"shapedefaults\":{\"line\":{\"color\":\"#2a3f5f\"}},\"ternary\":{\"aaxis\":{\"gridcolor\":\"white\",\"linecolor\":\"white\",\"ticks\":\"\"},\"baxis\":{\"gridcolor\":\"white\",\"linecolor\":\"white\",\"ticks\":\"\"},\"bgcolor\":\"#E5ECF6\",\"caxis\":{\"gridcolor\":\"white\",\"linecolor\":\"white\",\"ticks\":\"\"}},\"title\":{\"x\":0.05},\"xaxis\":{\"automargin\":true,\"gridcolor\":\"white\",\"linecolor\":\"white\",\"ticks\":\"\",\"title\":{\"standoff\":15},\"zerolinecolor\":\"white\",\"zerolinewidth\":2},\"yaxis\":{\"automargin\":true,\"gridcolor\":\"white\",\"linecolor\":\"white\",\"ticks\":\"\",\"title\":{\"standoff\":15},\"zerolinecolor\":\"white\",\"zerolinewidth\":2}}},\"title\":{\"font\":{\"color\":\"#4D5663\"}},\"xaxis\":{\"anchor\":\"y\",\"domain\":[0.0,0.2125],\"gridcolor\":\"#E1E5ED\",\"showgrid\":false,\"tickfont\":{\"color\":\"#4D5663\"},\"title\":{\"font\":{\"color\":\"#4D5663\"},\"text\":\"\"},\"zerolinecolor\":\"#E1E5ED\"},\"yaxis\":{\"anchor\":\"x\",\"domain\":[0.8025,1.0],\"gridcolor\":\"#E1E5ED\",\"showgrid\":false,\"tickfont\":{\"color\":\"#4D5663\"},\"title\":{\"font\":{\"color\":\"#4D5663\"},\"text\":\"\"},\"zerolinecolor\":\"#E1E5ED\"},\"xaxis2\":{\"anchor\":\"y2\",\"domain\":[0.2625,0.475],\"gridcolor\":\"#E1E5ED\",\"showgrid\":false,\"tickfont\":{\"color\":\"#4D5663\"},\"title\":{\"font\":{\"color\":\"#4D5663\"},\"text\":\"\"},\"zerolinecolor\":\"#E1E5ED\"},\"yaxis2\":{\"anchor\":\"x2\",\"domain\":[0.8025,1.0],\"gridcolor\":\"#E1E5ED\",\"showgrid\":false,\"tickfont\":{\"color\":\"#4D5663\"},\"title\":{\"font\":{\"color\":\"#4D5663\"},\"text\":\"\"},\"zerolinecolor\":\"#E1E5ED\"},\"xaxis3\":{\"anchor\":\"y3\",\"domain\":[0.525,0.7375],\"gridcolor\":\"#E1E5ED\",\"showgrid\":false,\"tickfont\":{\"color\":\"#4D5663\"},\"title\":{\"font\":{\"color\":\"#4D5663\"},\"text\":\"\"},\"zerolinecolor\":\"#E1E5ED\"},\"yaxis3\":{\"anchor\":\"x3\",\"domain\":[0.8025,1.0],\"gridcolor\":\"#E1E5ED\",\"showgrid\":false,\"tickfont\":{\"color\":\"#4D5663\"},\"title\":{\"font\":{\"color\":\"#4D5663\"},\"text\":\"\"},\"zerolinecolor\":\"#E1E5ED\"},\"xaxis4\":{\"anchor\":\"y4\",\"domain\":[0.7875,1.0],\"gridcolor\":\"#E1E5ED\",\"showgrid\":false,\"tickfont\":{\"color\":\"#4D5663\"},\"title\":{\"font\":{\"color\":\"#4D5663\"},\"text\":\"\"},\"zerolinecolor\":\"#E1E5ED\"},\"yaxis4\":{\"anchor\":\"x4\",\"domain\":[0.8025,1.0],\"gridcolor\":\"#E1E5ED\",\"showgrid\":false,\"tickfont\":{\"color\":\"#4D5663\"},\"title\":{\"font\":{\"color\":\"#4D5663\"},\"text\":\"\"},\"zerolinecolor\":\"#E1E5ED\"},\"xaxis5\":{\"anchor\":\"y5\",\"domain\":[0.0,0.2125],\"gridcolor\":\"#E1E5ED\",\"showgrid\":false,\"tickfont\":{\"color\":\"#4D5663\"},\"title\":{\"font\":{\"color\":\"#4D5663\"},\"text\":\"\"},\"zerolinecolor\":\"#E1E5ED\"},\"yaxis5\":{\"anchor\":\"x5\",\"domain\":[0.535,0.7325],\"gridcolor\":\"#E1E5ED\",\"showgrid\":false,\"tickfont\":{\"color\":\"#4D5663\"},\"title\":{\"font\":{\"color\":\"#4D5663\"},\"text\":\"\"},\"zerolinecolor\":\"#E1E5ED\"},\"xaxis6\":{\"anchor\":\"y6\",\"domain\":[0.2625,0.475],\"gridcolor\":\"#E1E5ED\",\"showgrid\":false,\"tickfont\":{\"color\":\"#4D5663\"},\"title\":{\"font\":{\"color\":\"#4D5663\"},\"text\":\"\"},\"zerolinecolor\":\"#E1E5ED\"},\"yaxis6\":{\"anchor\":\"x6\",\"domain\":[0.535,0.7325],\"gridcolor\":\"#E1E5ED\",\"showgrid\":false,\"tickfont\":{\"color\":\"#4D5663\"},\"title\":{\"font\":{\"color\":\"#4D5663\"},\"text\":\"\"},\"zerolinecolor\":\"#E1E5ED\"},\"xaxis7\":{\"anchor\":\"y7\",\"domain\":[0.525,0.7375],\"gridcolor\":\"#E1E5ED\",\"showgrid\":false,\"tickfont\":{\"color\":\"#4D5663\"},\"title\":{\"font\":{\"color\":\"#4D5663\"},\"text\":\"\"},\"zerolinecolor\":\"#E1E5ED\"},\"yaxis7\":{\"anchor\":\"x7\",\"domain\":[0.535,0.7325],\"gridcolor\":\"#E1E5ED\",\"showgrid\":false,\"tickfont\":{\"color\":\"#4D5663\"},\"title\":{\"font\":{\"color\":\"#4D5663\"},\"text\":\"\"},\"zerolinecolor\":\"#E1E5ED\"},\"xaxis8\":{\"anchor\":\"y8\",\"domain\":[0.7875,1.0],\"gridcolor\":\"#E1E5ED\",\"showgrid\":false,\"tickfont\":{\"color\":\"#4D5663\"},\"title\":{\"font\":{\"color\":\"#4D5663\"},\"text\":\"\"},\"zerolinecolor\":\"#E1E5ED\"},\"yaxis8\":{\"anchor\":\"x8\",\"domain\":[0.535,0.7325],\"gridcolor\":\"#E1E5ED\",\"showgrid\":false,\"tickfont\":{\"color\":\"#4D5663\"},\"title\":{\"font\":{\"color\":\"#4D5663\"},\"text\":\"\"},\"zerolinecolor\":\"#E1E5ED\"},\"xaxis9\":{\"anchor\":\"y9\",\"domain\":[0.0,0.2125],\"gridcolor\":\"#E1E5ED\",\"showgrid\":false,\"tickfont\":{\"color\":\"#4D5663\"},\"title\":{\"font\":{\"color\":\"#4D5663\"},\"text\":\"\"},\"zerolinecolor\":\"#E1E5ED\"},\"yaxis9\":{\"anchor\":\"x9\",\"domain\":[0.2675,0.465],\"gridcolor\":\"#E1E5ED\",\"showgrid\":false,\"tickfont\":{\"color\":\"#4D5663\"},\"title\":{\"font\":{\"color\":\"#4D5663\"},\"text\":\"\"},\"zerolinecolor\":\"#E1E5ED\"},\"xaxis10\":{\"anchor\":\"y10\",\"domain\":[0.2625,0.475],\"gridcolor\":\"#E1E5ED\",\"showgrid\":false,\"tickfont\":{\"color\":\"#4D5663\"},\"title\":{\"font\":{\"color\":\"#4D5663\"},\"text\":\"\"},\"zerolinecolor\":\"#E1E5ED\"},\"yaxis10\":{\"anchor\":\"x10\",\"domain\":[0.2675,0.465],\"gridcolor\":\"#E1E5ED\",\"showgrid\":false,\"tickfont\":{\"color\":\"#4D5663\"},\"title\":{\"font\":{\"color\":\"#4D5663\"},\"text\":\"\"},\"zerolinecolor\":\"#E1E5ED\"},\"xaxis11\":{\"anchor\":\"y11\",\"domain\":[0.525,0.7375],\"gridcolor\":\"#E1E5ED\",\"showgrid\":false,\"tickfont\":{\"color\":\"#4D5663\"},\"title\":{\"font\":{\"color\":\"#4D5663\"},\"text\":\"\"},\"zerolinecolor\":\"#E1E5ED\"},\"yaxis11\":{\"anchor\":\"x11\",\"domain\":[0.2675,0.465],\"gridcolor\":\"#E1E5ED\",\"showgrid\":false,\"tickfont\":{\"color\":\"#4D5663\"},\"title\":{\"font\":{\"color\":\"#4D5663\"},\"text\":\"\"},\"zerolinecolor\":\"#E1E5ED\"},\"xaxis12\":{\"anchor\":\"y12\",\"domain\":[0.7875,1.0],\"gridcolor\":\"#E1E5ED\",\"showgrid\":false,\"tickfont\":{\"color\":\"#4D5663\"},\"title\":{\"font\":{\"color\":\"#4D5663\"},\"text\":\"\"},\"zerolinecolor\":\"#E1E5ED\"},\"yaxis12\":{\"anchor\":\"x12\",\"domain\":[0.2675,0.465],\"gridcolor\":\"#E1E5ED\",\"showgrid\":false,\"tickfont\":{\"color\":\"#4D5663\"},\"title\":{\"font\":{\"color\":\"#4D5663\"},\"text\":\"\"},\"zerolinecolor\":\"#E1E5ED\"},\"xaxis13\":{\"anchor\":\"y13\",\"domain\":[0.0,0.2125],\"gridcolor\":\"#E1E5ED\",\"showgrid\":false,\"tickfont\":{\"color\":\"#4D5663\"},\"title\":{\"font\":{\"color\":\"#4D5663\"},\"text\":\"\"},\"zerolinecolor\":\"#E1E5ED\"},\"yaxis13\":{\"anchor\":\"x13\",\"domain\":[0.0,0.1975],\"gridcolor\":\"#E1E5ED\",\"showgrid\":false,\"tickfont\":{\"color\":\"#4D5663\"},\"title\":{\"font\":{\"color\":\"#4D5663\"},\"text\":\"\"},\"zerolinecolor\":\"#E1E5ED\"},\"xaxis14\":{\"anchor\":\"y14\",\"domain\":[0.2625,0.475],\"gridcolor\":\"#E1E5ED\",\"showgrid\":false,\"tickfont\":{\"color\":\"#4D5663\"},\"title\":{\"font\":{\"color\":\"#4D5663\"},\"text\":\"\"},\"zerolinecolor\":\"#E1E5ED\"},\"yaxis14\":{\"anchor\":\"x14\",\"domain\":[0.0,0.1975],\"gridcolor\":\"#E1E5ED\",\"showgrid\":false,\"tickfont\":{\"color\":\"#4D5663\"},\"title\":{\"font\":{\"color\":\"#4D5663\"},\"text\":\"\"},\"zerolinecolor\":\"#E1E5ED\"},\"xaxis15\":{\"anchor\":\"y15\",\"domain\":[0.525,0.7375],\"gridcolor\":\"#E1E5ED\",\"showgrid\":false,\"tickfont\":{\"color\":\"#4D5663\"},\"title\":{\"font\":{\"color\":\"#4D5663\"},\"text\":\"\"},\"zerolinecolor\":\"#E1E5ED\"},\"yaxis15\":{\"anchor\":\"x15\",\"domain\":[0.0,0.1975],\"gridcolor\":\"#E1E5ED\",\"showgrid\":false,\"tickfont\":{\"color\":\"#4D5663\"},\"title\":{\"font\":{\"color\":\"#4D5663\"},\"text\":\"\"},\"zerolinecolor\":\"#E1E5ED\"},\"xaxis16\":{\"anchor\":\"y16\",\"domain\":[0.7875,1.0],\"gridcolor\":\"#E1E5ED\",\"showgrid\":false,\"tickfont\":{\"color\":\"#4D5663\"},\"title\":{\"font\":{\"color\":\"#4D5663\"},\"text\":\"\"},\"zerolinecolor\":\"#E1E5ED\"},\"yaxis16\":{\"anchor\":\"x16\",\"domain\":[0.0,0.1975],\"gridcolor\":\"#E1E5ED\",\"showgrid\":false,\"tickfont\":{\"color\":\"#4D5663\"},\"title\":{\"font\":{\"color\":\"#4D5663\"},\"text\":\"\"},\"zerolinecolor\":\"#E1E5ED\"}},                        {\"showLink\": true, \"linkText\": \"Export to plot.ly\", \"plotlyServerURL\": \"https://plot.ly\", \"responsive\": true}                    ).then(function(){\n",
       "                            \n",
       "var gd = document.getElementById('1449897d-ed24-4fc4-a30b-16ce27686703');\n",
       "var x = new MutationObserver(function (mutations, observer) {{\n",
       "        var display = window.getComputedStyle(gd).display;\n",
       "        if (!display || display === 'none') {{\n",
       "            console.log([gd, 'removed!']);\n",
       "            Plotly.purge(gd);\n",
       "            observer.disconnect();\n",
       "        }}\n",
       "}});\n",
       "\n",
       "// Listen for the removal of the full notebook cells\n",
       "var notebookContainer = gd.closest('#notebook-container');\n",
       "if (notebookContainer) {{\n",
       "    x.observe(notebookContainer, {childList: true});\n",
       "}}\n",
       "\n",
       "// Listen for the clearing of the current output cell\n",
       "var outputEl = gd.closest('.output');\n",
       "if (outputEl) {{\n",
       "    x.observe(outputEl, {childList: true});\n",
       "}}\n",
       "\n",
       "                        })                };                });            </script>        </div>"
      ]
     },
     "metadata": {},
     "output_type": "display_data"
    }
   ],
   "source": [
    "df.scatter_matrix()"
   ]
  },
  {
   "cell_type": "markdown",
   "metadata": {
    "collapsed": true
   },
   "source": [
    "# Great Job!"
   ]
  }
 ],
 "metadata": {
  "kernelspec": {
   "display_name": "Python 3.10.6 64-bit",
   "language": "python",
   "name": "python3"
  },
  "language_info": {
   "codemirror_mode": {
    "name": "ipython",
    "version": 3
   },
   "file_extension": ".py",
   "mimetype": "text/x-python",
   "name": "python",
   "nbconvert_exporter": "python",
   "pygments_lexer": "ipython3",
   "version": "3.10.7"
  },
  "vscode": {
   "interpreter": {
    "hash": "aee8b7b246df8f9039afb4144a1f6fd8d2ca17a180786b69acc140d282b71a49"
   }
  }
 },
 "nbformat": 4,
 "nbformat_minor": 0
}
